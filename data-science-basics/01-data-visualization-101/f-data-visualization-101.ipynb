{
 "metadata": {
  "language_info": {
   "codemirror_mode": {
    "name": "ipython",
    "version": 3
   },
   "file_extension": ".py",
   "mimetype": "text/x-python",
   "name": "python",
   "nbconvert_exporter": "python",
   "pygments_lexer": "ipython3",
   "version": 3
  },
  "orig_nbformat": 2
 },
 "nbformat": 4,
 "nbformat_minor": 2,
 "cells": [
  {
   "source": [
    "# Data Visualization\n",
    "\n",
    "### Three types\n",
    "\n",
    "- Data Storytelling - for presentations to organizational decision makers\n",
    "- Data Showcasting - for presentations to analysts, scientists, mathematicians, and engineers\n",
    "- Data art - for presentations to activists ot to the general public\n",
    "\n"
   ],
   "cell_type": "markdown",
   "metadata": {}
  },
  {
   "source": [
    "### Data Storytelling\n",
    "\n",
    "Make easy for the audience to get the point \n",
    "\n",
    "Your data visualization should be:\n",
    "\n",
    "- Clutter-free \n",
    "- Highly focused\n",
    "\n",
    "Intended audience:\n",
    "\n",
    "- Nonanalysts\n",
    "- Nontechnical business managers\n",
    "\n",
    "Product types:\n",
    "\n",
    "- Static images\n",
    "- Simple interactive dashboards\n"
   ],
   "cell_type": "markdown",
   "metadata": {}
  },
  {
   "source": [
    "### Data Showcasting\n",
    "\n",
    "Showcase lots of data so your audience members can think for themselves\n",
    "\n",
    "Your data visualization should be:\n",
    "- Highly contextual\n",
    "- Open ended\n",
    "\n",
    "Intended audience:\n",
    "\n",
    "- Analysts, quants\n",
    "- Engineers, mathematicians, scientists\n",
    "\n",
    "Product types:\n",
    "\n",
    "- Static images\n",
    "- Interactive dashboards"
   ],
   "cell_type": "markdown",
   "metadata": {}
  },
  {
   "source": [
    "### Data Art\n",
    "\n",
    "Use your data to make a statement\n",
    "\n",
    "Your data visualization should be:\n",
    "\n",
    "- Attention getting\n",
    "- Creative, controversial\n",
    "\n",
    "Intended audience:\n",
    "\n",
    "- Idealists, dreamers, artists\n",
    "- Social activists\n",
    "\n",
    "Product types:\n",
    "\n",
    "- Static images\n"
   ],
   "cell_type": "markdown",
   "metadata": {}
  },
  {
   "source": [
    "### Four steps to choosing data graphics\n",
    "\n",
    "1. Make a list of the questions that your data visualization is meant to answer\n",
    "2. Is your data visualization type data storytelling, data showcasing, or data art? (determine your audience)\n",
    "3. What data graphic types are preferable for that type of data visualization?\n",
    "4. Test out different types of data graphic with your data. Which graphic type displays the most clear and obvious answers to your questions?\n",
    "\n",
    "\n"
   ],
   "cell_type": "markdown",
   "metadata": {}
  },
  {
   "source": [
    "### Creating context with colour\n",
    "\n",
    "Colour should be used:\n",
    "\n",
    "- Strategically\n",
    "- Sparingly (in small quantities)\n",
    "- Consistently\n",
    "\n",
    "You need to use a colour to draw attention to the parts of the visualization that matter, and away from the parts that are don't\n",
    "\n",
    "#### Choose consistent colours\n",
    "\n",
    "Shades should all be from the same colour formula. Options include: monochromatic, analogous, complimentary, split complimentary, triadic, tetradic - based on colour theory.\n",
    "\n",
    "#### Annotations as context\n",
    "\n",
    "- Provide your audience some information about why data is as it is\n",
    "- Useful in data storytelling and showcasing\n",
    "\n",
    "#### Graphic elements as context\n",
    "\n",
    "- Help your audience understand the relative significance of the data yoy're showing them\n",
    "- Trendlines, single-value alerts, and benchmarks"
   ],
   "cell_type": "markdown",
   "metadata": {}
  },
  {
   "source": [
    "### Creating context\n",
    "\n",
    "**How**: add data on additional metrics that are relevant to the dataset you're showing, trendlines, colours, and annotations  \n",
    "**Why**: meant to give audience some deeper perspective and insight into what's happening  \n",
    "**When**: useful in data showcasing  \n"
   ],
   "cell_type": "markdown",
   "metadata": {}
  }
 ]
}