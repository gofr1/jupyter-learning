{
 "metadata": {
  "language_info": {
   "codemirror_mode": {
    "name": "ipython",
    "version": 3
   },
   "file_extension": ".py",
   "mimetype": "text/x-python",
   "name": "python",
   "nbconvert_exporter": "python",
   "pygments_lexer": "ipython3",
   "version": "3.8.3"
  },
  "orig_nbformat": 2,
  "kernelspec": {
   "name": "python3",
   "display_name": "Python 3",
   "language": "python"
  }
 },
 "nbformat": 4,
 "nbformat_minor": 2,
 "cells": [
  {
   "source": [
    "# Extreme Value Analysis for Outliers"
   ],
   "cell_type": "markdown",
   "metadata": {}
  },
  {
   "source": [
    "### Outlier Detection\n",
    "\n",
    "* Most machine learning methods assume that your data has been treated for outliers\n",
    "* Detecting outliers can be a data preprocessing task or ana analytical method of its own merit\n",
    "\n",
    "### Outlier Analysis Use Cases\n",
    "\n",
    "Use outlier detection to uncover anomalies that represent:\n",
    "\n",
    "* Equipment failure\n",
    "* Fraud\n",
    "* Cybersecurity Events\n"
   ],
   "cell_type": "markdown",
   "metadata": {}
  },
  {
   "source": [
    "### Methods of Outlier Detection\n",
    "\n",
    "1. Univariate Method: \n",
    "\n",
    "| Tukey Boxplot | \n",
    "|--|\n",
    "| Outliers |\n",
    "| -- |\n",
    "| Upper quartile | 25% of data points are **greater** than this value  \n",
    "| |\n",
    "| |\n",
    "| Median | Interquartile Range (IQR)\n",
    "| |\n",
    "| |\n",
    "| Lower quartile | 25% of data points are **less** than this value\n",
    "| --|\n",
    "| Outliers |\n",
    "\n",
    "Boxplot whiskers are set to 1.5 IQR (-- in the table above). If you see data points past this whiskers they're outliers."
   ],
   "cell_type": "markdown",
   "metadata": {}
  },
  {
   "source": [
    "IQR (or *spread*) the distance between the first quartile (at 25%) and the third quartile (at 75%)\n",
    "\n",
    "a = Q1 - 1.5 IQR  \n",
    "b = Q3 + 1.5 IQR  \n",
    "\n",
    "If...\n",
    "\n",
    "* min. value < a or... \n",
    "* max. value > b, then \n",
    "\n",
    "The variable is suspect for outlier \n"
   ],
   "cell_type": "markdown",
   "metadata": {}
  },
  {
   "cell_type": "code",
   "execution_count": 2,
   "metadata": {},
   "outputs": [],
   "source": [
    "import numpy as np \n",
    "import pandas as pd \n",
    "\n",
    "import matplotlib.pyplot as plt \n",
    "from matplotlib import rcParams"
   ]
  },
  {
   "cell_type": "code",
   "execution_count": 3,
   "metadata": {},
   "outputs": [],
   "source": [
    "%matplotlib inline\n",
    "rcParams['figure.figsize'] = 5, 4"
   ]
  },
  {
   "cell_type": "code",
   "execution_count": 8,
   "metadata": {},
   "outputs": [
    {
     "output_type": "execute_result",
     "data": {
      "text/plain": [
       "   Sepal.Length  Sepal.Width  Petal.Length  Petal.Width Species\n",
       "0           5.1          3.5           1.4          0.2  setosa\n",
       "1           4.9          3.0           1.4          0.2  setosa\n",
       "2           4.7          3.2           1.3          0.2  setosa\n",
       "3           4.6          3.1           1.5          0.2  setosa\n",
       "4           5.0          3.6           1.4          0.2  setosa"
      ],
      "text/html": "<div>\n<style scoped>\n    .dataframe tbody tr th:only-of-type {\n        vertical-align: middle;\n    }\n\n    .dataframe tbody tr th {\n        vertical-align: top;\n    }\n\n    .dataframe thead th {\n        text-align: right;\n    }\n</style>\n<table border=\"1\" class=\"dataframe\">\n  <thead>\n    <tr style=\"text-align: right;\">\n      <th></th>\n      <th>Sepal.Length</th>\n      <th>Sepal.Width</th>\n      <th>Petal.Length</th>\n      <th>Petal.Width</th>\n      <th>Species</th>\n    </tr>\n  </thead>\n  <tbody>\n    <tr>\n      <th>0</th>\n      <td>5.1</td>\n      <td>3.5</td>\n      <td>1.4</td>\n      <td>0.2</td>\n      <td>setosa</td>\n    </tr>\n    <tr>\n      <th>1</th>\n      <td>4.9</td>\n      <td>3.0</td>\n      <td>1.4</td>\n      <td>0.2</td>\n      <td>setosa</td>\n    </tr>\n    <tr>\n      <th>2</th>\n      <td>4.7</td>\n      <td>3.2</td>\n      <td>1.3</td>\n      <td>0.2</td>\n      <td>setosa</td>\n    </tr>\n    <tr>\n      <th>3</th>\n      <td>4.6</td>\n      <td>3.1</td>\n      <td>1.5</td>\n      <td>0.2</td>\n      <td>setosa</td>\n    </tr>\n    <tr>\n      <th>4</th>\n      <td>5.0</td>\n      <td>3.6</td>\n      <td>1.4</td>\n      <td>0.2</td>\n      <td>setosa</td>\n    </tr>\n  </tbody>\n</table>\n</div>"
     },
     "metadata": {},
     "execution_count": 8
    }
   ],
   "source": [
    "iris_source = '../../inputs/iris.data.csv'\n",
    "df = pd.read_csv(iris_source)\n",
    "\n",
    "df.head()"
   ]
  },
  {
   "cell_type": "code",
   "execution_count": 12,
   "metadata": {},
   "outputs": [],
   "source": [
    "X = df.iloc[:,0:4].values # all numbers\n",
    "Y = df.iloc[:,4].values # the text"
   ]
  }
 ]
}