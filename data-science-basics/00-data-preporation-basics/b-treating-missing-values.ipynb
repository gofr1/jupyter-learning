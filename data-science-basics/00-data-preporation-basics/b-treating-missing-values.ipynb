{
 "metadata": {
  "language_info": {
   "codemirror_mode": {
    "name": "ipython",
    "version": 3
   },
   "file_extension": ".py",
   "mimetype": "text/x-python",
   "name": "python",
   "nbconvert_exporter": "python",
   "pygments_lexer": "ipython3",
   "version": "3.8.3"
  },
  "orig_nbformat": 2,
  "kernelspec": {
   "name": "python38064bit80c712c42d0845a6a4b19289fbf7986e",
   "display_name": "Python 3.8.3 64-bit"
  },
  "metadata": {
   "interpreter": {
    "hash": "aee8b7b246df8f9039afb4144a1f6fd8d2ca17a180786b69acc140d282b71a49"
   }
  }
 },
 "nbformat": 4,
 "nbformat_minor": 2,
 "cells": [
  {
   "source": [
    "# Treating missing values\n",
    "\n",
    "By default, missing values are represented with NaN: Not a Number"
   ],
   "cell_type": "markdown",
   "metadata": {}
  },
  {
   "cell_type": "code",
   "execution_count": 1,
   "metadata": {},
   "outputs": [],
   "source": [
    "import numpy as np \n",
    "import pandas as pd \n",
    "\n",
    "from pandas import Series, DataFrame"
   ]
  },
  {
   "source": [
    "### Figuring out what data is missing"
   ],
   "cell_type": "markdown",
   "metadata": {}
  },
  {
   "cell_type": "code",
   "execution_count": 2,
   "metadata": {},
   "outputs": [
    {
     "output_type": "execute_result",
     "data": {
      "text/plain": [
       "0    row 1\n",
       "1    row 2\n",
       "2      NaN\n",
       "3    row 4\n",
       "4    row 5\n",
       "5    row 6\n",
       "6      NaN\n",
       "7    row 8\n",
       "dtype: object"
      ]
     },
     "metadata": {},
     "execution_count": 2
    }
   ],
   "source": [
    "missing = np.nan\n",
    "\n",
    "series_obj = Series(['row 1', 'row 2', missing, 'row 4', 'row 5', 'row 6', missing, 'row 8'])\n",
    "series_obj"
   ]
  },
  {
   "cell_type": "code",
   "execution_count": 3,
   "metadata": {},
   "outputs": [
    {
     "output_type": "execute_result",
     "data": {
      "text/plain": [
       "0    False\n",
       "1    False\n",
       "2     True\n",
       "3    False\n",
       "4    False\n",
       "5    False\n",
       "6     True\n",
       "7    False\n",
       "dtype: bool"
      ]
     },
     "metadata": {},
     "execution_count": 3
    }
   ],
   "source": [
    "series_obj.isnull()"
   ]
  },
  {
   "source": [
    "### Filling in for missing values"
   ],
   "cell_type": "markdown",
   "metadata": {}
  },
  {
   "cell_type": "code",
   "execution_count": 4,
   "metadata": {},
   "outputs": [
    {
     "output_type": "execute_result",
     "data": {
      "text/plain": [
       "          0         1         2         3         4         5\n",
       "0  0.870124  0.582277  0.278839  0.185911  0.411100  0.117376\n",
       "1  0.684969  0.437611  0.556229  0.367080  0.402366  0.113041\n",
       "2  0.447031  0.585445  0.161985  0.520719  0.326051  0.699186\n",
       "3  0.366395  0.836375  0.481343  0.516502  0.383048  0.997541\n",
       "4  0.514244  0.559053  0.034450  0.719930  0.421004  0.436935\n",
       "5  0.281701  0.900274  0.669612  0.456069  0.289804  0.525819"
      ],
      "text/html": "<div>\n<style scoped>\n    .dataframe tbody tr th:only-of-type {\n        vertical-align: middle;\n    }\n\n    .dataframe tbody tr th {\n        vertical-align: top;\n    }\n\n    .dataframe thead th {\n        text-align: right;\n    }\n</style>\n<table border=\"1\" class=\"dataframe\">\n  <thead>\n    <tr style=\"text-align: right;\">\n      <th></th>\n      <th>0</th>\n      <th>1</th>\n      <th>2</th>\n      <th>3</th>\n      <th>4</th>\n      <th>5</th>\n    </tr>\n  </thead>\n  <tbody>\n    <tr>\n      <th>0</th>\n      <td>0.870124</td>\n      <td>0.582277</td>\n      <td>0.278839</td>\n      <td>0.185911</td>\n      <td>0.411100</td>\n      <td>0.117376</td>\n    </tr>\n    <tr>\n      <th>1</th>\n      <td>0.684969</td>\n      <td>0.437611</td>\n      <td>0.556229</td>\n      <td>0.367080</td>\n      <td>0.402366</td>\n      <td>0.113041</td>\n    </tr>\n    <tr>\n      <th>2</th>\n      <td>0.447031</td>\n      <td>0.585445</td>\n      <td>0.161985</td>\n      <td>0.520719</td>\n      <td>0.326051</td>\n      <td>0.699186</td>\n    </tr>\n    <tr>\n      <th>3</th>\n      <td>0.366395</td>\n      <td>0.836375</td>\n      <td>0.481343</td>\n      <td>0.516502</td>\n      <td>0.383048</td>\n      <td>0.997541</td>\n    </tr>\n    <tr>\n      <th>4</th>\n      <td>0.514244</td>\n      <td>0.559053</td>\n      <td>0.034450</td>\n      <td>0.719930</td>\n      <td>0.421004</td>\n      <td>0.436935</td>\n    </tr>\n    <tr>\n      <th>5</th>\n      <td>0.281701</td>\n      <td>0.900274</td>\n      <td>0.669612</td>\n      <td>0.456069</td>\n      <td>0.289804</td>\n      <td>0.525819</td>\n    </tr>\n  </tbody>\n</table>\n</div>"
     },
     "metadata": {},
     "execution_count": 4
    }
   ],
   "source": [
    "np.random.seed(25)\n",
    "df_obj = DataFrame(np.random.rand(36).reshape((6,6)))\n",
    "df_obj"
   ]
  },
  {
   "cell_type": "code",
   "execution_count": 5,
   "metadata": {},
   "outputs": [
    {
     "output_type": "execute_result",
     "data": {
      "text/plain": [
       "          0         1         2         3         4         5\n",
       "0  0.870124  0.582277  0.278839  0.185911  0.411100  0.117376\n",
       "1  0.684969  0.437611  0.556229  0.367080  0.402366       NaN\n",
       "2  0.447031  0.585445  0.161985  0.520719  0.326051       NaN\n",
       "3       NaN  0.836375  0.481343  0.516502  0.383048       NaN\n",
       "4       NaN  0.559053  0.034450  0.719930  0.421004       NaN\n",
       "5       NaN  0.900274  0.669612  0.456069  0.289804  0.525819"
      ],
      "text/html": "<div>\n<style scoped>\n    .dataframe tbody tr th:only-of-type {\n        vertical-align: middle;\n    }\n\n    .dataframe tbody tr th {\n        vertical-align: top;\n    }\n\n    .dataframe thead th {\n        text-align: right;\n    }\n</style>\n<table border=\"1\" class=\"dataframe\">\n  <thead>\n    <tr style=\"text-align: right;\">\n      <th></th>\n      <th>0</th>\n      <th>1</th>\n      <th>2</th>\n      <th>3</th>\n      <th>4</th>\n      <th>5</th>\n    </tr>\n  </thead>\n  <tbody>\n    <tr>\n      <th>0</th>\n      <td>0.870124</td>\n      <td>0.582277</td>\n      <td>0.278839</td>\n      <td>0.185911</td>\n      <td>0.411100</td>\n      <td>0.117376</td>\n    </tr>\n    <tr>\n      <th>1</th>\n      <td>0.684969</td>\n      <td>0.437611</td>\n      <td>0.556229</td>\n      <td>0.367080</td>\n      <td>0.402366</td>\n      <td>NaN</td>\n    </tr>\n    <tr>\n      <th>2</th>\n      <td>0.447031</td>\n      <td>0.585445</td>\n      <td>0.161985</td>\n      <td>0.520719</td>\n      <td>0.326051</td>\n      <td>NaN</td>\n    </tr>\n    <tr>\n      <th>3</th>\n      <td>NaN</td>\n      <td>0.836375</td>\n      <td>0.481343</td>\n      <td>0.516502</td>\n      <td>0.383048</td>\n      <td>NaN</td>\n    </tr>\n    <tr>\n      <th>4</th>\n      <td>NaN</td>\n      <td>0.559053</td>\n      <td>0.034450</td>\n      <td>0.719930</td>\n      <td>0.421004</td>\n      <td>NaN</td>\n    </tr>\n    <tr>\n      <th>5</th>\n      <td>NaN</td>\n      <td>0.900274</td>\n      <td>0.669612</td>\n      <td>0.456069</td>\n      <td>0.289804</td>\n      <td>0.525819</td>\n    </tr>\n  </tbody>\n</table>\n</div>"
     },
     "metadata": {},
     "execution_count": 5
    }
   ],
   "source": [
    "df_obj.loc[3:5, 0] = missing\n",
    "df_obj.loc[1:4, 5] = missing\n",
    "df_obj\n"
   ]
  },
  {
   "cell_type": "code",
   "execution_count": 6,
   "metadata": {},
   "outputs": [
    {
     "output_type": "execute_result",
     "data": {
      "text/plain": [
       "          0         1         2         3         4         5\n",
       "0  0.870124  0.582277  0.278839  0.185911  0.411100  0.117376\n",
       "1  0.684969  0.437611  0.556229  0.367080  0.402366  0.000000\n",
       "2  0.447031  0.585445  0.161985  0.520719  0.326051  0.000000\n",
       "3  0.000000  0.836375  0.481343  0.516502  0.383048  0.000000\n",
       "4  0.000000  0.559053  0.034450  0.719930  0.421004  0.000000\n",
       "5  0.000000  0.900274  0.669612  0.456069  0.289804  0.525819"
      ],
      "text/html": "<div>\n<style scoped>\n    .dataframe tbody tr th:only-of-type {\n        vertical-align: middle;\n    }\n\n    .dataframe tbody tr th {\n        vertical-align: top;\n    }\n\n    .dataframe thead th {\n        text-align: right;\n    }\n</style>\n<table border=\"1\" class=\"dataframe\">\n  <thead>\n    <tr style=\"text-align: right;\">\n      <th></th>\n      <th>0</th>\n      <th>1</th>\n      <th>2</th>\n      <th>3</th>\n      <th>4</th>\n      <th>5</th>\n    </tr>\n  </thead>\n  <tbody>\n    <tr>\n      <th>0</th>\n      <td>0.870124</td>\n      <td>0.582277</td>\n      <td>0.278839</td>\n      <td>0.185911</td>\n      <td>0.411100</td>\n      <td>0.117376</td>\n    </tr>\n    <tr>\n      <th>1</th>\n      <td>0.684969</td>\n      <td>0.437611</td>\n      <td>0.556229</td>\n      <td>0.367080</td>\n      <td>0.402366</td>\n      <td>0.000000</td>\n    </tr>\n    <tr>\n      <th>2</th>\n      <td>0.447031</td>\n      <td>0.585445</td>\n      <td>0.161985</td>\n      <td>0.520719</td>\n      <td>0.326051</td>\n      <td>0.000000</td>\n    </tr>\n    <tr>\n      <th>3</th>\n      <td>0.000000</td>\n      <td>0.836375</td>\n      <td>0.481343</td>\n      <td>0.516502</td>\n      <td>0.383048</td>\n      <td>0.000000</td>\n    </tr>\n    <tr>\n      <th>4</th>\n      <td>0.000000</td>\n      <td>0.559053</td>\n      <td>0.034450</td>\n      <td>0.719930</td>\n      <td>0.421004</td>\n      <td>0.000000</td>\n    </tr>\n    <tr>\n      <th>5</th>\n      <td>0.000000</td>\n      <td>0.900274</td>\n      <td>0.669612</td>\n      <td>0.456069</td>\n      <td>0.289804</td>\n      <td>0.525819</td>\n    </tr>\n  </tbody>\n</table>\n</div>"
     },
     "metadata": {},
     "execution_count": 6
    }
   ],
   "source": [
    "# now we have missing values in dataframe\n",
    "# let's fill them with 0\n",
    "df_filled = df_obj.fillna(0)\n",
    "df_filled"
   ]
  },
  {
   "cell_type": "code",
   "execution_count": 7,
   "metadata": {},
   "outputs": [
    {
     "output_type": "execute_result",
     "data": {
      "text/plain": [
       "          0         1         2         3         4         5\n",
       "0  0.870124  0.582277  0.278839  0.185911  0.411100  0.117376\n",
       "1  0.684969  0.437611  0.556229  0.367080  0.402366  1.250000\n",
       "2  0.447031  0.585445  0.161985  0.520719  0.326051  1.250000\n",
       "3  0.100000  0.836375  0.481343  0.516502  0.383048  1.250000\n",
       "4  0.100000  0.559053  0.034450  0.719930  0.421004  1.250000\n",
       "5  0.100000  0.900274  0.669612  0.456069  0.289804  0.525819"
      ],
      "text/html": "<div>\n<style scoped>\n    .dataframe tbody tr th:only-of-type {\n        vertical-align: middle;\n    }\n\n    .dataframe tbody tr th {\n        vertical-align: top;\n    }\n\n    .dataframe thead th {\n        text-align: right;\n    }\n</style>\n<table border=\"1\" class=\"dataframe\">\n  <thead>\n    <tr style=\"text-align: right;\">\n      <th></th>\n      <th>0</th>\n      <th>1</th>\n      <th>2</th>\n      <th>3</th>\n      <th>4</th>\n      <th>5</th>\n    </tr>\n  </thead>\n  <tbody>\n    <tr>\n      <th>0</th>\n      <td>0.870124</td>\n      <td>0.582277</td>\n      <td>0.278839</td>\n      <td>0.185911</td>\n      <td>0.411100</td>\n      <td>0.117376</td>\n    </tr>\n    <tr>\n      <th>1</th>\n      <td>0.684969</td>\n      <td>0.437611</td>\n      <td>0.556229</td>\n      <td>0.367080</td>\n      <td>0.402366</td>\n      <td>1.250000</td>\n    </tr>\n    <tr>\n      <th>2</th>\n      <td>0.447031</td>\n      <td>0.585445</td>\n      <td>0.161985</td>\n      <td>0.520719</td>\n      <td>0.326051</td>\n      <td>1.250000</td>\n    </tr>\n    <tr>\n      <th>3</th>\n      <td>0.100000</td>\n      <td>0.836375</td>\n      <td>0.481343</td>\n      <td>0.516502</td>\n      <td>0.383048</td>\n      <td>1.250000</td>\n    </tr>\n    <tr>\n      <th>4</th>\n      <td>0.100000</td>\n      <td>0.559053</td>\n      <td>0.034450</td>\n      <td>0.719930</td>\n      <td>0.421004</td>\n      <td>1.250000</td>\n    </tr>\n    <tr>\n      <th>5</th>\n      <td>0.100000</td>\n      <td>0.900274</td>\n      <td>0.669612</td>\n      <td>0.456069</td>\n      <td>0.289804</td>\n      <td>0.525819</td>\n    </tr>\n  </tbody>\n</table>\n</div>"
     },
     "metadata": {},
     "execution_count": 7
    }
   ],
   "source": [
    "# Specify special values for different columns\n",
    "df_filled = df_obj.fillna({0: .1, 5: 1.25})\n",
    "df_filled"
   ]
  },
  {
   "cell_type": "code",
   "execution_count": 8,
   "metadata": {},
   "outputs": [
    {
     "output_type": "execute_result",
     "data": {
      "text/plain": [
       "          0         1         2         3         4         5\n",
       "0  0.870124  0.582277  0.278839  0.185911  0.411100  0.117376\n",
       "1  0.684969  0.437611  0.556229  0.367080  0.402366  0.117376\n",
       "2  0.447031  0.585445  0.161985  0.520719  0.326051  0.117376\n",
       "3  0.447031  0.836375  0.481343  0.516502  0.383048  0.117376\n",
       "4  0.447031  0.559053  0.034450  0.719930  0.421004  0.117376\n",
       "5  0.447031  0.900274  0.669612  0.456069  0.289804  0.525819"
      ],
      "text/html": "<div>\n<style scoped>\n    .dataframe tbody tr th:only-of-type {\n        vertical-align: middle;\n    }\n\n    .dataframe tbody tr th {\n        vertical-align: top;\n    }\n\n    .dataframe thead th {\n        text-align: right;\n    }\n</style>\n<table border=\"1\" class=\"dataframe\">\n  <thead>\n    <tr style=\"text-align: right;\">\n      <th></th>\n      <th>0</th>\n      <th>1</th>\n      <th>2</th>\n      <th>3</th>\n      <th>4</th>\n      <th>5</th>\n    </tr>\n  </thead>\n  <tbody>\n    <tr>\n      <th>0</th>\n      <td>0.870124</td>\n      <td>0.582277</td>\n      <td>0.278839</td>\n      <td>0.185911</td>\n      <td>0.411100</td>\n      <td>0.117376</td>\n    </tr>\n    <tr>\n      <th>1</th>\n      <td>0.684969</td>\n      <td>0.437611</td>\n      <td>0.556229</td>\n      <td>0.367080</td>\n      <td>0.402366</td>\n      <td>0.117376</td>\n    </tr>\n    <tr>\n      <th>2</th>\n      <td>0.447031</td>\n      <td>0.585445</td>\n      <td>0.161985</td>\n      <td>0.520719</td>\n      <td>0.326051</td>\n      <td>0.117376</td>\n    </tr>\n    <tr>\n      <th>3</th>\n      <td>0.447031</td>\n      <td>0.836375</td>\n      <td>0.481343</td>\n      <td>0.516502</td>\n      <td>0.383048</td>\n      <td>0.117376</td>\n    </tr>\n    <tr>\n      <th>4</th>\n      <td>0.447031</td>\n      <td>0.559053</td>\n      <td>0.034450</td>\n      <td>0.719930</td>\n      <td>0.421004</td>\n      <td>0.117376</td>\n    </tr>\n    <tr>\n      <th>5</th>\n      <td>0.447031</td>\n      <td>0.900274</td>\n      <td>0.669612</td>\n      <td>0.456069</td>\n      <td>0.289804</td>\n      <td>0.525819</td>\n    </tr>\n  </tbody>\n</table>\n</div>"
     },
     "metadata": {},
     "execution_count": 8
    }
   ],
   "source": [
    "# Method to use for filling holes in reindexed Series:\n",
    "# pad / ffill: propagate last valid observation forward to next valid \n",
    "# backfill / bfill: use next valid observation to fill gap.\n",
    "df_filled = df_obj.fillna(method = 'ffill')\n",
    "df_filled"
   ]
  },
  {
   "cell_type": "code",
   "execution_count": 9,
   "metadata": {},
   "outputs": [
    {
     "output_type": "execute_result",
     "data": {
      "text/plain": [
       "     A    B   C  D\n",
       "0  NaN  2.0 NaN  0\n",
       "1  3.0  4.0 NaN  1\n",
       "2  3.0  4.0 NaN  5\n",
       "3  3.0  3.0 NaN  4"
      ],
      "text/html": "<div>\n<style scoped>\n    .dataframe tbody tr th:only-of-type {\n        vertical-align: middle;\n    }\n\n    .dataframe tbody tr th {\n        vertical-align: top;\n    }\n\n    .dataframe thead th {\n        text-align: right;\n    }\n</style>\n<table border=\"1\" class=\"dataframe\">\n  <thead>\n    <tr style=\"text-align: right;\">\n      <th></th>\n      <th>A</th>\n      <th>B</th>\n      <th>C</th>\n      <th>D</th>\n    </tr>\n  </thead>\n  <tbody>\n    <tr>\n      <th>0</th>\n      <td>NaN</td>\n      <td>2.0</td>\n      <td>NaN</td>\n      <td>0</td>\n    </tr>\n    <tr>\n      <th>1</th>\n      <td>3.0</td>\n      <td>4.0</td>\n      <td>NaN</td>\n      <td>1</td>\n    </tr>\n    <tr>\n      <th>2</th>\n      <td>3.0</td>\n      <td>4.0</td>\n      <td>NaN</td>\n      <td>5</td>\n    </tr>\n    <tr>\n      <th>3</th>\n      <td>3.0</td>\n      <td>3.0</td>\n      <td>NaN</td>\n      <td>4</td>\n    </tr>\n  </tbody>\n</table>\n</div>"
     },
     "metadata": {},
     "execution_count": 9
    }
   ],
   "source": [
    "# if NaNs are in a first row there might be a problem:\n",
    "df = DataFrame([\n",
    "    [np.nan, 2, np.nan, 0],\n",
    "    [3, 4, np.nan, 1],\n",
    "    [np.nan, np.nan, np.nan, 5],\n",
    "    [np.nan, 3, np.nan, 4]\n",
    "    ],\n",
    "    columns=list('ABCD'))\n",
    "\n",
    "df.fillna(method='ffill')"
   ]
  },
  {
   "source": [
    "### Counting missing value"
   ],
   "cell_type": "markdown",
   "metadata": {}
  },
  {
   "cell_type": "code",
   "execution_count": 10,
   "metadata": {},
   "outputs": [
    {
     "output_type": "execute_result",
     "data": {
      "text/plain": [
       "0    3\n",
       "1    0\n",
       "2    0\n",
       "3    0\n",
       "4    0\n",
       "5    4\n",
       "dtype: int64"
      ]
     },
     "metadata": {},
     "execution_count": 10
    }
   ],
   "source": [
    "# f.e. to create some summary/statics\n",
    "df_obj.isnull().sum()"
   ]
  },
  {
   "cell_type": "code",
   "execution_count": 11,
   "metadata": {},
   "outputs": [
    {
     "output_type": "execute_result",
     "data": {
      "text/plain": [
       "3"
      ]
     },
     "metadata": {},
     "execution_count": 11
    }
   ],
   "source": [
    "# count NaNs in particular column\n",
    "df_obj.loc[:, 0].isnull().sum()"
   ]
  },
  {
   "source": [
    "### Removing rows & columns with missing values"
   ],
   "cell_type": "markdown",
   "metadata": {}
  },
  {
   "cell_type": "code",
   "execution_count": 12,
   "metadata": {},
   "outputs": [
    {
     "output_type": "execute_result",
     "data": {
      "text/plain": [
       "          0         1         2         3       4         5\n",
       "0  0.870124  0.582277  0.278839  0.185911  0.4111  0.117376"
      ],
      "text/html": "<div>\n<style scoped>\n    .dataframe tbody tr th:only-of-type {\n        vertical-align: middle;\n    }\n\n    .dataframe tbody tr th {\n        vertical-align: top;\n    }\n\n    .dataframe thead th {\n        text-align: right;\n    }\n</style>\n<table border=\"1\" class=\"dataframe\">\n  <thead>\n    <tr style=\"text-align: right;\">\n      <th></th>\n      <th>0</th>\n      <th>1</th>\n      <th>2</th>\n      <th>3</th>\n      <th>4</th>\n      <th>5</th>\n    </tr>\n  </thead>\n  <tbody>\n    <tr>\n      <th>0</th>\n      <td>0.870124</td>\n      <td>0.582277</td>\n      <td>0.278839</td>\n      <td>0.185911</td>\n      <td>0.4111</td>\n      <td>0.117376</td>\n    </tr>\n  </tbody>\n</table>\n</div>"
     },
     "metadata": {},
     "execution_count": 12
    }
   ],
   "source": [
    "df_no_nan_rows = df_obj.dropna()\n",
    "df_no_nan_rows\n",
    "# All rows with NaN will be dropped"
   ]
  },
  {
   "cell_type": "code",
   "execution_count": 13,
   "metadata": {},
   "outputs": [
    {
     "output_type": "execute_result",
     "data": {
      "text/plain": [
       "          1         2         3         4\n",
       "0  0.582277  0.278839  0.185911  0.411100\n",
       "1  0.437611  0.556229  0.367080  0.402366\n",
       "2  0.585445  0.161985  0.520719  0.326051\n",
       "3  0.836375  0.481343  0.516502  0.383048\n",
       "4  0.559053  0.034450  0.719930  0.421004\n",
       "5  0.900274  0.669612  0.456069  0.289804"
      ],
      "text/html": "<div>\n<style scoped>\n    .dataframe tbody tr th:only-of-type {\n        vertical-align: middle;\n    }\n\n    .dataframe tbody tr th {\n        vertical-align: top;\n    }\n\n    .dataframe thead th {\n        text-align: right;\n    }\n</style>\n<table border=\"1\" class=\"dataframe\">\n  <thead>\n    <tr style=\"text-align: right;\">\n      <th></th>\n      <th>1</th>\n      <th>2</th>\n      <th>3</th>\n      <th>4</th>\n    </tr>\n  </thead>\n  <tbody>\n    <tr>\n      <th>0</th>\n      <td>0.582277</td>\n      <td>0.278839</td>\n      <td>0.185911</td>\n      <td>0.411100</td>\n    </tr>\n    <tr>\n      <th>1</th>\n      <td>0.437611</td>\n      <td>0.556229</td>\n      <td>0.367080</td>\n      <td>0.402366</td>\n    </tr>\n    <tr>\n      <th>2</th>\n      <td>0.585445</td>\n      <td>0.161985</td>\n      <td>0.520719</td>\n      <td>0.326051</td>\n    </tr>\n    <tr>\n      <th>3</th>\n      <td>0.836375</td>\n      <td>0.481343</td>\n      <td>0.516502</td>\n      <td>0.383048</td>\n    </tr>\n    <tr>\n      <th>4</th>\n      <td>0.559053</td>\n      <td>0.034450</td>\n      <td>0.719930</td>\n      <td>0.421004</td>\n    </tr>\n    <tr>\n      <th>5</th>\n      <td>0.900274</td>\n      <td>0.669612</td>\n      <td>0.456069</td>\n      <td>0.289804</td>\n    </tr>\n  </tbody>\n</table>\n</div>"
     },
     "metadata": {},
     "execution_count": 13
    }
   ],
   "source": [
    "df_no_nan_columns = df_obj.dropna(axis = 1)\n",
    "df_no_nan_columns\n",
    "# All columns with NaN will be dropped"
   ]
  }
 ]
}