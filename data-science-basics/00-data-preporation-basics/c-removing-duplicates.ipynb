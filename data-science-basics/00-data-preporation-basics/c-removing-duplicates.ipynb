{
 "metadata": {
  "language_info": {
   "codemirror_mode": {
    "name": "ipython",
    "version": 3
   },
   "file_extension": ".py",
   "mimetype": "text/x-python",
   "name": "python",
   "nbconvert_exporter": "python",
   "pygments_lexer": "ipython3",
   "version": "3.8.3"
  },
  "orig_nbformat": 2,
  "kernelspec": {
   "name": "python38064bit80c712c42d0845a6a4b19289fbf7986e",
   "display_name": "Python 3.8.3 64-bit"
  },
  "metadata": {
   "interpreter": {
    "hash": "aee8b7b246df8f9039afb4144a1f6fd8d2ca17a180786b69acc140d282b71a49"
   }
  }
 },
 "nbformat": 4,
 "nbformat_minor": 2,
 "cells": [
  {
   "source": [
    "# Removing duplicates"
   ],
   "cell_type": "markdown",
   "metadata": {}
  },
  {
   "cell_type": "code",
   "execution_count": 1,
   "metadata": {},
   "outputs": [],
   "source": [
    "import numpy as np \n",
    "import pandas as pd \n",
    "\n",
    "from pandas import Series, DataFrame"
   ]
  },
  {
   "source": [
    "### Genrate a dataframe to work with"
   ],
   "cell_type": "markdown",
   "metadata": {}
  },
  {
   "cell_type": "code",
   "execution_count": 2,
   "metadata": {},
   "outputs": [
    {
     "output_type": "execute_result",
     "data": {
      "text/plain": [
       "   Name    Zip  Number\n",
       "0  Zack  06901       1\n",
       "1  Zack  06901       1\n",
       "2  Liza  10001       2\n",
       "3  Liza  10001       2\n",
       "4  John  50307       3\n",
       "5  John  50307       3\n",
       "6  John  50307       3"
      ],
      "text/html": "<div>\n<style scoped>\n    .dataframe tbody tr th:only-of-type {\n        vertical-align: middle;\n    }\n\n    .dataframe tbody tr th {\n        vertical-align: top;\n    }\n\n    .dataframe thead th {\n        text-align: right;\n    }\n</style>\n<table border=\"1\" class=\"dataframe\">\n  <thead>\n    <tr style=\"text-align: right;\">\n      <th></th>\n      <th>Name</th>\n      <th>Zip</th>\n      <th>Number</th>\n    </tr>\n  </thead>\n  <tbody>\n    <tr>\n      <th>0</th>\n      <td>Zack</td>\n      <td>06901</td>\n      <td>1</td>\n    </tr>\n    <tr>\n      <th>1</th>\n      <td>Zack</td>\n      <td>06901</td>\n      <td>1</td>\n    </tr>\n    <tr>\n      <th>2</th>\n      <td>Liza</td>\n      <td>10001</td>\n      <td>2</td>\n    </tr>\n    <tr>\n      <th>3</th>\n      <td>Liza</td>\n      <td>10001</td>\n      <td>2</td>\n    </tr>\n    <tr>\n      <th>4</th>\n      <td>John</td>\n      <td>50307</td>\n      <td>3</td>\n    </tr>\n    <tr>\n      <th>5</th>\n      <td>John</td>\n      <td>50307</td>\n      <td>3</td>\n    </tr>\n    <tr>\n      <th>6</th>\n      <td>John</td>\n      <td>50307</td>\n      <td>3</td>\n    </tr>\n  </tbody>\n</table>\n</div>"
     },
     "metadata": {},
     "execution_count": 2
    }
   ],
   "source": [
    "df_obj = DataFrame(\n",
    "    {\n",
    "        'Name': ['Zack', 'Zack', 'Liza', 'Liza', 'John', 'John', 'John'],\n",
    "        'Zip': ['06901', '06901', '10001', '10001', '50307', '50307', '50307'],\n",
    "        'Number': [1, 1, 2, 2, 3, 3, 3]\n",
    "    }\n",
    ")\n",
    "df_obj"
   ]
  },
  {
   "source": [
    "### Find duplicates"
   ],
   "cell_type": "markdown",
   "metadata": {}
  },
  {
   "cell_type": "code",
   "execution_count": 3,
   "metadata": {},
   "outputs": [
    {
     "output_type": "execute_result",
     "data": {
      "text/plain": [
       "0    False\n",
       "1     True\n",
       "2    False\n",
       "3     True\n",
       "4    False\n",
       "5     True\n",
       "6     True\n",
       "dtype: bool"
      ]
     },
     "metadata": {},
     "execution_count": 3
    }
   ],
   "source": [
    "df_obj.duplicated()"
   ]
  },
  {
   "source": [
    "### Drop duplicates"
   ],
   "cell_type": "markdown",
   "metadata": {}
  },
  {
   "cell_type": "code",
   "execution_count": 4,
   "metadata": {},
   "outputs": [
    {
     "output_type": "execute_result",
     "data": {
      "text/plain": [
       "   Name    Zip  Number\n",
       "0  Zack  06901       1\n",
       "2  Liza  10001       2\n",
       "4  John  50307       3"
      ],
      "text/html": "<div>\n<style scoped>\n    .dataframe tbody tr th:only-of-type {\n        vertical-align: middle;\n    }\n\n    .dataframe tbody tr th {\n        vertical-align: top;\n    }\n\n    .dataframe thead th {\n        text-align: right;\n    }\n</style>\n<table border=\"1\" class=\"dataframe\">\n  <thead>\n    <tr style=\"text-align: right;\">\n      <th></th>\n      <th>Name</th>\n      <th>Zip</th>\n      <th>Number</th>\n    </tr>\n  </thead>\n  <tbody>\n    <tr>\n      <th>0</th>\n      <td>Zack</td>\n      <td>06901</td>\n      <td>1</td>\n    </tr>\n    <tr>\n      <th>2</th>\n      <td>Liza</td>\n      <td>10001</td>\n      <td>2</td>\n    </tr>\n    <tr>\n      <th>4</th>\n      <td>John</td>\n      <td>50307</td>\n      <td>3</td>\n    </tr>\n  </tbody>\n</table>\n</div>"
     },
     "metadata": {},
     "execution_count": 4
    }
   ],
   "source": [
    "df_obj.drop_duplicates()"
   ]
  },
  {
   "cell_type": "code",
   "execution_count": 5,
   "metadata": {},
   "outputs": [
    {
     "output_type": "execute_result",
     "data": {
      "text/plain": [
       "   Name    Zip  Number\n",
       "0  Zack  06901       1\n",
       "1  Zack  06901       1\n",
       "2  Liza  10001       2\n",
       "3  Liza  10001       2\n",
       "4  John  50307       3\n",
       "5  John  50307       4\n",
       "6  John  50307       3"
      ],
      "text/html": "<div>\n<style scoped>\n    .dataframe tbody tr th:only-of-type {\n        vertical-align: middle;\n    }\n\n    .dataframe tbody tr th {\n        vertical-align: top;\n    }\n\n    .dataframe thead th {\n        text-align: right;\n    }\n</style>\n<table border=\"1\" class=\"dataframe\">\n  <thead>\n    <tr style=\"text-align: right;\">\n      <th></th>\n      <th>Name</th>\n      <th>Zip</th>\n      <th>Number</th>\n    </tr>\n  </thead>\n  <tbody>\n    <tr>\n      <th>0</th>\n      <td>Zack</td>\n      <td>06901</td>\n      <td>1</td>\n    </tr>\n    <tr>\n      <th>1</th>\n      <td>Zack</td>\n      <td>06901</td>\n      <td>1</td>\n    </tr>\n    <tr>\n      <th>2</th>\n      <td>Liza</td>\n      <td>10001</td>\n      <td>2</td>\n    </tr>\n    <tr>\n      <th>3</th>\n      <td>Liza</td>\n      <td>10001</td>\n      <td>2</td>\n    </tr>\n    <tr>\n      <th>4</th>\n      <td>John</td>\n      <td>50307</td>\n      <td>3</td>\n    </tr>\n    <tr>\n      <th>5</th>\n      <td>John</td>\n      <td>50307</td>\n      <td>4</td>\n    </tr>\n    <tr>\n      <th>6</th>\n      <td>John</td>\n      <td>50307</td>\n      <td>3</td>\n    </tr>\n  </tbody>\n</table>\n</div>"
     },
     "metadata": {},
     "execution_count": 5
    }
   ],
   "source": [
    "# for example with columns let's create a new dataframe\n",
    "df_obj_columns = DataFrame(\n",
    "    {\n",
    "        'Name': ['Zack', 'Zack', 'Liza', 'Liza', 'John', 'John', 'John'],\n",
    "        'Zip': ['06901', '06901', '10001', '10001', '50307', '50307', '50307'],\n",
    "        'Number': [1, 1, 2, 2, 3, 4, 3]\n",
    "    }\n",
    ")\n",
    "df_obj_columns"
   ]
  },
  {
   "cell_type": "code",
   "execution_count": 6,
   "metadata": {},
   "outputs": [
    {
     "output_type": "execute_result",
     "data": {
      "text/plain": [
       "   Name    Zip  Number\n",
       "0  Zack  06901       1\n",
       "2  Liza  10001       2\n",
       "4  John  50307       3\n",
       "5  John  50307       4"
      ],
      "text/html": "<div>\n<style scoped>\n    .dataframe tbody tr th:only-of-type {\n        vertical-align: middle;\n    }\n\n    .dataframe tbody tr th {\n        vertical-align: top;\n    }\n\n    .dataframe thead th {\n        text-align: right;\n    }\n</style>\n<table border=\"1\" class=\"dataframe\">\n  <thead>\n    <tr style=\"text-align: right;\">\n      <th></th>\n      <th>Name</th>\n      <th>Zip</th>\n      <th>Number</th>\n    </tr>\n  </thead>\n  <tbody>\n    <tr>\n      <th>0</th>\n      <td>Zack</td>\n      <td>06901</td>\n      <td>1</td>\n    </tr>\n    <tr>\n      <th>2</th>\n      <td>Liza</td>\n      <td>10001</td>\n      <td>2</td>\n    </tr>\n    <tr>\n      <th>4</th>\n      <td>John</td>\n      <td>50307</td>\n      <td>3</td>\n    </tr>\n    <tr>\n      <th>5</th>\n      <td>John</td>\n      <td>50307</td>\n      <td>4</td>\n    </tr>\n  </tbody>\n</table>\n</div>"
     },
     "metadata": {},
     "execution_count": 6
    }
   ],
   "source": [
    "df_obj_columns.drop_duplicates(['Number'])"
   ]
  }
 ]
}