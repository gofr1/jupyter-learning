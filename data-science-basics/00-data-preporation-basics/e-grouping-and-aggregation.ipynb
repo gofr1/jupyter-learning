{
 "metadata": {
  "language_info": {
   "codemirror_mode": {
    "name": "ipython",
    "version": 3
   },
   "file_extension": ".py",
   "mimetype": "text/x-python",
   "name": "python",
   "nbconvert_exporter": "python",
   "pygments_lexer": "ipython3",
   "version": "3.8.3"
  },
  "orig_nbformat": 2,
  "kernelspec": {
   "name": "python38064bit80c712c42d0845a6a4b19289fbf7986e",
   "display_name": "Python 3.8.3 64-bit"
  },
  "metadata": {
   "interpreter": {
    "hash": "aee8b7b246df8f9039afb4144a1f6fd8d2ca17a180786b69acc140d282b71a49"
   }
  }
 },
 "nbformat": 4,
 "nbformat_minor": 2,
 "cells": [
  {
   "source": [
    "# Grouping & Agregation"
   ],
   "cell_type": "markdown",
   "metadata": {}
  },
  {
   "cell_type": "code",
   "execution_count": 3,
   "metadata": {},
   "outputs": [],
   "source": [
    "import numpy as np \n",
    "import pandas as pd \n",
    "\n",
    "from pandas import Series, DataFrame"
   ]
  },
  {
   "cell_type": "code",
   "execution_count": 4,
   "metadata": {},
   "outputs": [
    {
     "output_type": "execute_result",
     "data": {
      "text/plain": [
       "               model   mpg  cyl   disp   hp  drat     wt   qsec  vs  am  gear  \\\n",
       "0          Mazda RX4  21.0    6  160.0  110  3.90  2.620  16.46   0   1     4   \n",
       "1      Mazda RX4 Wag  21.0    6  160.0  110  3.90  2.875  17.02   0   1     4   \n",
       "2         Datsun 710  22.8    4  108.0   93  3.85  2.320  18.61   1   1     4   \n",
       "3     Hornet 4 Drive  21.4    6  258.0  110  3.08  3.215  19.44   1   0     3   \n",
       "4  Hornet Sportabout  18.7    8  360.0  175  3.15  3.440  17.02   0   0     3   \n",
       "\n",
       "   carb  \n",
       "0     4  \n",
       "1     4  \n",
       "2     1  \n",
       "3     1  \n",
       "4     2  "
      ],
      "text/html": "<div>\n<style scoped>\n    .dataframe tbody tr th:only-of-type {\n        vertical-align: middle;\n    }\n\n    .dataframe tbody tr th {\n        vertical-align: top;\n    }\n\n    .dataframe thead th {\n        text-align: right;\n    }\n</style>\n<table border=\"1\" class=\"dataframe\">\n  <thead>\n    <tr style=\"text-align: right;\">\n      <th></th>\n      <th>model</th>\n      <th>mpg</th>\n      <th>cyl</th>\n      <th>disp</th>\n      <th>hp</th>\n      <th>drat</th>\n      <th>wt</th>\n      <th>qsec</th>\n      <th>vs</th>\n      <th>am</th>\n      <th>gear</th>\n      <th>carb</th>\n    </tr>\n  </thead>\n  <tbody>\n    <tr>\n      <th>0</th>\n      <td>Mazda RX4</td>\n      <td>21.0</td>\n      <td>6</td>\n      <td>160.0</td>\n      <td>110</td>\n      <td>3.90</td>\n      <td>2.620</td>\n      <td>16.46</td>\n      <td>0</td>\n      <td>1</td>\n      <td>4</td>\n      <td>4</td>\n    </tr>\n    <tr>\n      <th>1</th>\n      <td>Mazda RX4 Wag</td>\n      <td>21.0</td>\n      <td>6</td>\n      <td>160.0</td>\n      <td>110</td>\n      <td>3.90</td>\n      <td>2.875</td>\n      <td>17.02</td>\n      <td>0</td>\n      <td>1</td>\n      <td>4</td>\n      <td>4</td>\n    </tr>\n    <tr>\n      <th>2</th>\n      <td>Datsun 710</td>\n      <td>22.8</td>\n      <td>4</td>\n      <td>108.0</td>\n      <td>93</td>\n      <td>3.85</td>\n      <td>2.320</td>\n      <td>18.61</td>\n      <td>1</td>\n      <td>1</td>\n      <td>4</td>\n      <td>1</td>\n    </tr>\n    <tr>\n      <th>3</th>\n      <td>Hornet 4 Drive</td>\n      <td>21.4</td>\n      <td>6</td>\n      <td>258.0</td>\n      <td>110</td>\n      <td>3.08</td>\n      <td>3.215</td>\n      <td>19.44</td>\n      <td>1</td>\n      <td>0</td>\n      <td>3</td>\n      <td>1</td>\n    </tr>\n    <tr>\n      <th>4</th>\n      <td>Hornet Sportabout</td>\n      <td>18.7</td>\n      <td>8</td>\n      <td>360.0</td>\n      <td>175</td>\n      <td>3.15</td>\n      <td>3.440</td>\n      <td>17.02</td>\n      <td>0</td>\n      <td>0</td>\n      <td>3</td>\n      <td>2</td>\n    </tr>\n  </tbody>\n</table>\n</div>"
     },
     "metadata": {},
     "execution_count": 4
    }
   ],
   "source": [
    "mtcars_source = '../../inputs/mtcars.csv'\n",
    "\n",
    "cars = pd.read_csv(mtcars_source)\n",
    "cars.head()"
   ]
  },
  {
   "cell_type": "code",
   "execution_count": 5,
   "metadata": {},
   "outputs": [
    {
     "output_type": "execute_result",
     "data": {
      "text/plain": [
       "           mpg        disp          hp      drat        wt       qsec  \\\n",
       "cyl                                                                     \n",
       "4    26.663636  105.136364   82.636364  4.070909  2.285727  19.137273   \n",
       "6    19.742857  183.314286  122.285714  3.585714  3.117143  17.977143   \n",
       "8    15.100000  353.100000  209.214286  3.229286  3.999214  16.772143   \n",
       "\n",
       "           vs        am      gear      carb  \n",
       "cyl                                          \n",
       "4    0.909091  0.727273  4.090909  1.545455  \n",
       "6    0.571429  0.428571  3.857143  3.428571  \n",
       "8    0.000000  0.142857  3.285714  3.500000  "
      ],
      "text/html": "<div>\n<style scoped>\n    .dataframe tbody tr th:only-of-type {\n        vertical-align: middle;\n    }\n\n    .dataframe tbody tr th {\n        vertical-align: top;\n    }\n\n    .dataframe thead th {\n        text-align: right;\n    }\n</style>\n<table border=\"1\" class=\"dataframe\">\n  <thead>\n    <tr style=\"text-align: right;\">\n      <th></th>\n      <th>mpg</th>\n      <th>disp</th>\n      <th>hp</th>\n      <th>drat</th>\n      <th>wt</th>\n      <th>qsec</th>\n      <th>vs</th>\n      <th>am</th>\n      <th>gear</th>\n      <th>carb</th>\n    </tr>\n    <tr>\n      <th>cyl</th>\n      <th></th>\n      <th></th>\n      <th></th>\n      <th></th>\n      <th></th>\n      <th></th>\n      <th></th>\n      <th></th>\n      <th></th>\n      <th></th>\n    </tr>\n  </thead>\n  <tbody>\n    <tr>\n      <th>4</th>\n      <td>26.663636</td>\n      <td>105.136364</td>\n      <td>82.636364</td>\n      <td>4.070909</td>\n      <td>2.285727</td>\n      <td>19.137273</td>\n      <td>0.909091</td>\n      <td>0.727273</td>\n      <td>4.090909</td>\n      <td>1.545455</td>\n    </tr>\n    <tr>\n      <th>6</th>\n      <td>19.742857</td>\n      <td>183.314286</td>\n      <td>122.285714</td>\n      <td>3.585714</td>\n      <td>3.117143</td>\n      <td>17.977143</td>\n      <td>0.571429</td>\n      <td>0.428571</td>\n      <td>3.857143</td>\n      <td>3.428571</td>\n    </tr>\n    <tr>\n      <th>8</th>\n      <td>15.100000</td>\n      <td>353.100000</td>\n      <td>209.214286</td>\n      <td>3.229286</td>\n      <td>3.999214</td>\n      <td>16.772143</td>\n      <td>0.000000</td>\n      <td>0.142857</td>\n      <td>3.285714</td>\n      <td>3.500000</td>\n    </tr>\n  </tbody>\n</table>\n</div>"
     },
     "metadata": {},
     "execution_count": 5
    }
   ],
   "source": [
    "# group by cyl\n",
    "cars_groups = cars.groupby(cars['cyl'])\n",
    "# mean for every column\n",
    "cars_groups.mean()"
   ]
  },
  {
   "cell_type": "code",
   "execution_count": 6,
   "metadata": {},
   "outputs": [
    {
     "output_type": "execute_result",
     "data": {
      "text/plain": [
       "cyl\n",
       "4    105.136364\n",
       "6    183.314286\n",
       "8    353.100000\n",
       "Name: disp, dtype: float64"
      ]
     },
     "metadata": {},
     "execution_count": 6
    }
   ],
   "source": [
    "# mean for particular column\n",
    "cars_groups['disp'].mean()"
   ]
  },
  {
   "cell_type": "code",
   "execution_count": 7,
   "metadata": {},
   "outputs": [
    {
     "output_type": "execute_result",
     "data": {
      "text/plain": [
       "       mpg    disp    hp   drat      wt    qsec  vs  am  gear  carb\n",
       "cyl                                                                \n",
       "4    293.3  1156.5   909  44.78  25.143  210.51  10   8    45    17\n",
       "6    138.2  1283.2   856  25.10  21.820  125.84   4   3    27    24\n",
       "8    211.4  4943.4  2929  45.21  55.989  234.81   0   2    46    49"
      ],
      "text/html": "<div>\n<style scoped>\n    .dataframe tbody tr th:only-of-type {\n        vertical-align: middle;\n    }\n\n    .dataframe tbody tr th {\n        vertical-align: top;\n    }\n\n    .dataframe thead th {\n        text-align: right;\n    }\n</style>\n<table border=\"1\" class=\"dataframe\">\n  <thead>\n    <tr style=\"text-align: right;\">\n      <th></th>\n      <th>mpg</th>\n      <th>disp</th>\n      <th>hp</th>\n      <th>drat</th>\n      <th>wt</th>\n      <th>qsec</th>\n      <th>vs</th>\n      <th>am</th>\n      <th>gear</th>\n      <th>carb</th>\n    </tr>\n    <tr>\n      <th>cyl</th>\n      <th></th>\n      <th></th>\n      <th></th>\n      <th></th>\n      <th></th>\n      <th></th>\n      <th></th>\n      <th></th>\n      <th></th>\n      <th></th>\n    </tr>\n  </thead>\n  <tbody>\n    <tr>\n      <th>4</th>\n      <td>293.3</td>\n      <td>1156.5</td>\n      <td>909</td>\n      <td>44.78</td>\n      <td>25.143</td>\n      <td>210.51</td>\n      <td>10</td>\n      <td>8</td>\n      <td>45</td>\n      <td>17</td>\n    </tr>\n    <tr>\n      <th>6</th>\n      <td>138.2</td>\n      <td>1283.2</td>\n      <td>856</td>\n      <td>25.10</td>\n      <td>21.820</td>\n      <td>125.84</td>\n      <td>4</td>\n      <td>3</td>\n      <td>27</td>\n      <td>24</td>\n    </tr>\n    <tr>\n      <th>8</th>\n      <td>211.4</td>\n      <td>4943.4</td>\n      <td>2929</td>\n      <td>45.21</td>\n      <td>55.989</td>\n      <td>234.81</td>\n      <td>0</td>\n      <td>2</td>\n      <td>46</td>\n      <td>49</td>\n    </tr>\n  </tbody>\n</table>\n</div>"
     },
     "metadata": {},
     "execution_count": 7
    }
   ],
   "source": [
    "cars_groups.sum()"
   ]
  }
 ]
}