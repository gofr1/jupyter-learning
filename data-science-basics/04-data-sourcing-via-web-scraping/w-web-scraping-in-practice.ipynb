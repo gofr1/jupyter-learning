{
 "metadata": {
  "language_info": {
   "codemirror_mode": {
    "name": "ipython",
    "version": 3
   },
   "file_extension": ".py",
   "mimetype": "text/x-python",
   "name": "python",
   "nbconvert_exporter": "python",
   "pygments_lexer": "ipython3",
   "version": "3.8.3"
  },
  "orig_nbformat": 2,
  "kernelspec": {
   "name": "python3",
   "display_name": "Python 3",
   "language": "python"
  }
 },
 "nbformat": 4,
 "nbformat_minor": 2,
 "cells": [
  {
   "source": [
    "# Data Sourcing via Web"
   ],
   "cell_type": "markdown",
   "metadata": {}
  },
  {
   "source": [
    "## Web Scraping"
   ],
   "cell_type": "markdown",
   "metadata": {}
  },
  {
   "cell_type": "code",
   "execution_count": 3,
   "metadata": {},
   "outputs": [],
   "source": [
    "from bs4 import BeautifulSoup\n",
    "import urllib.request\n",
    "from IPython.display import HTML\n",
    "import re"
   ]
  },
  {
   "cell_type": "code",
   "execution_count": 4,
   "metadata": {},
   "outputs": [
    {
     "output_type": "execute_result",
     "data": {
      "text/plain": [
       "bs4.BeautifulSoup"
      ]
     },
     "metadata": {},
     "execution_count": 4
    }
   ],
   "source": [
    "r = urllib.request.urlopen('https://analytics.usa.gov/').read()\n",
    "soup = BeautifulSoup(r, 'lxml')\n",
    "type(soup)"
   ]
  },
  {
   "cell_type": "code",
   "execution_count": 6,
   "metadata": {},
   "outputs": [
    {
     "output_type": "stream",
     "name": "stdout",
     "text": [
      "<!DOCTYPE html>\n<html lang=\"en\">\n <!-- Initalize title and data source variables -->\n <head>\n  <!--\n\n"
     ]
    }
   ],
   "source": [
    "print(soup.prettify()[:100])"
   ]
  },
  {
   "cell_type": "code",
   "execution_count": 7,
   "metadata": {},
   "outputs": [
    {
     "output_type": "stream",
     "name": "stdout",
     "text": [
      "/\n#explanation\nhttps://analytics.usa.gov/data/\nhttps://open.gsa.gov/api/dap/\ndata/\n#top-pages-realtime\n#top-pages-7-days\n#top-pages-30-days\nhttps://analytics.usa.gov/data/live/all-pages-realtime.csv\nhttps://analytics.usa.gov/data/live/all-domains-30-days.csv\nhttps://www.digitalgov.gov/services/dap/\nhttps://www.digitalgov.gov/services/dap/common-questions-about-dap-faq/#part-4\nhttps://support.google.com/analytics/answer/2763052?hl=en\nhttps://analytics.usa.gov/data/live/second-level-domains.csv\nhttps://analytics.usa.gov/data/live/sites.csv\nmailto:DAP@support.digitalgov.gov\nhttps://analytics.usa.gov/data/\nhttps://open.gsa.gov/api/dap/\nmailto:DAP@support.digitalgov.gov\nhttps://github.com/GSA/analytics.usa.gov/issues\nhttps://github.com/GSA/analytics.usa.gov\nhttps://github.com/18F/analytics-reporter\nhttp://www.gsa.gov/\nhttps://www.digitalgov.gov/services/dap/\nhttps://cloud.gov/\n"
     ]
    }
   ],
   "source": [
    "for link in soup.find_all('a'):\n",
    "    print(link.get('href'))"
   ]
  },
  {
   "cell_type": "code",
   "execution_count": 10,
   "metadata": {},
   "outputs": [
    {
     "output_type": "stream",
     "name": "stdout",
     "text": [
      "<!DOCTYPE html>\n<html lang=\"en\">\n <!-- Initalize title and data source variables -->\n <head>\n  <!--\n\n    Hi! Welcome to our source code.\n\n    This dashboard uses data from the Digital Analytics Program, a US\n    government team inside the General Services Administration.\n\n\n    For a detailed tech breakdown of how 18F and friends built this site:\n\n    https://18f.gsa.gov/2015/03/19/how-we-built-analytics-usa-gov/\n\n\n    This is a fully open source project, and your contributions are welcome.\n\n    Frontend static site: https://github.com/18F/analytics.usa.gov\n    Backend data reporting: https://github.com/18F/analytics-reporter\n\n    -->\n  <meta charset=\"utf-8\"/>\n  <meta content=\"IE=Edge\" http-equiv=\"X-UA-Compatible\"/>\n  <meta content=\"NjbZn6hQe7OwV-nTsa6nLmtrOUcSGPRyFjxm5zkmCcg\" name=\"google-site-verification\"/>\n  <link href=\"/css/vendor/css/uswds.v0.9.6.css\" rel=\"stylesheet\"/>\n  <link href=\"/css/public_analytics.css\" rel=\"stylesheet\"/>\n  <link href=\"/images/analytics-favicon.ico\" rel=\"ic\n"
     ]
    }
   ],
   "source": [
    "print(soup.prettify()[:1000])"
   ]
  },
  {
   "cell_type": "code",
   "execution_count": 12,
   "metadata": {},
   "outputs": [
    {
     "output_type": "stream",
     "name": "stdout",
     "text": [
      "<a href=\"https://analytics.usa.gov/data/\">Data</a>\n<a href=\"https://open.gsa.gov/api/dap/\" rel=\"noopener\" target=\"_blank\">API</a>\n<a href=\"https://analytics.usa.gov/data/live/all-pages-realtime.csv\">Download the full dataset.</a>\n<a href=\"https://analytics.usa.gov/data/live/all-domains-30-days.csv\">Download the full dataset.</a>\n<a class=\"external-link\" href=\"https://www.digitalgov.gov/services/dap/\">Digital Analytics Program</a>\n<a class=\"external-link\" href=\"https://www.digitalgov.gov/services/dap/common-questions-about-dap-faq/#part-4\">does not track individuals</a>\n<a class=\"external-link\" href=\"https://support.google.com/analytics/answer/2763052?hl=en\">anonymizes the IP addresses</a>\n<a class=\"external-link\" href=\"https://analytics.usa.gov/data/live/second-level-domains.csv\">400 executive branch government domains</a>\n<a class=\"external-link\" href=\"https://analytics.usa.gov/data/live/sites.csv\">about 5,700 total websites</a>\n<a href=\"https://analytics.usa.gov/data/\">download the data here.</a>\n<a href=\"https://open.gsa.gov/api/dap/\" rel=\"noopener\" target=\"_blank\"> API project</a>\n<a class=\"usa-button usa-button-secondary-inverse\" href=\"https://github.com/GSA/analytics.usa.gov/issues\">\n<img alt=\"Github Icon\" class=\"github-icon\" src=\"/images/github-logo-white.svg\"/>\n                  Suggest a feature or report an issue\n            </a>\n<a href=\"https://github.com/GSA/analytics.usa.gov\">\n<img alt=\"Github Icon\" class=\"github-icon\" src=\"/images/github-logo.svg\"/>\n              View our code on GitHub</a>\n<a href=\"https://github.com/18F/analytics-reporter\">\n<img alt=\"Github Icon\" class=\"github-icon\" src=\"/images/github-logo.svg\"/>\n              View our code for the data on GitHub</a>\n<a href=\"http://www.gsa.gov/\">\n<img alt=\"GSA\" src=\"/images/gsa-logo.svg\"/>\n</a>\n<a href=\"https://www.digitalgov.gov/services/dap/\">Digital Analytics Program</a>\n<a href=\"https://cloud.gov/\">cloud.gov</a>\n"
     ]
    }
   ],
   "source": [
    "for link in soup.find_all('a', attrs={'href': re.compile('^http')}):\n",
    "    print(link)"
   ]
  },
  {
   "cell_type": "code",
   "execution_count": 30,
   "metadata": {},
   "outputs": [],
   "source": [
    "with open('parsed-data.txt', 'w') as f:\n",
    "    f.write(f'text,link\\n')\n",
    "    for link in soup.find_all('a', attrs={'href': re.compile('^http')}):\n",
    "        f.write(f'''{link.get_text().strip()},{link.get('href')}\\n''')"
   ]
  },
  {
   "cell_type": "code",
   "execution_count": 31,
   "metadata": {},
   "outputs": [
    {
     "output_type": "stream",
     "name": "stdout",
     "text": [
      "text,link\nData,https://analytics.usa.gov/data/\nAPI,https://open.gsa.gov/api/dap/\nDownload the full dataset.,https://analytics.usa.gov/data/live/all-pages-realtime.csv\nDownload the full dataset.,https://analytics.usa.gov/data/live/all-domains-30-days.csv\nDigital Analytics Program,https://www.digitalgov.gov/services/dap/\ndoes not track individuals,https://www.digitalgov.gov/services/dap/common-questions-about-dap-faq/#part-4\nanonymizes the IP addresses,https://support.google.com/analytics/answer/2763052?hl=en\n400 executive branch government domains,https://analytics.usa.gov/data/live/second-level-domains.csv\nabout 5,700 total websites,https://analytics.usa.gov/data/live/sites.csv\ndownload the data here.,https://analytics.usa.gov/data/\nAPI project,https://open.gsa.gov/api/dap/\nSuggest a feature or report an issue,https://github.com/GSA/analytics.usa.gov/issues\nView our code on GitHub,https://github.com/GSA/analytics.usa.gov\nView our code for the data on GitHub,https://github.com/18F/analytics-reporter\n,http://www.gsa.gov/\nDigital Analytics Program,https://www.digitalgov.gov/services/dap/\ncloud.gov,https://cloud.gov/\n\n"
     ]
    }
   ],
   "source": [
    "with open('parsed-data.txt', 'r') as o:\n",
    "    print(o.read())"
   ]
  }
 ]
}