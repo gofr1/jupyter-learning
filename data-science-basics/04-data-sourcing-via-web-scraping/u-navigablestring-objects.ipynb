{
 "metadata": {
  "language_info": {
   "codemirror_mode": {
    "name": "ipython",
    "version": 3
   },
   "file_extension": ".py",
   "mimetype": "text/x-python",
   "name": "python",
   "nbconvert_exporter": "python",
   "pygments_lexer": "ipython3",
   "version": "3.8.3"
  },
  "orig_nbformat": 2,
  "kernelspec": {
   "name": "python38064bit80c712c42d0845a6a4b19289fbf7986e",
   "display_name": "Python 3.8.3 64-bit"
  },
  "metadata": {
   "interpreter": {
    "hash": "aee8b7b246df8f9039afb4144a1f6fd8d2ca17a180786b69acc140d282b71a49"
   }
  }
 },
 "nbformat": 4,
 "nbformat_minor": 2,
 "cells": [
  {
   "source": [
    "# NavigableString Objects"
   ],
   "cell_type": "markdown",
   "metadata": {}
  },
  {
   "cell_type": "code",
   "execution_count": 13,
   "metadata": {},
   "outputs": [
    {
     "output_type": "stream",
     "name": "stdout",
     "text": [
      "3.8.3 (default, May 19 2020, 17:04:53) \n[GCC 9.2.1 20191008]\n"
     ]
    }
   ],
   "source": [
    "import sys\n",
    "print(sys.version)"
   ]
  },
  {
   "cell_type": "code",
   "execution_count": 14,
   "metadata": {},
   "outputs": [],
   "source": [
    "from bs4 import BeautifulSoup"
   ]
  },
  {
   "cell_type": "code",
   "execution_count": 15,
   "metadata": {},
   "outputs": [
    {
     "output_type": "execute_result",
     "data": {
      "text/plain": [
       "bs4.element.Tag"
      ]
     },
     "metadata": {},
     "execution_count": 15
    }
   ],
   "source": [
    "soup_object = BeautifulSoup('<h1 attribute_1=\"Heading Level 1\">Future Trends in IoT in 2018</h1>', 'lxml')\n",
    "tag = soup_object.h1\n",
    "type(tag)"
   ]
  },
  {
   "cell_type": "code",
   "execution_count": 16,
   "metadata": {},
   "outputs": [
    {
     "output_type": "execute_result",
     "data": {
      "text/plain": [
       "'h1'"
      ]
     },
     "metadata": {},
     "execution_count": 16
    }
   ],
   "source": [
    "tag.name"
   ]
  },
  {
   "cell_type": "code",
   "execution_count": 17,
   "metadata": {},
   "outputs": [
    {
     "output_type": "execute_result",
     "data": {
      "text/plain": [
       "'Future Trends in IoT in 2018'"
      ]
     },
     "metadata": {},
     "execution_count": 17
    }
   ],
   "source": [
    "tag.string"
   ]
  },
  {
   "cell_type": "code",
   "execution_count": 18,
   "metadata": {},
   "outputs": [
    {
     "output_type": "execute_result",
     "data": {
      "text/plain": [
       "bs4.element.NavigableString"
      ]
     },
     "metadata": {},
     "execution_count": 18
    }
   ],
   "source": [
    "type(tag.string)"
   ]
  },
  {
   "cell_type": "code",
   "execution_count": 19,
   "metadata": {},
   "outputs": [
    {
     "output_type": "execute_result",
     "data": {
      "text/plain": [
       "'Future Trends in IoT in 2018'"
      ]
     },
     "metadata": {},
     "execution_count": 19
    }
   ],
   "source": [
    "our_navigatable_string = tag.string\n",
    "our_navigatable_string"
   ]
  },
  {
   "cell_type": "code",
   "execution_count": 20,
   "metadata": {},
   "outputs": [
    {
     "output_type": "execute_result",
     "data": {
      "text/plain": [
       "'NaN'"
      ]
     },
     "metadata": {},
     "execution_count": 20
    }
   ],
   "source": [
    "our_navigatable_string.replace_with('NaN')\n",
    "tag.string"
   ]
  },
  {
   "cell_type": "code",
   "execution_count": 21,
   "metadata": {},
   "outputs": [
    {
     "output_type": "execute_result",
     "data": {
      "text/plain": [
       "<h1 attribute_1=\"Heading Level 1\">NaN</h1>"
      ]
     },
     "metadata": {},
     "execution_count": 21
    }
   ],
   "source": [
    "tag"
   ]
  },
  {
   "source": [
    "# Utilizing NavigableString object"
   ],
   "cell_type": "markdown",
   "metadata": {}
  },
  {
   "cell_type": "code",
   "execution_count": 24,
   "metadata": {},
   "outputs": [],
   "source": [
    "with open('../../inputs/iot.html') as f:\n",
    "    our_html_document = f.read()\n",
    "\n",
    "our_soup_object = BeautifulSoup(our_html_document, 'html.parser')"
   ]
  },
  {
   "cell_type": "code",
   "execution_count": 25,
   "metadata": {},
   "outputs": [
    {
     "output_type": "stream",
     "name": "stdout",
     "text": [
      "'IoT Articles'\n'2018 Trends: Best New IoT Device Ideas for Data Scientists and Engineers'\n'It’s almost 2018 and IoT is on the cusp of an explosive expansion. In this article, I offer you a listing of new IoT device ideas that you can use...'\n'It’s almost 2018 and IoT is on the cusp of an explosive expansion. In this article, I offer you a listing of new IoT device ideas that you can use to get practice in designing your first IoT applications.'\n'Looking Back at My Coolest IoT Find in 2017'\n'Before going into detail about best new IoT device ideas, here’s the backstory.'\n'Last month Ericsson Digital invited me'\n'to tour the Ericsson Studio in Kista, Sweden. Up until that visit,'\n'IoT'\n'had been largely theoretical to me. Of course, I know the usual mumbo-jumbo about wearables and IoT-connected fitness trackers. That stuff is all well and good, but it’s somewhat old hat – plus I am not sure we are really benefiting so much from those, so I’m not that impressed.\\n\\nIt wasn’t until I got to the Ericsson Studio that I became extremely impressed by how far IoT has really come. Relying on the promise of the 5g network expansion, IoT-powered smart devices are on the cusp of an explosive growth in adoption. It was Ericsson’s Smart Car that sent me reeling:'\n'This car is connected to Ericsson’s Connected Vehicle Cloud, an IoT platform that manages services for the Smart Cars to which it’s connected. The Volvo pictured above acts as a drop-off location for groceries that have been ordered by its owner.\\n\\nTo understand how it works, imagine you’re pulling your normal 9-to-5 and you know you need to grab some groceries on your way home. Well, since you’re smart you’ve used Ericsson IoT platform to connect your car to the local grocery delivery service ('\n'Mat.se'\n'), so all you need to do is open the Mat.se app and make your usual order. Mat.se automatically handles the payment, grocery selection, delivery, and delivery scheduling. Since your car is IoT-enabled, Mat.se issues its trusted delivery agent a 1-time token to use for opening your car in order to place your groceries in your car for you at 4:40 pm (just before you get off from work).\\n\\nTo watch some of the amazing IoT device demos I witnessed at Ericsson Studio, make sure to go'\n'watch the videos on this page'\n'.'\n'Future Trends for IoT in 2018'\n'New IoT device ideas won’t do you much good unless you at least know the basic technology trends that are set to impact IoT over the next year(s). These include:'\n'Big Data'\n'& Data Engineering: Sensors that are embedded within IoT devices spin off machine-generated data like it’s going out of style. For IoT to function, the platform must be solidly engineered to handle big data. Be assured, that requires some serious data engineering.'\n'Machine Learning'\n'Data Science: While a lot of IoT devices are still operated according to rules-based decision criteria, the age of artificial intelligence is upon us. IoT will increasingly depend on machine learning algorithms to control device operations so that devices are able to autonomously respond to a complex set of overlapping stimuli.'\n'Blockchain'\n'-Enabled Security: Above all else, IoT networks must be secure. Blockchain technology is primed to meet the security demands that come along with building and expanding the IoT.'\n'Best New IoT Device Ideas'\n'This listing of new IoT device ideas has been sub-divided according to the main technology upon which the IoT devices are built. Below I’m providing a list of new IoT device ideas, but for detailed instructions on how to build these IoT applications, I recommend the'\n'IoT courses on Udemy'\n'(ß Please note: if you purchase a Udemy course through this link, I may receive a small commission), or courses that are available at'\n'SkyFi'\n'and'\n'Coursera'\n'.'\n'Raspberry Pi IoT Ideas'\n'Using Raspberry Pi as open-source hardware, you can build IoT applications that offer any one of the following benefits:'\n'Enable built-in sensing to build a weather station that measures ambient temperature and humidity'\n'Build a system that detects discrepancies in electrical readings to identify electricity theft'\n'Use IoT to build a Servo that is controlled by motion detection readings'\n'Build a smart control switch that operates devices based on external stimuli. Use this for home automation.'\n'Build a music playing application that enables music for each room in your house'\n'Implement biometrics on IoT-connected devices'\n'Arduino IoT Ideas'\n'There are a number of new IoT device ideas that deploy Arduino as a microcontroller. These include:'\n'Integrate Arduino with Android to build a remote-control RGB LED device.'\n'Connect PIR sensors across the IoT to implement a smart building.'\n'Build a temperature and sunlight sensor system to remotely monitor and control the conditions of your garden.'\n'Deploy Arduino and IoT to automate your neighborhood streetlights.'\n'Build a smart irrigation system based on IoT-connected temperature and moisture sensors built-in to your agricultural plants.'\n'[caption id=\"attachment_3807\" align=\"aligncenter\" width=\"300\"]'\n'An IoT Chatbot Tree at the Ericsson Studio[/caption]'\n'Wireless (GSM) IoT Ideas'\n'Several new IoT device ideas are developed around the GSM wireless network. Those are:'\n'Monitor soil moisture to automate agricultural irrigation cycles.'\n'Automate and control the conditions of a greenhouse.'\n'Enable bio-metrics to build a smart security system for your home or office building'\n'Build an autonomously operating fitness application that automatically makes recommendations based on motion detection and heart rate sensors that are embedded on wearable fitness trackers.'\n'Build a healthcare monitoring system that tracks, informs, and automatically alerts healthcare providers based on sensor readings that describe a patients vital statistics (like temperature, pulse, blood pressure, etc).'\n'IoT Automation Ideas'\n'Almost all new IoT device ideas offer automation benefits, but to outline a few more ideas:'\n'Build an IoT device that automatically locates and reports the closest nearby parking spot.'\n'Build a motion detection system that automatically issues emails or sms messages to alert home owners of a likely home invasion.'\n'Use temperature sensors connected across the IoT to automatically alert you if your home windows or doors have been left open.'\n'Use bio-metric sensors to build a smart system that automate security for your home or office building'\n'To learn more about IoT and what’s happening on the leading edge, be sure to pop over to Ericsson’s Studio Tour recap and'\n'watch these videos'\n'.'\n'(I captured some of this content on behalf of DevMode Strategies during an invite-only tour of the Ericsson Studio in Kista. Rest assure, the text and\\xa0opinions are my own'\n')'\n'...'\n"
     ]
    }
   ],
   "source": [
    "# White space are ignored\n",
    "for string in our_soup_object.stripped_strings:\n",
    "    print(repr(string))"
   ]
  },
  {
   "cell_type": "code",
   "execution_count": 26,
   "metadata": {},
   "outputs": [
    {
     "output_type": "execute_result",
     "data": {
      "text/plain": [
       "<a href=\"http://bit.ly/LPlNDJj\">Last month Ericsson Digital invited me</a>"
      ]
     },
     "metadata": {},
     "execution_count": 26
    }
   ],
   "source": [
    "first_link = our_soup_object.a\n",
    "first_link"
   ]
  },
  {
   "cell_type": "code",
   "execution_count": 27,
   "metadata": {},
   "outputs": [
    {
     "output_type": "execute_result",
     "data": {
      "text/plain": [
       "<strong><a href=\"http://bit.ly/LPlNDJj\">Last month Ericsson Digital invited me</a></strong>"
      ]
     },
     "metadata": {},
     "execution_count": 27
    }
   ],
   "source": [
    "first_link.parent"
   ]
  },
  {
   "cell_type": "code",
   "execution_count": 28,
   "metadata": {},
   "outputs": [
    {
     "output_type": "execute_result",
     "data": {
      "text/plain": [
       "'Last month Ericsson Digital invited me'"
      ]
     },
     "metadata": {},
     "execution_count": 28
    }
   ],
   "source": [
    "first_link.string"
   ]
  },
  {
   "cell_type": "code",
   "execution_count": 29,
   "metadata": {},
   "outputs": [
    {
     "output_type": "execute_result",
     "data": {
      "text/plain": [
       "<a href=\"http://bit.ly/LPlNDJj\">Last month Ericsson Digital invited me</a>"
      ]
     },
     "metadata": {},
     "execution_count": 29
    }
   ],
   "source": [
    "first_link.string.parent"
   ]
  }
 ]
}