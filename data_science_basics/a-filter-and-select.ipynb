{
 "metadata": {
  "language_info": {
   "codemirror_mode": {
    "name": "ipython",
    "version": 3
   },
   "file_extension": ".py",
   "mimetype": "text/x-python",
   "name": "python",
   "nbconvert_exporter": "python",
   "pygments_lexer": "ipython3",
   "version": "3.8.3"
  },
  "orig_nbformat": 2,
  "kernelspec": {
   "name": "python38064bit80c712c42d0845a6a4b19289fbf7986e",
   "display_name": "Python 3.8.3 64-bit"
  },
  "metadata": {
   "interpreter": {
    "hash": "aee8b7b246df8f9039afb4144a1f6fd8d2ca17a180786b69acc140d282b71a49"
   }
  }
 },
 "nbformat": 4,
 "nbformat_minor": 2,
 "cells": [
  {
   "source": [
    "# Filtering & Selecting"
   ],
   "cell_type": "markdown",
   "metadata": {}
  },
  {
   "cell_type": "code",
   "execution_count": 1,
   "metadata": {},
   "outputs": [],
   "source": [
    "import numpy as np \n",
    "import pandas as pd \n",
    "\n",
    "from pandas import Series, DataFrame"
   ]
  },
  {
   "source": [
    "### Selecting and retrieving data \n",
    "\n",
    "You can write an index value in two forms \n",
    "- Label index\n",
    "- Integer index\n"
   ],
   "cell_type": "markdown",
   "metadata": {}
  },
  {
   "cell_type": "code",
   "execution_count": 2,
   "metadata": {},
   "outputs": [
    {
     "output_type": "execute_result",
     "data": {
      "text/plain": [
       "row 1    0\n",
       "row 2    1\n",
       "row 3    2\n",
       "row 4    3\n",
       "row 5    4\n",
       "row 6    5\n",
       "row 7    6\n",
       "row 8    7\n",
       "dtype: int64"
      ]
     },
     "metadata": {},
     "execution_count": 2
    }
   ],
   "source": [
    "series_obj = Series(np.arange(8), index=['row 1', 'row 2', 'row 3', 'row 4', 'row 5', 'row 6', 'row 7', 'row 8'])\n",
    "series_obj"
   ]
  },
  {
   "cell_type": "code",
   "execution_count": 3,
   "metadata": {},
   "outputs": [
    {
     "output_type": "execute_result",
     "data": {
      "text/plain": [
       "6"
      ]
     },
     "metadata": {},
     "execution_count": 3
    }
   ],
   "source": [
    "# select by name\n",
    "series_obj['row 7']"
   ]
  },
  {
   "cell_type": "code",
   "execution_count": 4,
   "metadata": {},
   "outputs": [
    {
     "output_type": "execute_result",
     "data": {
      "text/plain": [
       "0"
      ]
     },
     "metadata": {},
     "execution_count": 4
    }
   ],
   "source": [
    "# select by index\n",
    "series_obj[0]"
   ]
  },
  {
   "cell_type": "code",
   "execution_count": 5,
   "metadata": {},
   "outputs": [
    {
     "output_type": "execute_result",
     "data": {
      "text/plain": [
       "row 1    0\n",
       "row 8    7\n",
       "dtype: int64"
      ]
     },
     "metadata": {},
     "execution_count": 5
    }
   ],
   "source": [
    "series_obj[[0, 7]]"
   ]
  },
  {
   "cell_type": "code",
   "execution_count": 6,
   "metadata": {},
   "outputs": [
    {
     "output_type": "execute_result",
     "data": {
      "text/plain": [
       "       column 1  column 2  column 3  column 4  column 5  column 6\n",
       "row 1  0.638481  0.605738  0.046909  0.125227  0.627795  0.514878\n",
       "row 2  0.522710  0.827939  0.620885  0.574423  0.431060  0.911620\n",
       "row 3  0.845388  0.449311  0.758815  0.893240  0.762819  0.240679\n",
       "row 4  0.117376  0.848415  0.255336  0.792824  0.069339  0.676753\n",
       "row 5  0.450905  0.058101  0.974556  0.915639  0.025716  0.788688\n",
       "row 6  0.032145  0.608906  0.320885  0.210881  0.012956  0.249239"
      ],
      "text/html": "<div>\n<style scoped>\n    .dataframe tbody tr th:only-of-type {\n        vertical-align: middle;\n    }\n\n    .dataframe tbody tr th {\n        vertical-align: top;\n    }\n\n    .dataframe thead th {\n        text-align: right;\n    }\n</style>\n<table border=\"1\" class=\"dataframe\">\n  <thead>\n    <tr style=\"text-align: right;\">\n      <th></th>\n      <th>column 1</th>\n      <th>column 2</th>\n      <th>column 3</th>\n      <th>column 4</th>\n      <th>column 5</th>\n      <th>column 6</th>\n    </tr>\n  </thead>\n  <tbody>\n    <tr>\n      <th>row 1</th>\n      <td>0.638481</td>\n      <td>0.605738</td>\n      <td>0.046909</td>\n      <td>0.125227</td>\n      <td>0.627795</td>\n      <td>0.514878</td>\n    </tr>\n    <tr>\n      <th>row 2</th>\n      <td>0.522710</td>\n      <td>0.827939</td>\n      <td>0.620885</td>\n      <td>0.574423</td>\n      <td>0.431060</td>\n      <td>0.911620</td>\n    </tr>\n    <tr>\n      <th>row 3</th>\n      <td>0.845388</td>\n      <td>0.449311</td>\n      <td>0.758815</td>\n      <td>0.893240</td>\n      <td>0.762819</td>\n      <td>0.240679</td>\n    </tr>\n    <tr>\n      <th>row 4</th>\n      <td>0.117376</td>\n      <td>0.848415</td>\n      <td>0.255336</td>\n      <td>0.792824</td>\n      <td>0.069339</td>\n      <td>0.676753</td>\n    </tr>\n    <tr>\n      <th>row 5</th>\n      <td>0.450905</td>\n      <td>0.058101</td>\n      <td>0.974556</td>\n      <td>0.915639</td>\n      <td>0.025716</td>\n      <td>0.788688</td>\n    </tr>\n    <tr>\n      <th>row 6</th>\n      <td>0.032145</td>\n      <td>0.608906</td>\n      <td>0.320885</td>\n      <td>0.210881</td>\n      <td>0.012956</td>\n      <td>0.249239</td>\n    </tr>\n  </tbody>\n</table>\n</div>"
     },
     "metadata": {},
     "execution_count": 6
    }
   ],
   "source": [
    "# create a dataframe with random numbers\n",
    "np.random.seed(25)\n",
    "df_obj = DataFrame(\n",
    "    np.random.rand(36).reshape((6,6)),\n",
    "    index = ['row 1', 'row 2', 'row 3', 'row 4', 'row 5', 'row 6'],\n",
    "    columns = ['column 1', 'column 2', 'column 3', 'column 4', 'column 5', 'column 6']\n",
    ")\n",
    "df_obj"
   ]
  },
  {
   "cell_type": "code",
   "execution_count": 7,
   "metadata": {},
   "outputs": [
    {
     "output_type": "execute_result",
     "data": {
      "text/plain": [
       "       column 5  column 2\n",
       "row 2  0.431060  0.827939\n",
       "row 5  0.025716  0.058101"
      ],
      "text/html": "<div>\n<style scoped>\n    .dataframe tbody tr th:only-of-type {\n        vertical-align: middle;\n    }\n\n    .dataframe tbody tr th {\n        vertical-align: top;\n    }\n\n    .dataframe thead th {\n        text-align: right;\n    }\n</style>\n<table border=\"1\" class=\"dataframe\">\n  <thead>\n    <tr style=\"text-align: right;\">\n      <th></th>\n      <th>column 5</th>\n      <th>column 2</th>\n    </tr>\n  </thead>\n  <tbody>\n    <tr>\n      <th>row 2</th>\n      <td>0.431060</td>\n      <td>0.827939</td>\n    </tr>\n    <tr>\n      <th>row 5</th>\n      <td>0.025716</td>\n      <td>0.058101</td>\n    </tr>\n  </tbody>\n</table>\n</div>"
     },
     "metadata": {},
     "execution_count": 7
    }
   ],
   "source": [
    "# selecting columns and rows\n",
    "df_obj.loc[['row 2', 'row 5'], ['column 5', 'column 2']]"
   ]
  },
  {
   "source": [
    "### Data Slicing\n"
   ],
   "cell_type": "markdown",
   "metadata": {}
  },
  {
   "cell_type": "code",
   "execution_count": 9,
   "metadata": {},
   "outputs": [
    {
     "output_type": "execute_result",
     "data": {
      "text/plain": [
       "row 3    2\n",
       "row 4    3\n",
       "row 5    4\n",
       "row 6    5\n",
       "row 7    6\n",
       "dtype: int64"
      ]
     },
     "metadata": {},
     "execution_count": 9
    }
   ],
   "source": [
    "series_obj['row 3':'row 7']"
   ]
  },
  {
   "cell_type": "code",
   "execution_count": 10,
   "metadata": {},
   "outputs": [
    {
     "output_type": "execute_result",
     "data": {
      "text/plain": [
       "       column 1  column 2  column 3  column 4  column 5  column 6\n",
       "row 3  0.845388  0.449311  0.758815  0.893240  0.762819  0.240679\n",
       "row 4  0.117376  0.848415  0.255336  0.792824  0.069339  0.676753\n",
       "row 5  0.450905  0.058101  0.974556  0.915639  0.025716  0.788688"
      ],
      "text/html": "<div>\n<style scoped>\n    .dataframe tbody tr th:only-of-type {\n        vertical-align: middle;\n    }\n\n    .dataframe tbody tr th {\n        vertical-align: top;\n    }\n\n    .dataframe thead th {\n        text-align: right;\n    }\n</style>\n<table border=\"1\" class=\"dataframe\">\n  <thead>\n    <tr style=\"text-align: right;\">\n      <th></th>\n      <th>column 1</th>\n      <th>column 2</th>\n      <th>column 3</th>\n      <th>column 4</th>\n      <th>column 5</th>\n      <th>column 6</th>\n    </tr>\n  </thead>\n  <tbody>\n    <tr>\n      <th>row 3</th>\n      <td>0.845388</td>\n      <td>0.449311</td>\n      <td>0.758815</td>\n      <td>0.893240</td>\n      <td>0.762819</td>\n      <td>0.240679</td>\n    </tr>\n    <tr>\n      <th>row 4</th>\n      <td>0.117376</td>\n      <td>0.848415</td>\n      <td>0.255336</td>\n      <td>0.792824</td>\n      <td>0.069339</td>\n      <td>0.676753</td>\n    </tr>\n    <tr>\n      <th>row 5</th>\n      <td>0.450905</td>\n      <td>0.058101</td>\n      <td>0.974556</td>\n      <td>0.915639</td>\n      <td>0.025716</td>\n      <td>0.788688</td>\n    </tr>\n  </tbody>\n</table>\n</div>"
     },
     "metadata": {},
     "execution_count": 10
    }
   ],
   "source": [
    "df_obj['row 3':'row 5']"
   ]
  },
  {
   "source": [
    "### Comparing with scalars"
   ],
   "cell_type": "markdown",
   "metadata": {}
  },
  {
   "cell_type": "code",
   "execution_count": 12,
   "metadata": {},
   "outputs": [
    {
     "output_type": "execute_result",
     "data": {
      "text/plain": [
       "row 1     True\n",
       "row 2    False\n",
       "row 3    False\n",
       "row 4    False\n",
       "row 5    False\n",
       "row 6    False\n",
       "row 7    False\n",
       "row 8    False\n",
       "dtype: bool"
      ]
     },
     "metadata": {},
     "execution_count": 12
    }
   ],
   "source": [
    "series_obj < .2"
   ]
  },
  {
   "cell_type": "code",
   "execution_count": 11,
   "metadata": {},
   "outputs": [
    {
     "output_type": "execute_result",
     "data": {
      "text/plain": [
       "       column 1  column 2  column 3  column 4  column 5  column 6\n",
       "row 1     False     False      True      True     False     False\n",
       "row 2     False     False     False     False     False     False\n",
       "row 3     False     False     False     False     False     False\n",
       "row 4      True     False     False     False      True     False\n",
       "row 5     False      True     False     False      True     False\n",
       "row 6      True     False     False     False      True     False"
      ],
      "text/html": "<div>\n<style scoped>\n    .dataframe tbody tr th:only-of-type {\n        vertical-align: middle;\n    }\n\n    .dataframe tbody tr th {\n        vertical-align: top;\n    }\n\n    .dataframe thead th {\n        text-align: right;\n    }\n</style>\n<table border=\"1\" class=\"dataframe\">\n  <thead>\n    <tr style=\"text-align: right;\">\n      <th></th>\n      <th>column 1</th>\n      <th>column 2</th>\n      <th>column 3</th>\n      <th>column 4</th>\n      <th>column 5</th>\n      <th>column 6</th>\n    </tr>\n  </thead>\n  <tbody>\n    <tr>\n      <th>row 1</th>\n      <td>False</td>\n      <td>False</td>\n      <td>True</td>\n      <td>True</td>\n      <td>False</td>\n      <td>False</td>\n    </tr>\n    <tr>\n      <th>row 2</th>\n      <td>False</td>\n      <td>False</td>\n      <td>False</td>\n      <td>False</td>\n      <td>False</td>\n      <td>False</td>\n    </tr>\n    <tr>\n      <th>row 3</th>\n      <td>False</td>\n      <td>False</td>\n      <td>False</td>\n      <td>False</td>\n      <td>False</td>\n      <td>False</td>\n    </tr>\n    <tr>\n      <th>row 4</th>\n      <td>True</td>\n      <td>False</td>\n      <td>False</td>\n      <td>False</td>\n      <td>True</td>\n      <td>False</td>\n    </tr>\n    <tr>\n      <th>row 5</th>\n      <td>False</td>\n      <td>True</td>\n      <td>False</td>\n      <td>False</td>\n      <td>True</td>\n      <td>False</td>\n    </tr>\n    <tr>\n      <th>row 6</th>\n      <td>True</td>\n      <td>False</td>\n      <td>False</td>\n      <td>False</td>\n      <td>True</td>\n      <td>False</td>\n    </tr>\n  </tbody>\n</table>\n</div>"
     },
     "metadata": {},
     "execution_count": 11
    }
   ],
   "source": [
    "df_obj < .2"
   ]
  },
  {
   "source": [
    "### Filtering with scalars"
   ],
   "cell_type": "markdown",
   "metadata": {}
  },
  {
   "cell_type": "code",
   "execution_count": 13,
   "metadata": {},
   "outputs": [
    {
     "output_type": "execute_result",
     "data": {
      "text/plain": [
       "row 7    6\n",
       "row 8    7\n",
       "dtype: int64"
      ]
     },
     "metadata": {},
     "execution_count": 13
    }
   ],
   "source": [
    "series_obj[series_obj > 5]"
   ]
  },
  {
   "cell_type": "code",
   "execution_count": 14,
   "metadata": {},
   "outputs": [
    {
     "output_type": "execute_result",
     "data": {
      "text/plain": [
       "       column 1  column 2  column 3  column 4  column 5  column 6\n",
       "row 1  0.638481  0.605738       NaN       NaN  0.627795  0.514878\n",
       "row 2  0.522710  0.827939  0.620885  0.574423  0.431060  0.911620\n",
       "row 3  0.845388  0.449311  0.758815  0.893240  0.762819  0.240679\n",
       "row 4       NaN  0.848415  0.255336  0.792824       NaN  0.676753\n",
       "row 5  0.450905       NaN  0.974556  0.915639       NaN  0.788688\n",
       "row 6       NaN  0.608906  0.320885  0.210881       NaN  0.249239"
      ],
      "text/html": "<div>\n<style scoped>\n    .dataframe tbody tr th:only-of-type {\n        vertical-align: middle;\n    }\n\n    .dataframe tbody tr th {\n        vertical-align: top;\n    }\n\n    .dataframe thead th {\n        text-align: right;\n    }\n</style>\n<table border=\"1\" class=\"dataframe\">\n  <thead>\n    <tr style=\"text-align: right;\">\n      <th></th>\n      <th>column 1</th>\n      <th>column 2</th>\n      <th>column 3</th>\n      <th>column 4</th>\n      <th>column 5</th>\n      <th>column 6</th>\n    </tr>\n  </thead>\n  <tbody>\n    <tr>\n      <th>row 1</th>\n      <td>0.638481</td>\n      <td>0.605738</td>\n      <td>NaN</td>\n      <td>NaN</td>\n      <td>0.627795</td>\n      <td>0.514878</td>\n    </tr>\n    <tr>\n      <th>row 2</th>\n      <td>0.522710</td>\n      <td>0.827939</td>\n      <td>0.620885</td>\n      <td>0.574423</td>\n      <td>0.431060</td>\n      <td>0.911620</td>\n    </tr>\n    <tr>\n      <th>row 3</th>\n      <td>0.845388</td>\n      <td>0.449311</td>\n      <td>0.758815</td>\n      <td>0.893240</td>\n      <td>0.762819</td>\n      <td>0.240679</td>\n    </tr>\n    <tr>\n      <th>row 4</th>\n      <td>NaN</td>\n      <td>0.848415</td>\n      <td>0.255336</td>\n      <td>0.792824</td>\n      <td>NaN</td>\n      <td>0.676753</td>\n    </tr>\n    <tr>\n      <th>row 5</th>\n      <td>0.450905</td>\n      <td>NaN</td>\n      <td>0.974556</td>\n      <td>0.915639</td>\n      <td>NaN</td>\n      <td>0.788688</td>\n    </tr>\n    <tr>\n      <th>row 6</th>\n      <td>NaN</td>\n      <td>0.608906</td>\n      <td>0.320885</td>\n      <td>0.210881</td>\n      <td>NaN</td>\n      <td>0.249239</td>\n    </tr>\n  </tbody>\n</table>\n</div>"
     },
     "metadata": {},
     "execution_count": 14
    }
   ],
   "source": [
    "df_obj[df_obj > .2]"
   ]
  },
  {
   "source": [
    "### Setting values with scalars"
   ],
   "cell_type": "markdown",
   "metadata": {}
  },
  {
   "cell_type": "code",
   "execution_count": 15,
   "metadata": {},
   "outputs": [
    {
     "output_type": "execute_result",
     "data": {
      "text/plain": [
       "row 1    9\n",
       "row 2    1\n",
       "row 3    2\n",
       "row 4    3\n",
       "row 5    9\n",
       "row 6    5\n",
       "row 7    6\n",
       "row 8    9\n",
       "dtype: int64"
      ]
     },
     "metadata": {},
     "execution_count": 15
    }
   ],
   "source": [
    "series_obj_changed = series_obj\n",
    "series_obj_changed['row 1', 'row 5', 'row 8'] = 9\n",
    "series_obj_changed"
   ]
  },
  {
   "cell_type": "code",
   "execution_count": 16,
   "metadata": {},
   "outputs": [
    {
     "output_type": "execute_result",
     "data": {
      "text/plain": [
       "       column 1  column 2  column 3  column 4  column 5  column 6\n",
       "row 1  0.638481  0.605738  0.046909  0.125227  0.627795  0.514878\n",
       "row 2  0.522710  1.827939  0.620885  0.574423  1.431060  0.911620\n",
       "row 3  0.845388  0.449311  0.758815  0.893240  0.762819  0.240679\n",
       "row 4  0.117376  0.848415  0.255336  0.792824  0.069339  0.676753\n",
       "row 5  0.450905  1.058101  0.974556  0.915639  1.025716  0.788688\n",
       "row 6  0.032145  0.608906  0.320885  0.210881  0.012956  0.249239"
      ],
      "text/html": "<div>\n<style scoped>\n    .dataframe tbody tr th:only-of-type {\n        vertical-align: middle;\n    }\n\n    .dataframe tbody tr th {\n        vertical-align: top;\n    }\n\n    .dataframe thead th {\n        text-align: right;\n    }\n</style>\n<table border=\"1\" class=\"dataframe\">\n  <thead>\n    <tr style=\"text-align: right;\">\n      <th></th>\n      <th>column 1</th>\n      <th>column 2</th>\n      <th>column 3</th>\n      <th>column 4</th>\n      <th>column 5</th>\n      <th>column 6</th>\n    </tr>\n  </thead>\n  <tbody>\n    <tr>\n      <th>row 1</th>\n      <td>0.638481</td>\n      <td>0.605738</td>\n      <td>0.046909</td>\n      <td>0.125227</td>\n      <td>0.627795</td>\n      <td>0.514878</td>\n    </tr>\n    <tr>\n      <th>row 2</th>\n      <td>0.522710</td>\n      <td>1.827939</td>\n      <td>0.620885</td>\n      <td>0.574423</td>\n      <td>1.431060</td>\n      <td>0.911620</td>\n    </tr>\n    <tr>\n      <th>row 3</th>\n      <td>0.845388</td>\n      <td>0.449311</td>\n      <td>0.758815</td>\n      <td>0.893240</td>\n      <td>0.762819</td>\n      <td>0.240679</td>\n    </tr>\n    <tr>\n      <th>row 4</th>\n      <td>0.117376</td>\n      <td>0.848415</td>\n      <td>0.255336</td>\n      <td>0.792824</td>\n      <td>0.069339</td>\n      <td>0.676753</td>\n    </tr>\n    <tr>\n      <th>row 5</th>\n      <td>0.450905</td>\n      <td>1.058101</td>\n      <td>0.974556</td>\n      <td>0.915639</td>\n      <td>1.025716</td>\n      <td>0.788688</td>\n    </tr>\n    <tr>\n      <th>row 6</th>\n      <td>0.032145</td>\n      <td>0.608906</td>\n      <td>0.320885</td>\n      <td>0.210881</td>\n      <td>0.012956</td>\n      <td>0.249239</td>\n    </tr>\n  </tbody>\n</table>\n</div>"
     },
     "metadata": {},
     "execution_count": 16
    }
   ],
   "source": [
    "df_obj_changed = df_obj\n",
    "df_obj_changed.loc[['row 2', 'row 5'], ['column 5', 'column 2']] +=1\n",
    "df_obj_changed"
   ]
  },
  {
   "cell_type": "code",
   "execution_count": 18,
   "metadata": {},
   "outputs": [
    {
     "output_type": "execute_result",
     "data": {
      "text/plain": [
       "       column 1  column 2  column 3  column 4  column 5  column 6\n",
       "row 1  0.638481  0.605738  0.046909  0.125227  0.627795  0.514878\n",
       "row 2  0.522710  1.827939  0.620885  0.574423  1.431060  0.911620\n",
       "row 3  0.845388  0.449311  0.758815  0.893240  0.762819  0.240679\n",
       "row 4  0.117376  0.848415  0.255336  0.792824  0.069339  0.676753\n",
       "row 5  0.450905  1.058101  0.974556  0.915639  1.025716  0.788688\n",
       "row 6  1.032145  1.608906  1.320885  1.210881  1.012956  1.249239"
      ],
      "text/html": "<div>\n<style scoped>\n    .dataframe tbody tr th:only-of-type {\n        vertical-align: middle;\n    }\n\n    .dataframe tbody tr th {\n        vertical-align: top;\n    }\n\n    .dataframe thead th {\n        text-align: right;\n    }\n</style>\n<table border=\"1\" class=\"dataframe\">\n  <thead>\n    <tr style=\"text-align: right;\">\n      <th></th>\n      <th>column 1</th>\n      <th>column 2</th>\n      <th>column 3</th>\n      <th>column 4</th>\n      <th>column 5</th>\n      <th>column 6</th>\n    </tr>\n  </thead>\n  <tbody>\n    <tr>\n      <th>row 1</th>\n      <td>0.638481</td>\n      <td>0.605738</td>\n      <td>0.046909</td>\n      <td>0.125227</td>\n      <td>0.627795</td>\n      <td>0.514878</td>\n    </tr>\n    <tr>\n      <th>row 2</th>\n      <td>0.522710</td>\n      <td>1.827939</td>\n      <td>0.620885</td>\n      <td>0.574423</td>\n      <td>1.431060</td>\n      <td>0.911620</td>\n    </tr>\n    <tr>\n      <th>row 3</th>\n      <td>0.845388</td>\n      <td>0.449311</td>\n      <td>0.758815</td>\n      <td>0.893240</td>\n      <td>0.762819</td>\n      <td>0.240679</td>\n    </tr>\n    <tr>\n      <th>row 4</th>\n      <td>0.117376</td>\n      <td>0.848415</td>\n      <td>0.255336</td>\n      <td>0.792824</td>\n      <td>0.069339</td>\n      <td>0.676753</td>\n    </tr>\n    <tr>\n      <th>row 5</th>\n      <td>0.450905</td>\n      <td>1.058101</td>\n      <td>0.974556</td>\n      <td>0.915639</td>\n      <td>1.025716</td>\n      <td>0.788688</td>\n    </tr>\n    <tr>\n      <th>row 6</th>\n      <td>1.032145</td>\n      <td>1.608906</td>\n      <td>1.320885</td>\n      <td>1.210881</td>\n      <td>1.012956</td>\n      <td>1.249239</td>\n    </tr>\n  </tbody>\n</table>\n</div>"
     },
     "metadata": {},
     "execution_count": 18
    }
   ],
   "source": [
    "df_obj_changed.loc['row 6'] +=1\n",
    "df_obj_changed"
   ]
  }
 ]
}