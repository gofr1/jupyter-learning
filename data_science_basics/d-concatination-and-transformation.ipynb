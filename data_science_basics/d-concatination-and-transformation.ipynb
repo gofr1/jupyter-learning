{
 "metadata": {
  "language_info": {
   "codemirror_mode": {
    "name": "ipython",
    "version": 3
   },
   "file_extension": ".py",
   "mimetype": "text/x-python",
   "name": "python",
   "nbconvert_exporter": "python",
   "pygments_lexer": "ipython3",
   "version": "3.8.3"
  },
  "orig_nbformat": 2,
  "kernelspec": {
   "name": "python38064bit80c712c42d0845a6a4b19289fbf7986e",
   "display_name": "Python 3.8.3 64-bit"
  },
  "metadata": {
   "interpreter": {
    "hash": "aee8b7b246df8f9039afb4144a1f6fd8d2ca17a180786b69acc140d282b71a49"
   }
  }
 },
 "nbformat": 4,
 "nbformat_minor": 2,
 "cells": [
  {
   "source": [
    "# Concatinating & Transforming"
   ],
   "cell_type": "markdown",
   "metadata": {}
  },
  {
   "cell_type": "code",
   "execution_count": 1,
   "metadata": {},
   "outputs": [],
   "source": [
    "import numpy as np \n",
    "import pandas as pd \n",
    "\n",
    "from pandas import Series, DataFrame"
   ]
  },
  {
   "cell_type": "code",
   "execution_count": 6,
   "metadata": {},
   "outputs": [
    {
     "output_type": "execute_result",
     "data": {
      "text/plain": [
       "    A   B   C   D   E   F\n",
       "0   0   1   2   3   4   5\n",
       "1   6   7   8   9  10  11\n",
       "2  12  13  14  15  16  17\n",
       "3  18  19  20  21  22  23\n",
       "4  24  25  26  27  28  29\n",
       "5  30  31  32  33  34  35"
      ],
      "text/html": "<div>\n<style scoped>\n    .dataframe tbody tr th:only-of-type {\n        vertical-align: middle;\n    }\n\n    .dataframe tbody tr th {\n        vertical-align: top;\n    }\n\n    .dataframe thead th {\n        text-align: right;\n    }\n</style>\n<table border=\"1\" class=\"dataframe\">\n  <thead>\n    <tr style=\"text-align: right;\">\n      <th></th>\n      <th>A</th>\n      <th>B</th>\n      <th>C</th>\n      <th>D</th>\n      <th>E</th>\n      <th>F</th>\n    </tr>\n  </thead>\n  <tbody>\n    <tr>\n      <th>0</th>\n      <td>0</td>\n      <td>1</td>\n      <td>2</td>\n      <td>3</td>\n      <td>4</td>\n      <td>5</td>\n    </tr>\n    <tr>\n      <th>1</th>\n      <td>6</td>\n      <td>7</td>\n      <td>8</td>\n      <td>9</td>\n      <td>10</td>\n      <td>11</td>\n    </tr>\n    <tr>\n      <th>2</th>\n      <td>12</td>\n      <td>13</td>\n      <td>14</td>\n      <td>15</td>\n      <td>16</td>\n      <td>17</td>\n    </tr>\n    <tr>\n      <th>3</th>\n      <td>18</td>\n      <td>19</td>\n      <td>20</td>\n      <td>21</td>\n      <td>22</td>\n      <td>23</td>\n    </tr>\n    <tr>\n      <th>4</th>\n      <td>24</td>\n      <td>25</td>\n      <td>26</td>\n      <td>27</td>\n      <td>28</td>\n      <td>29</td>\n    </tr>\n    <tr>\n      <th>5</th>\n      <td>30</td>\n      <td>31</td>\n      <td>32</td>\n      <td>33</td>\n      <td>34</td>\n      <td>35</td>\n    </tr>\n  </tbody>\n</table>\n</div>"
     },
     "metadata": {},
     "execution_count": 6
    }
   ],
   "source": [
    "df_first = DataFrame(np.arange(36).reshape(6,6), columns=list('ABCDEF'))\n",
    "df_first"
   ]
  },
  {
   "cell_type": "code",
   "execution_count": 7,
   "metadata": {},
   "outputs": [
    {
     "output_type": "execute_result",
     "data": {
      "text/plain": [
       "    G   H   I\n",
       "0   0   1   2\n",
       "1   3   4   5\n",
       "2   6   7   8\n",
       "3   9  10  11\n",
       "4  12  13  14"
      ],
      "text/html": "<div>\n<style scoped>\n    .dataframe tbody tr th:only-of-type {\n        vertical-align: middle;\n    }\n\n    .dataframe tbody tr th {\n        vertical-align: top;\n    }\n\n    .dataframe thead th {\n        text-align: right;\n    }\n</style>\n<table border=\"1\" class=\"dataframe\">\n  <thead>\n    <tr style=\"text-align: right;\">\n      <th></th>\n      <th>G</th>\n      <th>H</th>\n      <th>I</th>\n    </tr>\n  </thead>\n  <tbody>\n    <tr>\n      <th>0</th>\n      <td>0</td>\n      <td>1</td>\n      <td>2</td>\n    </tr>\n    <tr>\n      <th>1</th>\n      <td>3</td>\n      <td>4</td>\n      <td>5</td>\n    </tr>\n    <tr>\n      <th>2</th>\n      <td>6</td>\n      <td>7</td>\n      <td>8</td>\n    </tr>\n    <tr>\n      <th>3</th>\n      <td>9</td>\n      <td>10</td>\n      <td>11</td>\n    </tr>\n    <tr>\n      <th>4</th>\n      <td>12</td>\n      <td>13</td>\n      <td>14</td>\n    </tr>\n  </tbody>\n</table>\n</div>"
     },
     "metadata": {},
     "execution_count": 7
    }
   ],
   "source": [
    "df_second = DataFrame(np.arange(15).reshape(5,3), columns=list('GHI'))\n",
    "df_second"
   ]
  },
  {
   "cell_type": "code",
   "execution_count": 10,
   "metadata": {},
   "outputs": [
    {
     "output_type": "execute_result",
     "data": {
      "text/plain": [
       "    A   B   C\n",
       "0   0   1   2\n",
       "1   3   4   5\n",
       "2   6   7   8\n",
       "3   9  10  11\n",
       "4  12  13  14"
      ],
      "text/html": "<div>\n<style scoped>\n    .dataframe tbody tr th:only-of-type {\n        vertical-align: middle;\n    }\n\n    .dataframe tbody tr th {\n        vertical-align: top;\n    }\n\n    .dataframe thead th {\n        text-align: right;\n    }\n</style>\n<table border=\"1\" class=\"dataframe\">\n  <thead>\n    <tr style=\"text-align: right;\">\n      <th></th>\n      <th>A</th>\n      <th>B</th>\n      <th>C</th>\n    </tr>\n  </thead>\n  <tbody>\n    <tr>\n      <th>0</th>\n      <td>0</td>\n      <td>1</td>\n      <td>2</td>\n    </tr>\n    <tr>\n      <th>1</th>\n      <td>3</td>\n      <td>4</td>\n      <td>5</td>\n    </tr>\n    <tr>\n      <th>2</th>\n      <td>6</td>\n      <td>7</td>\n      <td>8</td>\n    </tr>\n    <tr>\n      <th>3</th>\n      <td>9</td>\n      <td>10</td>\n      <td>11</td>\n    </tr>\n    <tr>\n      <th>4</th>\n      <td>12</td>\n      <td>13</td>\n      <td>14</td>\n    </tr>\n  </tbody>\n</table>\n</div>"
     },
     "metadata": {},
     "execution_count": 10
    }
   ],
   "source": [
    "df_third = DataFrame(np.arange(15).reshape(5,3), columns=list('ABC'))\n",
    "df_third"
   ]
  },
  {
   "source": [
    "### Concatination"
   ],
   "cell_type": "markdown",
   "metadata": {}
  },
  {
   "cell_type": "code",
   "execution_count": 8,
   "metadata": {},
   "outputs": [
    {
     "output_type": "execute_result",
     "data": {
      "text/plain": [
       "    A   B   C   D   E   F     G     H     I\n",
       "0   0   1   2   3   4   5   0.0   1.0   2.0\n",
       "1   6   7   8   9  10  11   3.0   4.0   5.0\n",
       "2  12  13  14  15  16  17   6.0   7.0   8.0\n",
       "3  18  19  20  21  22  23   9.0  10.0  11.0\n",
       "4  24  25  26  27  28  29  12.0  13.0  14.0\n",
       "5  30  31  32  33  34  35   NaN   NaN   NaN"
      ],
      "text/html": "<div>\n<style scoped>\n    .dataframe tbody tr th:only-of-type {\n        vertical-align: middle;\n    }\n\n    .dataframe tbody tr th {\n        vertical-align: top;\n    }\n\n    .dataframe thead th {\n        text-align: right;\n    }\n</style>\n<table border=\"1\" class=\"dataframe\">\n  <thead>\n    <tr style=\"text-align: right;\">\n      <th></th>\n      <th>A</th>\n      <th>B</th>\n      <th>C</th>\n      <th>D</th>\n      <th>E</th>\n      <th>F</th>\n      <th>G</th>\n      <th>H</th>\n      <th>I</th>\n    </tr>\n  </thead>\n  <tbody>\n    <tr>\n      <th>0</th>\n      <td>0</td>\n      <td>1</td>\n      <td>2</td>\n      <td>3</td>\n      <td>4</td>\n      <td>5</td>\n      <td>0.0</td>\n      <td>1.0</td>\n      <td>2.0</td>\n    </tr>\n    <tr>\n      <th>1</th>\n      <td>6</td>\n      <td>7</td>\n      <td>8</td>\n      <td>9</td>\n      <td>10</td>\n      <td>11</td>\n      <td>3.0</td>\n      <td>4.0</td>\n      <td>5.0</td>\n    </tr>\n    <tr>\n      <th>2</th>\n      <td>12</td>\n      <td>13</td>\n      <td>14</td>\n      <td>15</td>\n      <td>16</td>\n      <td>17</td>\n      <td>6.0</td>\n      <td>7.0</td>\n      <td>8.0</td>\n    </tr>\n    <tr>\n      <th>3</th>\n      <td>18</td>\n      <td>19</td>\n      <td>20</td>\n      <td>21</td>\n      <td>22</td>\n      <td>23</td>\n      <td>9.0</td>\n      <td>10.0</td>\n      <td>11.0</td>\n    </tr>\n    <tr>\n      <th>4</th>\n      <td>24</td>\n      <td>25</td>\n      <td>26</td>\n      <td>27</td>\n      <td>28</td>\n      <td>29</td>\n      <td>12.0</td>\n      <td>13.0</td>\n      <td>14.0</td>\n    </tr>\n    <tr>\n      <th>5</th>\n      <td>30</td>\n      <td>31</td>\n      <td>32</td>\n      <td>33</td>\n      <td>34</td>\n      <td>35</td>\n      <td>NaN</td>\n      <td>NaN</td>\n      <td>NaN</td>\n    </tr>\n  </tbody>\n</table>\n</div>"
     },
     "metadata": {},
     "execution_count": 8
    }
   ],
   "source": [
    "pd.concat([df_first, df_second], axis = 1)"
   ]
  },
  {
   "cell_type": "code",
   "execution_count": 11,
   "metadata": {},
   "outputs": [
    {
     "output_type": "execute_result",
     "data": {
      "text/plain": [
       "    A   B   C     D     E     F\n",
       "0   0   1   2   3.0   4.0   5.0\n",
       "1   6   7   8   9.0  10.0  11.0\n",
       "2  12  13  14  15.0  16.0  17.0\n",
       "3  18  19  20  21.0  22.0  23.0\n",
       "4  24  25  26  27.0  28.0  29.0\n",
       "5  30  31  32  33.0  34.0  35.0\n",
       "0   0   1   2   NaN   NaN   NaN\n",
       "1   3   4   5   NaN   NaN   NaN\n",
       "2   6   7   8   NaN   NaN   NaN\n",
       "3   9  10  11   NaN   NaN   NaN\n",
       "4  12  13  14   NaN   NaN   NaN"
      ],
      "text/html": "<div>\n<style scoped>\n    .dataframe tbody tr th:only-of-type {\n        vertical-align: middle;\n    }\n\n    .dataframe tbody tr th {\n        vertical-align: top;\n    }\n\n    .dataframe thead th {\n        text-align: right;\n    }\n</style>\n<table border=\"1\" class=\"dataframe\">\n  <thead>\n    <tr style=\"text-align: right;\">\n      <th></th>\n      <th>A</th>\n      <th>B</th>\n      <th>C</th>\n      <th>D</th>\n      <th>E</th>\n      <th>F</th>\n    </tr>\n  </thead>\n  <tbody>\n    <tr>\n      <th>0</th>\n      <td>0</td>\n      <td>1</td>\n      <td>2</td>\n      <td>3.0</td>\n      <td>4.0</td>\n      <td>5.0</td>\n    </tr>\n    <tr>\n      <th>1</th>\n      <td>6</td>\n      <td>7</td>\n      <td>8</td>\n      <td>9.0</td>\n      <td>10.0</td>\n      <td>11.0</td>\n    </tr>\n    <tr>\n      <th>2</th>\n      <td>12</td>\n      <td>13</td>\n      <td>14</td>\n      <td>15.0</td>\n      <td>16.0</td>\n      <td>17.0</td>\n    </tr>\n    <tr>\n      <th>3</th>\n      <td>18</td>\n      <td>19</td>\n      <td>20</td>\n      <td>21.0</td>\n      <td>22.0</td>\n      <td>23.0</td>\n    </tr>\n    <tr>\n      <th>4</th>\n      <td>24</td>\n      <td>25</td>\n      <td>26</td>\n      <td>27.0</td>\n      <td>28.0</td>\n      <td>29.0</td>\n    </tr>\n    <tr>\n      <th>5</th>\n      <td>30</td>\n      <td>31</td>\n      <td>32</td>\n      <td>33.0</td>\n      <td>34.0</td>\n      <td>35.0</td>\n    </tr>\n    <tr>\n      <th>0</th>\n      <td>0</td>\n      <td>1</td>\n      <td>2</td>\n      <td>NaN</td>\n      <td>NaN</td>\n      <td>NaN</td>\n    </tr>\n    <tr>\n      <th>1</th>\n      <td>3</td>\n      <td>4</td>\n      <td>5</td>\n      <td>NaN</td>\n      <td>NaN</td>\n      <td>NaN</td>\n    </tr>\n    <tr>\n      <th>2</th>\n      <td>6</td>\n      <td>7</td>\n      <td>8</td>\n      <td>NaN</td>\n      <td>NaN</td>\n      <td>NaN</td>\n    </tr>\n    <tr>\n      <th>3</th>\n      <td>9</td>\n      <td>10</td>\n      <td>11</td>\n      <td>NaN</td>\n      <td>NaN</td>\n      <td>NaN</td>\n    </tr>\n    <tr>\n      <th>4</th>\n      <td>12</td>\n      <td>13</td>\n      <td>14</td>\n      <td>NaN</td>\n      <td>NaN</td>\n      <td>NaN</td>\n    </tr>\n  </tbody>\n</table>\n</div>"
     },
     "metadata": {},
     "execution_count": 11
    }
   ],
   "source": [
    "pd.concat([df_first, df_third])"
   ]
  },
  {
   "source": [
    "### Transformation"
   ],
   "cell_type": "markdown",
   "metadata": {}
  },
  {
   "source": [
    "#### Dropping data"
   ],
   "cell_type": "markdown",
   "metadata": {}
  },
  {
   "cell_type": "code",
   "execution_count": 14,
   "metadata": {},
   "outputs": [
    {
     "output_type": "execute_result",
     "data": {
      "text/plain": [
       "    A   B   C   D   E   F\n",
       "1   6   7   8   9  10  11\n",
       "3  18  19  20  21  22  23\n",
       "4  24  25  26  27  28  29\n",
       "5  30  31  32  33  34  35"
      ],
      "text/html": "<div>\n<style scoped>\n    .dataframe tbody tr th:only-of-type {\n        vertical-align: middle;\n    }\n\n    .dataframe tbody tr th {\n        vertical-align: top;\n    }\n\n    .dataframe thead th {\n        text-align: right;\n    }\n</style>\n<table border=\"1\" class=\"dataframe\">\n  <thead>\n    <tr style=\"text-align: right;\">\n      <th></th>\n      <th>A</th>\n      <th>B</th>\n      <th>C</th>\n      <th>D</th>\n      <th>E</th>\n      <th>F</th>\n    </tr>\n  </thead>\n  <tbody>\n    <tr>\n      <th>1</th>\n      <td>6</td>\n      <td>7</td>\n      <td>8</td>\n      <td>9</td>\n      <td>10</td>\n      <td>11</td>\n    </tr>\n    <tr>\n      <th>3</th>\n      <td>18</td>\n      <td>19</td>\n      <td>20</td>\n      <td>21</td>\n      <td>22</td>\n      <td>23</td>\n    </tr>\n    <tr>\n      <th>4</th>\n      <td>24</td>\n      <td>25</td>\n      <td>26</td>\n      <td>27</td>\n      <td>28</td>\n      <td>29</td>\n    </tr>\n    <tr>\n      <th>5</th>\n      <td>30</td>\n      <td>31</td>\n      <td>32</td>\n      <td>33</td>\n      <td>34</td>\n      <td>35</td>\n    </tr>\n  </tbody>\n</table>\n</div>"
     },
     "metadata": {},
     "execution_count": 14
    }
   ],
   "source": [
    "# drop rows\n",
    "df_first.drop([0, 2])"
   ]
  },
  {
   "cell_type": "code",
   "execution_count": 16,
   "metadata": {},
   "outputs": [
    {
     "output_type": "execute_result",
     "data": {
      "text/plain": [
       "    B   D   E   F\n",
       "0   1   3   4   5\n",
       "1   7   9  10  11\n",
       "2  13  15  16  17\n",
       "3  19  21  22  23\n",
       "4  25  27  28  29\n",
       "5  31  33  34  35"
      ],
      "text/html": "<div>\n<style scoped>\n    .dataframe tbody tr th:only-of-type {\n        vertical-align: middle;\n    }\n\n    .dataframe tbody tr th {\n        vertical-align: top;\n    }\n\n    .dataframe thead th {\n        text-align: right;\n    }\n</style>\n<table border=\"1\" class=\"dataframe\">\n  <thead>\n    <tr style=\"text-align: right;\">\n      <th></th>\n      <th>B</th>\n      <th>D</th>\n      <th>E</th>\n      <th>F</th>\n    </tr>\n  </thead>\n  <tbody>\n    <tr>\n      <th>0</th>\n      <td>1</td>\n      <td>3</td>\n      <td>4</td>\n      <td>5</td>\n    </tr>\n    <tr>\n      <th>1</th>\n      <td>7</td>\n      <td>9</td>\n      <td>10</td>\n      <td>11</td>\n    </tr>\n    <tr>\n      <th>2</th>\n      <td>13</td>\n      <td>15</td>\n      <td>16</td>\n      <td>17</td>\n    </tr>\n    <tr>\n      <th>3</th>\n      <td>19</td>\n      <td>21</td>\n      <td>22</td>\n      <td>23</td>\n    </tr>\n    <tr>\n      <th>4</th>\n      <td>25</td>\n      <td>27</td>\n      <td>28</td>\n      <td>29</td>\n    </tr>\n    <tr>\n      <th>5</th>\n      <td>31</td>\n      <td>33</td>\n      <td>34</td>\n      <td>35</td>\n    </tr>\n  </tbody>\n</table>\n</div>"
     },
     "metadata": {},
     "execution_count": 16
    }
   ],
   "source": [
    "#drop columns\n",
    "df_first.drop(['A', 'C'], axis = 1)"
   ]
  },
  {
   "source": [
    "#### Adding data"
   ],
   "cell_type": "markdown",
   "metadata": {}
  },
  {
   "cell_type": "code",
   "execution_count": 19,
   "metadata": {},
   "outputs": [
    {
     "output_type": "execute_result",
     "data": {
      "text/plain": [
       "0    0\n",
       "1    1\n",
       "2    2\n",
       "3    3\n",
       "4    4\n",
       "5    5\n",
       "Name: added_variable, dtype: int64"
      ]
     },
     "metadata": {},
     "execution_count": 19
    }
   ],
   "source": [
    "series_obj = Series(np.arange(6))\n",
    "series_obj.name = 'added_variable'\n",
    "series_obj"
   ]
  },
  {
   "cell_type": "code",
   "execution_count": 20,
   "metadata": {},
   "outputs": [
    {
     "output_type": "execute_result",
     "data": {
      "text/plain": [
       "    A   B   C   D   E   F  added_variable\n",
       "0   0   1   2   3   4   5               0\n",
       "1   6   7   8   9  10  11               1\n",
       "2  12  13  14  15  16  17               2\n",
       "3  18  19  20  21  22  23               3\n",
       "4  24  25  26  27  28  29               4\n",
       "5  30  31  32  33  34  35               5"
      ],
      "text/html": "<div>\n<style scoped>\n    .dataframe tbody tr th:only-of-type {\n        vertical-align: middle;\n    }\n\n    .dataframe tbody tr th {\n        vertical-align: top;\n    }\n\n    .dataframe thead th {\n        text-align: right;\n    }\n</style>\n<table border=\"1\" class=\"dataframe\">\n  <thead>\n    <tr style=\"text-align: right;\">\n      <th></th>\n      <th>A</th>\n      <th>B</th>\n      <th>C</th>\n      <th>D</th>\n      <th>E</th>\n      <th>F</th>\n      <th>added_variable</th>\n    </tr>\n  </thead>\n  <tbody>\n    <tr>\n      <th>0</th>\n      <td>0</td>\n      <td>1</td>\n      <td>2</td>\n      <td>3</td>\n      <td>4</td>\n      <td>5</td>\n      <td>0</td>\n    </tr>\n    <tr>\n      <th>1</th>\n      <td>6</td>\n      <td>7</td>\n      <td>8</td>\n      <td>9</td>\n      <td>10</td>\n      <td>11</td>\n      <td>1</td>\n    </tr>\n    <tr>\n      <th>2</th>\n      <td>12</td>\n      <td>13</td>\n      <td>14</td>\n      <td>15</td>\n      <td>16</td>\n      <td>17</td>\n      <td>2</td>\n    </tr>\n    <tr>\n      <th>3</th>\n      <td>18</td>\n      <td>19</td>\n      <td>20</td>\n      <td>21</td>\n      <td>22</td>\n      <td>23</td>\n      <td>3</td>\n    </tr>\n    <tr>\n      <th>4</th>\n      <td>24</td>\n      <td>25</td>\n      <td>26</td>\n      <td>27</td>\n      <td>28</td>\n      <td>29</td>\n      <td>4</td>\n    </tr>\n    <tr>\n      <th>5</th>\n      <td>30</td>\n      <td>31</td>\n      <td>32</td>\n      <td>33</td>\n      <td>34</td>\n      <td>35</td>\n      <td>5</td>\n    </tr>\n  </tbody>\n</table>\n</div>"
     },
     "metadata": {},
     "execution_count": 20
    }
   ],
   "source": [
    "# Using join\n",
    "variable_added = DataFrame.join(df_first, series_obj)\n",
    "variable_added"
   ]
  },
  {
   "cell_type": "code",
   "execution_count": 21,
   "metadata": {},
   "outputs": [
    {
     "output_type": "execute_result",
     "data": {
      "text/plain": [
       "    A   B   C   D   E   F  added_variable\n",
       "0   0   1   2   3   4   5               0\n",
       "1   6   7   8   9  10  11               1\n",
       "2  12  13  14  15  16  17               2\n",
       "3  18  19  20  21  22  23               3\n",
       "4  24  25  26  27  28  29               4\n",
       "5  30  31  32  33  34  35               5\n",
       "0   0   1   2   3   4   5               0\n",
       "1   6   7   8   9  10  11               1\n",
       "2  12  13  14  15  16  17               2\n",
       "3  18  19  20  21  22  23               3\n",
       "4  24  25  26  27  28  29               4\n",
       "5  30  31  32  33  34  35               5"
      ],
      "text/html": "<div>\n<style scoped>\n    .dataframe tbody tr th:only-of-type {\n        vertical-align: middle;\n    }\n\n    .dataframe tbody tr th {\n        vertical-align: top;\n    }\n\n    .dataframe thead th {\n        text-align: right;\n    }\n</style>\n<table border=\"1\" class=\"dataframe\">\n  <thead>\n    <tr style=\"text-align: right;\">\n      <th></th>\n      <th>A</th>\n      <th>B</th>\n      <th>C</th>\n      <th>D</th>\n      <th>E</th>\n      <th>F</th>\n      <th>added_variable</th>\n    </tr>\n  </thead>\n  <tbody>\n    <tr>\n      <th>0</th>\n      <td>0</td>\n      <td>1</td>\n      <td>2</td>\n      <td>3</td>\n      <td>4</td>\n      <td>5</td>\n      <td>0</td>\n    </tr>\n    <tr>\n      <th>1</th>\n      <td>6</td>\n      <td>7</td>\n      <td>8</td>\n      <td>9</td>\n      <td>10</td>\n      <td>11</td>\n      <td>1</td>\n    </tr>\n    <tr>\n      <th>2</th>\n      <td>12</td>\n      <td>13</td>\n      <td>14</td>\n      <td>15</td>\n      <td>16</td>\n      <td>17</td>\n      <td>2</td>\n    </tr>\n    <tr>\n      <th>3</th>\n      <td>18</td>\n      <td>19</td>\n      <td>20</td>\n      <td>21</td>\n      <td>22</td>\n      <td>23</td>\n      <td>3</td>\n    </tr>\n    <tr>\n      <th>4</th>\n      <td>24</td>\n      <td>25</td>\n      <td>26</td>\n      <td>27</td>\n      <td>28</td>\n      <td>29</td>\n      <td>4</td>\n    </tr>\n    <tr>\n      <th>5</th>\n      <td>30</td>\n      <td>31</td>\n      <td>32</td>\n      <td>33</td>\n      <td>34</td>\n      <td>35</td>\n      <td>5</td>\n    </tr>\n    <tr>\n      <th>0</th>\n      <td>0</td>\n      <td>1</td>\n      <td>2</td>\n      <td>3</td>\n      <td>4</td>\n      <td>5</td>\n      <td>0</td>\n    </tr>\n    <tr>\n      <th>1</th>\n      <td>6</td>\n      <td>7</td>\n      <td>8</td>\n      <td>9</td>\n      <td>10</td>\n      <td>11</td>\n      <td>1</td>\n    </tr>\n    <tr>\n      <th>2</th>\n      <td>12</td>\n      <td>13</td>\n      <td>14</td>\n      <td>15</td>\n      <td>16</td>\n      <td>17</td>\n      <td>2</td>\n    </tr>\n    <tr>\n      <th>3</th>\n      <td>18</td>\n      <td>19</td>\n      <td>20</td>\n      <td>21</td>\n      <td>22</td>\n      <td>23</td>\n      <td>3</td>\n    </tr>\n    <tr>\n      <th>4</th>\n      <td>24</td>\n      <td>25</td>\n      <td>26</td>\n      <td>27</td>\n      <td>28</td>\n      <td>29</td>\n      <td>4</td>\n    </tr>\n    <tr>\n      <th>5</th>\n      <td>30</td>\n      <td>31</td>\n      <td>32</td>\n      <td>33</td>\n      <td>34</td>\n      <td>35</td>\n      <td>5</td>\n    </tr>\n  </tbody>\n</table>\n</div>"
     },
     "metadata": {},
     "execution_count": 21
    }
   ],
   "source": [
    "# Using append\n",
    "datatable_added = variable_added.append(variable_added, ignore_index=False)\n",
    "datatable_added"
   ]
  },
  {
   "cell_type": "code",
   "execution_count": 22,
   "metadata": {},
   "outputs": [
    {
     "output_type": "execute_result",
     "data": {
      "text/plain": [
       "     A   B   C   D   E   F  added_variable\n",
       "0    0   1   2   3   4   5               0\n",
       "1    6   7   8   9  10  11               1\n",
       "2   12  13  14  15  16  17               2\n",
       "3   18  19  20  21  22  23               3\n",
       "4   24  25  26  27  28  29               4\n",
       "5   30  31  32  33  34  35               5\n",
       "6    0   1   2   3   4   5               0\n",
       "7    6   7   8   9  10  11               1\n",
       "8   12  13  14  15  16  17               2\n",
       "9   18  19  20  21  22  23               3\n",
       "10  24  25  26  27  28  29               4\n",
       "11  30  31  32  33  34  35               5"
      ],
      "text/html": "<div>\n<style scoped>\n    .dataframe tbody tr th:only-of-type {\n        vertical-align: middle;\n    }\n\n    .dataframe tbody tr th {\n        vertical-align: top;\n    }\n\n    .dataframe thead th {\n        text-align: right;\n    }\n</style>\n<table border=\"1\" class=\"dataframe\">\n  <thead>\n    <tr style=\"text-align: right;\">\n      <th></th>\n      <th>A</th>\n      <th>B</th>\n      <th>C</th>\n      <th>D</th>\n      <th>E</th>\n      <th>F</th>\n      <th>added_variable</th>\n    </tr>\n  </thead>\n  <tbody>\n    <tr>\n      <th>0</th>\n      <td>0</td>\n      <td>1</td>\n      <td>2</td>\n      <td>3</td>\n      <td>4</td>\n      <td>5</td>\n      <td>0</td>\n    </tr>\n    <tr>\n      <th>1</th>\n      <td>6</td>\n      <td>7</td>\n      <td>8</td>\n      <td>9</td>\n      <td>10</td>\n      <td>11</td>\n      <td>1</td>\n    </tr>\n    <tr>\n      <th>2</th>\n      <td>12</td>\n      <td>13</td>\n      <td>14</td>\n      <td>15</td>\n      <td>16</td>\n      <td>17</td>\n      <td>2</td>\n    </tr>\n    <tr>\n      <th>3</th>\n      <td>18</td>\n      <td>19</td>\n      <td>20</td>\n      <td>21</td>\n      <td>22</td>\n      <td>23</td>\n      <td>3</td>\n    </tr>\n    <tr>\n      <th>4</th>\n      <td>24</td>\n      <td>25</td>\n      <td>26</td>\n      <td>27</td>\n      <td>28</td>\n      <td>29</td>\n      <td>4</td>\n    </tr>\n    <tr>\n      <th>5</th>\n      <td>30</td>\n      <td>31</td>\n      <td>32</td>\n      <td>33</td>\n      <td>34</td>\n      <td>35</td>\n      <td>5</td>\n    </tr>\n    <tr>\n      <th>6</th>\n      <td>0</td>\n      <td>1</td>\n      <td>2</td>\n      <td>3</td>\n      <td>4</td>\n      <td>5</td>\n      <td>0</td>\n    </tr>\n    <tr>\n      <th>7</th>\n      <td>6</td>\n      <td>7</td>\n      <td>8</td>\n      <td>9</td>\n      <td>10</td>\n      <td>11</td>\n      <td>1</td>\n    </tr>\n    <tr>\n      <th>8</th>\n      <td>12</td>\n      <td>13</td>\n      <td>14</td>\n      <td>15</td>\n      <td>16</td>\n      <td>17</td>\n      <td>2</td>\n    </tr>\n    <tr>\n      <th>9</th>\n      <td>18</td>\n      <td>19</td>\n      <td>20</td>\n      <td>21</td>\n      <td>22</td>\n      <td>23</td>\n      <td>3</td>\n    </tr>\n    <tr>\n      <th>10</th>\n      <td>24</td>\n      <td>25</td>\n      <td>26</td>\n      <td>27</td>\n      <td>28</td>\n      <td>29</td>\n      <td>4</td>\n    </tr>\n    <tr>\n      <th>11</th>\n      <td>30</td>\n      <td>31</td>\n      <td>32</td>\n      <td>33</td>\n      <td>34</td>\n      <td>35</td>\n      <td>5</td>\n    </tr>\n  </tbody>\n</table>\n</div>"
     },
     "metadata": {},
     "execution_count": 22
    }
   ],
   "source": [
    "# Index is re set\n",
    "datatable_added = variable_added.append(variable_added, ignore_index=True)\n",
    "datatable_added"
   ]
  },
  {
   "source": [
    "#### Sorting data"
   ],
   "cell_type": "markdown",
   "metadata": {}
  },
  {
   "cell_type": "code",
   "execution_count": 24,
   "metadata": {},
   "outputs": [
    {
     "output_type": "execute_result",
     "data": {
      "text/plain": [
       "    A   B   C   D   E   F\n",
       "5  30  31  32  33  34  35\n",
       "4  24  25  26  27  28  29\n",
       "3  18  19  20  21  22  23\n",
       "2  12  13  14  15  16  17\n",
       "1   6   7   8   9  10  11\n",
       "0   0   1   2   3   4   5"
      ],
      "text/html": "<div>\n<style scoped>\n    .dataframe tbody tr th:only-of-type {\n        vertical-align: middle;\n    }\n\n    .dataframe tbody tr th {\n        vertical-align: top;\n    }\n\n    .dataframe thead th {\n        text-align: right;\n    }\n</style>\n<table border=\"1\" class=\"dataframe\">\n  <thead>\n    <tr style=\"text-align: right;\">\n      <th></th>\n      <th>A</th>\n      <th>B</th>\n      <th>C</th>\n      <th>D</th>\n      <th>E</th>\n      <th>F</th>\n    </tr>\n  </thead>\n  <tbody>\n    <tr>\n      <th>5</th>\n      <td>30</td>\n      <td>31</td>\n      <td>32</td>\n      <td>33</td>\n      <td>34</td>\n      <td>35</td>\n    </tr>\n    <tr>\n      <th>4</th>\n      <td>24</td>\n      <td>25</td>\n      <td>26</td>\n      <td>27</td>\n      <td>28</td>\n      <td>29</td>\n    </tr>\n    <tr>\n      <th>3</th>\n      <td>18</td>\n      <td>19</td>\n      <td>20</td>\n      <td>21</td>\n      <td>22</td>\n      <td>23</td>\n    </tr>\n    <tr>\n      <th>2</th>\n      <td>12</td>\n      <td>13</td>\n      <td>14</td>\n      <td>15</td>\n      <td>16</td>\n      <td>17</td>\n    </tr>\n    <tr>\n      <th>1</th>\n      <td>6</td>\n      <td>7</td>\n      <td>8</td>\n      <td>9</td>\n      <td>10</td>\n      <td>11</td>\n    </tr>\n    <tr>\n      <th>0</th>\n      <td>0</td>\n      <td>1</td>\n      <td>2</td>\n      <td>3</td>\n      <td>4</td>\n      <td>5</td>\n    </tr>\n  </tbody>\n</table>\n</div>"
     },
     "metadata": {},
     "execution_count": 24
    }
   ],
   "source": [
    "df_sorted = df_first.sort_values(by='F', ascending=False)\n",
    "df_sorted"
   ]
  }
 ]
}