{
 "metadata": {
  "language_info": {
   "codemirror_mode": {
    "name": "ipython",
    "version": 3
   },
   "file_extension": ".py",
   "mimetype": "text/x-python",
   "name": "python",
   "nbconvert_exporter": "python",
   "pygments_lexer": "ipython3",
   "version": "3.8.3"
  },
  "orig_nbformat": 2,
  "kernelspec": {
   "name": "python38064bit80c712c42d0845a6a4b19289fbf7986e",
   "display_name": "Python 3.8.3 64-bit"
  },
  "metadata": {
   "interpreter": {
    "hash": "aee8b7b246df8f9039afb4144a1f6fd8d2ca17a180786b69acc140d282b71a49"
   }
  }
 },
 "nbformat": 4,
 "nbformat_minor": 2,
 "cells": [
  {
   "source": [
    "# Filtering & Selecting"
   ],
   "cell_type": "markdown",
   "metadata": {}
  },
  {
   "cell_type": "code",
   "execution_count": 1,
   "metadata": {},
   "outputs": [],
   "source": [
    "import numpy as np \n",
    "import pandas as pd \n",
    "\n",
    "from pandas import Series, DataFrame"
   ]
  },
  {
   "source": [
    "### Selecting and retrieving data \n",
    "\n",
    "You can write an index value in two forms \n",
    "- Label index\n",
    "- Integer index\n"
   ],
   "cell_type": "markdown",
   "metadata": {}
  },
  {
   "cell_type": "code",
   "execution_count": 4,
   "metadata": {},
   "outputs": [
    {
     "output_type": "execute_result",
     "data": {
      "text/plain": [
       "row 1    0\n",
       "row 2    1\n",
       "row 3    2\n",
       "row 4    3\n",
       "row 5    4\n",
       "row 6    5\n",
       "row 7    6\n",
       "row 8    7\n",
       "dtype: int64"
      ]
     },
     "metadata": {},
     "execution_count": 4
    }
   ],
   "source": [
    "series_obj = Series(np.arange(8), index=['row 1', 'row 2', 'row 3', 'row 4', 'row 5', 'row 6', 'row 7', 'row 8'])\n",
    "series_obj"
   ]
  },
  {
   "cell_type": "code",
   "execution_count": 5,
   "metadata": {},
   "outputs": [
    {
     "output_type": "execute_result",
     "data": {
      "text/plain": [
       "6"
      ]
     },
     "metadata": {},
     "execution_count": 5
    }
   ],
   "source": [
    "# select by name\n",
    "series_obj['row 7']"
   ]
  },
  {
   "cell_type": "code",
   "execution_count": 6,
   "metadata": {},
   "outputs": [
    {
     "output_type": "execute_result",
     "data": {
      "text/plain": [
       "0"
      ]
     },
     "metadata": {},
     "execution_count": 6
    }
   ],
   "source": [
    "# select by index\n",
    "series_obj[0]"
   ]
  },
  {
   "cell_type": "code",
   "execution_count": 7,
   "metadata": {},
   "outputs": [
    {
     "output_type": "execute_result",
     "data": {
      "text/plain": [
       "row 1    0\n",
       "row 8    7\n",
       "dtype: int64"
      ]
     },
     "metadata": {},
     "execution_count": 7
    }
   ],
   "source": [
    "series_obj[[0, 7]]"
   ]
  },
  {
   "cell_type": "code",
   "execution_count": 10,
   "metadata": {},
   "outputs": [
    {
     "output_type": "execute_result",
     "data": {
      "text/plain": [
       "       column 1  column 2  column 3  column 4  column 5  column 6\n",
       "row 1  0.895126  0.762838  0.825022  0.608323  0.450458  0.036849\n",
       "row 2  0.690090  0.784032  0.365773  0.142434  0.456063  0.326604\n",
       "row 3  0.975725  0.273398  0.462714  0.340277  0.871865  0.943514\n",
       "row 4  0.346403  0.274717  0.462803  0.663521  0.235843  0.058039\n",
       "row 5  0.339699  0.171916  0.605116  0.346956  0.361245  0.779210\n",
       "row 6  0.920737  0.929967  0.826607  0.751450  0.301436  0.243407"
      ],
      "text/html": "<div>\n<style scoped>\n    .dataframe tbody tr th:only-of-type {\n        vertical-align: middle;\n    }\n\n    .dataframe tbody tr th {\n        vertical-align: top;\n    }\n\n    .dataframe thead th {\n        text-align: right;\n    }\n</style>\n<table border=\"1\" class=\"dataframe\">\n  <thead>\n    <tr style=\"text-align: right;\">\n      <th></th>\n      <th>column 1</th>\n      <th>column 2</th>\n      <th>column 3</th>\n      <th>column 4</th>\n      <th>column 5</th>\n      <th>column 6</th>\n    </tr>\n  </thead>\n  <tbody>\n    <tr>\n      <th>row 1</th>\n      <td>0.895126</td>\n      <td>0.762838</td>\n      <td>0.825022</td>\n      <td>0.608323</td>\n      <td>0.450458</td>\n      <td>0.036849</td>\n    </tr>\n    <tr>\n      <th>row 2</th>\n      <td>0.690090</td>\n      <td>0.784032</td>\n      <td>0.365773</td>\n      <td>0.142434</td>\n      <td>0.456063</td>\n      <td>0.326604</td>\n    </tr>\n    <tr>\n      <th>row 3</th>\n      <td>0.975725</td>\n      <td>0.273398</td>\n      <td>0.462714</td>\n      <td>0.340277</td>\n      <td>0.871865</td>\n      <td>0.943514</td>\n    </tr>\n    <tr>\n      <th>row 4</th>\n      <td>0.346403</td>\n      <td>0.274717</td>\n      <td>0.462803</td>\n      <td>0.663521</td>\n      <td>0.235843</td>\n      <td>0.058039</td>\n    </tr>\n    <tr>\n      <th>row 5</th>\n      <td>0.339699</td>\n      <td>0.171916</td>\n      <td>0.605116</td>\n      <td>0.346956</td>\n      <td>0.361245</td>\n      <td>0.779210</td>\n    </tr>\n    <tr>\n      <th>row 6</th>\n      <td>0.920737</td>\n      <td>0.929967</td>\n      <td>0.826607</td>\n      <td>0.751450</td>\n      <td>0.301436</td>\n      <td>0.243407</td>\n    </tr>\n  </tbody>\n</table>\n</div>"
     },
     "metadata": {},
     "execution_count": 10
    }
   ],
   "source": [
    "# create a dataframe with random numbers\n",
    "df_obj = DataFrame(\n",
    "    np.random.rand(36).reshape((6,6)),\n",
    "    index = ['row 1', 'row 2', 'row 3', 'row 4', 'row 5', 'row 6'],\n",
    "    columns = ['column 1', 'column 2', 'column 3', 'column 4', 'column 5', 'column 6']\n",
    ")\n",
    "df_obj"
   ]
  },
  {
   "cell_type": "code",
   "execution_count": 11,
   "metadata": {},
   "outputs": [
    {
     "output_type": "execute_result",
     "data": {
      "text/plain": [
       "       column 5  column 2\n",
       "row 2  0.456063  0.784032\n",
       "row 5  0.361245  0.171916"
      ],
      "text/html": "<div>\n<style scoped>\n    .dataframe tbody tr th:only-of-type {\n        vertical-align: middle;\n    }\n\n    .dataframe tbody tr th {\n        vertical-align: top;\n    }\n\n    .dataframe thead th {\n        text-align: right;\n    }\n</style>\n<table border=\"1\" class=\"dataframe\">\n  <thead>\n    <tr style=\"text-align: right;\">\n      <th></th>\n      <th>column 5</th>\n      <th>column 2</th>\n    </tr>\n  </thead>\n  <tbody>\n    <tr>\n      <th>row 2</th>\n      <td>0.456063</td>\n      <td>0.784032</td>\n    </tr>\n    <tr>\n      <th>row 5</th>\n      <td>0.361245</td>\n      <td>0.171916</td>\n    </tr>\n  </tbody>\n</table>\n</div>"
     },
     "metadata": {},
     "execution_count": 11
    }
   ],
   "source": [
    "# selecting columns and rows\n",
    "df_obj.loc[['row 2', 'row 5'], ['column 5', 'column 2']]"
   ]
  },
  {
   "cell_type": "code",
   "execution_count": null,
   "metadata": {},
   "outputs": [],
   "source": []
  }
 ]
}