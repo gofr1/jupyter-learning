{
 "cells": [
  {
   "cell_type": "code",
   "execution_count": 66,
   "metadata": {
    "tags": []
   },
   "outputs": [
    {
     "output_type": "stream",
     "name": "stdout",
     "text": "\u001b[0m\u001b[01;34mbaby_names\u001b[0m/  magics.ipynb    magics_run.py   \u001b[01;34m__pycache__\u001b[0m/\n\u001b[01;34mbasics\u001b[0m/      magics_load.py  \u001b[01;34mpandas_basics\u001b[0m/  \u001b[01;34mweather\u001b[0m/\n"
    }
   ],
   "source": [
    "%ls"
   ]
  },
  {
   "cell_type": "code",
   "execution_count": 34,
   "metadata": {
    "tags": []
   },
   "outputs": [
    {
     "output_type": "stream",
     "name": "stdout",
     "text": "from math import sqrt\n\ndef getSqrt(num: int):\n    return sqrt(num)"
    }
   ],
   "source": [
    "%cat magics_load.py"
   ]
  },
  {
   "cell_type": "code",
   "execution_count": 46,
   "metadata": {},
   "outputs": [],
   "source": [
    "# %load magics_load.py \n",
    "# doesn't work in VS code\n",
    "# but should load the code from file"
   ]
  },
  {
   "cell_type": "code",
   "execution_count": 48,
   "metadata": {
    "tags": []
   },
   "outputs": [
    {
     "output_type": "stream",
     "name": "stdout",
     "text": "2.0\n"
    }
   ],
   "source": [
    "%run magics_run.py"
   ]
  },
  {
   "cell_type": "code",
   "execution_count": 49,
   "metadata": {
    "tags": []
   },
   "outputs": [
    {
     "output_type": "stream",
     "name": "stdout",
     "text": "CPU times: user 16.8 ms, sys: 0 ns, total: 16.8 ms\nWall time: 27.6 ms\n"
    },
    {
     "output_type": "execute_result",
     "data": {
      "text/plain": "4999950000"
     },
     "metadata": {},
     "execution_count": 49
    }
   ],
   "source": [
    "%time sum(x for x in range(0,100000))"
   ]
  },
  {
   "cell_type": "code",
   "execution_count": 50,
   "metadata": {
    "tags": []
   },
   "outputs": [
    {
     "output_type": "stream",
     "name": "stdout",
     "text": "8.7 ms ± 99.2 µs per loop (mean ± std. dev. of 7 runs, 100 loops each)\n"
    }
   ],
   "source": [
    "%timeit sum(x for x in range(0,100000))"
   ]
  },
  {
   "cell_type": "code",
   "execution_count": 60,
   "metadata": {},
   "outputs": [
    {
     "output_type": "execute_result",
     "data": {
      "text/plain": "['136']"
     },
     "metadata": {},
     "execution_count": 60
    }
   ],
   "source": [
    "%system grep -o 'Product2' ../../Downloads/SalesJan2009.csv | wc -l"
   ]
  },
  {
   "cell_type": "code",
   "execution_count": 63,
   "metadata": {},
   "outputs": [
    {
     "output_type": "execute_result",
     "data": {
      "text/plain": "['136']"
     },
     "metadata": {},
     "execution_count": 63
    }
   ],
   "source": [
    "Out[60] # to get the output of cell w/%system"
   ]
  },
  {
   "cell_type": "code",
   "execution_count": 64,
   "metadata": {},
   "outputs": [
    {
     "output_type": "execute_result",
     "data": {
      "text/plain": "['136']"
     },
     "metadata": {},
     "execution_count": 64
    }
   ],
   "source": [
    "!!grep -o 'Product2' ../../Downloads/SalesJan2009.csv | wc -l"
   ]
  },
  {
   "cell_type": "code",
   "execution_count": null,
   "metadata": {},
   "outputs": [],
   "source": []
  }
 ],
 "metadata": {
  "language_info": {
   "codemirror_mode": {
    "name": "ipython",
    "version": 3
   },
   "file_extension": ".py",
   "mimetype": "text/x-python",
   "name": "python",
   "nbconvert_exporter": "python",
   "pygments_lexer": "ipython3",
   "version": "3.8.3-final"
  },
  "orig_nbformat": 2,
  "kernelspec": {
   "name": "python38064bit80c712c42d0845a6a4b19289fbf7986e",
   "display_name": "Python 3.8.0 64-bit"
  }
 },
 "nbformat": 4,
 "nbformat_minor": 2
}