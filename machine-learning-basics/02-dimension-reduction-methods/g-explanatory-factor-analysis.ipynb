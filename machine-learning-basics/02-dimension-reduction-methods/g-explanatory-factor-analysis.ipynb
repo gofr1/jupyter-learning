{
 "metadata": {
  "language_info": {
   "codemirror_mode": {
    "name": "ipython",
    "version": 3
   },
   "file_extension": ".py",
   "mimetype": "text/x-python",
   "name": "python",
   "nbconvert_exporter": "python",
   "pygments_lexer": "ipython3",
   "version": "3.8.3"
  },
  "orig_nbformat": 2,
  "kernelspec": {
   "name": "python383jvsc74a57bd07e7ed898d369334e998bf643179707e62ca7f11d6a1140b26f2ba8bce3c4feca",
   "display_name": "Python 3.8.3 64-bit ('env-ml': venv)",
   "language": "python"
  }
 },
 "nbformat": 4,
 "nbformat_minor": 2,
 "cells": [
  {
   "source": [
    "# Explanatory Factor Analysis"
   ],
   "cell_type": "markdown",
   "metadata": {}
  },
  {
   "source": [
    "A method that explores a data set in order to find root causes which explain why data is acting a certain way\n",
    "\n",
    "Factors (or *latent* variables): variables thatare quite meaningful but that are inferred and not directly observable"
   ],
   "cell_type": "markdown",
   "metadata": {}
  },
  {
   "source": [
    "Assumptions:\n",
    "\n",
    "- Features are metric\n",
    "- Features are continues or ordinal\n",
    "- There is r > 0.3 correlation between the features in your dataset\n",
    "- You have > 100 observations and > 5 observations per feature\n",
    "- Sample is homogenous"
   ],
   "cell_type": "markdown",
   "metadata": {}
  },
  {
   "source": [
    "Factor Loading:\n",
    "\n",
    "- `~ -1 or 1` = Factor has a strong influence on the variable\n",
    "- `~0` = Factor weakly influences on the variable\n",
    "- `>1` = That means these are highly correlated factors"
   ],
   "cell_type": "markdown",
   "metadata": {}
  },
  {
   "cell_type": "code",
   "execution_count": 3,
   "metadata": {},
   "outputs": [],
   "source": [
    "import pandas as pd \n",
    "import numpy as np \n",
    "\n",
    "import sklearn\n",
    "from sklearn.decomposition import FactorAnalysis\n",
    "\n",
    "from sklearn import datasets"
   ]
  },
  {
   "source": [
    "## Factor Analysis on iris dataset"
   ],
   "cell_type": "markdown",
   "metadata": {}
  },
  {
   "cell_type": "code",
   "execution_count": 5,
   "metadata": {},
   "outputs": [
    {
     "output_type": "execute_result",
     "data": {
      "text/plain": [
       "array([[5.1, 3.5, 1.4, 0.2],\n",
       "       [4.9, 3. , 1.4, 0.2],\n",
       "       [4.7, 3.2, 1.3, 0.2],\n",
       "       [4.6, 3.1, 1.5, 0.2],\n",
       "       [5. , 3.6, 1.4, 0.2],\n",
       "       [5.4, 3.9, 1.7, 0.4],\n",
       "       [4.6, 3.4, 1.4, 0.3],\n",
       "       [5. , 3.4, 1.5, 0.2],\n",
       "       [4.4, 2.9, 1.4, 0.2],\n",
       "       [4.9, 3.1, 1.5, 0.1]])"
      ]
     },
     "metadata": {},
     "execution_count": 5
    }
   ],
   "source": [
    "iris = datasets.load_iris()\n",
    "\n",
    "x = iris.data\n",
    "variable_names = iris.feature_names\n",
    "\n",
    "x[:10]"
   ]
  },
  {
   "cell_type": "code",
   "execution_count": 6,
   "metadata": {},
   "outputs": [
    {
     "output_type": "stream",
     "name": "stdout",
     "text": [
      "   sepal length (cm)  sepal width (cm)  petal length (cm)  petal width (cm)\n0           0.706989         -0.158005           1.654236           0.70085\n1           0.115161          0.159635          -0.044321          -0.01403\n2          -0.000000          0.000000           0.000000           0.00000\n3          -0.000000          0.000000           0.000000          -0.00000\n"
     ]
    }
   ],
   "source": [
    "factor = FactorAnalysis().fit(x)\n",
    "\n",
    "df = pd.DataFrame(factor.components_, columns=variable_names)\n",
    "print(df)"
   ]
  },
  {
   "source": [
    "So factor one has the highest loading for `sepal length`, `petal length`, and `petal width`.  \n",
    "In other words, factor one is highly influential on `sepal length`, `petal length`, and `petal width` of irises.  \n",
    "Factor two has no high loadings on any of the variables here.  \n",
    "Because of that, you can't interpret much and you should drop the factor throughout the remainder of your evaluation.  \n",
    "From this analysis, we have isolated one underlying latent variable that influences the `sepal length`, `petal length`, and `petal width`.  \n"
   ],
   "cell_type": "markdown",
   "metadata": {}
  }
 ]
}