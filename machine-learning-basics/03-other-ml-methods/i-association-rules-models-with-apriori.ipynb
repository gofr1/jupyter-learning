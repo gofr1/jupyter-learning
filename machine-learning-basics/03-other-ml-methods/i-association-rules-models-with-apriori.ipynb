{
 "metadata": {
  "language_info": {
   "codemirror_mode": {
    "name": "ipython",
    "version": 3
   },
   "file_extension": ".py",
   "mimetype": "text/x-python",
   "name": "python",
   "nbconvert_exporter": "python",
   "pygments_lexer": "ipython3",
   "version": "3.8.3"
  },
  "orig_nbformat": 2,
  "kernelspec": {
   "name": "python383jvsc74a57bd07e7ed898d369334e998bf643179707e62ca7f11d6a1140b26f2ba8bce3c4feca",
   "display_name": "Python 3.8.3 64-bit ('env-ml': venv)",
   "language": "python"
  }
 },
 "nbformat": 4,
 "nbformat_minor": 2,
 "cells": [
  {
   "source": [
    "# Association Rule Mining\n",
    "\n",
    "Association rule mining is a process that deploys pattern recognition to identify and quantify relationships between different, yet related items.\n",
    "\n",
    "Say, for example, eggs and bread are frequently purchased together. With that finding you can increase sales by:\n",
    "\n",
    "- Placing eggs and bread next to each other so that when a customer buys one of the products, they don't have to walk to buy another products.\n",
    "- Advertising to buyers of either eggs or butter in order to increase that person's propensity to purchase the (paired) other product.\n",
    "- Offer discounts on both eggs and butter if the customer buys both of them in one purchase. \n",
    "\n",
    "*Association rule:*\n",
    "\n",
    "\"If item eggs are purchased, then the possibility of buying the bread is ___\"\n",
    "\n",
    "*Can also be represented:*\n",
    "\n",
    "{eggs} -> {bread}\n",
    "\n",
    "## Advantages \n",
    "\n",
    "- Fast \n",
    "- Works with small quantities of data \n",
    "- Few (if any) feature engineering requirement\n",
    "\n",
    "> The term feature engineering refers to the process of engineering data into a predictive feature that fits the requirements (and/or improves the performance), of a machine learning model.\n",
    "\n",
    "## Three Ways to Measure Association\n",
    "\n",
    "1. Support\n",
    "2. Confidence\n",
    "3. Lift\n",
    "\n",
    "*Illustrating with Bread and Eggs*\n",
    "\n",
    "Scenario: 5000 total transactions in a supermarket\n",
    "\n",
    "- `A` = Bread purchases = 500 transactions \n",
    "- `C` = Eggs purchases = 350 transactions \n",
    "- `A -> C` Both eggs and bread purchases = 150 transactions \n",
    "\n",
    "### Support\n",
    "\n",
    "Support is the relative frequency of an item within a dataset.  \n",
    "Support for an item can be calculated as: `support(A->C) = support(AuC)`\n",
    "\n",
    "Example: support(bread) = (transactions containing bread)/(total number of transactions) = 500/5000 = 0.1 \n",
    "\n",
    "### Confidence\n",
    "\n",
    "Confidence is a probability of seeing the consequent item (a \"then\" term) within data, given that the data also contains the antecedent (the \"if\" term) item. \n",
    "\n",
    "- `THEN` How likely it is for 1 item to be purchased given that,\n",
    "- `IF` another item is purchased.\n",
    "\n",
    "Confidence determines how many if-then statements are found to be true within a dataset. \n",
    "\n",
    "`confidence(A->C) = support(A->C) / support(A)`\n",
    "> Where A is the antecedent and C is the consequent\n",
    "\n",
    "Example: confidence(bread -> eggs) = (150/5000) / (500/5000) = 0.3\n",
    "\n",
    "So there is a 30% likelihood that eggs will be bought if bread is purchased.\n",
    "\n",
    "### Lift \n",
    "\n",
    "Lift is a metric that measures how much more often the antecedent and consequent occur together rather than them occuring independently.\n",
    "\n",
    "`lift(A->C) = confidence(A->C)/support(C)`\n",
    "\n",
    "Example: lift(A->C) = 0.3 / (350/500) = 4.28\n",
    "\n",
    "With lift score 4.28 we can conclude that: \"If a customer buys bread, then they are likely to also buy eggs\"\n",
    "\n",
    "#### Lift Scores \n",
    "\n",
    "- `>1` = A is highly associated with C. If A is purchased, it is likely that C will also be purchased.\n",
    "- `<1` = If A is purchased, it is unlikely that C will be purchased.\n",
    "- `1` = Indicated that it is no association between A and C \n",
    "\n",
    "## Apriori\n",
    "\n",
    "The Apriori algorithmis the algorithm that you use to implement association rule mining over structured data "
   ],
   "cell_type": "markdown",
   "metadata": {}
  },
  {
   "cell_type": "code",
   "execution_count": 4,
   "metadata": {},
   "outputs": [],
   "source": [
    "import pandas as pd \n",
    "from mlxtend.frequent_patterns import apriori, association_rules"
   ]
  },
  {
   "source": [
    "### Data Loading"
   ],
   "cell_type": "markdown",
   "metadata": {}
  },
  {
   "cell_type": "code",
   "execution_count": 14,
   "metadata": {},
   "outputs": [
    {
     "output_type": "execute_result",
     "data": {
      "text/plain": [
       "                  1                    2               3  ...    7    8    9\n",
       "0      citrus fruit  semi-finished bread       margarine  ...  NaN  NaN  NaN\n",
       "1    tropical fruit               yogurt          coffee  ...  NaN  NaN  NaN\n",
       "2        whole milk                  NaN             NaN  ...  NaN  NaN  NaN\n",
       "3         pip fruit               yogurt   cream cheese   ...  NaN  NaN  NaN\n",
       "4  other vegetables           whole milk  condensed milk  ...  NaN  NaN  NaN\n",
       "\n",
       "[5 rows x 9 columns]"
      ],
      "text/html": "<div>\n<style scoped>\n    .dataframe tbody tr th:only-of-type {\n        vertical-align: middle;\n    }\n\n    .dataframe tbody tr th {\n        vertical-align: top;\n    }\n\n    .dataframe thead th {\n        text-align: right;\n    }\n</style>\n<table border=\"1\" class=\"dataframe\">\n  <thead>\n    <tr style=\"text-align: right;\">\n      <th></th>\n      <th>1</th>\n      <th>2</th>\n      <th>3</th>\n      <th>4</th>\n      <th>5</th>\n      <th>6</th>\n      <th>7</th>\n      <th>8</th>\n      <th>9</th>\n    </tr>\n  </thead>\n  <tbody>\n    <tr>\n      <th>0</th>\n      <td>citrus fruit</td>\n      <td>semi-finished bread</td>\n      <td>margarine</td>\n      <td>ready soups</td>\n      <td>NaN</td>\n      <td>NaN</td>\n      <td>NaN</td>\n      <td>NaN</td>\n      <td>NaN</td>\n    </tr>\n    <tr>\n      <th>1</th>\n      <td>tropical fruit</td>\n      <td>yogurt</td>\n      <td>coffee</td>\n      <td>NaN</td>\n      <td>NaN</td>\n      <td>NaN</td>\n      <td>NaN</td>\n      <td>NaN</td>\n      <td>NaN</td>\n    </tr>\n    <tr>\n      <th>2</th>\n      <td>whole milk</td>\n      <td>NaN</td>\n      <td>NaN</td>\n      <td>NaN</td>\n      <td>NaN</td>\n      <td>NaN</td>\n      <td>NaN</td>\n      <td>NaN</td>\n      <td>NaN</td>\n    </tr>\n    <tr>\n      <th>3</th>\n      <td>pip fruit</td>\n      <td>yogurt</td>\n      <td>cream cheese</td>\n      <td>meat spreads</td>\n      <td>NaN</td>\n      <td>NaN</td>\n      <td>NaN</td>\n      <td>NaN</td>\n      <td>NaN</td>\n    </tr>\n    <tr>\n      <th>4</th>\n      <td>other vegetables</td>\n      <td>whole milk</td>\n      <td>condensed milk</td>\n      <td>long life bakery product</td>\n      <td>NaN</td>\n      <td>NaN</td>\n      <td>NaN</td>\n      <td>NaN</td>\n      <td>NaN</td>\n    </tr>\n  </tbody>\n</table>\n</div>"
     },
     "metadata": {},
     "execution_count": 14
    }
   ],
   "source": [
    "data = pd.read_csv('../../inputs/groceries.csv')\n",
    "data.head"
   ]
  },
  {
   "source": [
    "### Data Connversion"
   ],
   "cell_type": "markdown",
   "metadata": {}
  },
  {
   "cell_type": "code",
   "execution_count": 17,
   "metadata": {},
   "outputs": [
    {
     "output_type": "execute_result",
     "data": {
      "text/plain": [
       "   1_Instant food products  1_UHT-milk  ...  9_yogurt  9_zwieback\n",
       "0                        0           0  ...         0           0\n",
       "1                        0           0  ...         0           0\n",
       "2                        0           0  ...         0           0\n",
       "3                        0           0  ...         0           0\n",
       "4                        0           0  ...         0           0\n",
       "\n",
       "[5 rows x 1113 columns]"
      ],
      "text/html": "<div>\n<style scoped>\n    .dataframe tbody tr th:only-of-type {\n        vertical-align: middle;\n    }\n\n    .dataframe tbody tr th {\n        vertical-align: top;\n    }\n\n    .dataframe thead th {\n        text-align: right;\n    }\n</style>\n<table border=\"1\" class=\"dataframe\">\n  <thead>\n    <tr style=\"text-align: right;\">\n      <th></th>\n      <th>1_Instant food products</th>\n      <th>1_UHT-milk</th>\n      <th>1_artif. sweetener</th>\n      <th>1_baby cosmetics</th>\n      <th>1_bags</th>\n      <th>1_baking powder</th>\n      <th>1_bathroom cleaner</th>\n      <th>1_beef</th>\n      <th>1_berries</th>\n      <th>1_beverages</th>\n      <th>1_bottled beer</th>\n      <th>1_bottled water</th>\n      <th>1_brandy</th>\n      <th>1_brown bread</th>\n      <th>1_butter</th>\n      <th>1_butter milk</th>\n      <th>1_candy</th>\n      <th>1_canned beer</th>\n      <th>1_canned fish</th>\n      <th>1_canned fruit</th>\n      <th>1_canned vegetables</th>\n      <th>1_cat food</th>\n      <th>1_chewing gum</th>\n      <th>1_chicken</th>\n      <th>1_chocolate</th>\n      <th>1_chocolate marshmallow</th>\n      <th>1_citrus fruit</th>\n      <th>1_cleaner</th>\n      <th>1_cling film/bags</th>\n      <th>1_coffee</th>\n      <th>1_condensed milk</th>\n      <th>1_cookware</th>\n      <th>1_cream cheese</th>\n      <th>1_curd</th>\n      <th>1_curd cheese</th>\n      <th>1_decalcifier</th>\n      <th>1_dental care</th>\n      <th>1_dessert</th>\n      <th>1_detergent</th>\n      <th>1_dish cleaner</th>\n      <th>...</th>\n      <th>9_pastry</th>\n      <th>9_pet care</th>\n      <th>9_photo/film</th>\n      <th>9_pickled vegetables</th>\n      <th>9_popcorn</th>\n      <th>9_pot plants</th>\n      <th>9_potato products</th>\n      <th>9_processed cheese</th>\n      <th>9_red/blush wine</th>\n      <th>9_rice</th>\n      <th>9_rolls/buns</th>\n      <th>9_root vegetables</th>\n      <th>9_rubbing alcohol</th>\n      <th>9_rum</th>\n      <th>9_salt</th>\n      <th>9_salty snack</th>\n      <th>9_sauces</th>\n      <th>9_seasonal products</th>\n      <th>9_semi-finished bread</th>\n      <th>9_shopping bags</th>\n      <th>9_skin care</th>\n      <th>9_sliced cheese</th>\n      <th>9_soda</th>\n      <th>9_soft cheese</th>\n      <th>9_sparkling wine</th>\n      <th>9_specialty bar</th>\n      <th>9_specialty cheese</th>\n      <th>9_specialty vegetables</th>\n      <th>9_spread cheese</th>\n      <th>9_sugar</th>\n      <th>9_sweet spreads</th>\n      <th>9_tea</th>\n      <th>9_vinegar</th>\n      <th>9_waffles</th>\n      <th>9_whipped/sour cream</th>\n      <th>9_white bread</th>\n      <th>9_white wine</th>\n      <th>9_whole milk</th>\n      <th>9_yogurt</th>\n      <th>9_zwieback</th>\n    </tr>\n  </thead>\n  <tbody>\n    <tr>\n      <th>0</th>\n      <td>0</td>\n      <td>0</td>\n      <td>0</td>\n      <td>0</td>\n      <td>0</td>\n      <td>0</td>\n      <td>0</td>\n      <td>0</td>\n      <td>0</td>\n      <td>0</td>\n      <td>0</td>\n      <td>0</td>\n      <td>0</td>\n      <td>0</td>\n      <td>0</td>\n      <td>0</td>\n      <td>0</td>\n      <td>0</td>\n      <td>0</td>\n      <td>0</td>\n      <td>0</td>\n      <td>0</td>\n      <td>0</td>\n      <td>0</td>\n      <td>0</td>\n      <td>0</td>\n      <td>1</td>\n      <td>0</td>\n      <td>0</td>\n      <td>0</td>\n      <td>0</td>\n      <td>0</td>\n      <td>0</td>\n      <td>0</td>\n      <td>0</td>\n      <td>0</td>\n      <td>0</td>\n      <td>0</td>\n      <td>0</td>\n      <td>0</td>\n      <td>...</td>\n      <td>0</td>\n      <td>0</td>\n      <td>0</td>\n      <td>0</td>\n      <td>0</td>\n      <td>0</td>\n      <td>0</td>\n      <td>0</td>\n      <td>0</td>\n      <td>0</td>\n      <td>0</td>\n      <td>0</td>\n      <td>0</td>\n      <td>0</td>\n      <td>0</td>\n      <td>0</td>\n      <td>0</td>\n      <td>0</td>\n      <td>0</td>\n      <td>0</td>\n      <td>0</td>\n      <td>0</td>\n      <td>0</td>\n      <td>0</td>\n      <td>0</td>\n      <td>0</td>\n      <td>0</td>\n      <td>0</td>\n      <td>0</td>\n      <td>0</td>\n      <td>0</td>\n      <td>0</td>\n      <td>0</td>\n      <td>0</td>\n      <td>0</td>\n      <td>0</td>\n      <td>0</td>\n      <td>0</td>\n      <td>0</td>\n      <td>0</td>\n    </tr>\n    <tr>\n      <th>1</th>\n      <td>0</td>\n      <td>0</td>\n      <td>0</td>\n      <td>0</td>\n      <td>0</td>\n      <td>0</td>\n      <td>0</td>\n      <td>0</td>\n      <td>0</td>\n      <td>0</td>\n      <td>0</td>\n      <td>0</td>\n      <td>0</td>\n      <td>0</td>\n      <td>0</td>\n      <td>0</td>\n      <td>0</td>\n      <td>0</td>\n      <td>0</td>\n      <td>0</td>\n      <td>0</td>\n      <td>0</td>\n      <td>0</td>\n      <td>0</td>\n      <td>0</td>\n      <td>0</td>\n      <td>0</td>\n      <td>0</td>\n      <td>0</td>\n      <td>0</td>\n      <td>0</td>\n      <td>0</td>\n      <td>0</td>\n      <td>0</td>\n      <td>0</td>\n      <td>0</td>\n      <td>0</td>\n      <td>0</td>\n      <td>0</td>\n      <td>0</td>\n      <td>...</td>\n      <td>0</td>\n      <td>0</td>\n      <td>0</td>\n      <td>0</td>\n      <td>0</td>\n      <td>0</td>\n      <td>0</td>\n      <td>0</td>\n      <td>0</td>\n      <td>0</td>\n      <td>0</td>\n      <td>0</td>\n      <td>0</td>\n      <td>0</td>\n      <td>0</td>\n      <td>0</td>\n      <td>0</td>\n      <td>0</td>\n      <td>0</td>\n      <td>0</td>\n      <td>0</td>\n      <td>0</td>\n      <td>0</td>\n      <td>0</td>\n      <td>0</td>\n      <td>0</td>\n      <td>0</td>\n      <td>0</td>\n      <td>0</td>\n      <td>0</td>\n      <td>0</td>\n      <td>0</td>\n      <td>0</td>\n      <td>0</td>\n      <td>0</td>\n      <td>0</td>\n      <td>0</td>\n      <td>0</td>\n      <td>0</td>\n      <td>0</td>\n    </tr>\n    <tr>\n      <th>2</th>\n      <td>0</td>\n      <td>0</td>\n      <td>0</td>\n      <td>0</td>\n      <td>0</td>\n      <td>0</td>\n      <td>0</td>\n      <td>0</td>\n      <td>0</td>\n      <td>0</td>\n      <td>0</td>\n      <td>0</td>\n      <td>0</td>\n      <td>0</td>\n      <td>0</td>\n      <td>0</td>\n      <td>0</td>\n      <td>0</td>\n      <td>0</td>\n      <td>0</td>\n      <td>0</td>\n      <td>0</td>\n      <td>0</td>\n      <td>0</td>\n      <td>0</td>\n      <td>0</td>\n      <td>0</td>\n      <td>0</td>\n      <td>0</td>\n      <td>0</td>\n      <td>0</td>\n      <td>0</td>\n      <td>0</td>\n      <td>0</td>\n      <td>0</td>\n      <td>0</td>\n      <td>0</td>\n      <td>0</td>\n      <td>0</td>\n      <td>0</td>\n      <td>...</td>\n      <td>0</td>\n      <td>0</td>\n      <td>0</td>\n      <td>0</td>\n      <td>0</td>\n      <td>0</td>\n      <td>0</td>\n      <td>0</td>\n      <td>0</td>\n      <td>0</td>\n      <td>0</td>\n      <td>0</td>\n      <td>0</td>\n      <td>0</td>\n      <td>0</td>\n      <td>0</td>\n      <td>0</td>\n      <td>0</td>\n      <td>0</td>\n      <td>0</td>\n      <td>0</td>\n      <td>0</td>\n      <td>0</td>\n      <td>0</td>\n      <td>0</td>\n      <td>0</td>\n      <td>0</td>\n      <td>0</td>\n      <td>0</td>\n      <td>0</td>\n      <td>0</td>\n      <td>0</td>\n      <td>0</td>\n      <td>0</td>\n      <td>0</td>\n      <td>0</td>\n      <td>0</td>\n      <td>0</td>\n      <td>0</td>\n      <td>0</td>\n    </tr>\n    <tr>\n      <th>3</th>\n      <td>0</td>\n      <td>0</td>\n      <td>0</td>\n      <td>0</td>\n      <td>0</td>\n      <td>0</td>\n      <td>0</td>\n      <td>0</td>\n      <td>0</td>\n      <td>0</td>\n      <td>0</td>\n      <td>0</td>\n      <td>0</td>\n      <td>0</td>\n      <td>0</td>\n      <td>0</td>\n      <td>0</td>\n      <td>0</td>\n      <td>0</td>\n      <td>0</td>\n      <td>0</td>\n      <td>0</td>\n      <td>0</td>\n      <td>0</td>\n      <td>0</td>\n      <td>0</td>\n      <td>0</td>\n      <td>0</td>\n      <td>0</td>\n      <td>0</td>\n      <td>0</td>\n      <td>0</td>\n      <td>0</td>\n      <td>0</td>\n      <td>0</td>\n      <td>0</td>\n      <td>0</td>\n      <td>0</td>\n      <td>0</td>\n      <td>0</td>\n      <td>...</td>\n      <td>0</td>\n      <td>0</td>\n      <td>0</td>\n      <td>0</td>\n      <td>0</td>\n      <td>0</td>\n      <td>0</td>\n      <td>0</td>\n      <td>0</td>\n      <td>0</td>\n      <td>0</td>\n      <td>0</td>\n      <td>0</td>\n      <td>0</td>\n      <td>0</td>\n      <td>0</td>\n      <td>0</td>\n      <td>0</td>\n      <td>0</td>\n      <td>0</td>\n      <td>0</td>\n      <td>0</td>\n      <td>0</td>\n      <td>0</td>\n      <td>0</td>\n      <td>0</td>\n      <td>0</td>\n      <td>0</td>\n      <td>0</td>\n      <td>0</td>\n      <td>0</td>\n      <td>0</td>\n      <td>0</td>\n      <td>0</td>\n      <td>0</td>\n      <td>0</td>\n      <td>0</td>\n      <td>0</td>\n      <td>0</td>\n      <td>0</td>\n    </tr>\n    <tr>\n      <th>4</th>\n      <td>0</td>\n      <td>0</td>\n      <td>0</td>\n      <td>0</td>\n      <td>0</td>\n      <td>0</td>\n      <td>0</td>\n      <td>0</td>\n      <td>0</td>\n      <td>0</td>\n      <td>0</td>\n      <td>0</td>\n      <td>0</td>\n      <td>0</td>\n      <td>0</td>\n      <td>0</td>\n      <td>0</td>\n      <td>0</td>\n      <td>0</td>\n      <td>0</td>\n      <td>0</td>\n      <td>0</td>\n      <td>0</td>\n      <td>0</td>\n      <td>0</td>\n      <td>0</td>\n      <td>0</td>\n      <td>0</td>\n      <td>0</td>\n      <td>0</td>\n      <td>0</td>\n      <td>0</td>\n      <td>0</td>\n      <td>0</td>\n      <td>0</td>\n      <td>0</td>\n      <td>0</td>\n      <td>0</td>\n      <td>0</td>\n      <td>0</td>\n      <td>...</td>\n      <td>0</td>\n      <td>0</td>\n      <td>0</td>\n      <td>0</td>\n      <td>0</td>\n      <td>0</td>\n      <td>0</td>\n      <td>0</td>\n      <td>0</td>\n      <td>0</td>\n      <td>0</td>\n      <td>0</td>\n      <td>0</td>\n      <td>0</td>\n      <td>0</td>\n      <td>0</td>\n      <td>0</td>\n      <td>0</td>\n      <td>0</td>\n      <td>0</td>\n      <td>0</td>\n      <td>0</td>\n      <td>0</td>\n      <td>0</td>\n      <td>0</td>\n      <td>0</td>\n      <td>0</td>\n      <td>0</td>\n      <td>0</td>\n      <td>0</td>\n      <td>0</td>\n      <td>0</td>\n      <td>0</td>\n      <td>0</td>\n      <td>0</td>\n      <td>0</td>\n      <td>0</td>\n      <td>0</td>\n      <td>0</td>\n      <td>0</td>\n    </tr>\n  </tbody>\n</table>\n<p>5 rows × 1113 columns</p>\n</div>"
     },
     "metadata": {},
     "execution_count": 17
    }
   ],
   "source": [
    "basket_sets = pd.get_dummies(data)\n",
    "basket_sets.head()"
   ]
  },
  {
   "cell_type": "code",
   "execution_count": null,
   "metadata": {},
   "outputs": [],
   "source": []
  }
 ]
}