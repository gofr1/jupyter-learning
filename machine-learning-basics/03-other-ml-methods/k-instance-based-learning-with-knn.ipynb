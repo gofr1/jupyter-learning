{
 "metadata": {
  "language_info": {
   "codemirror_mode": {
    "name": "ipython",
    "version": 3
   },
   "file_extension": ".py",
   "mimetype": "text/x-python",
   "name": "python",
   "nbconvert_exporter": "python",
   "pygments_lexer": "ipython3",
   "version": "3.8.3"
  },
  "orig_nbformat": 2,
  "kernelspec": {
   "name": "python383jvsc74a57bd07e7ed898d369334e998bf643179707e62ca7f11d6a1140b26f2ba8bce3c4feca",
   "display_name": "Python 3.8.3 64-bit ('env-ml': venv)"
  },
  "metadata": {
   "interpreter": {
    "hash": "7e7ed898d369334e998bf643179707e62ca7f11d6a1140b26f2ba8bce3c4feca"
   }
  }
 },
 "nbformat": 4,
 "nbformat_minor": 2,
 "cells": [
  {
   "source": [
    "# K-Nearest Neighbour Classification"
   ],
   "cell_type": "markdown",
   "metadata": {}
  },
  {
   "source": [
    "A supervised classifier that memorizes observations from within a test set to predict classification labels for new, unlabeled observations.\n",
    "\n",
    "KNN makes predictions based on how similar training observations are to the new, incoming observations.\n",
    "\n",
    "The more similar the observation values, the more likely they will be classified with the same label. "
   ],
   "cell_type": "markdown",
   "metadata": {}
  },
  {
   "source": [
    "Use cases:\n",
    "\n",
    "- Stock Price Prediction\n",
    "- Credit Risk Analysis \n",
    "- Predictive Trip Planning\n",
    "- Recommendation Systems"
   ],
   "cell_type": "markdown",
   "metadata": {}
  },
  {
   "source": [
    "Assumptions:\n",
    "\n",
    "- Dataset has little noise\n",
    "- Dataset is labeled\n",
    "- Dataset only contains relevant features\n",
    "- Dataset has distinguishable subgroups\n",
    "- Avoid using KNN on large datasets (it will take a long time)"
   ],
   "cell_type": "markdown",
   "metadata": {}
  },
  {
   "source": [],
   "cell_type": "markdown",
   "metadata": {}
  }
 ]
}