{
 "metadata": {
  "language_info": {
   "codemirror_mode": {
    "name": "ipython",
    "version": 3
   },
   "file_extension": ".py",
   "mimetype": "text/x-python",
   "name": "python",
   "nbconvert_exporter": "python",
   "pygments_lexer": "ipython3",
   "version": "3.8.3"
  },
  "orig_nbformat": 2,
  "kernelspec": {
   "name": "python383jvsc74a57bd07e7ed898d369334e998bf643179707e62ca7f11d6a1140b26f2ba8bce3c4feca",
   "display_name": "Python 3.8.3 64-bit ('env-ml': venv)"
  },
  "metadata": {
   "interpreter": {
    "hash": "7e7ed898d369334e998bf643179707e62ca7f11d6a1140b26f2ba8bce3c4feca"
   }
  }
 },
 "nbformat": 4,
 "nbformat_minor": 2,
 "cells": [
  {
   "source": [
    "# Bayesian models with Naive Bayes"
   ],
   "cell_type": "markdown",
   "metadata": {}
  },
  {
   "source": [
    "Naïve Bayes classification is a machine learning method that you can use to predict the likelihood that an event will occur given evidence that's present in your data.\n",
    "\n",
    "## Three types of Naïve Bayes model\n",
    "\n",
    "- Multinomial\n",
    "- Bernoulli\n",
    "- Gaussian\n",
    "\n",
    "The **Multinomial** Naïve Bayes is good for when your features are categorical or continuous and describe discrete frequency counts.  \n",
    "The **Bernoulli** Naïve Bayes model is good for making predictions from binary features.  \n",
    "The **Gaussian** Naïve Bayes model is good for making predictions from normally distributed features.\n"
   ],
   "cell_type": "markdown",
   "metadata": {}
  },
  {
   "source": [
    "## Use cases for Naïve Bayes includes:\n",
    "\n",
    "- spam detection\n",
    "- customer classification\n",
    "- credit risk prediction \n",
    "- health risk prediction.\n"
   ],
   "cell_type": "markdown",
   "metadata": {}
  },
  {
   "source": [
    "## Assumptions of the Naïve Bayes model\n",
    "\n",
    "- Predictors are independent of each other\n",
    "- An a-priori assumption: this assumption is that past conditions still hold true, when we make predictions from historical values, we will get incorrect results if present circumstances have changed.\n"
   ],
   "cell_type": "markdown",
   "metadata": {}
  },
  {
   "cell_type": "code",
   "execution_count": null,
   "metadata": {},
   "outputs": [],
   "source": []
  }
 ]
}