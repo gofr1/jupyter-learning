{
 "metadata": {
  "language_info": {
   "codemirror_mode": {
    "name": "ipython",
    "version": 3
   },
   "file_extension": ".py",
   "mimetype": "text/x-python",
   "name": "python",
   "nbconvert_exporter": "python",
   "pygments_lexer": "ipython3",
   "version": "3.8.3"
  },
  "orig_nbformat": 2,
  "kernelspec": {
   "name": "python383jvsc74a57bd07e7ed898d369334e998bf643179707e62ca7f11d6a1140b26f2ba8bce3c4feca",
   "display_name": "Python 3.8.3 64-bit ('env-ml': venv)"
  },
  "metadata": {
   "interpreter": {
    "hash": "7e7ed898d369334e998bf643179707e62ca7f11d6a1140b26f2ba8bce3c4feca"
   }
  }
 },
 "nbformat": 4,
 "nbformat_minor": 2,
 "cells": [
  {
   "source": [
    "# Bayesian models with Naive Bayes"
   ],
   "cell_type": "markdown",
   "metadata": {}
  },
  {
   "source": [
    "Naïve Bayes classification is a machine learning method that you can use to predict the likelihood that an event will occur given evidence that's present in your data.\n",
    "\n",
    "## Three types of Naïve Bayes model\n",
    "\n",
    "- Multinomial\n",
    "- Bernoulli\n",
    "- Gaussian\n",
    "\n",
    "The **Multinomial** Naïve Bayes is good for when your features are categorical or continuous and describe discrete frequency counts.  \n",
    "The **Bernoulli** Naïve Bayes model is good for making predictions from binary features.  \n",
    "The **Gaussian** Naïve Bayes model is good for making predictions from normally distributed features.\n"
   ],
   "cell_type": "markdown",
   "metadata": {}
  },
  {
   "source": [
    "## Use cases for Naïve Bayes includes:\n",
    "\n",
    "- spam detection\n",
    "- customer classification\n",
    "- credit risk prediction \n",
    "- health risk prediction.\n"
   ],
   "cell_type": "markdown",
   "metadata": {}
  },
  {
   "source": [
    "## Assumptions of the Naïve Bayes model\n",
    "\n",
    "- Predictors are independent of each other\n",
    "- An a-priori assumption: this assumption is that past conditions still hold true, when we make predictions from historical values, we will get incorrect results if present circumstances have changed.\n"
   ],
   "cell_type": "markdown",
   "metadata": {}
  },
  {
   "cell_type": "code",
   "execution_count": 4,
   "metadata": {},
   "outputs": [],
   "source": [
    "import numpy as np \n",
    "import pandas as pd \n",
    "import urllib\n",
    "import sklearn \n",
    "\n",
    "from sklearn.model_selection import train_test_split\n",
    "from sklearn import metrics\n",
    "from sklearn.metrics import accuracy_score"
   ]
  },
  {
   "cell_type": "code",
   "execution_count": 2,
   "metadata": {},
   "outputs": [],
   "source": [
    "from sklearn.naive_bayes import BernoulliNB, GaussianNB, MultinomialNB"
   ]
  },
  {
   "cell_type": "code",
   "execution_count": 8,
   "metadata": {},
   "outputs": [
    {
     "output_type": "stream",
     "name": "stdout",
     "text": [
      "[  0.      0.64    0.64    0.      0.32    0.      0.      0.      0.\n   0.      0.      0.64    0.      0.      0.      0.32    0.      1.29\n   1.93    0.      0.96    0.      0.      0.      0.      0.      0.\n   0.      0.      0.      0.      0.      0.      0.      0.      0.\n   0.      0.      0.      0.      0.      0.      0.      0.      0.\n   0.      0.      0.      0.      0.      0.      0.778   0.      0.\n   3.756  61.    278.      1.   ]\n"
     ]
    }
   ],
   "source": [
    "url = 'https://archive.ics.uci.edu/ml/machine-learning-databases/spambase/spambase.data'\n",
    "raw_data = urllib.request.urlopen(url)\n",
    "dataset = np.loadtxt(raw_data, delimiter=',')\n",
    "print(dataset[0])"
   ]
  },
  {
   "cell_type": "code",
   "execution_count": 11,
   "metadata": {},
   "outputs": [],
   "source": [
    "x = dataset[:,0:48]\n",
    "\n",
    "# isolate target variable\n",
    "y = dataset[:,-1]"
   ]
  },
  {
   "cell_type": "code",
   "execution_count": 12,
   "metadata": {},
   "outputs": [],
   "source": [
    "# break data in train and test sets\n",
    "x_train, x_test, y_train, y_test = train_test_split(x, y, test_size=.2, random_state=17)"
   ]
  },
  {
   "source": [
    "### Bernoulli"
   ],
   "cell_type": "markdown",
   "metadata": {}
  },
  {
   "cell_type": "code",
   "execution_count": 13,
   "metadata": {},
   "outputs": [
    {
     "output_type": "execute_result",
     "data": {
      "text/plain": [
       "BernoulliNB(binarize=True)"
      ]
     },
     "metadata": {},
     "execution_count": 13
    }
   ],
   "source": [
    "BernNB = BernoulliNB(binarize=True)\n",
    "BernNB.fit(x_train, y_train)"
   ]
  },
  {
   "cell_type": "code",
   "execution_count": 14,
   "metadata": {},
   "outputs": [
    {
     "output_type": "execute_result",
     "data": {
      "text/plain": [
       "0.8577633007600435"
      ]
     },
     "metadata": {},
     "execution_count": 14
    }
   ],
   "source": [
    "y_pred = BernNB.predict(x_test)\n",
    "\n",
    "accuracy_score(y_test, y_pred)"
   ]
  },
  {
   "source": [
    "### Multinomial"
   ],
   "cell_type": "markdown",
   "metadata": {}
  },
  {
   "cell_type": "code",
   "execution_count": 16,
   "metadata": {},
   "outputs": [
    {
     "output_type": "execute_result",
     "data": {
      "text/plain": [
       "MultinomialNB()"
      ]
     },
     "metadata": {},
     "execution_count": 16
    }
   ],
   "source": [
    "MultiNB = MultinomialNB()\n",
    "MultiNB.fit(x_train, y_train)"
   ]
  },
  {
   "cell_type": "code",
   "execution_count": 17,
   "metadata": {},
   "outputs": [
    {
     "output_type": "execute_result",
     "data": {
      "text/plain": [
       "0.8816503800217155"
      ]
     },
     "metadata": {},
     "execution_count": 17
    }
   ],
   "source": [
    "y_pred = MultiNB.predict(x_test)\n",
    "\n",
    "accuracy_score(y_test, y_pred)"
   ]
  },
  {
   "source": [
    "### Gaussian"
   ],
   "cell_type": "markdown",
   "metadata": {}
  },
  {
   "cell_type": "code",
   "execution_count": 19,
   "metadata": {},
   "outputs": [
    {
     "output_type": "execute_result",
     "data": {
      "text/plain": [
       "GaussianNB()"
      ]
     },
     "metadata": {},
     "execution_count": 19
    }
   ],
   "source": [
    "GausNB = GaussianNB()\n",
    "GausNB.fit(x_train, y_train)"
   ]
  },
  {
   "cell_type": "code",
   "execution_count": 20,
   "metadata": {},
   "outputs": [
    {
     "output_type": "execute_result",
     "data": {
      "text/plain": [
       "0.8197611292073833"
      ]
     },
     "metadata": {},
     "execution_count": 20
    }
   ],
   "source": [
    "y_pred = GausNB.predict(x_test)\n",
    "\n",
    "accuracy_score(y_test, y_pred)"
   ]
  },
  {
   "source": [
    "### Improve scores"
   ],
   "cell_type": "markdown",
   "metadata": {}
  },
  {
   "cell_type": "code",
   "execution_count": 22,
   "metadata": {},
   "outputs": [
    {
     "output_type": "execute_result",
     "data": {
      "text/plain": [
       "BernoulliNB(binarize=0.1)"
      ]
     },
     "metadata": {},
     "execution_count": 22
    }
   ],
   "source": [
    "BernNBi = BernoulliNB(binarize=.1)\n",
    "BernNBi.fit(x_train, y_train)"
   ]
  },
  {
   "cell_type": "code",
   "execution_count": 23,
   "metadata": {},
   "outputs": [
    {
     "output_type": "execute_result",
     "data": {
      "text/plain": [
       "0.9109663409337676"
      ]
     },
     "metadata": {},
     "execution_count": 23
    }
   ],
   "source": [
    "y_pred = BernNBi.predict(x_test)\n",
    "\n",
    "accuracy_score(y_test, y_pred)"
   ]
  }
 ]
}