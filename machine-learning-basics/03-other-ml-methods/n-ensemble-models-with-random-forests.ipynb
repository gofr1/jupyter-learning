{
 "metadata": {
  "language_info": {
   "codemirror_mode": {
    "name": "ipython",
    "version": 3
   },
   "file_extension": ".py",
   "mimetype": "text/x-python",
   "name": "python",
   "nbconvert_exporter": "python",
   "pygments_lexer": "ipython3",
   "version": "3.8.3"
  },
  "orig_nbformat": 2,
  "kernelspec": {
   "name": "python383jvsc74a57bd07e7ed898d369334e998bf643179707e62ca7f11d6a1140b26f2ba8bce3c4feca",
   "display_name": "Python 3.8.3 64-bit ('env-ml': venv)"
  },
  "metadata": {
   "interpreter": {
    "hash": "7e7ed898d369334e998bf643179707e62ca7f11d6a1140b26f2ba8bce3c4feca"
   }
  }
 },
 "nbformat": 4,
 "nbformat_minor": 2,
 "cells": [
  {
   "source": [
    "# Ensemble models with random forests"
   ],
   "cell_type": "markdown",
   "metadata": {}
  },
  {
   "source": [
    "Ensemble methods are machine learning methods that combine several based models to produce one optimal predictive model.  \n",
    "They combine decisions from multiple models to improve the overall performance.  \n",
    "Ensemble learning involves creating a collection, or ensemble, of multiple algorithms for the purpose of generating a single model that's far more powerful and reliable than its component parts.  "
   ],
   "cell_type": "markdown",
   "metadata": {}
  },
  {
   "source": [
    "## Types of ensemble methods\n",
    "\n",
    "- majority voting\n",
    "- averaging\n",
    "- weighted averaging\n",
    "- bagging\n",
    "- boosting\n",
    "\n"
   ],
   "cell_type": "markdown",
   "metadata": {}
  },
  {
   "source": [
    "## The majority voting method \n",
    " \n",
    "Picks the result based on the majority of votes from different models.  \n",
    "This method is generally used in classification problems.  \n",
    "\n",
    "## The averaging method \n",
    "\n",
    "Is quite similar to majority voting. Multiple models are run, and predictions are averaged.  \n",
    "Averaging method can be used in both classification and regression problems.\n",
    "\n",
    "## The weighted average method\n",
    "\n",
    "Uses multiple models to make predictions. The method allocates weights to different model predictions, and averages them out.\n",
    "\n",
    "## Bagging\n",
    "\n",
    "Is a method wherein the results from multiple models are combined to get a final result.  \n",
    "Decision trees are used frequently with bagging.  \n",
    "The main idea of bagging is to create subsets of the original data and run different models on the subsets.  \n",
    "Finally, the results are aggregated. Bagging works in parallel.  \n",
    "\n",
    "## Boosting\n",
    "\n",
    "Is a slightly more complex version of bagging.  \n",
    "Boosting has a sequential approach. The six main steps of boosting are:\n",
    "\n",
    "- create a subset of the data\n",
    "- run a model on the subset of the data and get the predictions\n",
    "- calculate errors on those predictions\n",
    "- assign weight to the incorrect predictions\n",
    "- create another model with the same data, and the next subset of data is created\n",
    "- the cycle repeats itself until a strong learner is created\n"
   ],
   "cell_type": "markdown",
   "metadata": {}
  },
  {
   "source": [
    "## Random forest\n",
    "\n",
    "Is an ensemble model which follows the bagging method.  \n",
    "This model uses decision trees to form ensembles.  \n",
    "This approach is useful for both classification and regression problems.  \n",
    "\n",
    "### How random forests works\n",
    "\n",
    "When predicting a new value for a target feature, each tree is either using regression or classification to come up with a value that serves as a vote.  \n",
    "The random forest algorithm then takes an average of all votes from all trees in the ensemble.  \n",
    "This average is the predicted value of the target feature for the variable in question.\n",
    "\n",
    "### There are five main steps in random forest\n",
    "\n",
    "- createa random subset from the original data\n",
    "- randomly select a feature at each node in the decision tree\n",
    "- the best split is decided\n",
    "- for each subset of data, a separate model is created (this is called a *base learner*)\n",
    "- compute the final prediction by averaging the predictions from all the individual models\n",
    "\n",
    "## The advantages of random forest are\n",
    "\n",
    "- Easy to understand\n",
    "- Useful for data exploration\n",
    "- Reduced data cleaning (scaling not required)\n",
    "- Highly flexible\n",
    "- Gives good accuracy.\n",
    "- Works well on large datasets\n",
    "- Handle multiple data types\n",
    "- Overfitting is avoided (due to averaging)\n",
    "\n",
    "## The disadvantages of random forest are\n",
    "\n",
    "- Does not work well with sparse datasets\n",
    "- Requires a bit of computational resources to run\n",
    "- No interpretability\n",
    "- Not for continuous variables"
   ],
   "cell_type": "markdown",
   "metadata": {}
  },
  {
   "cell_type": "code",
   "execution_count": 2,
   "metadata": {},
   "outputs": [],
   "source": [
    "import numpy as np \n",
    "import pandas as pd \n",
    "\n",
    "import sklearn.datasets as datasets \n",
    "from sklearn.model_selection import train_test_split\n",
    "from sklearn import metrics"
   ]
  },
  {
   "cell_type": "code",
   "execution_count": 3,
   "metadata": {},
   "outputs": [],
   "source": [
    "from sklearn.ensemble import RandomForestClassifier"
   ]
  },
  {
   "cell_type": "code",
   "execution_count": 5,
   "metadata": {},
   "outputs": [
    {
     "output_type": "stream",
     "name": "stdout",
     "text": [
      "   sepal length (cm)  sepal width (cm)  petal length (cm)  petal width (cm)\n0                5.1               3.5                1.4               0.2\n1                4.9               3.0                1.4               0.2\n2                4.7               3.2                1.3               0.2\n3                4.6               3.1                1.5               0.2\n4                5.0               3.6                1.4               0.2\n"
     ]
    },
    {
     "output_type": "execute_result",
     "data": {
      "text/plain": [
       "   labels\n",
       "0       0\n",
       "1       0\n",
       "2       0\n",
       "3       0\n",
       "4       0"
      ],
      "text/html": "<div>\n<style scoped>\n    .dataframe tbody tr th:only-of-type {\n        vertical-align: middle;\n    }\n\n    .dataframe tbody tr th {\n        vertical-align: top;\n    }\n\n    .dataframe thead th {\n        text-align: right;\n    }\n</style>\n<table border=\"1\" class=\"dataframe\">\n  <thead>\n    <tr style=\"text-align: right;\">\n      <th></th>\n      <th>labels</th>\n    </tr>\n  </thead>\n  <tbody>\n    <tr>\n      <th>0</th>\n      <td>0</td>\n    </tr>\n    <tr>\n      <th>1</th>\n      <td>0</td>\n    </tr>\n    <tr>\n      <th>2</th>\n      <td>0</td>\n    </tr>\n    <tr>\n      <th>3</th>\n      <td>0</td>\n    </tr>\n    <tr>\n      <th>4</th>\n      <td>0</td>\n    </tr>\n  </tbody>\n</table>\n</div>"
     },
     "metadata": {},
     "execution_count": 5
    }
   ],
   "source": [
    "iris = datasets.load_iris()\n",
    "df = pd.DataFrame(iris.data, columns=iris.feature_names)\n",
    "y = pd.DataFrame(iris.target)\n",
    "\n",
    "y.columns=['labels']\n",
    "\n",
    "print(df.head())\n",
    "y[0:5]"
   ]
  },
  {
   "cell_type": "code",
   "execution_count": 6,
   "metadata": {},
   "outputs": [
    {
     "output_type": "execute_result",
     "data": {
      "text/plain": [
       "sepal length (cm)    False\n",
       "sepal width (cm)     False\n",
       "petal length (cm)    False\n",
       "petal width (cm)     False\n",
       "dtype: bool"
      ]
     },
     "metadata": {},
     "execution_count": 6
    }
   ],
   "source": [
    "# The sepal length, sepal width, pedal length, and pedal width, these are indicators or predictors of species type, and species type is our label here\n",
    "\n",
    "df.isnull().any() == True"
   ]
  },
  {
   "cell_type": "code",
   "execution_count": 7,
   "metadata": {},
   "outputs": [
    {
     "output_type": "execute_result",
     "data": {
      "text/plain": [
       "0    50\n",
       "1    50\n",
       "2    50\n",
       "Name: labels, dtype: int64"
      ]
     },
     "metadata": {},
     "execution_count": 7
    }
   ],
   "source": [
    "y.labels.value_counts()"
   ]
  },
  {
   "source": [
    "## Preparing the data for training the model"
   ],
   "cell_type": "markdown",
   "metadata": {}
  },
  {
   "cell_type": "code",
   "execution_count": 9,
   "metadata": {},
   "outputs": [],
   "source": [
    "x_train, x_test, y_train, y_test = train_test_split(df, y, train_size=.2, random_state=17)"
   ]
  },
  {
   "source": [
    "## Build a random forest model"
   ],
   "cell_type": "markdown",
   "metadata": {}
  },
  {
   "cell_type": "code",
   "execution_count": 11,
   "metadata": {},
   "outputs": [],
   "source": [
    "classifier = RandomForestClassifier(n_estimators=200, random_state=0)\n",
    "\n",
    "y_train_array = np.ravel(y_train)\n",
    "\n",
    "classifier.fit(x_train, y_train_array)\n",
    "\n",
    "y_pred = classifier.predict(x_test)"
   ]
  },
  {
   "source": [
    "## Evaluating the model on the test data"
   ],
   "cell_type": "markdown",
   "metadata": {}
  },
  {
   "cell_type": "code",
   "execution_count": 15,
   "metadata": {},
   "outputs": [
    {
     "output_type": "stream",
     "name": "stdout",
     "text": [
      "              precision    recall  f1-score   support\n\n           0       1.00      1.00      1.00        36\n           1       0.95      0.95      0.95        43\n           2       0.95      0.95      0.95        41\n\n    accuracy                           0.97       120\n   macro avg       0.97      0.97      0.97       120\nweighted avg       0.97      0.97      0.97       120\n\n"
     ]
    }
   ],
   "source": [
    "print(metrics.classification_report(y_test, y_pred))"
   ]
  },
  {
   "cell_type": "code",
   "execution_count": 16,
   "metadata": {},
   "outputs": [
    {
     "output_type": "stream",
     "name": "stdout",
     "text": [
      "[0 1 2 1 2 2 1 2 1 2 2 0 1 0 2 0 0 2 2 2 2 0 2 1 1 1 1 1 0 1 0 1 0 0 1 1 1\n 2 1 0 1 1 0 1 2 1 1 2 1 0 2 1 1 1 1 0 1 2 2 0 0 2 0 2 2 0 2 0 0 1 2 0 0 1\n 0 2 2 0 0 1 2 2 0 0 2 0 0 2 2 2 2 0 2 1 0 1 0 0 1 1 1 2 1 2 2 1 1 2 2 1 0\n 2 2 1 2 1 0 1 0 1]\n[0 1 2 1 2 2 1 2 1 2 2 0 1 0 2 0 0 2 2 2 1 0 2 1 1 1 1 1 0 1 0 1 0 0 1 1 1\n 2 1 0 1 1 0 1 2 1 2 2 1 0 2 1 1 2 1 0 1 2 2 0 0 2 0 1 2 0 2 0 0 1 2 0 0 1\n 0 2 2 0 0 1 2 2 0 0 2 0 0 2 2 2 2 0 2 1 0 1 0 0 1 1 1 2 1 2 2 1 1 2 2 1 0\n 2 2 1 2 1 0 1 0 1]\n"
     ]
    }
   ],
   "source": [
    "y_test_array = np.ravel(y_test)\n",
    "print(y_test_array)\n",
    "print(y_pred)"
   ]
  }
 ]
}