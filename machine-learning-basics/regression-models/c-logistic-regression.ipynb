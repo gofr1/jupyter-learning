{
 "metadata": {
  "language_info": {
   "codemirror_mode": {
    "name": "ipython",
    "version": 3
   },
   "file_extension": ".py",
   "mimetype": "text/x-python",
   "name": "python",
   "nbconvert_exporter": "python",
   "pygments_lexer": "ipython3",
   "version": "3.8.3"
  },
  "orig_nbformat": 2,
  "kernelspec": {
   "name": "python383jvsc74a57bd07e7ed898d369334e998bf643179707e62ca7f11d6a1140b26f2ba8bce3c4feca",
   "display_name": "Python 3.8.3 64-bit ('env-ml': venv)",
   "language": "python"
  },
  "metadata": {
   "interpreter": {
    "hash": "7e7ed898d369334e998bf643179707e62ca7f11d6a1140b26f2ba8bce3c4feca"
   }
  }
 },
 "nbformat": 4,
 "nbformat_minor": 2,
 "cells": [
  {
   "source": [
    "# Logistic Regression"
   ],
   "cell_type": "markdown",
   "metadata": {}
  },
  {
   "source": [
    "*Logistic regression* is a simple machine learning method you can use to predict the value of a numeric categorical variable based on its relationship with predictor variables.\n"
   ],
   "cell_type": "markdown",
   "metadata": {}
  },
  {
   "source": [
    "## Logistic Regression Assumptions\n",
    "\n",
    "- The data is free of missing values\n",
    "- The predictant variable is binary (that it only accepts two values) or ordinal, (a categorical variable with ordered values)\n",
    "- All predictors are independent of one another,\n",
    "- There are at least 50 observations per predictor variable (to ensure reliable results)"
   ],
   "cell_type": "markdown",
   "metadata": {}
  },
  {
   "cell_type": "code",
   "execution_count": 1,
   "metadata": {},
   "outputs": [],
   "source": [
    "import numpy as np \n",
    "import pandas as pd \n",
    "import seaborn as sb \n",
    "import matplotlib.pyplot as plt \n",
    "import sklearn\n",
    "\n",
    "from pandas import Series, DataFrame\n",
    "from pylab import rcParams\n",
    "from sklearn import preprocessing"
   ]
  },
  {
   "cell_type": "code",
   "execution_count": 2,
   "metadata": {},
   "outputs": [],
   "source": [
    "from sklearn.linear_model import LogisticRegression\n",
    "from sklearn.model_selection import train_test_split\n",
    "from sklearn.model_selection import cross_val_predict\n",
    "\n",
    "from sklearn import metrics\n",
    "from sklearn.metrics import classification_report\n",
    "from sklearn.metrics import confusion_matrix\n",
    "from sklearn.metrics import precision_score, recall_score\n"
   ]
  },
  {
   "cell_type": "code",
   "execution_count": 3,
   "metadata": {},
   "outputs": [],
   "source": [
    "%matplotlib inline\n",
    "rcParams['figure.figsize'] = 5, 4\n",
    "sb.set_style('whitegrid')"
   ]
  },
  {
   "source": [
    "### Load Data"
   ],
   "cell_type": "markdown",
   "metadata": {}
  },
  {
   "cell_type": "code",
   "execution_count": 4,
   "metadata": {},
   "outputs": [
    {
     "output_type": "execute_result",
     "data": {
      "text/plain": [
       "   PassengerId  Survived  Pclass  \\\n",
       "0            1         0       3   \n",
       "1            2         1       1   \n",
       "2            3         1       3   \n",
       "3            4         1       1   \n",
       "4            5         0       3   \n",
       "\n",
       "                                                Name     Sex   Age  SibSp  \\\n",
       "0                            Braund, Mr. Owen Harris    male  22.0      1   \n",
       "1  Cumings, Mrs. John Bradley (Florence Briggs Th...  female  38.0      1   \n",
       "2                             Heikkinen, Miss. Laina  female  26.0      0   \n",
       "3       Futrelle, Mrs. Jacques Heath (Lily May Peel)  female  35.0      1   \n",
       "4                           Allen, Mr. William Henry    male  35.0      0   \n",
       "\n",
       "   Parch            Ticket     Fare Cabin Embarked  \n",
       "0      0         A/5 21171   7.2500   NaN        S  \n",
       "1      0          PC 17599  71.2833   C85        C  \n",
       "2      0  STON/O2. 3101282   7.9250   NaN        S  \n",
       "3      0            113803  53.1000  C123        S  \n",
       "4      0            373450   8.0500   NaN        S  "
      ],
      "text/html": "<div>\n<style scoped>\n    .dataframe tbody tr th:only-of-type {\n        vertical-align: middle;\n    }\n\n    .dataframe tbody tr th {\n        vertical-align: top;\n    }\n\n    .dataframe thead th {\n        text-align: right;\n    }\n</style>\n<table border=\"1\" class=\"dataframe\">\n  <thead>\n    <tr style=\"text-align: right;\">\n      <th></th>\n      <th>PassengerId</th>\n      <th>Survived</th>\n      <th>Pclass</th>\n      <th>Name</th>\n      <th>Sex</th>\n      <th>Age</th>\n      <th>SibSp</th>\n      <th>Parch</th>\n      <th>Ticket</th>\n      <th>Fare</th>\n      <th>Cabin</th>\n      <th>Embarked</th>\n    </tr>\n  </thead>\n  <tbody>\n    <tr>\n      <th>0</th>\n      <td>1</td>\n      <td>0</td>\n      <td>3</td>\n      <td>Braund, Mr. Owen Harris</td>\n      <td>male</td>\n      <td>22.0</td>\n      <td>1</td>\n      <td>0</td>\n      <td>A/5 21171</td>\n      <td>7.2500</td>\n      <td>NaN</td>\n      <td>S</td>\n    </tr>\n    <tr>\n      <th>1</th>\n      <td>2</td>\n      <td>1</td>\n      <td>1</td>\n      <td>Cumings, Mrs. John Bradley (Florence Briggs Th...</td>\n      <td>female</td>\n      <td>38.0</td>\n      <td>1</td>\n      <td>0</td>\n      <td>PC 17599</td>\n      <td>71.2833</td>\n      <td>C85</td>\n      <td>C</td>\n    </tr>\n    <tr>\n      <th>2</th>\n      <td>3</td>\n      <td>1</td>\n      <td>3</td>\n      <td>Heikkinen, Miss. Laina</td>\n      <td>female</td>\n      <td>26.0</td>\n      <td>0</td>\n      <td>0</td>\n      <td>STON/O2. 3101282</td>\n      <td>7.9250</td>\n      <td>NaN</td>\n      <td>S</td>\n    </tr>\n    <tr>\n      <th>3</th>\n      <td>4</td>\n      <td>1</td>\n      <td>1</td>\n      <td>Futrelle, Mrs. Jacques Heath (Lily May Peel)</td>\n      <td>female</td>\n      <td>35.0</td>\n      <td>1</td>\n      <td>0</td>\n      <td>113803</td>\n      <td>53.1000</td>\n      <td>C123</td>\n      <td>S</td>\n    </tr>\n    <tr>\n      <th>4</th>\n      <td>5</td>\n      <td>0</td>\n      <td>3</td>\n      <td>Allen, Mr. William Henry</td>\n      <td>male</td>\n      <td>35.0</td>\n      <td>0</td>\n      <td>0</td>\n      <td>373450</td>\n      <td>8.0500</td>\n      <td>NaN</td>\n      <td>S</td>\n    </tr>\n  </tbody>\n</table>\n</div>"
     },
     "metadata": {},
     "execution_count": 4
    }
   ],
   "source": [
    "titanic_training = pd.read_csv('../../inputs/titanic.csv')\n",
    "titanic_training.head()"
   ]
  },
  {
   "cell_type": "code",
   "execution_count": 5,
   "metadata": {},
   "outputs": [
    {
     "output_type": "stream",
     "name": "stdout",
     "text": [
      "<class 'pandas.core.frame.DataFrame'>\nRangeIndex: 891 entries, 0 to 890\nData columns (total 12 columns):\n #   Column       Non-Null Count  Dtype  \n---  ------       --------------  -----  \n 0   PassengerId  891 non-null    int64  \n 1   Survived     891 non-null    int64  \n 2   Pclass       891 non-null    int64  \n 3   Name         891 non-null    object \n 4   Sex          891 non-null    object \n 5   Age          714 non-null    float64\n 6   SibSp        891 non-null    int64  \n 7   Parch        891 non-null    int64  \n 8   Ticket       891 non-null    object \n 9   Fare         891 non-null    float64\n 10  Cabin        204 non-null    object \n 11  Embarked     889 non-null    object \ndtypes: float64(2), int64(5), object(5)\nmemory usage: 83.7+ KB\n"
     ]
    }
   ],
   "source": [
    "titanic_training.info()"
   ]
  },
  {
   "source": [
    "### Variable description\n",
    "\n",
    "| Column | Description |\n",
    "| - | - |\n",
    "| Survived | Survival (0 = No, 1 = Yes) |\n",
    "| Pclass | Passenger class (1 = 1st, 2 = 2nd, 3 = 3rd) |\n",
    "| Name | Name |\n",
    "| Sex | Sex |\n",
    "| Age | Age  |\n",
    "| SibSp | Number of Siblings/Spouses Aboard |\n",
    "| Parch | Number of Parents/Children Aboard  |\n",
    "| Ticket | Ticket Number |\n",
    "| Fare | Passenger Fare (British pound) |\n",
    "| Cabin | Cabin  |\n",
    "| Embarked | Port of Embarkation (C = Cherbourg, France; Q = Queenstown, UK; S = Southampton, Ireland) |\n"
   ],
   "cell_type": "markdown",
   "metadata": {}
  },
  {
   "source": [
    "### Checking that your target variable is binary"
   ],
   "cell_type": "markdown",
   "metadata": {}
  },
  {
   "cell_type": "code",
   "execution_count": 6,
   "metadata": {},
   "outputs": [
    {
     "output_type": "execute_result",
     "data": {
      "text/plain": [
       "<AxesSubplot:xlabel='Survived', ylabel='count'>"
      ]
     },
     "metadata": {},
     "execution_count": 6
    },
    {
     "output_type": "display_data",
     "data": {
      "text/plain": "<Figure size 360x288 with 1 Axes>",
      "image/svg+xml": "<?xml version=\"1.0\" encoding=\"utf-8\" standalone=\"no\"?>\n<!DOCTYPE svg PUBLIC \"-//W3C//DTD SVG 1.1//EN\"\n  \"http://www.w3.org/Graphics/SVG/1.1/DTD/svg11.dtd\">\n<svg height=\"262.19625pt\" version=\"1.1\" viewBox=\"0 0 333.165625 262.19625\" width=\"333.165625pt\" xmlns=\"http://www.w3.org/2000/svg\" xmlns:xlink=\"http://www.w3.org/1999/xlink\">\n <metadata>\n  <rdf:RDF xmlns:cc=\"http://creativecommons.org/ns#\" xmlns:dc=\"http://purl.org/dc/elements/1.1/\" xmlns:rdf=\"http://www.w3.org/1999/02/22-rdf-syntax-ns#\">\n   <cc:Work>\n    <dc:type rdf:resource=\"http://purl.org/dc/dcmitype/StillImage\"/>\n    <dc:date>2021-05-17T12:30:49.931404</dc:date>\n    <dc:format>image/svg+xml</dc:format>\n    <dc:creator>\n     <cc:Agent>\n      <dc:title>Matplotlib v3.4.2, https://matplotlib.org/</dc:title>\n     </cc:Agent>\n    </dc:creator>\n   </cc:Work>\n  </rdf:RDF>\n </metadata>\n <defs>\n  <style type=\"text/css\">*{stroke-linecap:butt;stroke-linejoin:round;}</style>\n </defs>\n <g id=\"figure_1\">\n  <g id=\"patch_1\">\n   <path d=\"M 0 262.19625 \nL 333.165625 262.19625 \nL 333.165625 0 \nL 0 0 \nz\n\" style=\"fill:#ffffff;\"/>\n  </g>\n  <g id=\"axes_1\">\n   <g id=\"patch_2\">\n    <path d=\"M 46.965625 224.64 \nL 325.965625 224.64 \nL 325.965625 7.2 \nL 46.965625 7.2 \nz\n\" style=\"fill:#ffffff;\"/>\n   </g>\n   <g id=\"matplotlib.axis_1\">\n    <g id=\"xtick_1\">\n     <g id=\"text_1\">\n      <!-- 0 -->\n      <g style=\"fill:#262626;\" transform=\"translate(113.534375 239.238437)scale(0.1 -0.1)\">\n       <defs>\n        <path d=\"M 2034 4250 \nQ 1547 4250 1301 3770 \nQ 1056 3291 1056 2328 \nQ 1056 1369 1301 889 \nQ 1547 409 2034 409 \nQ 2525 409 2770 889 \nQ 3016 1369 3016 2328 \nQ 3016 3291 2770 3770 \nQ 2525 4250 2034 4250 \nz\nM 2034 4750 \nQ 2819 4750 3233 4129 \nQ 3647 3509 3647 2328 \nQ 3647 1150 3233 529 \nQ 2819 -91 2034 -91 \nQ 1250 -91 836 529 \nQ 422 1150 422 2328 \nQ 422 3509 836 4129 \nQ 1250 4750 2034 4750 \nz\n\" id=\"DejaVuSans-30\" transform=\"scale(0.015625)\"/>\n       </defs>\n       <use xlink:href=\"#DejaVuSans-30\"/>\n      </g>\n     </g>\n    </g>\n    <g id=\"xtick_2\">\n     <g id=\"text_2\">\n      <!-- 1 -->\n      <g style=\"fill:#262626;\" transform=\"translate(253.034375 239.238437)scale(0.1 -0.1)\">\n       <defs>\n        <path d=\"M 794 531 \nL 1825 531 \nL 1825 4091 \nL 703 3866 \nL 703 4441 \nL 1819 4666 \nL 2450 4666 \nL 2450 531 \nL 3481 531 \nL 3481 0 \nL 794 0 \nL 794 531 \nz\n\" id=\"DejaVuSans-31\" transform=\"scale(0.015625)\"/>\n       </defs>\n       <use xlink:href=\"#DejaVuSans-31\"/>\n      </g>\n     </g>\n    </g>\n    <g id=\"text_3\">\n     <!-- Survived -->\n     <g style=\"fill:#262626;\" transform=\"translate(164.508594 252.916562)scale(0.1 -0.1)\">\n      <defs>\n       <path d=\"M 3425 4513 \nL 3425 3897 \nQ 3066 4069 2747 4153 \nQ 2428 4238 2131 4238 \nQ 1616 4238 1336 4038 \nQ 1056 3838 1056 3469 \nQ 1056 3159 1242 3001 \nQ 1428 2844 1947 2747 \nL 2328 2669 \nQ 3034 2534 3370 2195 \nQ 3706 1856 3706 1288 \nQ 3706 609 3251 259 \nQ 2797 -91 1919 -91 \nQ 1588 -91 1214 -16 \nQ 841 59 441 206 \nL 441 856 \nQ 825 641 1194 531 \nQ 1563 422 1919 422 \nQ 2459 422 2753 634 \nQ 3047 847 3047 1241 \nQ 3047 1584 2836 1778 \nQ 2625 1972 2144 2069 \nL 1759 2144 \nQ 1053 2284 737 2584 \nQ 422 2884 422 3419 \nQ 422 4038 858 4394 \nQ 1294 4750 2059 4750 \nQ 2388 4750 2728 4690 \nQ 3069 4631 3425 4513 \nz\n\" id=\"DejaVuSans-53\" transform=\"scale(0.015625)\"/>\n       <path d=\"M 544 1381 \nL 544 3500 \nL 1119 3500 \nL 1119 1403 \nQ 1119 906 1312 657 \nQ 1506 409 1894 409 \nQ 2359 409 2629 706 \nQ 2900 1003 2900 1516 \nL 2900 3500 \nL 3475 3500 \nL 3475 0 \nL 2900 0 \nL 2900 538 \nQ 2691 219 2414 64 \nQ 2138 -91 1772 -91 \nQ 1169 -91 856 284 \nQ 544 659 544 1381 \nz\nM 1991 3584 \nL 1991 3584 \nz\n\" id=\"DejaVuSans-75\" transform=\"scale(0.015625)\"/>\n       <path d=\"M 2631 2963 \nQ 2534 3019 2420 3045 \nQ 2306 3072 2169 3072 \nQ 1681 3072 1420 2755 \nQ 1159 2438 1159 1844 \nL 1159 0 \nL 581 0 \nL 581 3500 \nL 1159 3500 \nL 1159 2956 \nQ 1341 3275 1631 3429 \nQ 1922 3584 2338 3584 \nQ 2397 3584 2469 3576 \nQ 2541 3569 2628 3553 \nL 2631 2963 \nz\n\" id=\"DejaVuSans-72\" transform=\"scale(0.015625)\"/>\n       <path d=\"M 191 3500 \nL 800 3500 \nL 1894 563 \nL 2988 3500 \nL 3597 3500 \nL 2284 0 \nL 1503 0 \nL 191 3500 \nz\n\" id=\"DejaVuSans-76\" transform=\"scale(0.015625)\"/>\n       <path d=\"M 603 3500 \nL 1178 3500 \nL 1178 0 \nL 603 0 \nL 603 3500 \nz\nM 603 4863 \nL 1178 4863 \nL 1178 4134 \nL 603 4134 \nL 603 4863 \nz\n\" id=\"DejaVuSans-69\" transform=\"scale(0.015625)\"/>\n       <path d=\"M 3597 1894 \nL 3597 1613 \nL 953 1613 \nQ 991 1019 1311 708 \nQ 1631 397 2203 397 \nQ 2534 397 2845 478 \nQ 3156 559 3463 722 \nL 3463 178 \nQ 3153 47 2828 -22 \nQ 2503 -91 2169 -91 \nQ 1331 -91 842 396 \nQ 353 884 353 1716 \nQ 353 2575 817 3079 \nQ 1281 3584 2069 3584 \nQ 2775 3584 3186 3129 \nQ 3597 2675 3597 1894 \nz\nM 3022 2063 \nQ 3016 2534 2758 2815 \nQ 2500 3097 2075 3097 \nQ 1594 3097 1305 2825 \nQ 1016 2553 972 2059 \nL 3022 2063 \nz\n\" id=\"DejaVuSans-65\" transform=\"scale(0.015625)\"/>\n       <path d=\"M 2906 2969 \nL 2906 4863 \nL 3481 4863 \nL 3481 0 \nL 2906 0 \nL 2906 525 \nQ 2725 213 2448 61 \nQ 2172 -91 1784 -91 \nQ 1150 -91 751 415 \nQ 353 922 353 1747 \nQ 353 2572 751 3078 \nQ 1150 3584 1784 3584 \nQ 2172 3584 2448 3432 \nQ 2725 3281 2906 2969 \nz\nM 947 1747 \nQ 947 1113 1208 752 \nQ 1469 391 1925 391 \nQ 2381 391 2643 752 \nQ 2906 1113 2906 1747 \nQ 2906 2381 2643 2742 \nQ 2381 3103 1925 3103 \nQ 1469 3103 1208 2742 \nQ 947 2381 947 1747 \nz\n\" id=\"DejaVuSans-64\" transform=\"scale(0.015625)\"/>\n      </defs>\n      <use xlink:href=\"#DejaVuSans-53\"/>\n      <use x=\"63.476562\" xlink:href=\"#DejaVuSans-75\"/>\n      <use x=\"126.855469\" xlink:href=\"#DejaVuSans-72\"/>\n      <use x=\"167.96875\" xlink:href=\"#DejaVuSans-76\"/>\n      <use x=\"227.148438\" xlink:href=\"#DejaVuSans-69\"/>\n      <use x=\"254.931641\" xlink:href=\"#DejaVuSans-76\"/>\n      <use x=\"314.111328\" xlink:href=\"#DejaVuSans-65\"/>\n      <use x=\"375.634766\" xlink:href=\"#DejaVuSans-64\"/>\n     </g>\n    </g>\n   </g>\n   <g id=\"matplotlib.axis_2\">\n    <g id=\"ytick_1\">\n     <g id=\"line2d_1\">\n      <path clip-path=\"url(#p7515bf7271)\" d=\"M 46.965625 224.64 \nL 325.965625 224.64 \n\" style=\"fill:none;stroke:#cccccc;stroke-linecap:round;stroke-width:0.8;\"/>\n     </g>\n     <g id=\"text_4\">\n      <!-- 0 -->\n      <g style=\"fill:#262626;\" transform=\"translate(33.603125 228.439219)scale(0.1 -0.1)\">\n       <use xlink:href=\"#DejaVuSans-30\"/>\n      </g>\n     </g>\n    </g>\n    <g id=\"ytick_2\">\n     <g id=\"line2d_2\">\n      <path clip-path=\"url(#p7515bf7271)\" d=\"M 46.965625 186.919469 \nL 325.965625 186.919469 \n\" style=\"fill:none;stroke:#cccccc;stroke-linecap:round;stroke-width:0.8;\"/>\n     </g>\n     <g id=\"text_5\">\n      <!-- 100 -->\n      <g style=\"fill:#262626;\" transform=\"translate(20.878125 190.718688)scale(0.1 -0.1)\">\n       <use xlink:href=\"#DejaVuSans-31\"/>\n       <use x=\"63.623047\" xlink:href=\"#DejaVuSans-30\"/>\n       <use x=\"127.246094\" xlink:href=\"#DejaVuSans-30\"/>\n      </g>\n     </g>\n    </g>\n    <g id=\"ytick_3\">\n     <g id=\"line2d_3\">\n      <path clip-path=\"url(#p7515bf7271)\" d=\"M 46.965625 149.198938 \nL 325.965625 149.198938 \n\" style=\"fill:none;stroke:#cccccc;stroke-linecap:round;stroke-width:0.8;\"/>\n     </g>\n     <g id=\"text_6\">\n      <!-- 200 -->\n      <g style=\"fill:#262626;\" transform=\"translate(20.878125 152.998157)scale(0.1 -0.1)\">\n       <defs>\n        <path d=\"M 1228 531 \nL 3431 531 \nL 3431 0 \nL 469 0 \nL 469 531 \nQ 828 903 1448 1529 \nQ 2069 2156 2228 2338 \nQ 2531 2678 2651 2914 \nQ 2772 3150 2772 3378 \nQ 2772 3750 2511 3984 \nQ 2250 4219 1831 4219 \nQ 1534 4219 1204 4116 \nQ 875 4013 500 3803 \nL 500 4441 \nQ 881 4594 1212 4672 \nQ 1544 4750 1819 4750 \nQ 2544 4750 2975 4387 \nQ 3406 4025 3406 3419 \nQ 3406 3131 3298 2873 \nQ 3191 2616 2906 2266 \nQ 2828 2175 2409 1742 \nQ 1991 1309 1228 531 \nz\n\" id=\"DejaVuSans-32\" transform=\"scale(0.015625)\"/>\n       </defs>\n       <use xlink:href=\"#DejaVuSans-32\"/>\n       <use x=\"63.623047\" xlink:href=\"#DejaVuSans-30\"/>\n       <use x=\"127.246094\" xlink:href=\"#DejaVuSans-30\"/>\n      </g>\n     </g>\n    </g>\n    <g id=\"ytick_4\">\n     <g id=\"line2d_4\">\n      <path clip-path=\"url(#p7515bf7271)\" d=\"M 46.965625 111.478407 \nL 325.965625 111.478407 \n\" style=\"fill:none;stroke:#cccccc;stroke-linecap:round;stroke-width:0.8;\"/>\n     </g>\n     <g id=\"text_7\">\n      <!-- 300 -->\n      <g style=\"fill:#262626;\" transform=\"translate(20.878125 115.277626)scale(0.1 -0.1)\">\n       <defs>\n        <path d=\"M 2597 2516 \nQ 3050 2419 3304 2112 \nQ 3559 1806 3559 1356 \nQ 3559 666 3084 287 \nQ 2609 -91 1734 -91 \nQ 1441 -91 1130 -33 \nQ 819 25 488 141 \nL 488 750 \nQ 750 597 1062 519 \nQ 1375 441 1716 441 \nQ 2309 441 2620 675 \nQ 2931 909 2931 1356 \nQ 2931 1769 2642 2001 \nQ 2353 2234 1838 2234 \nL 1294 2234 \nL 1294 2753 \nL 1863 2753 \nQ 2328 2753 2575 2939 \nQ 2822 3125 2822 3475 \nQ 2822 3834 2567 4026 \nQ 2313 4219 1838 4219 \nQ 1578 4219 1281 4162 \nQ 984 4106 628 3988 \nL 628 4550 \nQ 988 4650 1302 4700 \nQ 1616 4750 1894 4750 \nQ 2613 4750 3031 4423 \nQ 3450 4097 3450 3541 \nQ 3450 3153 3228 2886 \nQ 3006 2619 2597 2516 \nz\n\" id=\"DejaVuSans-33\" transform=\"scale(0.015625)\"/>\n       </defs>\n       <use xlink:href=\"#DejaVuSans-33\"/>\n       <use x=\"63.623047\" xlink:href=\"#DejaVuSans-30\"/>\n       <use x=\"127.246094\" xlink:href=\"#DejaVuSans-30\"/>\n      </g>\n     </g>\n    </g>\n    <g id=\"ytick_5\">\n     <g id=\"line2d_5\">\n      <path clip-path=\"url(#p7515bf7271)\" d=\"M 46.965625 73.757877 \nL 325.965625 73.757877 \n\" style=\"fill:none;stroke:#cccccc;stroke-linecap:round;stroke-width:0.8;\"/>\n     </g>\n     <g id=\"text_8\">\n      <!-- 400 -->\n      <g style=\"fill:#262626;\" transform=\"translate(20.878125 77.557095)scale(0.1 -0.1)\">\n       <defs>\n        <path d=\"M 2419 4116 \nL 825 1625 \nL 2419 1625 \nL 2419 4116 \nz\nM 2253 4666 \nL 3047 4666 \nL 3047 1625 \nL 3713 1625 \nL 3713 1100 \nL 3047 1100 \nL 3047 0 \nL 2419 0 \nL 2419 1100 \nL 313 1100 \nL 313 1709 \nL 2253 4666 \nz\n\" id=\"DejaVuSans-34\" transform=\"scale(0.015625)\"/>\n       </defs>\n       <use xlink:href=\"#DejaVuSans-34\"/>\n       <use x=\"63.623047\" xlink:href=\"#DejaVuSans-30\"/>\n       <use x=\"127.246094\" xlink:href=\"#DejaVuSans-30\"/>\n      </g>\n     </g>\n    </g>\n    <g id=\"ytick_6\">\n     <g id=\"line2d_6\">\n      <path clip-path=\"url(#p7515bf7271)\" d=\"M 46.965625 36.037346 \nL 325.965625 36.037346 \n\" style=\"fill:none;stroke:#cccccc;stroke-linecap:round;stroke-width:0.8;\"/>\n     </g>\n     <g id=\"text_9\">\n      <!-- 500 -->\n      <g style=\"fill:#262626;\" transform=\"translate(20.878125 39.836565)scale(0.1 -0.1)\">\n       <defs>\n        <path d=\"M 691 4666 \nL 3169 4666 \nL 3169 4134 \nL 1269 4134 \nL 1269 2991 \nQ 1406 3038 1543 3061 \nQ 1681 3084 1819 3084 \nQ 2600 3084 3056 2656 \nQ 3513 2228 3513 1497 \nQ 3513 744 3044 326 \nQ 2575 -91 1722 -91 \nQ 1428 -91 1123 -41 \nQ 819 9 494 109 \nL 494 744 \nQ 775 591 1075 516 \nQ 1375 441 1709 441 \nQ 2250 441 2565 725 \nQ 2881 1009 2881 1497 \nQ 2881 1984 2565 2268 \nQ 2250 2553 1709 2553 \nQ 1456 2553 1204 2497 \nQ 953 2441 691 2322 \nL 691 4666 \nz\n\" id=\"DejaVuSans-35\" transform=\"scale(0.015625)\"/>\n       </defs>\n       <use xlink:href=\"#DejaVuSans-35\"/>\n       <use x=\"63.623047\" xlink:href=\"#DejaVuSans-30\"/>\n       <use x=\"127.246094\" xlink:href=\"#DejaVuSans-30\"/>\n      </g>\n     </g>\n    </g>\n    <g id=\"text_10\">\n     <!-- count -->\n     <g style=\"fill:#262626;\" transform=\"translate(14.798438 130.02625)rotate(-90)scale(0.1 -0.1)\">\n      <defs>\n       <path d=\"M 3122 3366 \nL 3122 2828 \nQ 2878 2963 2633 3030 \nQ 2388 3097 2138 3097 \nQ 1578 3097 1268 2742 \nQ 959 2388 959 1747 \nQ 959 1106 1268 751 \nQ 1578 397 2138 397 \nQ 2388 397 2633 464 \nQ 2878 531 3122 666 \nL 3122 134 \nQ 2881 22 2623 -34 \nQ 2366 -91 2075 -91 \nQ 1284 -91 818 406 \nQ 353 903 353 1747 \nQ 353 2603 823 3093 \nQ 1294 3584 2113 3584 \nQ 2378 3584 2631 3529 \nQ 2884 3475 3122 3366 \nz\n\" id=\"DejaVuSans-63\" transform=\"scale(0.015625)\"/>\n       <path d=\"M 1959 3097 \nQ 1497 3097 1228 2736 \nQ 959 2375 959 1747 \nQ 959 1119 1226 758 \nQ 1494 397 1959 397 \nQ 2419 397 2687 759 \nQ 2956 1122 2956 1747 \nQ 2956 2369 2687 2733 \nQ 2419 3097 1959 3097 \nz\nM 1959 3584 \nQ 2709 3584 3137 3096 \nQ 3566 2609 3566 1747 \nQ 3566 888 3137 398 \nQ 2709 -91 1959 -91 \nQ 1206 -91 779 398 \nQ 353 888 353 1747 \nQ 353 2609 779 3096 \nQ 1206 3584 1959 3584 \nz\n\" id=\"DejaVuSans-6f\" transform=\"scale(0.015625)\"/>\n       <path d=\"M 3513 2113 \nL 3513 0 \nL 2938 0 \nL 2938 2094 \nQ 2938 2591 2744 2837 \nQ 2550 3084 2163 3084 \nQ 1697 3084 1428 2787 \nQ 1159 2491 1159 1978 \nL 1159 0 \nL 581 0 \nL 581 3500 \nL 1159 3500 \nL 1159 2956 \nQ 1366 3272 1645 3428 \nQ 1925 3584 2291 3584 \nQ 2894 3584 3203 3211 \nQ 3513 2838 3513 2113 \nz\n\" id=\"DejaVuSans-6e\" transform=\"scale(0.015625)\"/>\n       <path d=\"M 1172 4494 \nL 1172 3500 \nL 2356 3500 \nL 2356 3053 \nL 1172 3053 \nL 1172 1153 \nQ 1172 725 1289 603 \nQ 1406 481 1766 481 \nL 2356 481 \nL 2356 0 \nL 1766 0 \nQ 1100 0 847 248 \nQ 594 497 594 1153 \nL 594 3053 \nL 172 3053 \nL 172 3500 \nL 594 3500 \nL 594 4494 \nL 1172 4494 \nz\n\" id=\"DejaVuSans-74\" transform=\"scale(0.015625)\"/>\n      </defs>\n      <use xlink:href=\"#DejaVuSans-63\"/>\n      <use x=\"54.980469\" xlink:href=\"#DejaVuSans-6f\"/>\n      <use x=\"116.162109\" xlink:href=\"#DejaVuSans-75\"/>\n      <use x=\"179.541016\" xlink:href=\"#DejaVuSans-6e\"/>\n      <use x=\"242.919922\" xlink:href=\"#DejaVuSans-74\"/>\n     </g>\n    </g>\n   </g>\n   <g id=\"patch_3\">\n    <path clip-path=\"url(#p7515bf7271)\" d=\"M 60.915625 224.64 \nL 172.515625 224.64 \nL 172.515625 17.554286 \nL 60.915625 17.554286 \nz\n\" style=\"fill:#cb6d67;stroke:#ffffff;stroke-linejoin:miter;\"/>\n   </g>\n   <g id=\"patch_4\">\n    <path clip-path=\"url(#p7515bf7271)\" d=\"M 200.415625 224.64 \nL 312.015625 224.64 \nL 312.015625 95.635785 \nL 200.415625 95.635785 \nz\n\" style=\"fill:#67c5cb;stroke:#ffffff;stroke-linejoin:miter;\"/>\n   </g>\n   <g id=\"patch_5\">\n    <path d=\"M 46.965625 224.64 \nL 46.965625 7.2 \n\" style=\"fill:none;stroke:#cccccc;stroke-linecap:square;stroke-linejoin:miter;stroke-width:0.8;\"/>\n   </g>\n   <g id=\"patch_6\">\n    <path d=\"M 325.965625 224.64 \nL 325.965625 7.2 \n\" style=\"fill:none;stroke:#cccccc;stroke-linecap:square;stroke-linejoin:miter;stroke-width:0.8;\"/>\n   </g>\n   <g id=\"patch_7\">\n    <path d=\"M 46.965625 224.64 \nL 325.965625 224.64 \n\" style=\"fill:none;stroke:#cccccc;stroke-linecap:square;stroke-linejoin:miter;stroke-width:0.8;\"/>\n   </g>\n   <g id=\"patch_8\">\n    <path d=\"M 46.965625 7.2 \nL 325.965625 7.2 \n\" style=\"fill:none;stroke:#cccccc;stroke-linecap:square;stroke-linejoin:miter;stroke-width:0.8;\"/>\n   </g>\n  </g>\n </g>\n <defs>\n  <clipPath id=\"p7515bf7271\">\n   <rect height=\"217.44\" width=\"279\" x=\"46.965625\" y=\"7.2\"/>\n  </clipPath>\n </defs>\n</svg>\n",
      "image/png": "[encoded data removed]"
     },
     "metadata": {}
    }
   ],
   "source": [
    "sb.countplot(x='Survived', data=titanic_training, palette='hls')"
   ]
  },
  {
   "source": [
    "### Checking for missing values"
   ],
   "cell_type": "markdown",
   "metadata": {}
  },
  {
   "cell_type": "code",
   "execution_count": 7,
   "metadata": {},
   "outputs": [
    {
     "output_type": "execute_result",
     "data": {
      "text/plain": [
       "PassengerId      0\n",
       "Survived         0\n",
       "Pclass           0\n",
       "Name             0\n",
       "Sex              0\n",
       "Age            177\n",
       "SibSp            0\n",
       "Parch            0\n",
       "Ticket           0\n",
       "Fare             0\n",
       "Cabin          687\n",
       "Embarked         2\n",
       "dtype: int64"
      ]
     },
     "metadata": {},
     "execution_count": 7
    }
   ],
   "source": [
    "titanic_training.isnull().sum()"
   ]
  },
  {
   "cell_type": "code",
   "execution_count": 8,
   "metadata": {},
   "outputs": [
    {
     "output_type": "execute_result",
     "data": {
      "text/plain": [
       "       PassengerId    Survived      Pclass         Age       SibSp  \\\n",
       "count   891.000000  891.000000  891.000000  714.000000  891.000000   \n",
       "mean    446.000000    0.383838    2.308642   29.699118    0.523008   \n",
       "std     257.353842    0.486592    0.836071   14.526497    1.102743   \n",
       "min       1.000000    0.000000    1.000000    0.420000    0.000000   \n",
       "25%     223.500000    0.000000    2.000000   20.125000    0.000000   \n",
       "50%     446.000000    0.000000    3.000000   28.000000    0.000000   \n",
       "75%     668.500000    1.000000    3.000000   38.000000    1.000000   \n",
       "max     891.000000    1.000000    3.000000   80.000000    8.000000   \n",
       "\n",
       "            Parch        Fare  \n",
       "count  891.000000  891.000000  \n",
       "mean     0.381594   32.204208  \n",
       "std      0.806057   49.693429  \n",
       "min      0.000000    0.000000  \n",
       "25%      0.000000    7.910400  \n",
       "50%      0.000000   14.454200  \n",
       "75%      0.000000   31.000000  \n",
       "max      6.000000  512.329200  "
      ],
      "text/html": "<div>\n<style scoped>\n    .dataframe tbody tr th:only-of-type {\n        vertical-align: middle;\n    }\n\n    .dataframe tbody tr th {\n        vertical-align: top;\n    }\n\n    .dataframe thead th {\n        text-align: right;\n    }\n</style>\n<table border=\"1\" class=\"dataframe\">\n  <thead>\n    <tr style=\"text-align: right;\">\n      <th></th>\n      <th>PassengerId</th>\n      <th>Survived</th>\n      <th>Pclass</th>\n      <th>Age</th>\n      <th>SibSp</th>\n      <th>Parch</th>\n      <th>Fare</th>\n    </tr>\n  </thead>\n  <tbody>\n    <tr>\n      <th>count</th>\n      <td>891.000000</td>\n      <td>891.000000</td>\n      <td>891.000000</td>\n      <td>714.000000</td>\n      <td>891.000000</td>\n      <td>891.000000</td>\n      <td>891.000000</td>\n    </tr>\n    <tr>\n      <th>mean</th>\n      <td>446.000000</td>\n      <td>0.383838</td>\n      <td>2.308642</td>\n      <td>29.699118</td>\n      <td>0.523008</td>\n      <td>0.381594</td>\n      <td>32.204208</td>\n    </tr>\n    <tr>\n      <th>std</th>\n      <td>257.353842</td>\n      <td>0.486592</td>\n      <td>0.836071</td>\n      <td>14.526497</td>\n      <td>1.102743</td>\n      <td>0.806057</td>\n      <td>49.693429</td>\n    </tr>\n    <tr>\n      <th>min</th>\n      <td>1.000000</td>\n      <td>0.000000</td>\n      <td>1.000000</td>\n      <td>0.420000</td>\n      <td>0.000000</td>\n      <td>0.000000</td>\n      <td>0.000000</td>\n    </tr>\n    <tr>\n      <th>25%</th>\n      <td>223.500000</td>\n      <td>0.000000</td>\n      <td>2.000000</td>\n      <td>20.125000</td>\n      <td>0.000000</td>\n      <td>0.000000</td>\n      <td>7.910400</td>\n    </tr>\n    <tr>\n      <th>50%</th>\n      <td>446.000000</td>\n      <td>0.000000</td>\n      <td>3.000000</td>\n      <td>28.000000</td>\n      <td>0.000000</td>\n      <td>0.000000</td>\n      <td>14.454200</td>\n    </tr>\n    <tr>\n      <th>75%</th>\n      <td>668.500000</td>\n      <td>1.000000</td>\n      <td>3.000000</td>\n      <td>38.000000</td>\n      <td>1.000000</td>\n      <td>0.000000</td>\n      <td>31.000000</td>\n    </tr>\n    <tr>\n      <th>max</th>\n      <td>891.000000</td>\n      <td>1.000000</td>\n      <td>3.000000</td>\n      <td>80.000000</td>\n      <td>8.000000</td>\n      <td>6.000000</td>\n      <td>512.329200</td>\n    </tr>\n  </tbody>\n</table>\n</div>"
     },
     "metadata": {},
     "execution_count": 8
    }
   ],
   "source": [
    "titanic_training.describe()"
   ]
  },
  {
   "source": [
    "### Taking care of missing values\n",
    "\n",
    "*Dropping missing values*\n",
    "\n",
    "Let's go ahead and drop all the variables that aren't relevant for predicting survival. \n",
    "\n",
    "- Survived - The variable is obviously relevant\n",
    "- Pclass - Does a passenger's class on a boat affect their survivability?\n",
    "- Sex - Could a passenger's gender impact their survival rate?\n",
    "- Age - Does a person's age impact their survival rate?\n",
    "- SibSp - Does the number of relatives on the boat (that are siblings or spouses) affect a person survivability? Probability\n",
    "- Parch - Does the number of relatives on the boat (that are parents or children) affect a person survivability? Probability\n",
    "- Fare - Does the fair a person paid effect his survivability? Maybe - let's keep it\n",
    "- Embarked - Does a person's point of embarkation matter? It depends on how the boat was filled... Let's keep it \n",
    "\n",
    "What about a person's name, ticket number and passenger ID number? They're irrelevant for predicting survivability. So let's drop all of this."
   ],
   "cell_type": "markdown",
   "metadata": {}
  },
  {
   "cell_type": "code",
   "execution_count": 9,
   "metadata": {},
   "outputs": [
    {
     "output_type": "execute_result",
     "data": {
      "text/plain": [
       "   PassengerId  Survived  Pclass     Sex   Age  SibSp  Parch     Fare Embarked\n",
       "0            1         0       3    male  22.0      1      0   7.2500        S\n",
       "1            2         1       1  female  38.0      1      0  71.2833        C\n",
       "2            3         1       3  female  26.0      0      0   7.9250        S\n",
       "3            4         1       1  female  35.0      1      0  53.1000        S\n",
       "4            5         0       3    male  35.0      0      0   8.0500        S"
      ],
      "text/html": "<div>\n<style scoped>\n    .dataframe tbody tr th:only-of-type {\n        vertical-align: middle;\n    }\n\n    .dataframe tbody tr th {\n        vertical-align: top;\n    }\n\n    .dataframe thead th {\n        text-align: right;\n    }\n</style>\n<table border=\"1\" class=\"dataframe\">\n  <thead>\n    <tr style=\"text-align: right;\">\n      <th></th>\n      <th>PassengerId</th>\n      <th>Survived</th>\n      <th>Pclass</th>\n      <th>Sex</th>\n      <th>Age</th>\n      <th>SibSp</th>\n      <th>Parch</th>\n      <th>Fare</th>\n      <th>Embarked</th>\n    </tr>\n  </thead>\n  <tbody>\n    <tr>\n      <th>0</th>\n      <td>1</td>\n      <td>0</td>\n      <td>3</td>\n      <td>male</td>\n      <td>22.0</td>\n      <td>1</td>\n      <td>0</td>\n      <td>7.2500</td>\n      <td>S</td>\n    </tr>\n    <tr>\n      <th>1</th>\n      <td>2</td>\n      <td>1</td>\n      <td>1</td>\n      <td>female</td>\n      <td>38.0</td>\n      <td>1</td>\n      <td>0</td>\n      <td>71.2833</td>\n      <td>C</td>\n    </tr>\n    <tr>\n      <th>2</th>\n      <td>3</td>\n      <td>1</td>\n      <td>3</td>\n      <td>female</td>\n      <td>26.0</td>\n      <td>0</td>\n      <td>0</td>\n      <td>7.9250</td>\n      <td>S</td>\n    </tr>\n    <tr>\n      <th>3</th>\n      <td>4</td>\n      <td>1</td>\n      <td>1</td>\n      <td>female</td>\n      <td>35.0</td>\n      <td>1</td>\n      <td>0</td>\n      <td>53.1000</td>\n      <td>S</td>\n    </tr>\n    <tr>\n      <th>4</th>\n      <td>5</td>\n      <td>0</td>\n      <td>3</td>\n      <td>male</td>\n      <td>35.0</td>\n      <td>0</td>\n      <td>0</td>\n      <td>8.0500</td>\n      <td>S</td>\n    </tr>\n  </tbody>\n</table>\n</div>"
     },
     "metadata": {},
     "execution_count": 9
    }
   ],
   "source": [
    "titanic_data = titanic_training.drop(['Name', 'Ticket', 'Cabin'], axis=1)\n",
    "titanic_data.head()"
   ]
  },
  {
   "source": [
    "### Imputing Missing Values"
   ],
   "cell_type": "markdown",
   "metadata": {}
  },
  {
   "cell_type": "code",
   "execution_count": 10,
   "metadata": {},
   "outputs": [
    {
     "output_type": "execute_result",
     "data": {
      "text/plain": [
       "<AxesSubplot:xlabel='Parch', ylabel='Age'>"
      ]
     },
     "metadata": {},
     "execution_count": 10
    },
    {
     "output_type": "display_data",
     "data": {
      "text/plain": "<Figure size 360x288 with 1 Axes>",
      "image/svg+xml": "<?xml version=\"1.0\" encoding=\"utf-8\" standalone=\"no\"?>\n<!DOCTYPE svg PUBLIC \"-//W3C//DTD SVG 1.1//EN\"\n  \"http://www.w3.org/Graphics/SVG/1.1/DTD/svg11.dtd\">\n<svg height=\"262.19625pt\" version=\"1.1\" viewBox=\"0 0 326.803125 262.19625\" width=\"326.803125pt\" xmlns=\"http://www.w3.org/2000/svg\" xmlns:xlink=\"http://www.w3.org/1999/xlink\">\n <metadata>\n  <rdf:RDF xmlns:cc=\"http://creativecommons.org/ns#\" xmlns:dc=\"http://purl.org/dc/elements/1.1/\" xmlns:rdf=\"http://www.w3.org/1999/02/22-rdf-syntax-ns#\">\n   <cc:Work>\n    <dc:type rdf:resource=\"http://purl.org/dc/dcmitype/StillImage\"/>\n    <dc:date>2021-05-17T12:30:51.458497</dc:date>\n    <dc:format>image/svg+xml</dc:format>\n    <dc:creator>\n     <cc:Agent>\n      <dc:title>Matplotlib v3.4.2, https://matplotlib.org/</dc:title>\n     </cc:Agent>\n    </dc:creator>\n   </cc:Work>\n  </rdf:RDF>\n </metadata>\n <defs>\n  <style type=\"text/css\">*{stroke-linecap:butt;stroke-linejoin:round;}</style>\n </defs>\n <g id=\"figure_1\">\n  <g id=\"patch_1\">\n   <path d=\"M 0 262.19625 \nL 326.803125 262.19625 \nL 326.803125 0 \nL 0 0 \nz\n\" style=\"fill:#ffffff;\"/>\n  </g>\n  <g id=\"axes_1\">\n   <g id=\"patch_2\">\n    <path d=\"M 40.603125 224.64 \nL 319.603125 224.64 \nL 319.603125 7.2 \nL 40.603125 7.2 \nz\n\" style=\"fill:#ffffff;\"/>\n   </g>\n   <g id=\"matplotlib.axis_1\">\n    <g id=\"xtick_1\">\n     <g id=\"text_1\">\n      <!-- 0 -->\n      <g style=\"fill:#262626;\" transform=\"translate(57.350446 239.238437)scale(0.1 -0.1)\">\n       <defs>\n        <path d=\"M 2034 4250 \nQ 1547 4250 1301 3770 \nQ 1056 3291 1056 2328 \nQ 1056 1369 1301 889 \nQ 1547 409 2034 409 \nQ 2525 409 2770 889 \nQ 3016 1369 3016 2328 \nQ 3016 3291 2770 3770 \nQ 2525 4250 2034 4250 \nz\nM 2034 4750 \nQ 2819 4750 3233 4129 \nQ 3647 3509 3647 2328 \nQ 3647 1150 3233 529 \nQ 2819 -91 2034 -91 \nQ 1250 -91 836 529 \nQ 422 1150 422 2328 \nQ 422 3509 836 4129 \nQ 1250 4750 2034 4750 \nz\n\" id=\"DejaVuSans-30\" transform=\"scale(0.015625)\"/>\n       </defs>\n       <use xlink:href=\"#DejaVuSans-30\"/>\n      </g>\n     </g>\n    </g>\n    <g id=\"xtick_2\">\n     <g id=\"text_2\">\n      <!-- 1 -->\n      <g style=\"fill:#262626;\" transform=\"translate(97.207589 239.238437)scale(0.1 -0.1)\">\n       <defs>\n        <path d=\"M 794 531 \nL 1825 531 \nL 1825 4091 \nL 703 3866 \nL 703 4441 \nL 1819 4666 \nL 2450 4666 \nL 2450 531 \nL 3481 531 \nL 3481 0 \nL 794 0 \nL 794 531 \nz\n\" id=\"DejaVuSans-31\" transform=\"scale(0.015625)\"/>\n       </defs>\n       <use xlink:href=\"#DejaVuSans-31\"/>\n      </g>\n     </g>\n    </g>\n    <g id=\"xtick_3\">\n     <g id=\"text_3\">\n      <!-- 2 -->\n      <g style=\"fill:#262626;\" transform=\"translate(137.064732 239.238437)scale(0.1 -0.1)\">\n       <defs>\n        <path d=\"M 1228 531 \nL 3431 531 \nL 3431 0 \nL 469 0 \nL 469 531 \nQ 828 903 1448 1529 \nQ 2069 2156 2228 2338 \nQ 2531 2678 2651 2914 \nQ 2772 3150 2772 3378 \nQ 2772 3750 2511 3984 \nQ 2250 4219 1831 4219 \nQ 1534 4219 1204 4116 \nQ 875 4013 500 3803 \nL 500 4441 \nQ 881 4594 1212 4672 \nQ 1544 4750 1819 4750 \nQ 2544 4750 2975 4387 \nQ 3406 4025 3406 3419 \nQ 3406 3131 3298 2873 \nQ 3191 2616 2906 2266 \nQ 2828 2175 2409 1742 \nQ 1991 1309 1228 531 \nz\n\" id=\"DejaVuSans-32\" transform=\"scale(0.015625)\"/>\n       </defs>\n       <use xlink:href=\"#DejaVuSans-32\"/>\n      </g>\n     </g>\n    </g>\n    <g id=\"xtick_4\">\n     <g id=\"text_4\">\n      <!-- 3 -->\n      <g style=\"fill:#262626;\" transform=\"translate(176.921875 239.238437)scale(0.1 -0.1)\">\n       <defs>\n        <path d=\"M 2597 2516 \nQ 3050 2419 3304 2112 \nQ 3559 1806 3559 1356 \nQ 3559 666 3084 287 \nQ 2609 -91 1734 -91 \nQ 1441 -91 1130 -33 \nQ 819 25 488 141 \nL 488 750 \nQ 750 597 1062 519 \nQ 1375 441 1716 441 \nQ 2309 441 2620 675 \nQ 2931 909 2931 1356 \nQ 2931 1769 2642 2001 \nQ 2353 2234 1838 2234 \nL 1294 2234 \nL 1294 2753 \nL 1863 2753 \nQ 2328 2753 2575 2939 \nQ 2822 3125 2822 3475 \nQ 2822 3834 2567 4026 \nQ 2313 4219 1838 4219 \nQ 1578 4219 1281 4162 \nQ 984 4106 628 3988 \nL 628 4550 \nQ 988 4650 1302 4700 \nQ 1616 4750 1894 4750 \nQ 2613 4750 3031 4423 \nQ 3450 4097 3450 3541 \nQ 3450 3153 3228 2886 \nQ 3006 2619 2597 2516 \nz\n\" id=\"DejaVuSans-33\" transform=\"scale(0.015625)\"/>\n       </defs>\n       <use xlink:href=\"#DejaVuSans-33\"/>\n      </g>\n     </g>\n    </g>\n    <g id=\"xtick_5\">\n     <g id=\"text_5\">\n      <!-- 4 -->\n      <g style=\"fill:#262626;\" transform=\"translate(216.779018 239.238437)scale(0.1 -0.1)\">\n       <defs>\n        <path d=\"M 2419 4116 \nL 825 1625 \nL 2419 1625 \nL 2419 4116 \nz\nM 2253 4666 \nL 3047 4666 \nL 3047 1625 \nL 3713 1625 \nL 3713 1100 \nL 3047 1100 \nL 3047 0 \nL 2419 0 \nL 2419 1100 \nL 313 1100 \nL 313 1709 \nL 2253 4666 \nz\n\" id=\"DejaVuSans-34\" transform=\"scale(0.015625)\"/>\n       </defs>\n       <use xlink:href=\"#DejaVuSans-34\"/>\n      </g>\n     </g>\n    </g>\n    <g id=\"xtick_6\">\n     <g id=\"text_6\">\n      <!-- 5 -->\n      <g style=\"fill:#262626;\" transform=\"translate(256.636161 239.238437)scale(0.1 -0.1)\">\n       <defs>\n        <path d=\"M 691 4666 \nL 3169 4666 \nL 3169 4134 \nL 1269 4134 \nL 1269 2991 \nQ 1406 3038 1543 3061 \nQ 1681 3084 1819 3084 \nQ 2600 3084 3056 2656 \nQ 3513 2228 3513 1497 \nQ 3513 744 3044 326 \nQ 2575 -91 1722 -91 \nQ 1428 -91 1123 -41 \nQ 819 9 494 109 \nL 494 744 \nQ 775 591 1075 516 \nQ 1375 441 1709 441 \nQ 2250 441 2565 725 \nQ 2881 1009 2881 1497 \nQ 2881 1984 2565 2268 \nQ 2250 2553 1709 2553 \nQ 1456 2553 1204 2497 \nQ 953 2441 691 2322 \nL 691 4666 \nz\n\" id=\"DejaVuSans-35\" transform=\"scale(0.015625)\"/>\n       </defs>\n       <use xlink:href=\"#DejaVuSans-35\"/>\n      </g>\n     </g>\n    </g>\n    <g id=\"xtick_7\">\n     <g id=\"text_7\">\n      <!-- 6 -->\n      <g style=\"fill:#262626;\" transform=\"translate(296.493304 239.238437)scale(0.1 -0.1)\">\n       <defs>\n        <path d=\"M 2113 2584 \nQ 1688 2584 1439 2293 \nQ 1191 2003 1191 1497 \nQ 1191 994 1439 701 \nQ 1688 409 2113 409 \nQ 2538 409 2786 701 \nQ 3034 994 3034 1497 \nQ 3034 2003 2786 2293 \nQ 2538 2584 2113 2584 \nz\nM 3366 4563 \nL 3366 3988 \nQ 3128 4100 2886 4159 \nQ 2644 4219 2406 4219 \nQ 1781 4219 1451 3797 \nQ 1122 3375 1075 2522 \nQ 1259 2794 1537 2939 \nQ 1816 3084 2150 3084 \nQ 2853 3084 3261 2657 \nQ 3669 2231 3669 1497 \nQ 3669 778 3244 343 \nQ 2819 -91 2113 -91 \nQ 1303 -91 875 529 \nQ 447 1150 447 2328 \nQ 447 3434 972 4092 \nQ 1497 4750 2381 4750 \nQ 2619 4750 2861 4703 \nQ 3103 4656 3366 4563 \nz\n\" id=\"DejaVuSans-36\" transform=\"scale(0.015625)\"/>\n       </defs>\n       <use xlink:href=\"#DejaVuSans-36\"/>\n      </g>\n     </g>\n    </g>\n    <g id=\"text_8\">\n     <!-- Parch -->\n     <g style=\"fill:#262626;\" transform=\"translate(166.388281 252.916562)scale(0.1 -0.1)\">\n      <defs>\n       <path d=\"M 1259 4147 \nL 1259 2394 \nL 2053 2394 \nQ 2494 2394 2734 2622 \nQ 2975 2850 2975 3272 \nQ 2975 3691 2734 3919 \nQ 2494 4147 2053 4147 \nL 1259 4147 \nz\nM 628 4666 \nL 2053 4666 \nQ 2838 4666 3239 4311 \nQ 3641 3956 3641 3272 \nQ 3641 2581 3239 2228 \nQ 2838 1875 2053 1875 \nL 1259 1875 \nL 1259 0 \nL 628 0 \nL 628 4666 \nz\n\" id=\"DejaVuSans-50\" transform=\"scale(0.015625)\"/>\n       <path d=\"M 2194 1759 \nQ 1497 1759 1228 1600 \nQ 959 1441 959 1056 \nQ 959 750 1161 570 \nQ 1363 391 1709 391 \nQ 2188 391 2477 730 \nQ 2766 1069 2766 1631 \nL 2766 1759 \nL 2194 1759 \nz\nM 3341 1997 \nL 3341 0 \nL 2766 0 \nL 2766 531 \nQ 2569 213 2275 61 \nQ 1981 -91 1556 -91 \nQ 1019 -91 701 211 \nQ 384 513 384 1019 \nQ 384 1609 779 1909 \nQ 1175 2209 1959 2209 \nL 2766 2209 \nL 2766 2266 \nQ 2766 2663 2505 2880 \nQ 2244 3097 1772 3097 \nQ 1472 3097 1187 3025 \nQ 903 2953 641 2809 \nL 641 3341 \nQ 956 3463 1253 3523 \nQ 1550 3584 1831 3584 \nQ 2591 3584 2966 3190 \nQ 3341 2797 3341 1997 \nz\n\" id=\"DejaVuSans-61\" transform=\"scale(0.015625)\"/>\n       <path d=\"M 2631 2963 \nQ 2534 3019 2420 3045 \nQ 2306 3072 2169 3072 \nQ 1681 3072 1420 2755 \nQ 1159 2438 1159 1844 \nL 1159 0 \nL 581 0 \nL 581 3500 \nL 1159 3500 \nL 1159 2956 \nQ 1341 3275 1631 3429 \nQ 1922 3584 2338 3584 \nQ 2397 3584 2469 3576 \nQ 2541 3569 2628 3553 \nL 2631 2963 \nz\n\" id=\"DejaVuSans-72\" transform=\"scale(0.015625)\"/>\n       <path d=\"M 3122 3366 \nL 3122 2828 \nQ 2878 2963 2633 3030 \nQ 2388 3097 2138 3097 \nQ 1578 3097 1268 2742 \nQ 959 2388 959 1747 \nQ 959 1106 1268 751 \nQ 1578 397 2138 397 \nQ 2388 397 2633 464 \nQ 2878 531 3122 666 \nL 3122 134 \nQ 2881 22 2623 -34 \nQ 2366 -91 2075 -91 \nQ 1284 -91 818 406 \nQ 353 903 353 1747 \nQ 353 2603 823 3093 \nQ 1294 3584 2113 3584 \nQ 2378 3584 2631 3529 \nQ 2884 3475 3122 3366 \nz\n\" id=\"DejaVuSans-63\" transform=\"scale(0.015625)\"/>\n       <path d=\"M 3513 2113 \nL 3513 0 \nL 2938 0 \nL 2938 2094 \nQ 2938 2591 2744 2837 \nQ 2550 3084 2163 3084 \nQ 1697 3084 1428 2787 \nQ 1159 2491 1159 1978 \nL 1159 0 \nL 581 0 \nL 581 4863 \nL 1159 4863 \nL 1159 2956 \nQ 1366 3272 1645 3428 \nQ 1925 3584 2291 3584 \nQ 2894 3584 3203 3211 \nQ 3513 2838 3513 2113 \nz\n\" id=\"DejaVuSans-68\" transform=\"scale(0.015625)\"/>\n      </defs>\n      <use xlink:href=\"#DejaVuSans-50\"/>\n      <use x=\"55.802734\" xlink:href=\"#DejaVuSans-61\"/>\n      <use x=\"117.082031\" xlink:href=\"#DejaVuSans-72\"/>\n      <use x=\"155.945312\" xlink:href=\"#DejaVuSans-63\"/>\n      <use x=\"210.925781\" xlink:href=\"#DejaVuSans-68\"/>\n     </g>\n    </g>\n   </g>\n   <g id=\"matplotlib.axis_2\">\n    <g id=\"ytick_1\">\n     <g id=\"line2d_1\">\n      <path clip-path=\"url(#p8722571ccd)\" d=\"M 40.603125 215.799623 \nL 319.603125 215.799623 \n\" style=\"fill:none;stroke:#cccccc;stroke-linecap:round;stroke-width:0.8;\"/>\n     </g>\n     <g id=\"text_9\">\n      <!-- 0 -->\n      <g style=\"fill:#262626;\" transform=\"translate(27.240625 219.598841)scale(0.1 -0.1)\">\n       <use xlink:href=\"#DejaVuSans-30\"/>\n      </g>\n     </g>\n    </g>\n    <g id=\"ytick_2\">\n     <g id=\"line2d_2\">\n      <path clip-path=\"url(#p8722571ccd)\" d=\"M 40.603125 190.960124 \nL 319.603125 190.960124 \n\" style=\"fill:none;stroke:#cccccc;stroke-linecap:round;stroke-width:0.8;\"/>\n     </g>\n     <g id=\"text_10\">\n      <!-- 10 -->\n      <g style=\"fill:#262626;\" transform=\"translate(20.878125 194.759343)scale(0.1 -0.1)\">\n       <use xlink:href=\"#DejaVuSans-31\"/>\n       <use x=\"63.623047\" xlink:href=\"#DejaVuSans-30\"/>\n      </g>\n     </g>\n    </g>\n    <g id=\"ytick_3\">\n     <g id=\"line2d_3\">\n      <path clip-path=\"url(#p8722571ccd)\" d=\"M 40.603125 166.120626 \nL 319.603125 166.120626 \n\" style=\"fill:none;stroke:#cccccc;stroke-linecap:round;stroke-width:0.8;\"/>\n     </g>\n     <g id=\"text_11\">\n      <!-- 20 -->\n      <g style=\"fill:#262626;\" transform=\"translate(20.878125 169.919845)scale(0.1 -0.1)\">\n       <use xlink:href=\"#DejaVuSans-32\"/>\n       <use x=\"63.623047\" xlink:href=\"#DejaVuSans-30\"/>\n      </g>\n     </g>\n    </g>\n    <g id=\"ytick_4\">\n     <g id=\"line2d_4\">\n      <path clip-path=\"url(#p8722571ccd)\" d=\"M 40.603125 141.281128 \nL 319.603125 141.281128 \n\" style=\"fill:none;stroke:#cccccc;stroke-linecap:round;stroke-width:0.8;\"/>\n     </g>\n     <g id=\"text_12\">\n      <!-- 30 -->\n      <g style=\"fill:#262626;\" transform=\"translate(20.878125 145.080346)scale(0.1 -0.1)\">\n       <use xlink:href=\"#DejaVuSans-33\"/>\n       <use x=\"63.623047\" xlink:href=\"#DejaVuSans-30\"/>\n      </g>\n     </g>\n    </g>\n    <g id=\"ytick_5\">\n     <g id=\"line2d_5\">\n      <path clip-path=\"url(#p8722571ccd)\" d=\"M 40.603125 116.441629 \nL 319.603125 116.441629 \n\" style=\"fill:none;stroke:#cccccc;stroke-linecap:round;stroke-width:0.8;\"/>\n     </g>\n     <g id=\"text_13\">\n      <!-- 40 -->\n      <g style=\"fill:#262626;\" transform=\"translate(20.878125 120.240848)scale(0.1 -0.1)\">\n       <use xlink:href=\"#DejaVuSans-34\"/>\n       <use x=\"63.623047\" xlink:href=\"#DejaVuSans-30\"/>\n      </g>\n     </g>\n    </g>\n    <g id=\"ytick_6\">\n     <g id=\"line2d_6\">\n      <path clip-path=\"url(#p8722571ccd)\" d=\"M 40.603125 91.602131 \nL 319.603125 91.602131 \n\" style=\"fill:none;stroke:#cccccc;stroke-linecap:round;stroke-width:0.8;\"/>\n     </g>\n     <g id=\"text_14\">\n      <!-- 50 -->\n      <g style=\"fill:#262626;\" transform=\"translate(20.878125 95.40135)scale(0.1 -0.1)\">\n       <use xlink:href=\"#DejaVuSans-35\"/>\n       <use x=\"63.623047\" xlink:href=\"#DejaVuSans-30\"/>\n      </g>\n     </g>\n    </g>\n    <g id=\"ytick_7\">\n     <g id=\"line2d_7\">\n      <path clip-path=\"url(#p8722571ccd)\" d=\"M 40.603125 66.762633 \nL 319.603125 66.762633 \n\" style=\"fill:none;stroke:#cccccc;stroke-linecap:round;stroke-width:0.8;\"/>\n     </g>\n     <g id=\"text_15\">\n      <!-- 60 -->\n      <g style=\"fill:#262626;\" transform=\"translate(20.878125 70.561852)scale(0.1 -0.1)\">\n       <use xlink:href=\"#DejaVuSans-36\"/>\n       <use x=\"63.623047\" xlink:href=\"#DejaVuSans-30\"/>\n      </g>\n     </g>\n    </g>\n    <g id=\"ytick_8\">\n     <g id=\"line2d_8\">\n      <path clip-path=\"url(#p8722571ccd)\" d=\"M 40.603125 41.923135 \nL 319.603125 41.923135 \n\" style=\"fill:none;stroke:#cccccc;stroke-linecap:round;stroke-width:0.8;\"/>\n     </g>\n     <g id=\"text_16\">\n      <!-- 70 -->\n      <g style=\"fill:#262626;\" transform=\"translate(20.878125 45.722353)scale(0.1 -0.1)\">\n       <defs>\n        <path d=\"M 525 4666 \nL 3525 4666 \nL 3525 4397 \nL 1831 0 \nL 1172 0 \nL 2766 4134 \nL 525 4134 \nL 525 4666 \nz\n\" id=\"DejaVuSans-37\" transform=\"scale(0.015625)\"/>\n       </defs>\n       <use xlink:href=\"#DejaVuSans-37\"/>\n       <use x=\"63.623047\" xlink:href=\"#DejaVuSans-30\"/>\n      </g>\n     </g>\n    </g>\n    <g id=\"ytick_9\">\n     <g id=\"line2d_9\">\n      <path clip-path=\"url(#p8722571ccd)\" d=\"M 40.603125 17.083636 \nL 319.603125 17.083636 \n\" style=\"fill:none;stroke:#cccccc;stroke-linecap:round;stroke-width:0.8;\"/>\n     </g>\n     <g id=\"text_17\">\n      <!-- 80 -->\n      <g style=\"fill:#262626;\" transform=\"translate(20.878125 20.882855)scale(0.1 -0.1)\">\n       <defs>\n        <path d=\"M 2034 2216 \nQ 1584 2216 1326 1975 \nQ 1069 1734 1069 1313 \nQ 1069 891 1326 650 \nQ 1584 409 2034 409 \nQ 2484 409 2743 651 \nQ 3003 894 3003 1313 \nQ 3003 1734 2745 1975 \nQ 2488 2216 2034 2216 \nz\nM 1403 2484 \nQ 997 2584 770 2862 \nQ 544 3141 544 3541 \nQ 544 4100 942 4425 \nQ 1341 4750 2034 4750 \nQ 2731 4750 3128 4425 \nQ 3525 4100 3525 3541 \nQ 3525 3141 3298 2862 \nQ 3072 2584 2669 2484 \nQ 3125 2378 3379 2068 \nQ 3634 1759 3634 1313 \nQ 3634 634 3220 271 \nQ 2806 -91 2034 -91 \nQ 1263 -91 848 271 \nQ 434 634 434 1313 \nQ 434 1759 690 2068 \nQ 947 2378 1403 2484 \nz\nM 1172 3481 \nQ 1172 3119 1398 2916 \nQ 1625 2713 2034 2713 \nQ 2441 2713 2670 2916 \nQ 2900 3119 2900 3481 \nQ 2900 3844 2670 4047 \nQ 2441 4250 2034 4250 \nQ 1625 4250 1398 4047 \nQ 1172 3844 1172 3481 \nz\n\" id=\"DejaVuSans-38\" transform=\"scale(0.015625)\"/>\n       </defs>\n       <use xlink:href=\"#DejaVuSans-38\"/>\n       <use x=\"63.623047\" xlink:href=\"#DejaVuSans-30\"/>\n      </g>\n     </g>\n    </g>\n    <g id=\"text_18\">\n     <!-- Age -->\n     <g style=\"fill:#262626;\" transform=\"translate(14.798438 125.591094)rotate(-90)scale(0.1 -0.1)\">\n      <defs>\n       <path d=\"M 2188 4044 \nL 1331 1722 \nL 3047 1722 \nL 2188 4044 \nz\nM 1831 4666 \nL 2547 4666 \nL 4325 0 \nL 3669 0 \nL 3244 1197 \nL 1141 1197 \nL 716 0 \nL 50 0 \nL 1831 4666 \nz\n\" id=\"DejaVuSans-41\" transform=\"scale(0.015625)\"/>\n       <path d=\"M 2906 1791 \nQ 2906 2416 2648 2759 \nQ 2391 3103 1925 3103 \nQ 1463 3103 1205 2759 \nQ 947 2416 947 1791 \nQ 947 1169 1205 825 \nQ 1463 481 1925 481 \nQ 2391 481 2648 825 \nQ 2906 1169 2906 1791 \nz\nM 3481 434 \nQ 3481 -459 3084 -895 \nQ 2688 -1331 1869 -1331 \nQ 1566 -1331 1297 -1286 \nQ 1028 -1241 775 -1147 \nL 775 -588 \nQ 1028 -725 1275 -790 \nQ 1522 -856 1778 -856 \nQ 2344 -856 2625 -561 \nQ 2906 -266 2906 331 \nL 2906 616 \nQ 2728 306 2450 153 \nQ 2172 0 1784 0 \nQ 1141 0 747 490 \nQ 353 981 353 1791 \nQ 353 2603 747 3093 \nQ 1141 3584 1784 3584 \nQ 2172 3584 2450 3431 \nQ 2728 3278 2906 2969 \nL 2906 3500 \nL 3481 3500 \nL 3481 434 \nz\n\" id=\"DejaVuSans-67\" transform=\"scale(0.015625)\"/>\n       <path d=\"M 3597 1894 \nL 3597 1613 \nL 953 1613 \nQ 991 1019 1311 708 \nQ 1631 397 2203 397 \nQ 2534 397 2845 478 \nQ 3156 559 3463 722 \nL 3463 178 \nQ 3153 47 2828 -22 \nQ 2503 -91 2169 -91 \nQ 1331 -91 842 396 \nQ 353 884 353 1716 \nQ 353 2575 817 3079 \nQ 1281 3584 2069 3584 \nQ 2775 3584 3186 3129 \nQ 3597 2675 3597 1894 \nz\nM 3022 2063 \nQ 3016 2534 2758 2815 \nQ 2500 3097 2075 3097 \nQ 1594 3097 1305 2825 \nQ 1016 2553 972 2059 \nL 3022 2063 \nz\n\" id=\"DejaVuSans-65\" transform=\"scale(0.015625)\"/>\n      </defs>\n      <use xlink:href=\"#DejaVuSans-41\"/>\n      <use x=\"68.408203\" xlink:href=\"#DejaVuSans-67\"/>\n      <use x=\"131.884766\" xlink:href=\"#DejaVuSans-65\"/>\n     </g>\n    </g>\n   </g>\n   <g id=\"patch_3\">\n    <path clip-path=\"url(#p8722571ccd)\" d=\"M 44.588839 161.152726 \nL 76.474554 161.152726 \nL 76.474554 118.925579 \nL 44.588839 118.925579 \nL 44.588839 161.152726 \nz\n\" style=\"fill:#cb6d67;stroke:#5c5c5c;stroke-linejoin:miter;stroke-width:1.5;\"/>\n   </g>\n   <g id=\"patch_4\">\n    <path clip-path=\"url(#p8722571ccd)\" d=\"M 84.445982 200.274936 \nL 116.331696 200.274936 \nL 116.331696 118.925579 \nL 84.445982 118.925579 \nL 84.445982 200.274936 \nz\n\" style=\"fill:#cbc267;stroke:#5c5c5c;stroke-linejoin:miter;stroke-width:1.5;\"/>\n   </g>\n   <g id=\"patch_5\">\n    <path clip-path=\"url(#p8722571ccd)\" d=\"M 124.303125 201.516911 \nL 156.188839 201.516911 \nL 156.188839 153.700877 \nL 124.303125 153.700877 \nL 124.303125 201.516911 \nz\n\" style=\"fill:#7ecb67;stroke:#5c5c5c;stroke-linejoin:miter;stroke-width:1.5;\"/>\n   </g>\n   <g id=\"patch_6\">\n    <path clip-path=\"url(#p8722571ccd)\" d=\"M 164.160268 156.184827 \nL 196.045982 156.184827 \nL 196.045982 96.570031 \nL 164.160268 96.570031 \nL 164.160268 156.184827 \nz\n\" style=\"fill:#67cba6;stroke:#5c5c5c;stroke-linejoin:miter;stroke-width:1.5;\"/>\n   </g>\n   <g id=\"patch_7\">\n    <path clip-path=\"url(#p8722571ccd)\" d=\"M 204.017411 123.272491 \nL 235.903125 123.272491 \nL 235.903125 92.223119 \nL 204.017411 92.223119 \nL 204.017411 123.272491 \nz\n\" style=\"fill:#679acb;stroke:#5c5c5c;stroke-linejoin:miter;stroke-width:1.5;\"/>\n   </g>\n   <g id=\"patch_8\">\n    <path clip-path=\"url(#p8722571ccd)\" d=\"M 243.874554 118.925579 \nL 275.760268 118.925579 \nL 275.760268 118.925579 \nL 243.874554 118.925579 \nL 243.874554 118.925579 \nz\n\" style=\"fill:#8a67cb;stroke:#5c5c5c;stroke-linejoin:miter;stroke-width:1.5;\"/>\n   </g>\n   <g id=\"patch_9\">\n    <path clip-path=\"url(#p8722571ccd)\" d=\"M 283.731696 108.98978 \nL 315.617411 108.98978 \nL 315.617411 108.98978 \nL 283.731696 108.98978 \nL 283.731696 108.98978 \nz\n\" style=\"fill:#cb67b7;stroke:#5c5c5c;stroke-linejoin:miter;stroke-width:1.5;\"/>\n   </g>\n   <g id=\"line2d_10\">\n    <path clip-path=\"url(#p8722571ccd)\" d=\"M 60.531696 161.152726 \nL 60.531696 203.379873 \n\" style=\"fill:none;stroke:#5c5c5c;stroke-linecap:round;stroke-width:1.5;\"/>\n   </g>\n   <g id=\"line2d_11\">\n    <path clip-path=\"url(#p8722571ccd)\" d=\"M 60.531696 118.925579 \nL 60.531696 56.826834 \n\" style=\"fill:none;stroke:#5c5c5c;stroke-linecap:round;stroke-width:1.5;\"/>\n   </g>\n   <g id=\"line2d_12\">\n    <path clip-path=\"url(#p8722571ccd)\" d=\"M 52.560268 203.379873 \nL 68.503125 203.379873 \n\" style=\"fill:none;stroke:#5c5c5c;stroke-linecap:round;stroke-width:1.5;\"/>\n   </g>\n   <g id=\"line2d_13\">\n    <path clip-path=\"url(#p8722571ccd)\" d=\"M 52.560268 56.826834 \nL 68.503125 56.826834 \n\" style=\"fill:none;stroke:#5c5c5c;stroke-linecap:round;stroke-width:1.5;\"/>\n   </g>\n   <g id=\"line2d_14\">\n    <defs>\n     <path d=\"M -0 3.535534 \nL 2.12132 0 \nL -0 -3.535534 \nL -2.12132 -0 \nz\n\" id=\"m563c35be31\" style=\"stroke:#5c5c5c;stroke-linejoin:miter;\"/>\n    </defs>\n    <g clip-path=\"url(#p8722571ccd)\">\n     <use style=\"fill:#5c5c5c;stroke:#5c5c5c;stroke-linejoin:miter;\" x=\"60.531696\" xlink:href=\"#m563c35be31\" y=\"51.858934\"/>\n     <use style=\"fill:#5c5c5c;stroke:#5c5c5c;stroke-linejoin:miter;\" x=\"60.531696\" xlink:href=\"#m563c35be31\" y=\"39.439185\"/>\n     <use style=\"fill:#5c5c5c;stroke:#5c5c5c;stroke-linejoin:miter;\" x=\"60.531696\" xlink:href=\"#m563c35be31\" y=\"40.68116\"/>\n     <use style=\"fill:#5c5c5c;stroke:#5c5c5c;stroke-linejoin:miter;\" x=\"60.531696\" xlink:href=\"#m563c35be31\" y=\"54.342884\"/>\n     <use style=\"fill:#5c5c5c;stroke:#5c5c5c;stroke-linejoin:miter;\" x=\"60.531696\" xlink:href=\"#m563c35be31\" y=\"54.342884\"/>\n     <use style=\"fill:#5c5c5c;stroke:#5c5c5c;stroke-linejoin:miter;\" x=\"60.531696\" xlink:href=\"#m563c35be31\" y=\"39.439185\"/>\n     <use style=\"fill:#5c5c5c;stroke:#5c5c5c;stroke-linejoin:miter;\" x=\"60.531696\" xlink:href=\"#m563c35be31\" y=\"17.083636\"/>\n     <use style=\"fill:#5c5c5c;stroke:#5c5c5c;stroke-linejoin:miter;\" x=\"60.531696\" xlink:href=\"#m563c35be31\" y=\"41.923135\"/>\n     <use style=\"fill:#5c5c5c;stroke:#5c5c5c;stroke-linejoin:miter;\" x=\"60.531696\" xlink:href=\"#m563c35be31\" y=\"31.987335\"/>\n    </g>\n   </g>\n   <g id=\"line2d_15\">\n    <path clip-path=\"url(#p8722571ccd)\" d=\"M 100.388839 200.274936 \nL 100.388839 214.756364 \n\" style=\"fill:none;stroke:#5c5c5c;stroke-linecap:round;stroke-width:1.5;\"/>\n   </g>\n   <g id=\"line2d_16\">\n    <path clip-path=\"url(#p8722571ccd)\" d=\"M 100.388839 118.925579 \nL 100.388839 41.923135 \n\" style=\"fill:none;stroke:#5c5c5c;stroke-linecap:round;stroke-width:1.5;\"/>\n   </g>\n   <g id=\"line2d_17\">\n    <path clip-path=\"url(#p8722571ccd)\" d=\"M 92.417411 214.756364 \nL 108.360268 214.756364 \n\" style=\"fill:none;stroke:#5c5c5c;stroke-linecap:round;stroke-width:1.5;\"/>\n   </g>\n   <g id=\"line2d_18\">\n    <path clip-path=\"url(#p8722571ccd)\" d=\"M 92.417411 41.923135 \nL 108.360268 41.923135 \n\" style=\"fill:none;stroke:#5c5c5c;stroke-linecap:round;stroke-width:1.5;\"/>\n   </g>\n   <g id=\"line2d_19\"/>\n   <g id=\"line2d_20\">\n    <path clip-path=\"url(#p8722571ccd)\" d=\"M 140.245982 201.516911 \nL 140.245982 213.737944 \n\" style=\"fill:none;stroke:#5c5c5c;stroke-linecap:round;stroke-width:1.5;\"/>\n   </g>\n   <g id=\"line2d_21\">\n    <path clip-path=\"url(#p8722571ccd)\" d=\"M 140.245982 153.700877 \nL 140.245982 96.570031 \n\" style=\"fill:none;stroke:#5c5c5c;stroke-linecap:round;stroke-width:1.5;\"/>\n   </g>\n   <g id=\"line2d_22\">\n    <path clip-path=\"url(#p8722571ccd)\" d=\"M 132.274554 213.737944 \nL 148.217411 213.737944 \n\" style=\"fill:none;stroke:#5c5c5c;stroke-linecap:round;stroke-width:1.5;\"/>\n   </g>\n   <g id=\"line2d_23\">\n    <path clip-path=\"url(#p8722571ccd)\" d=\"M 132.274554 96.570031 \nL 148.217411 96.570031 \n\" style=\"fill:none;stroke:#5c5c5c;stroke-linecap:round;stroke-width:1.5;\"/>\n   </g>\n   <g id=\"line2d_24\">\n    <g clip-path=\"url(#p8722571ccd)\">\n     <use style=\"fill:#5c5c5c;stroke:#5c5c5c;stroke-linejoin:miter;\" x=\"140.245982\" xlink:href=\"#m563c35be31\" y=\"71.730533\"/>\n    </g>\n   </g>\n   <g id=\"line2d_25\">\n    <path clip-path=\"url(#p8722571ccd)\" d=\"M 180.103125 156.184827 \nL 180.103125 176.056425 \n\" style=\"fill:none;stroke:#5c5c5c;stroke-linecap:round;stroke-width:1.5;\"/>\n   </g>\n   <g id=\"line2d_26\">\n    <path clip-path=\"url(#p8722571ccd)\" d=\"M 180.103125 96.570031 \nL 180.103125 81.666332 \n\" style=\"fill:none;stroke:#5c5c5c;stroke-linecap:round;stroke-width:1.5;\"/>\n   </g>\n   <g id=\"line2d_27\">\n    <path clip-path=\"url(#p8722571ccd)\" d=\"M 172.131696 176.056425 \nL 188.074554 176.056425 \n\" style=\"fill:none;stroke:#5c5c5c;stroke-linecap:round;stroke-width:1.5;\"/>\n   </g>\n   <g id=\"line2d_28\">\n    <path clip-path=\"url(#p8722571ccd)\" d=\"M 172.131696 81.666332 \nL 188.074554 81.666332 \n\" style=\"fill:none;stroke:#5c5c5c;stroke-linecap:round;stroke-width:1.5;\"/>\n   </g>\n   <g id=\"line2d_29\"/>\n   <g id=\"line2d_30\">\n    <path clip-path=\"url(#p8722571ccd)\" d=\"M 219.960268 123.272491 \nL 219.960268 143.765078 \n\" style=\"fill:none;stroke:#5c5c5c;stroke-linecap:round;stroke-width:1.5;\"/>\n   </g>\n   <g id=\"line2d_31\">\n    <path clip-path=\"url(#p8722571ccd)\" d=\"M 219.960268 92.223119 \nL 219.960268 56.826834 \n\" style=\"fill:none;stroke:#5c5c5c;stroke-linecap:round;stroke-width:1.5;\"/>\n   </g>\n   <g id=\"line2d_32\">\n    <path clip-path=\"url(#p8722571ccd)\" d=\"M 211.988839 143.765078 \nL 227.931696 143.765078 \n\" style=\"fill:none;stroke:#5c5c5c;stroke-linecap:round;stroke-width:1.5;\"/>\n   </g>\n   <g id=\"line2d_33\">\n    <path clip-path=\"url(#p8722571ccd)\" d=\"M 211.988839 56.826834 \nL 227.931696 56.826834 \n\" style=\"fill:none;stroke:#5c5c5c;stroke-linecap:round;stroke-width:1.5;\"/>\n   </g>\n   <g id=\"line2d_34\"/>\n   <g id=\"line2d_35\">\n    <path clip-path=\"url(#p8722571ccd)\" d=\"M 259.817411 118.925579 \nL 259.817411 118.925579 \n\" style=\"fill:none;stroke:#5c5c5c;stroke-linecap:round;stroke-width:1.5;\"/>\n   </g>\n   <g id=\"line2d_36\">\n    <path clip-path=\"url(#p8722571ccd)\" d=\"M 259.817411 118.925579 \nL 259.817411 118.925579 \n\" style=\"fill:none;stroke:#5c5c5c;stroke-linecap:round;stroke-width:1.5;\"/>\n   </g>\n   <g id=\"line2d_37\">\n    <path clip-path=\"url(#p8722571ccd)\" d=\"M 251.845982 118.925579 \nL 267.788839 118.925579 \n\" style=\"fill:none;stroke:#5c5c5c;stroke-linecap:round;stroke-width:1.5;\"/>\n   </g>\n   <g id=\"line2d_38\">\n    <path clip-path=\"url(#p8722571ccd)\" d=\"M 251.845982 118.925579 \nL 267.788839 118.925579 \n\" style=\"fill:none;stroke:#5c5c5c;stroke-linecap:round;stroke-width:1.5;\"/>\n   </g>\n   <g id=\"line2d_39\">\n    <g clip-path=\"url(#p8722571ccd)\">\n     <use style=\"fill:#5c5c5c;stroke:#5c5c5c;stroke-linejoin:miter;\" x=\"259.817411\" xlink:href=\"#m563c35be31\" y=\"121.409529\"/>\n     <use style=\"fill:#5c5c5c;stroke:#5c5c5c;stroke-linejoin:miter;\" x=\"259.817411\" xlink:href=\"#m563c35be31\" y=\"113.95768\"/>\n    </g>\n   </g>\n   <g id=\"line2d_40\">\n    <path clip-path=\"url(#p8722571ccd)\" d=\"M 299.674554 108.98978 \nL 299.674554 108.98978 \n\" style=\"fill:none;stroke:#5c5c5c;stroke-linecap:round;stroke-width:1.5;\"/>\n   </g>\n   <g id=\"line2d_41\">\n    <path clip-path=\"url(#p8722571ccd)\" d=\"M 299.674554 108.98978 \nL 299.674554 108.98978 \n\" style=\"fill:none;stroke:#5c5c5c;stroke-linecap:round;stroke-width:1.5;\"/>\n   </g>\n   <g id=\"line2d_42\">\n    <path clip-path=\"url(#p8722571ccd)\" d=\"M 291.703125 108.98978 \nL 307.645982 108.98978 \n\" style=\"fill:none;stroke:#5c5c5c;stroke-linecap:round;stroke-width:1.5;\"/>\n   </g>\n   <g id=\"line2d_43\">\n    <path clip-path=\"url(#p8722571ccd)\" d=\"M 291.703125 108.98978 \nL 307.645982 108.98978 \n\" style=\"fill:none;stroke:#5c5c5c;stroke-linecap:round;stroke-width:1.5;\"/>\n   </g>\n   <g id=\"line2d_44\"/>\n   <g id=\"line2d_45\">\n    <path clip-path=\"url(#p8722571ccd)\" d=\"M 44.588839 141.281128 \nL 76.474554 141.281128 \n\" style=\"fill:none;stroke:#5c5c5c;stroke-linecap:round;stroke-width:1.5;\"/>\n   </g>\n   <g id=\"line2d_46\">\n    <path clip-path=\"url(#p8722571ccd)\" d=\"M 84.445982 158.668777 \nL 116.331696 158.668777 \n\" style=\"fill:none;stroke:#5c5c5c;stroke-linecap:round;stroke-width:1.5;\"/>\n   </g>\n   <g id=\"line2d_47\">\n    <path clip-path=\"url(#p8722571ccd)\" d=\"M 124.303125 174.81445 \nL 156.188839 174.81445 \n\" style=\"fill:none;stroke:#5c5c5c;stroke-linecap:round;stroke-width:1.5;\"/>\n   </g>\n   <g id=\"line2d_48\">\n    <path clip-path=\"url(#p8722571ccd)\" d=\"M 164.160268 156.184827 \nL 196.045982 156.184827 \n\" style=\"fill:none;stroke:#5c5c5c;stroke-linecap:round;stroke-width:1.5;\"/>\n   </g>\n   <g id=\"line2d_49\">\n    <path clip-path=\"url(#p8722571ccd)\" d=\"M 204.017411 110.231755 \nL 235.903125 110.231755 \n\" style=\"fill:none;stroke:#5c5c5c;stroke-linecap:round;stroke-width:1.5;\"/>\n   </g>\n   <g id=\"line2d_50\">\n    <path clip-path=\"url(#p8722571ccd)\" d=\"M 243.874554 118.925579 \nL 275.760268 118.925579 \n\" style=\"fill:none;stroke:#5c5c5c;stroke-linecap:round;stroke-width:1.5;\"/>\n   </g>\n   <g id=\"line2d_51\">\n    <path clip-path=\"url(#p8722571ccd)\" d=\"M 283.731696 108.98978 \nL 315.617411 108.98978 \n\" style=\"fill:none;stroke:#5c5c5c;stroke-linecap:round;stroke-width:1.5;\"/>\n   </g>\n   <g id=\"patch_10\">\n    <path d=\"M 40.603125 224.64 \nL 40.603125 7.2 \n\" style=\"fill:none;stroke:#cccccc;stroke-linecap:square;stroke-linejoin:miter;stroke-width:0.8;\"/>\n   </g>\n   <g id=\"patch_11\">\n    <path d=\"M 319.603125 224.64 \nL 319.603125 7.2 \n\" style=\"fill:none;stroke:#cccccc;stroke-linecap:square;stroke-linejoin:miter;stroke-width:0.8;\"/>\n   </g>\n   <g id=\"patch_12\">\n    <path d=\"M 40.603125 224.64 \nL 319.603125 224.64 \n\" style=\"fill:none;stroke:#cccccc;stroke-linecap:square;stroke-linejoin:miter;stroke-width:0.8;\"/>\n   </g>\n   <g id=\"patch_13\">\n    <path d=\"M 40.603125 7.2 \nL 319.603125 7.2 \n\" style=\"fill:none;stroke:#cccccc;stroke-linecap:square;stroke-linejoin:miter;stroke-width:0.8;\"/>\n   </g>\n  </g>\n </g>\n <defs>\n  <clipPath id=\"p8722571ccd\">\n   <rect height=\"217.44\" width=\"279\" x=\"40.603125\" y=\"7.2\"/>\n  </clipPath>\n </defs>\n</svg>\n",
      "image/png": "[encoded data removed]"
     },
     "metadata": {}
    }
   ],
   "source": [
    "sb.boxplot(x='Parch', y='Age', data=titanic_data, palette='hls')"
   ]
  },
  {
   "source": [
    "Parch represents the number of relatives on the boat that are either children or parents. \n",
    "\n",
    "So you can see here, the younger a person is, the more likely they are to have two relatives on the boat that are probably going to be parent, of course, right, because this median value here is less than 20.\n",
    "\n",
    "Now, the older a person is, with a median value greater than 40, the more likely they are to have four under Parch, so they're more likely to have\n",
    "four individuals on the boat who are either parents or children.\n",
    "\n",
    "So this is a decent enough relationship to use to make an approximation for the age of a passenger based on the number of parents or children they have on the boat with them.\n"
   ],
   "cell_type": "markdown",
   "metadata": {}
  },
  {
   "cell_type": "code",
   "execution_count": 11,
   "metadata": {},
   "outputs": [
    {
     "output_type": "execute_result",
     "data": {
      "text/plain": [
       "       PassengerId  Survived    Pclass        Age     SibSp       Fare\n",
       "Parch                                                                 \n",
       "0       445.255162  0.343658  2.321534  32.178503  0.237463  25.586774\n",
       "1       465.110169  0.550847  2.203390  24.422000  1.084746  46.778180\n",
       "2       416.662500  0.500000  2.275000  17.216912  2.062500  64.337604\n",
       "3       579.200000  0.600000  2.600000  33.200000  1.000000  25.951660\n",
       "4       384.000000  0.000000  2.500000  44.500000  0.750000  84.968750\n",
       "5       435.200000  0.200000  3.000000  39.200000  0.600000  32.550000\n",
       "6       679.000000  0.000000  3.000000  43.000000  1.000000  46.900000"
      ],
      "text/html": "<div>\n<style scoped>\n    .dataframe tbody tr th:only-of-type {\n        vertical-align: middle;\n    }\n\n    .dataframe tbody tr th {\n        vertical-align: top;\n    }\n\n    .dataframe thead th {\n        text-align: right;\n    }\n</style>\n<table border=\"1\" class=\"dataframe\">\n  <thead>\n    <tr style=\"text-align: right;\">\n      <th></th>\n      <th>PassengerId</th>\n      <th>Survived</th>\n      <th>Pclass</th>\n      <th>Age</th>\n      <th>SibSp</th>\n      <th>Fare</th>\n    </tr>\n    <tr>\n      <th>Parch</th>\n      <th></th>\n      <th></th>\n      <th></th>\n      <th></th>\n      <th></th>\n      <th></th>\n    </tr>\n  </thead>\n  <tbody>\n    <tr>\n      <th>0</th>\n      <td>445.255162</td>\n      <td>0.343658</td>\n      <td>2.321534</td>\n      <td>32.178503</td>\n      <td>0.237463</td>\n      <td>25.586774</td>\n    </tr>\n    <tr>\n      <th>1</th>\n      <td>465.110169</td>\n      <td>0.550847</td>\n      <td>2.203390</td>\n      <td>24.422000</td>\n      <td>1.084746</td>\n      <td>46.778180</td>\n    </tr>\n    <tr>\n      <th>2</th>\n      <td>416.662500</td>\n      <td>0.500000</td>\n      <td>2.275000</td>\n      <td>17.216912</td>\n      <td>2.062500</td>\n      <td>64.337604</td>\n    </tr>\n    <tr>\n      <th>3</th>\n      <td>579.200000</td>\n      <td>0.600000</td>\n      <td>2.600000</td>\n      <td>33.200000</td>\n      <td>1.000000</td>\n      <td>25.951660</td>\n    </tr>\n    <tr>\n      <th>4</th>\n      <td>384.000000</td>\n      <td>0.000000</td>\n      <td>2.500000</td>\n      <td>44.500000</td>\n      <td>0.750000</td>\n      <td>84.968750</td>\n    </tr>\n    <tr>\n      <th>5</th>\n      <td>435.200000</td>\n      <td>0.200000</td>\n      <td>3.000000</td>\n      <td>39.200000</td>\n      <td>0.600000</td>\n      <td>32.550000</td>\n    </tr>\n    <tr>\n      <th>6</th>\n      <td>679.000000</td>\n      <td>0.000000</td>\n      <td>3.000000</td>\n      <td>43.000000</td>\n      <td>1.000000</td>\n      <td>46.900000</td>\n    </tr>\n  </tbody>\n</table>\n</div>"
     },
     "metadata": {},
     "execution_count": 11
    }
   ],
   "source": [
    "parch_groups = titanic_data.groupby(titanic_data.Parch)\n",
    "parch_groups.mean()"
   ]
  },
  {
   "source": [
    "### Fill missing Age values based on the Parch category"
   ],
   "cell_type": "markdown",
   "metadata": {}
  },
  {
   "cell_type": "code",
   "execution_count": 12,
   "metadata": {},
   "outputs": [
    {
     "output_type": "execute_result",
     "data": {
      "text/plain": [
       "0      False\n",
       "1      False\n",
       "2      False\n",
       "3      False\n",
       "4      False\n",
       "       ...  \n",
       "886    False\n",
       "887    False\n",
       "888     True\n",
       "889    False\n",
       "890    False\n",
       "Name: Age, Length: 891, dtype: bool"
      ]
     },
     "metadata": {},
     "execution_count": 12
    }
   ],
   "source": [
    "# get missing values\n",
    "missing_series = titanic_data.Age.isnull()\n",
    "missing_series"
   ]
  },
  {
   "cell_type": "code",
   "execution_count": 13,
   "metadata": {},
   "outputs": [
    {
     "output_type": "execute_result",
     "data": {
      "text/plain": [
       "Parch\n",
       "0    32\n",
       "1    24\n",
       "2    17\n",
       "3    33\n",
       "4    44\n",
       "5    39\n",
       "6    43\n",
       "Name: Age, dtype: int64"
      ]
     },
     "metadata": {},
     "execution_count": 13
    }
   ],
   "source": [
    "# create a mapping series\n",
    "mapping_series = parch_groups.mean().Age.astype(int)\n",
    "mapping_series"
   ]
  },
  {
   "cell_type": "code",
   "execution_count": 14,
   "metadata": {},
   "outputs": [
    {
     "output_type": "execute_result",
     "data": {
      "text/plain": [
       "     PassengerId  Survived  Pclass     Sex   Age  SibSp  Parch     Fare  \\\n",
       "5              6         0       3    male  32.0      0      0   8.4583   \n",
       "17            18         1       2    male  32.0      0      0  13.0000   \n",
       "19            20         1       3  female  32.0      0      0   7.2250   \n",
       "26            27         0       3    male  32.0      0      0   7.2250   \n",
       "28            29         1       3  female  32.0      0      0   7.8792   \n",
       "..           ...       ...     ...     ...   ...    ...    ...      ...   \n",
       "859          860         0       3    male  32.0      0      0   7.2292   \n",
       "863          864         0       3  female  17.0      8      2  69.5500   \n",
       "868          869         0       3    male  32.0      0      0   9.5000   \n",
       "878          879         0       3    male  32.0      0      0   7.8958   \n",
       "888          889         0       3  female  17.0      1      2  23.4500   \n",
       "\n",
       "    Embarked  \n",
       "5          Q  \n",
       "17         S  \n",
       "19         C  \n",
       "26         C  \n",
       "28         Q  \n",
       "..       ...  \n",
       "859        C  \n",
       "863        S  \n",
       "868        S  \n",
       "878        S  \n",
       "888        S  \n",
       "\n",
       "[177 rows x 9 columns]"
      ],
      "text/html": "<div>\n<style scoped>\n    .dataframe tbody tr th:only-of-type {\n        vertical-align: middle;\n    }\n\n    .dataframe tbody tr th {\n        vertical-align: top;\n    }\n\n    .dataframe thead th {\n        text-align: right;\n    }\n</style>\n<table border=\"1\" class=\"dataframe\">\n  <thead>\n    <tr style=\"text-align: right;\">\n      <th></th>\n      <th>PassengerId</th>\n      <th>Survived</th>\n      <th>Pclass</th>\n      <th>Sex</th>\n      <th>Age</th>\n      <th>SibSp</th>\n      <th>Parch</th>\n      <th>Fare</th>\n      <th>Embarked</th>\n    </tr>\n  </thead>\n  <tbody>\n    <tr>\n      <th>5</th>\n      <td>6</td>\n      <td>0</td>\n      <td>3</td>\n      <td>male</td>\n      <td>32.0</td>\n      <td>0</td>\n      <td>0</td>\n      <td>8.4583</td>\n      <td>Q</td>\n    </tr>\n    <tr>\n      <th>17</th>\n      <td>18</td>\n      <td>1</td>\n      <td>2</td>\n      <td>male</td>\n      <td>32.0</td>\n      <td>0</td>\n      <td>0</td>\n      <td>13.0000</td>\n      <td>S</td>\n    </tr>\n    <tr>\n      <th>19</th>\n      <td>20</td>\n      <td>1</td>\n      <td>3</td>\n      <td>female</td>\n      <td>32.0</td>\n      <td>0</td>\n      <td>0</td>\n      <td>7.2250</td>\n      <td>C</td>\n    </tr>\n    <tr>\n      <th>26</th>\n      <td>27</td>\n      <td>0</td>\n      <td>3</td>\n      <td>male</td>\n      <td>32.0</td>\n      <td>0</td>\n      <td>0</td>\n      <td>7.2250</td>\n      <td>C</td>\n    </tr>\n    <tr>\n      <th>28</th>\n      <td>29</td>\n      <td>1</td>\n      <td>3</td>\n      <td>female</td>\n      <td>32.0</td>\n      <td>0</td>\n      <td>0</td>\n      <td>7.8792</td>\n      <td>Q</td>\n    </tr>\n    <tr>\n      <th>...</th>\n      <td>...</td>\n      <td>...</td>\n      <td>...</td>\n      <td>...</td>\n      <td>...</td>\n      <td>...</td>\n      <td>...</td>\n      <td>...</td>\n      <td>...</td>\n    </tr>\n    <tr>\n      <th>859</th>\n      <td>860</td>\n      <td>0</td>\n      <td>3</td>\n      <td>male</td>\n      <td>32.0</td>\n      <td>0</td>\n      <td>0</td>\n      <td>7.2292</td>\n      <td>C</td>\n    </tr>\n    <tr>\n      <th>863</th>\n      <td>864</td>\n      <td>0</td>\n      <td>3</td>\n      <td>female</td>\n      <td>17.0</td>\n      <td>8</td>\n      <td>2</td>\n      <td>69.5500</td>\n      <td>S</td>\n    </tr>\n    <tr>\n      <th>868</th>\n      <td>869</td>\n      <td>0</td>\n      <td>3</td>\n      <td>male</td>\n      <td>32.0</td>\n      <td>0</td>\n      <td>0</td>\n      <td>9.5000</td>\n      <td>S</td>\n    </tr>\n    <tr>\n      <th>878</th>\n      <td>879</td>\n      <td>0</td>\n      <td>3</td>\n      <td>male</td>\n      <td>32.0</td>\n      <td>0</td>\n      <td>0</td>\n      <td>7.8958</td>\n      <td>S</td>\n    </tr>\n    <tr>\n      <th>888</th>\n      <td>889</td>\n      <td>0</td>\n      <td>3</td>\n      <td>female</td>\n      <td>17.0</td>\n      <td>1</td>\n      <td>2</td>\n      <td>23.4500</td>\n      <td>S</td>\n    </tr>\n  </tbody>\n</table>\n<p>177 rows × 9 columns</p>\n</div>"
     },
     "metadata": {},
     "execution_count": 14
    }
   ],
   "source": [
    "# Filling missing values\n",
    "# titanic_data_old = titanic_data.copy() # to copy dataframe\n",
    "titanic_data['Age'] = titanic_data['Age'].fillna(titanic_data['Parch'].map(mapping_series))\n",
    "# and checking\n",
    "titanic_data.loc[missing_series] "
   ]
  },
  {
   "cell_type": "code",
   "execution_count": 15,
   "metadata": {},
   "outputs": [
    {
     "output_type": "execute_result",
     "data": {
      "text/plain": [
       "       PassengerId    Survived      Pclass         Age       SibSp  \\\n",
       "count   891.000000  891.000000  891.000000  891.000000  891.000000   \n",
       "mean    446.000000    0.383838    2.308642   29.882346    0.523008   \n",
       "std     257.353842    0.486592    0.836071   13.130843    1.102743   \n",
       "min       1.000000    0.000000    1.000000    0.420000    0.000000   \n",
       "25%     223.500000    0.000000    2.000000   22.000000    0.000000   \n",
       "50%     446.000000    0.000000    3.000000   31.000000    0.000000   \n",
       "75%     668.500000    1.000000    3.000000   35.000000    1.000000   \n",
       "max     891.000000    1.000000    3.000000   80.000000    8.000000   \n",
       "\n",
       "            Parch        Fare  \n",
       "count  891.000000  891.000000  \n",
       "mean     0.381594   32.204208  \n",
       "std      0.806057   49.693429  \n",
       "min      0.000000    0.000000  \n",
       "25%      0.000000    7.910400  \n",
       "50%      0.000000   14.454200  \n",
       "75%      0.000000   31.000000  \n",
       "max      6.000000  512.329200  "
      ],
      "text/html": "<div>\n<style scoped>\n    .dataframe tbody tr th:only-of-type {\n        vertical-align: middle;\n    }\n\n    .dataframe tbody tr th {\n        vertical-align: top;\n    }\n\n    .dataframe thead th {\n        text-align: right;\n    }\n</style>\n<table border=\"1\" class=\"dataframe\">\n  <thead>\n    <tr style=\"text-align: right;\">\n      <th></th>\n      <th>PassengerId</th>\n      <th>Survived</th>\n      <th>Pclass</th>\n      <th>Age</th>\n      <th>SibSp</th>\n      <th>Parch</th>\n      <th>Fare</th>\n    </tr>\n  </thead>\n  <tbody>\n    <tr>\n      <th>count</th>\n      <td>891.000000</td>\n      <td>891.000000</td>\n      <td>891.000000</td>\n      <td>891.000000</td>\n      <td>891.000000</td>\n      <td>891.000000</td>\n      <td>891.000000</td>\n    </tr>\n    <tr>\n      <th>mean</th>\n      <td>446.000000</td>\n      <td>0.383838</td>\n      <td>2.308642</td>\n      <td>29.882346</td>\n      <td>0.523008</td>\n      <td>0.381594</td>\n      <td>32.204208</td>\n    </tr>\n    <tr>\n      <th>std</th>\n      <td>257.353842</td>\n      <td>0.486592</td>\n      <td>0.836071</td>\n      <td>13.130843</td>\n      <td>1.102743</td>\n      <td>0.806057</td>\n      <td>49.693429</td>\n    </tr>\n    <tr>\n      <th>min</th>\n      <td>1.000000</td>\n      <td>0.000000</td>\n      <td>1.000000</td>\n      <td>0.420000</td>\n      <td>0.000000</td>\n      <td>0.000000</td>\n      <td>0.000000</td>\n    </tr>\n    <tr>\n      <th>25%</th>\n      <td>223.500000</td>\n      <td>0.000000</td>\n      <td>2.000000</td>\n      <td>22.000000</td>\n      <td>0.000000</td>\n      <td>0.000000</td>\n      <td>7.910400</td>\n    </tr>\n    <tr>\n      <th>50%</th>\n      <td>446.000000</td>\n      <td>0.000000</td>\n      <td>3.000000</td>\n      <td>31.000000</td>\n      <td>0.000000</td>\n      <td>0.000000</td>\n      <td>14.454200</td>\n    </tr>\n    <tr>\n      <th>75%</th>\n      <td>668.500000</td>\n      <td>1.000000</td>\n      <td>3.000000</td>\n      <td>35.000000</td>\n      <td>1.000000</td>\n      <td>0.000000</td>\n      <td>31.000000</td>\n    </tr>\n    <tr>\n      <th>max</th>\n      <td>891.000000</td>\n      <td>1.000000</td>\n      <td>3.000000</td>\n      <td>80.000000</td>\n      <td>8.000000</td>\n      <td>6.000000</td>\n      <td>512.329200</td>\n    </tr>\n  </tbody>\n</table>\n</div>"
     },
     "metadata": {},
     "execution_count": 15
    }
   ],
   "source": [
    "titanic_data.describe()"
   ]
  },
  {
   "cell_type": "code",
   "execution_count": 16,
   "metadata": {},
   "outputs": [
    {
     "output_type": "execute_result",
     "data": {
      "text/plain": [
       "PassengerId    0\n",
       "Survived       0\n",
       "Pclass         0\n",
       "Sex            0\n",
       "Age            0\n",
       "SibSp          0\n",
       "Parch          0\n",
       "Fare           0\n",
       "Embarked       2\n",
       "dtype: int64"
      ]
     },
     "metadata": {},
     "execution_count": 16
    }
   ],
   "source": [
    "titanic_data.isnull().sum()"
   ]
  },
  {
   "cell_type": "code",
   "execution_count": 17,
   "metadata": {},
   "outputs": [
    {
     "output_type": "stream",
     "name": "stdout",
     "text": [
      "<class 'pandas.core.frame.DataFrame'>\nRangeIndex: 889 entries, 0 to 888\nData columns (total 9 columns):\n #   Column       Non-Null Count  Dtype  \n---  ------       --------------  -----  \n 0   PassengerId  889 non-null    int64  \n 1   Survived     889 non-null    int64  \n 2   Pclass       889 non-null    int64  \n 3   Sex          889 non-null    object \n 4   Age          889 non-null    float64\n 5   SibSp        889 non-null    int64  \n 6   Parch        889 non-null    int64  \n 7   Fare         889 non-null    float64\n 8   Embarked     889 non-null    object \ndtypes: float64(2), int64(5), object(2)\nmemory usage: 62.6+ KB\n"
     ]
    }
   ],
   "source": [
    "# Let's drop rows with null in Embarked\n",
    "titanic_data.dropna(inplace=True)\n",
    "titanic_data.reset_index(inplace=True, drop=True)\n",
    "\n",
    "titanic_data.info()"
   ]
  },
  {
   "source": [
    "### Converting categorical variables to a dummy indicators"
   ],
   "cell_type": "markdown",
   "metadata": {}
  },
  {
   "cell_type": "code",
   "execution_count": 18,
   "metadata": {},
   "outputs": [
    {
     "output_type": "execute_result",
     "data": {
      "text/plain": [
       "array([1, 0, 0, 0, 1])"
      ]
     },
     "metadata": {},
     "execution_count": 18
    }
   ],
   "source": [
    "from sklearn.preprocessing import LabelEncoder\n",
    "\n",
    "label_encoder = LabelEncoder()\n",
    "# turn Sex into something numerical\n",
    "gender_cat = titanic_data['Sex']\n",
    "gender_encoded = label_encoder.fit_transform(gender_cat)\n",
    "gender_encoded[0:5]"
   ]
  },
  {
   "cell_type": "code",
   "execution_count": 19,
   "metadata": {},
   "outputs": [
    {
     "output_type": "execute_result",
     "data": {
      "text/plain": [
       "   PassengerId  Survived  Pclass     Sex   Age  SibSp  Parch     Fare Embarked\n",
       "0            1         0       3    male  22.0      1      0   7.2500        S\n",
       "1            2         1       1  female  38.0      1      0  71.2833        C\n",
       "2            3         1       3  female  26.0      0      0   7.9250        S\n",
       "3            4         1       1  female  35.0      1      0  53.1000        S\n",
       "4            5         0       3    male  35.0      0      0   8.0500        S"
      ],
      "text/html": "<div>\n<style scoped>\n    .dataframe tbody tr th:only-of-type {\n        vertical-align: middle;\n    }\n\n    .dataframe tbody tr th {\n        vertical-align: top;\n    }\n\n    .dataframe thead th {\n        text-align: right;\n    }\n</style>\n<table border=\"1\" class=\"dataframe\">\n  <thead>\n    <tr style=\"text-align: right;\">\n      <th></th>\n      <th>PassengerId</th>\n      <th>Survived</th>\n      <th>Pclass</th>\n      <th>Sex</th>\n      <th>Age</th>\n      <th>SibSp</th>\n      <th>Parch</th>\n      <th>Fare</th>\n      <th>Embarked</th>\n    </tr>\n  </thead>\n  <tbody>\n    <tr>\n      <th>0</th>\n      <td>1</td>\n      <td>0</td>\n      <td>3</td>\n      <td>male</td>\n      <td>22.0</td>\n      <td>1</td>\n      <td>0</td>\n      <td>7.2500</td>\n      <td>S</td>\n    </tr>\n    <tr>\n      <th>1</th>\n      <td>2</td>\n      <td>1</td>\n      <td>1</td>\n      <td>female</td>\n      <td>38.0</td>\n      <td>1</td>\n      <td>0</td>\n      <td>71.2833</td>\n      <td>C</td>\n    </tr>\n    <tr>\n      <th>2</th>\n      <td>3</td>\n      <td>1</td>\n      <td>3</td>\n      <td>female</td>\n      <td>26.0</td>\n      <td>0</td>\n      <td>0</td>\n      <td>7.9250</td>\n      <td>S</td>\n    </tr>\n    <tr>\n      <th>3</th>\n      <td>4</td>\n      <td>1</td>\n      <td>1</td>\n      <td>female</td>\n      <td>35.0</td>\n      <td>1</td>\n      <td>0</td>\n      <td>53.1000</td>\n      <td>S</td>\n    </tr>\n    <tr>\n      <th>4</th>\n      <td>5</td>\n      <td>0</td>\n      <td>3</td>\n      <td>male</td>\n      <td>35.0</td>\n      <td>0</td>\n      <td>0</td>\n      <td>8.0500</td>\n      <td>S</td>\n    </tr>\n  </tbody>\n</table>\n</div>"
     },
     "metadata": {},
     "execution_count": 19
    }
   ],
   "source": [
    "titanic_data.head()"
   ]
  },
  {
   "cell_type": "code",
   "execution_count": 20,
   "metadata": {},
   "outputs": [
    {
     "output_type": "execute_result",
     "data": {
      "text/plain": [
       "   male_gender\n",
       "0            1\n",
       "1            0\n",
       "2            0\n",
       "3            0\n",
       "4            1"
      ],
      "text/html": "<div>\n<style scoped>\n    .dataframe tbody tr th:only-of-type {\n        vertical-align: middle;\n    }\n\n    .dataframe tbody tr th {\n        vertical-align: top;\n    }\n\n    .dataframe thead th {\n        text-align: right;\n    }\n</style>\n<table border=\"1\" class=\"dataframe\">\n  <thead>\n    <tr style=\"text-align: right;\">\n      <th></th>\n      <th>male_gender</th>\n    </tr>\n  </thead>\n  <tbody>\n    <tr>\n      <th>0</th>\n      <td>1</td>\n    </tr>\n    <tr>\n      <th>1</th>\n      <td>0</td>\n    </tr>\n    <tr>\n      <th>2</th>\n      <td>0</td>\n    </tr>\n    <tr>\n      <th>3</th>\n      <td>0</td>\n    </tr>\n    <tr>\n      <th>4</th>\n      <td>1</td>\n    </tr>\n  </tbody>\n</table>\n</div>"
     },
     "metadata": {},
     "execution_count": 20
    }
   ],
   "source": [
    "# 1 = male / 0 = female\n",
    "gender_df = pd.DataFrame(gender_encoded, columns=['male_gender'])\n",
    "gender_df.head()"
   ]
  },
  {
   "cell_type": "code",
   "execution_count": 21,
   "metadata": {},
   "outputs": [
    {
     "output_type": "execute_result",
     "data": {
      "text/plain": [
       "array([2, 0, 2, 2, 2, 1])"
      ]
     },
     "metadata": {},
     "execution_count": 21
    }
   ],
   "source": [
    "embarked_cat = titanic_data['Embarked']\n",
    "embarked_encoded = label_encoder.fit_transform(embarked_cat)\n",
    "embarked_encoded[0:6]"
   ]
  },
  {
   "cell_type": "code",
   "execution_count": 22,
   "metadata": {},
   "outputs": [
    {
     "output_type": "execute_result",
     "data": {
      "text/plain": [
       "     C    Q    S\n",
       "0  0.0  0.0  1.0\n",
       "1  1.0  0.0  0.0\n",
       "2  0.0  0.0  1.0\n",
       "3  0.0  0.0  1.0\n",
       "4  0.0  0.0  1.0\n",
       "5  0.0  1.0  0.0"
      ],
      "text/html": "<div>\n<style scoped>\n    .dataframe tbody tr th:only-of-type {\n        vertical-align: middle;\n    }\n\n    .dataframe tbody tr th {\n        vertical-align: top;\n    }\n\n    .dataframe thead th {\n        text-align: right;\n    }\n</style>\n<table border=\"1\" class=\"dataframe\">\n  <thead>\n    <tr style=\"text-align: right;\">\n      <th></th>\n      <th>C</th>\n      <th>Q</th>\n      <th>S</th>\n    </tr>\n  </thead>\n  <tbody>\n    <tr>\n      <th>0</th>\n      <td>0.0</td>\n      <td>0.0</td>\n      <td>1.0</td>\n    </tr>\n    <tr>\n      <th>1</th>\n      <td>1.0</td>\n      <td>0.0</td>\n      <td>0.0</td>\n    </tr>\n    <tr>\n      <th>2</th>\n      <td>0.0</td>\n      <td>0.0</td>\n      <td>1.0</td>\n    </tr>\n    <tr>\n      <th>3</th>\n      <td>0.0</td>\n      <td>0.0</td>\n      <td>1.0</td>\n    </tr>\n    <tr>\n      <th>4</th>\n      <td>0.0</td>\n      <td>0.0</td>\n      <td>1.0</td>\n    </tr>\n    <tr>\n      <th>5</th>\n      <td>0.0</td>\n      <td>1.0</td>\n      <td>0.0</td>\n    </tr>\n  </tbody>\n</table>\n</div>"
     },
     "metadata": {},
     "execution_count": 22
    }
   ],
   "source": [
    "# S = 2 / Q = 1 / 0  = C / \n",
    "from sklearn.preprocessing import OneHotEncoder\n",
    "\n",
    "# here is 3 different values so we need 3 bollean columns\n",
    "binary_encoder = OneHotEncoder(categories='auto')\n",
    "embarked_1hot = binary_encoder.fit_transform(embarked_encoded.reshape(-1,1))\n",
    "embarked_1hot_mat = embarked_1hot.toarray()\n",
    "\n",
    "embarked_df = pd.DataFrame(embarked_1hot_mat, columns=['C', 'Q', 'S'])\n",
    "embarked_df.head(6)"
   ]
  },
  {
   "cell_type": "code",
   "execution_count": 23,
   "metadata": {},
   "outputs": [
    {
     "output_type": "execute_result",
     "data": {
      "text/plain": [
       "   PassengerId  Survived  Pclass   Age  SibSp  Parch     Fare\n",
       "0            1         0       3  22.0      1      0   7.2500\n",
       "1            2         1       1  38.0      1      0  71.2833\n",
       "2            3         1       3  26.0      0      0   7.9250\n",
       "3            4         1       1  35.0      1      0  53.1000\n",
       "4            5         0       3  35.0      0      0   8.0500"
      ],
      "text/html": "<div>\n<style scoped>\n    .dataframe tbody tr th:only-of-type {\n        vertical-align: middle;\n    }\n\n    .dataframe tbody tr th {\n        vertical-align: top;\n    }\n\n    .dataframe thead th {\n        text-align: right;\n    }\n</style>\n<table border=\"1\" class=\"dataframe\">\n  <thead>\n    <tr style=\"text-align: right;\">\n      <th></th>\n      <th>PassengerId</th>\n      <th>Survived</th>\n      <th>Pclass</th>\n      <th>Age</th>\n      <th>SibSp</th>\n      <th>Parch</th>\n      <th>Fare</th>\n    </tr>\n  </thead>\n  <tbody>\n    <tr>\n      <th>0</th>\n      <td>1</td>\n      <td>0</td>\n      <td>3</td>\n      <td>22.0</td>\n      <td>1</td>\n      <td>0</td>\n      <td>7.2500</td>\n    </tr>\n    <tr>\n      <th>1</th>\n      <td>2</td>\n      <td>1</td>\n      <td>1</td>\n      <td>38.0</td>\n      <td>1</td>\n      <td>0</td>\n      <td>71.2833</td>\n    </tr>\n    <tr>\n      <th>2</th>\n      <td>3</td>\n      <td>1</td>\n      <td>3</td>\n      <td>26.0</td>\n      <td>0</td>\n      <td>0</td>\n      <td>7.9250</td>\n    </tr>\n    <tr>\n      <th>3</th>\n      <td>4</td>\n      <td>1</td>\n      <td>1</td>\n      <td>35.0</td>\n      <td>1</td>\n      <td>0</td>\n      <td>53.1000</td>\n    </tr>\n    <tr>\n      <th>4</th>\n      <td>5</td>\n      <td>0</td>\n      <td>3</td>\n      <td>35.0</td>\n      <td>0</td>\n      <td>0</td>\n      <td>8.0500</td>\n    </tr>\n  </tbody>\n</table>\n</div>"
     },
     "metadata": {},
     "execution_count": 23
    }
   ],
   "source": [
    "titanic_data.drop(['Sex', 'Embarked'], axis=1, inplace=True)\n",
    "titanic_data.head()"
   ]
  },
  {
   "cell_type": "code",
   "execution_count": 24,
   "metadata": {},
   "outputs": [
    {
     "output_type": "execute_result",
     "data": {
      "text/plain": [
       "   PassengerId  Survived  Pclass   Age  SibSp  Parch     Fare  male_gender  \\\n",
       "0          1.0       0.0     3.0  22.0    1.0    0.0   7.2500          1.0   \n",
       "1          2.0       1.0     1.0  38.0    1.0    0.0  71.2833          0.0   \n",
       "2          3.0       1.0     3.0  26.0    0.0    0.0   7.9250          0.0   \n",
       "3          4.0       1.0     1.0  35.0    1.0    0.0  53.1000          0.0   \n",
       "4          5.0       0.0     3.0  35.0    0.0    0.0   8.0500          1.0   \n",
       "\n",
       "     C    Q    S  \n",
       "0  0.0  0.0  1.0  \n",
       "1  1.0  0.0  0.0  \n",
       "2  0.0  0.0  1.0  \n",
       "3  0.0  0.0  1.0  \n",
       "4  0.0  0.0  1.0  "
      ],
      "text/html": "<div>\n<style scoped>\n    .dataframe tbody tr th:only-of-type {\n        vertical-align: middle;\n    }\n\n    .dataframe tbody tr th {\n        vertical-align: top;\n    }\n\n    .dataframe thead th {\n        text-align: right;\n    }\n</style>\n<table border=\"1\" class=\"dataframe\">\n  <thead>\n    <tr style=\"text-align: right;\">\n      <th></th>\n      <th>PassengerId</th>\n      <th>Survived</th>\n      <th>Pclass</th>\n      <th>Age</th>\n      <th>SibSp</th>\n      <th>Parch</th>\n      <th>Fare</th>\n      <th>male_gender</th>\n      <th>C</th>\n      <th>Q</th>\n      <th>S</th>\n    </tr>\n  </thead>\n  <tbody>\n    <tr>\n      <th>0</th>\n      <td>1.0</td>\n      <td>0.0</td>\n      <td>3.0</td>\n      <td>22.0</td>\n      <td>1.0</td>\n      <td>0.0</td>\n      <td>7.2500</td>\n      <td>1.0</td>\n      <td>0.0</td>\n      <td>0.0</td>\n      <td>1.0</td>\n    </tr>\n    <tr>\n      <th>1</th>\n      <td>2.0</td>\n      <td>1.0</td>\n      <td>1.0</td>\n      <td>38.0</td>\n      <td>1.0</td>\n      <td>0.0</td>\n      <td>71.2833</td>\n      <td>0.0</td>\n      <td>1.0</td>\n      <td>0.0</td>\n      <td>0.0</td>\n    </tr>\n    <tr>\n      <th>2</th>\n      <td>3.0</td>\n      <td>1.0</td>\n      <td>3.0</td>\n      <td>26.0</td>\n      <td>0.0</td>\n      <td>0.0</td>\n      <td>7.9250</td>\n      <td>0.0</td>\n      <td>0.0</td>\n      <td>0.0</td>\n      <td>1.0</td>\n    </tr>\n    <tr>\n      <th>3</th>\n      <td>4.0</td>\n      <td>1.0</td>\n      <td>1.0</td>\n      <td>35.0</td>\n      <td>1.0</td>\n      <td>0.0</td>\n      <td>53.1000</td>\n      <td>0.0</td>\n      <td>0.0</td>\n      <td>0.0</td>\n      <td>1.0</td>\n    </tr>\n    <tr>\n      <th>4</th>\n      <td>5.0</td>\n      <td>0.0</td>\n      <td>3.0</td>\n      <td>35.0</td>\n      <td>0.0</td>\n      <td>0.0</td>\n      <td>8.0500</td>\n      <td>1.0</td>\n      <td>0.0</td>\n      <td>0.0</td>\n      <td>1.0</td>\n    </tr>\n  </tbody>\n</table>\n</div>"
     },
     "metadata": {},
     "execution_count": 24
    }
   ],
   "source": [
    "titanic_dmy = pd.concat([titanic_data, gender_df, embarked_df], axis=1, verify_integrity=True).astype(float)\n",
    "titanic_dmy.head()\n",
    "# All categorical variables are now represented by binary "
   ]
  },
  {
   "source": [
    "### Checking for independence between features"
   ],
   "cell_type": "markdown",
   "metadata": {}
  },
  {
   "cell_type": "code",
   "execution_count": 25,
   "metadata": {},
   "outputs": [
    {
     "output_type": "execute_result",
     "data": {
      "text/plain": [
       "<AxesSubplot:>"
      ]
     },
     "metadata": {},
     "execution_count": 25
    },
    {
     "output_type": "display_data",
     "data": {
      "text/plain": "<Figure size 360x288 with 2 Axes>",
      "image/svg+xml": "<?xml version=\"1.0\" encoding=\"utf-8\" standalone=\"no\"?>\n<!DOCTYPE svg PUBLIC \"-//W3C//DTD SVG 1.1//EN\"\n  \"http://www.w3.org/Graphics/SVG/1.1/DTD/svg11.dtd\">\n<svg height=\"307.890781pt\" version=\"1.1\" viewBox=\"0 0 365.956375 307.890781\" width=\"365.956375pt\" xmlns=\"http://www.w3.org/2000/svg\" xmlns:xlink=\"http://www.w3.org/1999/xlink\">\n <metadata>\n  <rdf:RDF xmlns:cc=\"http://creativecommons.org/ns#\" xmlns:dc=\"http://purl.org/dc/elements/1.1/\" xmlns:rdf=\"http://www.w3.org/1999/02/22-rdf-syntax-ns#\">\n   <cc:Work>\n    <dc:type rdf:resource=\"http://purl.org/dc/dcmitype/StillImage\"/>\n    <dc:date>2021-05-17T12:30:53.476683</dc:date>\n    <dc:format>image/svg+xml</dc:format>\n    <dc:creator>\n     <cc:Agent>\n      <dc:title>Matplotlib v3.4.2, https://matplotlib.org/</dc:title>\n     </cc:Agent>\n    </dc:creator>\n   </cc:Work>\n  </rdf:RDF>\n </metadata>\n <defs>\n  <style type=\"text/css\">*{stroke-linecap:butt;stroke-linejoin:round;}</style>\n </defs>\n <g id=\"figure_1\">\n  <g id=\"patch_1\">\n   <path d=\"M 0 307.890781 \nL 365.956375 307.890781 \nL 365.956375 0 \nL 0 0 \nz\n\" style=\"fill:#ffffff;\"/>\n  </g>\n  <g id=\"axes_1\">\n   <g id=\"patch_2\">\n    <path d=\"M 79.451563 228.439219 \nL 302.651563 228.439219 \nL 302.651563 10.999219 \nL 79.451563 10.999219 \nz\n\" style=\"fill:#ffffff;\"/>\n   </g>\n   <g id=\"matplotlib.axis_1\">\n    <g id=\"xtick_1\">\n     <g id=\"text_1\">\n      <!-- PassengerId -->\n      <g style=\"fill:#262626;\" transform=\"translate(92.356392 295.967344)rotate(-90)scale(0.1 -0.1)\">\n       <defs>\n        <path d=\"M 1259 4147 \nL 1259 2394 \nL 2053 2394 \nQ 2494 2394 2734 2622 \nQ 2975 2850 2975 3272 \nQ 2975 3691 2734 3919 \nQ 2494 4147 2053 4147 \nL 1259 4147 \nz\nM 628 4666 \nL 2053 4666 \nQ 2838 4666 3239 4311 \nQ 3641 3956 3641 3272 \nQ 3641 2581 3239 2228 \nQ 2838 1875 2053 1875 \nL 1259 1875 \nL 1259 0 \nL 628 0 \nL 628 4666 \nz\n\" id=\"DejaVuSans-50\" transform=\"scale(0.015625)\"/>\n        <path d=\"M 2194 1759 \nQ 1497 1759 1228 1600 \nQ 959 1441 959 1056 \nQ 959 750 1161 570 \nQ 1363 391 1709 391 \nQ 2188 391 2477 730 \nQ 2766 1069 2766 1631 \nL 2766 1759 \nL 2194 1759 \nz\nM 3341 1997 \nL 3341 0 \nL 2766 0 \nL 2766 531 \nQ 2569 213 2275 61 \nQ 1981 -91 1556 -91 \nQ 1019 -91 701 211 \nQ 384 513 384 1019 \nQ 384 1609 779 1909 \nQ 1175 2209 1959 2209 \nL 2766 2209 \nL 2766 2266 \nQ 2766 2663 2505 2880 \nQ 2244 3097 1772 3097 \nQ 1472 3097 1187 3025 \nQ 903 2953 641 2809 \nL 641 3341 \nQ 956 3463 1253 3523 \nQ 1550 3584 1831 3584 \nQ 2591 3584 2966 3190 \nQ 3341 2797 3341 1997 \nz\n\" id=\"DejaVuSans-61\" transform=\"scale(0.015625)\"/>\n        <path d=\"M 2834 3397 \nL 2834 2853 \nQ 2591 2978 2328 3040 \nQ 2066 3103 1784 3103 \nQ 1356 3103 1142 2972 \nQ 928 2841 928 2578 \nQ 928 2378 1081 2264 \nQ 1234 2150 1697 2047 \nL 1894 2003 \nQ 2506 1872 2764 1633 \nQ 3022 1394 3022 966 \nQ 3022 478 2636 193 \nQ 2250 -91 1575 -91 \nQ 1294 -91 989 -36 \nQ 684 19 347 128 \nL 347 722 \nQ 666 556 975 473 \nQ 1284 391 1588 391 \nQ 1994 391 2212 530 \nQ 2431 669 2431 922 \nQ 2431 1156 2273 1281 \nQ 2116 1406 1581 1522 \nL 1381 1569 \nQ 847 1681 609 1914 \nQ 372 2147 372 2553 \nQ 372 3047 722 3315 \nQ 1072 3584 1716 3584 \nQ 2034 3584 2315 3537 \nQ 2597 3491 2834 3397 \nz\n\" id=\"DejaVuSans-73\" transform=\"scale(0.015625)\"/>\n        <path d=\"M 3597 1894 \nL 3597 1613 \nL 953 1613 \nQ 991 1019 1311 708 \nQ 1631 397 2203 397 \nQ 2534 397 2845 478 \nQ 3156 559 3463 722 \nL 3463 178 \nQ 3153 47 2828 -22 \nQ 2503 -91 2169 -91 \nQ 1331 -91 842 396 \nQ 353 884 353 1716 \nQ 353 2575 817 3079 \nQ 1281 3584 2069 3584 \nQ 2775 3584 3186 3129 \nQ 3597 2675 3597 1894 \nz\nM 3022 2063 \nQ 3016 2534 2758 2815 \nQ 2500 3097 2075 3097 \nQ 1594 3097 1305 2825 \nQ 1016 2553 972 2059 \nL 3022 2063 \nz\n\" id=\"DejaVuSans-65\" transform=\"scale(0.015625)\"/>\n        <path d=\"M 3513 2113 \nL 3513 0 \nL 2938 0 \nL 2938 2094 \nQ 2938 2591 2744 2837 \nQ 2550 3084 2163 3084 \nQ 1697 3084 1428 2787 \nQ 1159 2491 1159 1978 \nL 1159 0 \nL 581 0 \nL 581 3500 \nL 1159 3500 \nL 1159 2956 \nQ 1366 3272 1645 3428 \nQ 1925 3584 2291 3584 \nQ 2894 3584 3203 3211 \nQ 3513 2838 3513 2113 \nz\n\" id=\"DejaVuSans-6e\" transform=\"scale(0.015625)\"/>\n        <path d=\"M 2906 1791 \nQ 2906 2416 2648 2759 \nQ 2391 3103 1925 3103 \nQ 1463 3103 1205 2759 \nQ 947 2416 947 1791 \nQ 947 1169 1205 825 \nQ 1463 481 1925 481 \nQ 2391 481 2648 825 \nQ 2906 1169 2906 1791 \nz\nM 3481 434 \nQ 3481 -459 3084 -895 \nQ 2688 -1331 1869 -1331 \nQ 1566 -1331 1297 -1286 \nQ 1028 -1241 775 -1147 \nL 775 -588 \nQ 1028 -725 1275 -790 \nQ 1522 -856 1778 -856 \nQ 2344 -856 2625 -561 \nQ 2906 -266 2906 331 \nL 2906 616 \nQ 2728 306 2450 153 \nQ 2172 0 1784 0 \nQ 1141 0 747 490 \nQ 353 981 353 1791 \nQ 353 2603 747 3093 \nQ 1141 3584 1784 3584 \nQ 2172 3584 2450 3431 \nQ 2728 3278 2906 2969 \nL 2906 3500 \nL 3481 3500 \nL 3481 434 \nz\n\" id=\"DejaVuSans-67\" transform=\"scale(0.015625)\"/>\n        <path d=\"M 2631 2963 \nQ 2534 3019 2420 3045 \nQ 2306 3072 2169 3072 \nQ 1681 3072 1420 2755 \nQ 1159 2438 1159 1844 \nL 1159 0 \nL 581 0 \nL 581 3500 \nL 1159 3500 \nL 1159 2956 \nQ 1341 3275 1631 3429 \nQ 1922 3584 2338 3584 \nQ 2397 3584 2469 3576 \nQ 2541 3569 2628 3553 \nL 2631 2963 \nz\n\" id=\"DejaVuSans-72\" transform=\"scale(0.015625)\"/>\n        <path d=\"M 628 4666 \nL 1259 4666 \nL 1259 0 \nL 628 0 \nL 628 4666 \nz\n\" id=\"DejaVuSans-49\" transform=\"scale(0.015625)\"/>\n        <path d=\"M 2906 2969 \nL 2906 4863 \nL 3481 4863 \nL 3481 0 \nL 2906 0 \nL 2906 525 \nQ 2725 213 2448 61 \nQ 2172 -91 1784 -91 \nQ 1150 -91 751 415 \nQ 353 922 353 1747 \nQ 353 2572 751 3078 \nQ 1150 3584 1784 3584 \nQ 2172 3584 2448 3432 \nQ 2725 3281 2906 2969 \nz\nM 947 1747 \nQ 947 1113 1208 752 \nQ 1469 391 1925 391 \nQ 2381 391 2643 752 \nQ 2906 1113 2906 1747 \nQ 2906 2381 2643 2742 \nQ 2381 3103 1925 3103 \nQ 1469 3103 1208 2742 \nQ 947 2381 947 1747 \nz\n\" id=\"DejaVuSans-64\" transform=\"scale(0.015625)\"/>\n       </defs>\n       <use xlink:href=\"#DejaVuSans-50\"/>\n       <use x=\"55.802734\" xlink:href=\"#DejaVuSans-61\"/>\n       <use x=\"117.082031\" xlink:href=\"#DejaVuSans-73\"/>\n       <use x=\"169.181641\" xlink:href=\"#DejaVuSans-73\"/>\n       <use x=\"221.28125\" xlink:href=\"#DejaVuSans-65\"/>\n       <use x=\"282.804688\" xlink:href=\"#DejaVuSans-6e\"/>\n       <use x=\"346.183594\" xlink:href=\"#DejaVuSans-67\"/>\n       <use x=\"409.660156\" xlink:href=\"#DejaVuSans-65\"/>\n       <use x=\"471.183594\" xlink:href=\"#DejaVuSans-72\"/>\n       <use x=\"512.296875\" xlink:href=\"#DejaVuSans-49\"/>\n       <use x=\"541.789062\" xlink:href=\"#DejaVuSans-64\"/>\n      </g>\n     </g>\n    </g>\n    <g id=\"xtick_2\">\n     <g id=\"text_2\">\n      <!-- Survived -->\n      <g style=\"fill:#262626;\" transform=\"translate(112.647301 279.353281)rotate(-90)scale(0.1 -0.1)\">\n       <defs>\n        <path d=\"M 3425 4513 \nL 3425 3897 \nQ 3066 4069 2747 4153 \nQ 2428 4238 2131 4238 \nQ 1616 4238 1336 4038 \nQ 1056 3838 1056 3469 \nQ 1056 3159 1242 3001 \nQ 1428 2844 1947 2747 \nL 2328 2669 \nQ 3034 2534 3370 2195 \nQ 3706 1856 3706 1288 \nQ 3706 609 3251 259 \nQ 2797 -91 1919 -91 \nQ 1588 -91 1214 -16 \nQ 841 59 441 206 \nL 441 856 \nQ 825 641 1194 531 \nQ 1563 422 1919 422 \nQ 2459 422 2753 634 \nQ 3047 847 3047 1241 \nQ 3047 1584 2836 1778 \nQ 2625 1972 2144 2069 \nL 1759 2144 \nQ 1053 2284 737 2584 \nQ 422 2884 422 3419 \nQ 422 4038 858 4394 \nQ 1294 4750 2059 4750 \nQ 2388 4750 2728 4690 \nQ 3069 4631 3425 4513 \nz\n\" id=\"DejaVuSans-53\" transform=\"scale(0.015625)\"/>\n        <path d=\"M 544 1381 \nL 544 3500 \nL 1119 3500 \nL 1119 1403 \nQ 1119 906 1312 657 \nQ 1506 409 1894 409 \nQ 2359 409 2629 706 \nQ 2900 1003 2900 1516 \nL 2900 3500 \nL 3475 3500 \nL 3475 0 \nL 2900 0 \nL 2900 538 \nQ 2691 219 2414 64 \nQ 2138 -91 1772 -91 \nQ 1169 -91 856 284 \nQ 544 659 544 1381 \nz\nM 1991 3584 \nL 1991 3584 \nz\n\" id=\"DejaVuSans-75\" transform=\"scale(0.015625)\"/>\n        <path d=\"M 191 3500 \nL 800 3500 \nL 1894 563 \nL 2988 3500 \nL 3597 3500 \nL 2284 0 \nL 1503 0 \nL 191 3500 \nz\n\" id=\"DejaVuSans-76\" transform=\"scale(0.015625)\"/>\n        <path d=\"M 603 3500 \nL 1178 3500 \nL 1178 0 \nL 603 0 \nL 603 3500 \nz\nM 603 4863 \nL 1178 4863 \nL 1178 4134 \nL 603 4134 \nL 603 4863 \nz\n\" id=\"DejaVuSans-69\" transform=\"scale(0.015625)\"/>\n       </defs>\n       <use xlink:href=\"#DejaVuSans-53\"/>\n       <use x=\"63.476562\" xlink:href=\"#DejaVuSans-75\"/>\n       <use x=\"126.855469\" xlink:href=\"#DejaVuSans-72\"/>\n       <use x=\"167.96875\" xlink:href=\"#DejaVuSans-76\"/>\n       <use x=\"227.148438\" xlink:href=\"#DejaVuSans-69\"/>\n       <use x=\"254.931641\" xlink:href=\"#DejaVuSans-76\"/>\n       <use x=\"314.111328\" xlink:href=\"#DejaVuSans-65\"/>\n       <use x=\"375.634766\" xlink:href=\"#DejaVuSans-64\"/>\n      </g>\n     </g>\n    </g>\n    <g id=\"xtick_3\">\n     <g id=\"text_3\">\n      <!-- Pclass -->\n      <g style=\"fill:#262626;\" transform=\"translate(132.93821 266.292344)rotate(-90)scale(0.1 -0.1)\">\n       <defs>\n        <path d=\"M 3122 3366 \nL 3122 2828 \nQ 2878 2963 2633 3030 \nQ 2388 3097 2138 3097 \nQ 1578 3097 1268 2742 \nQ 959 2388 959 1747 \nQ 959 1106 1268 751 \nQ 1578 397 2138 397 \nQ 2388 397 2633 464 \nQ 2878 531 3122 666 \nL 3122 134 \nQ 2881 22 2623 -34 \nQ 2366 -91 2075 -91 \nQ 1284 -91 818 406 \nQ 353 903 353 1747 \nQ 353 2603 823 3093 \nQ 1294 3584 2113 3584 \nQ 2378 3584 2631 3529 \nQ 2884 3475 3122 3366 \nz\n\" id=\"DejaVuSans-63\" transform=\"scale(0.015625)\"/>\n        <path d=\"M 603 4863 \nL 1178 4863 \nL 1178 0 \nL 603 0 \nL 603 4863 \nz\n\" id=\"DejaVuSans-6c\" transform=\"scale(0.015625)\"/>\n       </defs>\n       <use xlink:href=\"#DejaVuSans-50\"/>\n       <use x=\"60.302734\" xlink:href=\"#DejaVuSans-63\"/>\n       <use x=\"115.283203\" xlink:href=\"#DejaVuSans-6c\"/>\n       <use x=\"143.066406\" xlink:href=\"#DejaVuSans-61\"/>\n       <use x=\"204.345703\" xlink:href=\"#DejaVuSans-73\"/>\n       <use x=\"256.445312\" xlink:href=\"#DejaVuSans-73\"/>\n      </g>\n     </g>\n    </g>\n    <g id=\"xtick_4\">\n     <g id=\"text_4\">\n      <!-- Age -->\n      <g style=\"fill:#262626;\" transform=\"translate(153.229119 254.781406)rotate(-90)scale(0.1 -0.1)\">\n       <defs>\n        <path d=\"M 2188 4044 \nL 1331 1722 \nL 3047 1722 \nL 2188 4044 \nz\nM 1831 4666 \nL 2547 4666 \nL 4325 0 \nL 3669 0 \nL 3244 1197 \nL 1141 1197 \nL 716 0 \nL 50 0 \nL 1831 4666 \nz\n\" id=\"DejaVuSans-41\" transform=\"scale(0.015625)\"/>\n       </defs>\n       <use xlink:href=\"#DejaVuSans-41\"/>\n       <use x=\"68.408203\" xlink:href=\"#DejaVuSans-67\"/>\n       <use x=\"131.884766\" xlink:href=\"#DejaVuSans-65\"/>\n      </g>\n     </g>\n    </g>\n    <g id=\"xtick_5\">\n     <g id=\"text_5\">\n      <!-- SibSp -->\n      <g style=\"fill:#262626;\" transform=\"translate(173.520028 263.611094)rotate(-90)scale(0.1 -0.1)\">\n       <defs>\n        <path d=\"M 3116 1747 \nQ 3116 2381 2855 2742 \nQ 2594 3103 2138 3103 \nQ 1681 3103 1420 2742 \nQ 1159 2381 1159 1747 \nQ 1159 1113 1420 752 \nQ 1681 391 2138 391 \nQ 2594 391 2855 752 \nQ 3116 1113 3116 1747 \nz\nM 1159 2969 \nQ 1341 3281 1617 3432 \nQ 1894 3584 2278 3584 \nQ 2916 3584 3314 3078 \nQ 3713 2572 3713 1747 \nQ 3713 922 3314 415 \nQ 2916 -91 2278 -91 \nQ 1894 -91 1617 61 \nQ 1341 213 1159 525 \nL 1159 0 \nL 581 0 \nL 581 4863 \nL 1159 4863 \nL 1159 2969 \nz\n\" id=\"DejaVuSans-62\" transform=\"scale(0.015625)\"/>\n        <path d=\"M 1159 525 \nL 1159 -1331 \nL 581 -1331 \nL 581 3500 \nL 1159 3500 \nL 1159 2969 \nQ 1341 3281 1617 3432 \nQ 1894 3584 2278 3584 \nQ 2916 3584 3314 3078 \nQ 3713 2572 3713 1747 \nQ 3713 922 3314 415 \nQ 2916 -91 2278 -91 \nQ 1894 -91 1617 61 \nQ 1341 213 1159 525 \nz\nM 3116 1747 \nQ 3116 2381 2855 2742 \nQ 2594 3103 2138 3103 \nQ 1681 3103 1420 2742 \nQ 1159 2381 1159 1747 \nQ 1159 1113 1420 752 \nQ 1681 391 2138 391 \nQ 2594 391 2855 752 \nQ 3116 1113 3116 1747 \nz\n\" id=\"DejaVuSans-70\" transform=\"scale(0.015625)\"/>\n       </defs>\n       <use xlink:href=\"#DejaVuSans-53\"/>\n       <use x=\"63.476562\" xlink:href=\"#DejaVuSans-69\"/>\n       <use x=\"91.259766\" xlink:href=\"#DejaVuSans-62\"/>\n       <use x=\"154.736328\" xlink:href=\"#DejaVuSans-53\"/>\n       <use x=\"218.212891\" xlink:href=\"#DejaVuSans-70\"/>\n      </g>\n     </g>\n    </g>\n    <g id=\"xtick_6\">\n     <g id=\"text_6\">\n      <!-- Parch -->\n      <g style=\"fill:#262626;\" transform=\"translate(193.810938 262.868906)rotate(-90)scale(0.1 -0.1)\">\n       <defs>\n        <path d=\"M 3513 2113 \nL 3513 0 \nL 2938 0 \nL 2938 2094 \nQ 2938 2591 2744 2837 \nQ 2550 3084 2163 3084 \nQ 1697 3084 1428 2787 \nQ 1159 2491 1159 1978 \nL 1159 0 \nL 581 0 \nL 581 4863 \nL 1159 4863 \nL 1159 2956 \nQ 1366 3272 1645 3428 \nQ 1925 3584 2291 3584 \nQ 2894 3584 3203 3211 \nQ 3513 2838 3513 2113 \nz\n\" id=\"DejaVuSans-68\" transform=\"scale(0.015625)\"/>\n       </defs>\n       <use xlink:href=\"#DejaVuSans-50\"/>\n       <use x=\"55.802734\" xlink:href=\"#DejaVuSans-61\"/>\n       <use x=\"117.082031\" xlink:href=\"#DejaVuSans-72\"/>\n       <use x=\"155.945312\" xlink:href=\"#DejaVuSans-63\"/>\n       <use x=\"210.925781\" xlink:href=\"#DejaVuSans-68\"/>\n      </g>\n     </g>\n    </g>\n    <g id=\"xtick_7\">\n     <g id=\"text_7\">\n      <!-- Fare -->\n      <g style=\"fill:#262626;\" transform=\"translate(214.101847 256.445469)rotate(-90)scale(0.1 -0.1)\">\n       <defs>\n        <path d=\"M 628 4666 \nL 3309 4666 \nL 3309 4134 \nL 1259 4134 \nL 1259 2759 \nL 3109 2759 \nL 3109 2228 \nL 1259 2228 \nL 1259 0 \nL 628 0 \nL 628 4666 \nz\n\" id=\"DejaVuSans-46\" transform=\"scale(0.015625)\"/>\n       </defs>\n       <use xlink:href=\"#DejaVuSans-46\"/>\n       <use x=\"48.394531\" xlink:href=\"#DejaVuSans-61\"/>\n       <use x=\"109.673828\" xlink:href=\"#DejaVuSans-72\"/>\n       <use x=\"148.537109\" xlink:href=\"#DejaVuSans-65\"/>\n      </g>\n     </g>\n    </g>\n    <g id=\"xtick_8\">\n     <g id=\"text_8\">\n      <!-- male_gender -->\n      <g style=\"fill:#262626;\" transform=\"translate(234.253693 300.690781)rotate(-90)scale(0.1 -0.1)\">\n       <defs>\n        <path d=\"M 3328 2828 \nQ 3544 3216 3844 3400 \nQ 4144 3584 4550 3584 \nQ 5097 3584 5394 3201 \nQ 5691 2819 5691 2113 \nL 5691 0 \nL 5113 0 \nL 5113 2094 \nQ 5113 2597 4934 2840 \nQ 4756 3084 4391 3084 \nQ 3944 3084 3684 2787 \nQ 3425 2491 3425 1978 \nL 3425 0 \nL 2847 0 \nL 2847 2094 \nQ 2847 2600 2669 2842 \nQ 2491 3084 2119 3084 \nQ 1678 3084 1418 2786 \nQ 1159 2488 1159 1978 \nL 1159 0 \nL 581 0 \nL 581 3500 \nL 1159 3500 \nL 1159 2956 \nQ 1356 3278 1631 3431 \nQ 1906 3584 2284 3584 \nQ 2666 3584 2933 3390 \nQ 3200 3197 3328 2828 \nz\n\" id=\"DejaVuSans-6d\" transform=\"scale(0.015625)\"/>\n        <path d=\"M 3263 -1063 \nL 3263 -1509 \nL -63 -1509 \nL -63 -1063 \nL 3263 -1063 \nz\n\" id=\"DejaVuSans-5f\" transform=\"scale(0.015625)\"/>\n       </defs>\n       <use xlink:href=\"#DejaVuSans-6d\"/>\n       <use x=\"97.412109\" xlink:href=\"#DejaVuSans-61\"/>\n       <use x=\"158.691406\" xlink:href=\"#DejaVuSans-6c\"/>\n       <use x=\"186.474609\" xlink:href=\"#DejaVuSans-65\"/>\n       <use x=\"247.998047\" xlink:href=\"#DejaVuSans-5f\"/>\n       <use x=\"297.998047\" xlink:href=\"#DejaVuSans-67\"/>\n       <use x=\"361.474609\" xlink:href=\"#DejaVuSans-65\"/>\n       <use x=\"422.998047\" xlink:href=\"#DejaVuSans-6e\"/>\n       <use x=\"486.376953\" xlink:href=\"#DejaVuSans-64\"/>\n       <use x=\"549.853516\" xlink:href=\"#DejaVuSans-65\"/>\n       <use x=\"611.376953\" xlink:href=\"#DejaVuSans-72\"/>\n      </g>\n     </g>\n    </g>\n    <g id=\"xtick_9\">\n     <g id=\"text_9\">\n      <!-- C -->\n      <g style=\"fill:#262626;\" transform=\"translate(254.683665 242.422031)rotate(-90)scale(0.1 -0.1)\">\n       <defs>\n        <path d=\"M 4122 4306 \nL 4122 3641 \nQ 3803 3938 3442 4084 \nQ 3081 4231 2675 4231 \nQ 1875 4231 1450 3742 \nQ 1025 3253 1025 2328 \nQ 1025 1406 1450 917 \nQ 1875 428 2675 428 \nQ 3081 428 3442 575 \nQ 3803 722 4122 1019 \nL 4122 359 \nQ 3791 134 3420 21 \nQ 3050 -91 2638 -91 \nQ 1578 -91 968 557 \nQ 359 1206 359 2328 \nQ 359 3453 968 4101 \nQ 1578 4750 2638 4750 \nQ 3056 4750 3426 4639 \nQ 3797 4528 4122 4306 \nz\n\" id=\"DejaVuSans-43\" transform=\"scale(0.015625)\"/>\n       </defs>\n       <use xlink:href=\"#DejaVuSans-43\"/>\n      </g>\n     </g>\n    </g>\n    <g id=\"xtick_10\">\n     <g id=\"text_10\">\n      <!-- Q -->\n      <g style=\"fill:#262626;\" transform=\"translate(274.974574 243.311094)rotate(-90)scale(0.1 -0.1)\">\n       <defs>\n        <path d=\"M 2522 4238 \nQ 1834 4238 1429 3725 \nQ 1025 3213 1025 2328 \nQ 1025 1447 1429 934 \nQ 1834 422 2522 422 \nQ 3209 422 3611 934 \nQ 4013 1447 4013 2328 \nQ 4013 3213 3611 3725 \nQ 3209 4238 2522 4238 \nz\nM 3406 84 \nL 4238 -825 \nL 3475 -825 \nL 2784 -78 \nQ 2681 -84 2626 -87 \nQ 2572 -91 2522 -91 \nQ 1538 -91 948 567 \nQ 359 1225 359 2328 \nQ 359 3434 948 4092 \nQ 1538 4750 2522 4750 \nQ 3503 4750 4090 4092 \nQ 4678 3434 4678 2328 \nQ 4678 1516 4351 937 \nQ 4025 359 3406 84 \nz\n\" id=\"DejaVuSans-51\" transform=\"scale(0.015625)\"/>\n       </defs>\n       <use xlink:href=\"#DejaVuSans-51\"/>\n      </g>\n     </g>\n    </g>\n    <g id=\"xtick_11\">\n     <g id=\"text_11\">\n      <!-- S -->\n      <g style=\"fill:#262626;\" transform=\"translate(295.265483 241.787656)rotate(-90)scale(0.1 -0.1)\">\n       <use xlink:href=\"#DejaVuSans-53\"/>\n      </g>\n     </g>\n    </g>\n   </g>\n   <g id=\"matplotlib.axis_2\">\n    <g id=\"ytick_1\">\n     <g id=\"text_12\">\n      <!-- PassengerId -->\n      <g style=\"fill:#262626;\" transform=\"translate(11.923438 24.682074)scale(0.1 -0.1)\">\n       <use xlink:href=\"#DejaVuSans-50\"/>\n       <use x=\"55.802734\" xlink:href=\"#DejaVuSans-61\"/>\n       <use x=\"117.082031\" xlink:href=\"#DejaVuSans-73\"/>\n       <use x=\"169.181641\" xlink:href=\"#DejaVuSans-73\"/>\n       <use x=\"221.28125\" xlink:href=\"#DejaVuSans-65\"/>\n       <use x=\"282.804688\" xlink:href=\"#DejaVuSans-6e\"/>\n       <use x=\"346.183594\" xlink:href=\"#DejaVuSans-67\"/>\n       <use x=\"409.660156\" xlink:href=\"#DejaVuSans-65\"/>\n       <use x=\"471.183594\" xlink:href=\"#DejaVuSans-72\"/>\n       <use x=\"512.296875\" xlink:href=\"#DejaVuSans-49\"/>\n       <use x=\"541.789062\" xlink:href=\"#DejaVuSans-64\"/>\n      </g>\n     </g>\n    </g>\n    <g id=\"ytick_2\">\n     <g id=\"text_13\">\n      <!-- Survived -->\n      <g style=\"fill:#262626;\" transform=\"translate(28.5375 44.449347)scale(0.1 -0.1)\">\n       <use xlink:href=\"#DejaVuSans-53\"/>\n       <use x=\"63.476562\" xlink:href=\"#DejaVuSans-75\"/>\n       <use x=\"126.855469\" xlink:href=\"#DejaVuSans-72\"/>\n       <use x=\"167.96875\" xlink:href=\"#DejaVuSans-76\"/>\n       <use x=\"227.148438\" xlink:href=\"#DejaVuSans-69\"/>\n       <use x=\"254.931641\" xlink:href=\"#DejaVuSans-76\"/>\n       <use x=\"314.111328\" xlink:href=\"#DejaVuSans-65\"/>\n       <use x=\"375.634766\" xlink:href=\"#DejaVuSans-64\"/>\n      </g>\n     </g>\n    </g>\n    <g id=\"ytick_3\">\n     <g id=\"text_14\">\n      <!-- Pclass -->\n      <g style=\"fill:#262626;\" transform=\"translate(41.598438 64.216619)scale(0.1 -0.1)\">\n       <use xlink:href=\"#DejaVuSans-50\"/>\n       <use x=\"60.302734\" xlink:href=\"#DejaVuSans-63\"/>\n       <use x=\"115.283203\" xlink:href=\"#DejaVuSans-6c\"/>\n       <use x=\"143.066406\" xlink:href=\"#DejaVuSans-61\"/>\n       <use x=\"204.345703\" xlink:href=\"#DejaVuSans-73\"/>\n       <use x=\"256.445312\" xlink:href=\"#DejaVuSans-73\"/>\n      </g>\n     </g>\n    </g>\n    <g id=\"ytick_4\">\n     <g id=\"text_15\">\n      <!-- Age -->\n      <g style=\"fill:#262626;\" transform=\"translate(53.109375 83.983892)scale(0.1 -0.1)\">\n       <use xlink:href=\"#DejaVuSans-41\"/>\n       <use x=\"68.408203\" xlink:href=\"#DejaVuSans-67\"/>\n       <use x=\"131.884766\" xlink:href=\"#DejaVuSans-65\"/>\n      </g>\n     </g>\n    </g>\n    <g id=\"ytick_5\">\n     <g id=\"text_16\">\n      <!-- SibSp -->\n      <g style=\"fill:#262626;\" transform=\"translate(44.279688 103.751165)scale(0.1 -0.1)\">\n       <use xlink:href=\"#DejaVuSans-53\"/>\n       <use x=\"63.476562\" xlink:href=\"#DejaVuSans-69\"/>\n       <use x=\"91.259766\" xlink:href=\"#DejaVuSans-62\"/>\n       <use x=\"154.736328\" xlink:href=\"#DejaVuSans-53\"/>\n       <use x=\"218.212891\" xlink:href=\"#DejaVuSans-70\"/>\n      </g>\n     </g>\n    </g>\n    <g id=\"ytick_6\">\n     <g id=\"text_17\">\n      <!-- Parch -->\n      <g style=\"fill:#262626;\" transform=\"translate(45.021875 123.518437)scale(0.1 -0.1)\">\n       <use xlink:href=\"#DejaVuSans-50\"/>\n       <use x=\"55.802734\" xlink:href=\"#DejaVuSans-61\"/>\n       <use x=\"117.082031\" xlink:href=\"#DejaVuSans-72\"/>\n       <use x=\"155.945312\" xlink:href=\"#DejaVuSans-63\"/>\n       <use x=\"210.925781\" xlink:href=\"#DejaVuSans-68\"/>\n      </g>\n     </g>\n    </g>\n    <g id=\"ytick_7\">\n     <g id=\"text_18\">\n      <!-- Fare -->\n      <g style=\"fill:#262626;\" transform=\"translate(51.445313 143.28571)scale(0.1 -0.1)\">\n       <use xlink:href=\"#DejaVuSans-46\"/>\n       <use x=\"48.394531\" xlink:href=\"#DejaVuSans-61\"/>\n       <use x=\"109.673828\" xlink:href=\"#DejaVuSans-72\"/>\n       <use x=\"148.537109\" xlink:href=\"#DejaVuSans-65\"/>\n      </g>\n     </g>\n    </g>\n    <g id=\"ytick_8\">\n     <g id=\"text_19\">\n      <!-- male_gender -->\n      <g style=\"fill:#262626;\" transform=\"translate(7.2 163.052983)scale(0.1 -0.1)\">\n       <use xlink:href=\"#DejaVuSans-6d\"/>\n       <use x=\"97.412109\" xlink:href=\"#DejaVuSans-61\"/>\n       <use x=\"158.691406\" xlink:href=\"#DejaVuSans-6c\"/>\n       <use x=\"186.474609\" xlink:href=\"#DejaVuSans-65\"/>\n       <use x=\"247.998047\" xlink:href=\"#DejaVuSans-5f\"/>\n       <use x=\"297.998047\" xlink:href=\"#DejaVuSans-67\"/>\n       <use x=\"361.474609\" xlink:href=\"#DejaVuSans-65\"/>\n       <use x=\"422.998047\" xlink:href=\"#DejaVuSans-6e\"/>\n       <use x=\"486.376953\" xlink:href=\"#DejaVuSans-64\"/>\n       <use x=\"549.853516\" xlink:href=\"#DejaVuSans-65\"/>\n       <use x=\"611.376953\" xlink:href=\"#DejaVuSans-72\"/>\n      </g>\n     </g>\n    </g>\n    <g id=\"ytick_9\">\n     <g id=\"text_20\">\n      <!-- C -->\n      <g style=\"fill:#262626;\" transform=\"translate(65.46875 182.820256)scale(0.1 -0.1)\">\n       <use xlink:href=\"#DejaVuSans-43\"/>\n      </g>\n     </g>\n    </g>\n    <g id=\"ytick_10\">\n     <g id=\"text_21\">\n      <!-- Q -->\n      <g style=\"fill:#262626;\" transform=\"translate(64.579688 202.587528)scale(0.1 -0.1)\">\n       <use xlink:href=\"#DejaVuSans-51\"/>\n      </g>\n     </g>\n    </g>\n    <g id=\"ytick_11\">\n     <g id=\"text_22\">\n      <!-- S -->\n      <g style=\"fill:#262626;\" transform=\"translate(66.103125 222.354801)scale(0.1 -0.1)\">\n       <use xlink:href=\"#DejaVuSans-53\"/>\n      </g>\n     </g>\n    </g>\n   </g>\n   <g id=\"QuadMesh_1\">\n    <path clip-path=\"url(#p641c6f8379)\" d=\"M 79.451563 10.999219 \nL 99.742472 10.999219 \nL 99.742472 30.766491 \nL 79.451563 30.766491 \nL 79.451563 10.999219 \n\" style=\"fill:#faebdd;\"/>\n    <path clip-path=\"url(#p641c6f8379)\" d=\"M 99.742472 10.999219 \nL 120.033381 10.999219 \nL 120.033381 30.766491 \nL 99.742472 30.766491 \nL 99.742472 10.999219 \n\" style=\"fill:#b01759;\"/>\n    <path clip-path=\"url(#p641c6f8379)\" d=\"M 120.033381 10.999219 \nL 140.32429 10.999219 \nL 140.32429 30.766491 \nL 120.033381 30.766491 \nL 120.033381 10.999219 \n\" style=\"fill:#aa185a;\"/>\n    <path clip-path=\"url(#p641c6f8379)\" d=\"M 140.32429 10.999219 \nL 160.615199 10.999219 \nL 160.615199 30.766491 \nL 140.32429 30.766491 \nL 140.32429 10.999219 \n\" style=\"fill:#b91657;\"/>\n    <path clip-path=\"url(#p641c6f8379)\" d=\"M 160.615199 10.999219 \nL 180.906108 10.999219 \nL 180.906108 30.766491 \nL 160.615199 30.766491 \nL 160.615199 10.999219 \n\" style=\"fill:#a4195b;\"/>\n    <path clip-path=\"url(#p641c6f8379)\" d=\"M 180.906108 10.999219 \nL 201.197017 10.999219 \nL 201.197017 30.766491 \nL 180.906108 30.766491 \nL 180.906108 10.999219 \n\" style=\"fill:#b21758;\"/>\n    <path clip-path=\"url(#p641c6f8379)\" d=\"M 201.197017 10.999219 \nL 221.487926 10.999219 \nL 221.487926 30.766491 \nL 201.197017 30.766491 \nL 201.197017 10.999219 \n\" style=\"fill:#b51657;\"/>\n    <path clip-path=\"url(#p641c6f8379)\" d=\"M 221.487926 10.999219 \nL 241.778835 10.999219 \nL 241.778835 30.766491 \nL 221.487926 30.766491 \nL 221.487926 10.999219 \n\" style=\"fill:#bc1656;\"/>\n    <path clip-path=\"url(#p641c6f8379)\" d=\"M 241.778835 10.999219 \nL 262.069744 10.999219 \nL 262.069744 30.766491 \nL 241.778835 30.766491 \nL 241.778835 10.999219 \n\" style=\"fill:#b21758;\"/>\n    <path clip-path=\"url(#p641c6f8379)\" d=\"M 262.069744 10.999219 \nL 282.360653 10.999219 \nL 282.360653 30.766491 \nL 262.069744 30.766491 \nL 262.069744 10.999219 \n\" style=\"fill:#aa185a;\"/>\n    <path clip-path=\"url(#p641c6f8379)\" d=\"M 282.360653 10.999219 \nL 302.651563 10.999219 \nL 302.651563 30.766491 \nL 282.360653 30.766491 \nL 282.360653 10.999219 \n\" style=\"fill:#b71657;\"/>\n    <path clip-path=\"url(#p641c6f8379)\" d=\"M 79.451563 30.766491 \nL 99.742472 30.766491 \nL 99.742472 50.533764 \nL 79.451563 50.533764 \nL 79.451563 30.766491 \n\" style=\"fill:#b01759;\"/>\n    <path clip-path=\"url(#p641c6f8379)\" d=\"M 99.742472 30.766491 \nL 120.033381 30.766491 \nL 120.033381 50.533764 \nL 99.742472 50.533764 \nL 99.742472 30.766491 \n\" style=\"fill:#faebdd;\"/>\n    <path clip-path=\"url(#p641c6f8379)\" d=\"M 120.033381 30.766491 \nL 140.32429 30.766491 \nL 140.32429 50.533764 \nL 120.033381 50.533764 \nL 120.033381 30.766491 \n\" style=\"fill:#611f53;\"/>\n    <path clip-path=\"url(#p641c6f8379)\" d=\"M 140.32429 30.766491 \nL 160.615199 30.766491 \nL 160.615199 50.533764 \nL 140.32429 50.533764 \nL 140.32429 30.766491 \n\" style=\"fill:#a11a5b;\"/>\n    <path clip-path=\"url(#p641c6f8379)\" d=\"M 160.615199 30.766491 \nL 180.906108 30.766491 \nL 180.906108 50.533764 \nL 160.615199 50.533764 \nL 160.615199 30.766491 \n\" style=\"fill:#aa185a;\"/>\n    <path clip-path=\"url(#p641c6f8379)\" d=\"M 180.906108 30.766491 \nL 201.197017 30.766491 \nL 201.197017 50.533764 \nL 180.906108 50.533764 \nL 180.906108 30.766491 \n\" style=\"fill:#c51852;\"/>\n    <path clip-path=\"url(#p641c6f8379)\" d=\"M 201.197017 30.766491 \nL 221.487926 30.766491 \nL 221.487926 50.533764 \nL 201.197017 50.533764 \nL 201.197017 30.766491 \n\" style=\"fill:#e43841;\"/>\n    <path clip-path=\"url(#p641c6f8379)\" d=\"M 221.487926 30.766491 \nL 241.778835 30.766491 \nL 241.778835 50.533764 \nL 221.487926 50.533764 \nL 221.487926 30.766491 \n\" style=\"fill:#33183c;\"/>\n    <path clip-path=\"url(#p641c6f8379)\" d=\"M 241.778835 30.766491 \nL 262.069744 30.766491 \nL 262.069744 50.533764 \nL 241.778835 50.533764 \nL 241.778835 30.766491 \n\" style=\"fill:#d62449;\"/>\n    <path clip-path=\"url(#p641c6f8379)\" d=\"M 262.069744 30.766491 \nL 282.360653 30.766491 \nL 282.360653 50.533764 \nL 262.069744 50.533764 \nL 262.069744 30.766491 \n\" style=\"fill:#b41658;\"/>\n    <path clip-path=\"url(#p641c6f8379)\" d=\"M 282.360653 30.766491 \nL 302.651563 30.766491 \nL 302.651563 50.533764 \nL 282.360653 50.533764 \nL 282.360653 30.766491 \n\" style=\"fill:#8c1d5b;\"/>\n    <path clip-path=\"url(#p641c6f8379)\" d=\"M 79.451563 50.533764 \nL 99.742472 50.533764 \nL 99.742472 70.301037 \nL 79.451563 70.301037 \nL 79.451563 50.533764 \n\" style=\"fill:#aa185a;\"/>\n    <path clip-path=\"url(#p641c6f8379)\" d=\"M 99.742472 50.533764 \nL 120.033381 50.533764 \nL 120.033381 70.301037 \nL 99.742472 70.301037 \nL 99.742472 50.533764 \n\" style=\"fill:#611f53;\"/>\n    <path clip-path=\"url(#p641c6f8379)\" d=\"M 120.033381 50.533764 \nL 140.32429 50.533764 \nL 140.32429 70.301037 \nL 120.033381 70.301037 \nL 120.033381 50.533764 \n\" style=\"fill:#faebdd;\"/>\n    <path clip-path=\"url(#p641c6f8379)\" d=\"M 140.32429 50.533764 \nL 160.615199 50.533764 \nL 160.615199 70.301037 \nL 140.32429 70.301037 \nL 140.32429 50.533764 \n\" style=\"fill:#631f53;\"/>\n    <path clip-path=\"url(#p641c6f8379)\" d=\"M 160.615199 50.533764 \nL 180.906108 50.533764 \nL 180.906108 70.301037 \nL 160.615199 70.301037 \nL 160.615199 50.533764 \n\" style=\"fill:#c51852;\"/>\n    <path clip-path=\"url(#p641c6f8379)\" d=\"M 180.906108 50.533764 \nL 201.197017 50.533764 \nL 201.197017 70.301037 \nL 180.906108 70.301037 \nL 180.906108 50.533764 \n\" style=\"fill:#b51657;\"/>\n    <path clip-path=\"url(#p641c6f8379)\" d=\"M 201.197017 50.533764 \nL 221.487926 50.533764 \nL 221.487926 70.301037 \nL 201.197017 70.301037 \nL 201.197017 50.533764 \n\" style=\"fill:#31183b;\"/>\n    <path clip-path=\"url(#p641c6f8379)\" d=\"M 221.487926 50.533764 \nL 241.778835 50.533764 \nL 241.778835 70.301037 \nL 221.487926 70.301037 \nL 221.487926 50.533764 \n\" style=\"fill:#ce1d4e;\"/>\n    <path clip-path=\"url(#p641c6f8379)\" d=\"M 241.778835 50.533764 \nL 262.069744 50.533764 \nL 262.069744 70.301037 \nL 241.778835 70.301037 \nL 241.778835 50.533764 \n\" style=\"fill:#761f58;\"/>\n    <path clip-path=\"url(#p641c6f8379)\" d=\"M 262.069744 50.533764 \nL 282.360653 50.533764 \nL 282.360653 70.301037 \nL 262.069744 70.301037 \nL 262.069744 50.533764 \n\" style=\"fill:#df2f44;\"/>\n    <path clip-path=\"url(#p641c6f8379)\" d=\"M 282.360653 50.533764 \nL 302.651563 50.533764 \nL 302.651563 70.301037 \nL 282.360653 70.301037 \nL 282.360653 50.533764 \n\" style=\"fill:#c41753;\"/>\n    <path clip-path=\"url(#p641c6f8379)\" d=\"M 79.451563 70.301037 \nL 99.742472 70.301037 \nL 99.742472 90.06831 \nL 79.451563 90.06831 \nL 79.451563 70.301037 \n\" style=\"fill:#b91657;\"/>\n    <path clip-path=\"url(#p641c6f8379)\" d=\"M 99.742472 70.301037 \nL 120.033381 70.301037 \nL 120.033381 90.06831 \nL 99.742472 90.06831 \nL 99.742472 70.301037 \n\" style=\"fill:#a11a5b;\"/>\n    <path clip-path=\"url(#p641c6f8379)\" d=\"M 120.033381 70.301037 \nL 140.32429 70.301037 \nL 140.32429 90.06831 \nL 120.033381 90.06831 \nL 120.033381 70.301037 \n\" style=\"fill:#631f53;\"/>\n    <path clip-path=\"url(#p641c6f8379)\" d=\"M 140.32429 70.301037 \nL 160.615199 70.301037 \nL 160.615199 90.06831 \nL 140.32429 90.06831 \nL 140.32429 70.301037 \n\" style=\"fill:#faebdd;\"/>\n    <path clip-path=\"url(#p641c6f8379)\" d=\"M 160.615199 70.301037 \nL 180.906108 70.301037 \nL 180.906108 90.06831 \nL 160.615199 90.06831 \nL 160.615199 70.301037 \n\" style=\"fill:#691f55;\"/>\n    <path clip-path=\"url(#p641c6f8379)\" d=\"M 180.906108 70.301037 \nL 201.197017 70.301037 \nL 201.197017 90.06831 \nL 180.906108 90.06831 \nL 180.906108 70.301037 \n\" style=\"fill:#7b1f59;\"/>\n    <path clip-path=\"url(#p641c6f8379)\" d=\"M 201.197017 70.301037 \nL 221.487926 70.301037 \nL 221.487926 90.06831 \nL 201.197017 90.06831 \nL 201.197017 70.301037 \n\" style=\"fill:#c41753;\"/>\n    <path clip-path=\"url(#p641c6f8379)\" d=\"M 221.487926 70.301037 \nL 241.778835 70.301037 \nL 241.778835 90.06831 \nL 221.487926 90.06831 \nL 221.487926 70.301037 \n\" style=\"fill:#ca1a50;\"/>\n    <path clip-path=\"url(#p641c6f8379)\" d=\"M 241.778835 70.301037 \nL 262.069744 70.301037 \nL 262.069744 90.06831 \nL 241.778835 90.06831 \nL 241.778835 70.301037 \n\" style=\"fill:#ba1656;\"/>\n    <path clip-path=\"url(#p641c6f8379)\" d=\"M 262.069744 70.301037 \nL 282.360653 70.301037 \nL 282.360653 90.06831 \nL 262.069744 90.06831 \nL 262.069744 70.301037 \n\" style=\"fill:#b51657;\"/>\n    <path clip-path=\"url(#p641c6f8379)\" d=\"M 282.360653 70.301037 \nL 302.651563 70.301037 \nL 302.651563 90.06831 \nL 282.360653 90.06831 \nL 282.360653 70.301037 \n\" style=\"fill:#a8185a;\"/>\n    <path clip-path=\"url(#p641c6f8379)\" d=\"M 79.451563 90.06831 \nL 99.742472 90.06831 \nL 99.742472 109.835582 \nL 79.451563 109.835582 \nL 79.451563 90.06831 \n\" style=\"fill:#a4195b;\"/>\n    <path clip-path=\"url(#p641c6f8379)\" d=\"M 99.742472 90.06831 \nL 120.033381 90.06831 \nL 120.033381 109.835582 \nL 99.742472 109.835582 \nL 99.742472 90.06831 \n\" style=\"fill:#aa185a;\"/>\n    <path clip-path=\"url(#p641c6f8379)\" d=\"M 120.033381 90.06831 \nL 140.32429 90.06831 \nL 140.32429 109.835582 \nL 120.033381 109.835582 \nL 120.033381 90.06831 \n\" style=\"fill:#c51852;\"/>\n    <path clip-path=\"url(#p641c6f8379)\" d=\"M 140.32429 90.06831 \nL 160.615199 90.06831 \nL 160.615199 109.835582 \nL 140.32429 109.835582 \nL 140.32429 90.06831 \n\" style=\"fill:#691f55;\"/>\n    <path clip-path=\"url(#p641c6f8379)\" d=\"M 160.615199 90.06831 \nL 180.906108 90.06831 \nL 180.906108 109.835582 \nL 160.615199 109.835582 \nL 160.615199 90.06831 \n\" style=\"fill:#faebdd;\"/>\n    <path clip-path=\"url(#p641c6f8379)\" d=\"M 180.906108 90.06831 \nL 201.197017 90.06831 \nL 201.197017 109.835582 \nL 180.906108 109.835582 \nL 180.906108 90.06831 \n\" style=\"fill:#f16244;\"/>\n    <path clip-path=\"url(#p641c6f8379)\" d=\"M 201.197017 90.06831 \nL 221.487926 90.06831 \nL 221.487926 109.835582 \nL 201.197017 109.835582 \nL 201.197017 90.06831 \n\" style=\"fill:#d5224a;\"/>\n    <path clip-path=\"url(#p641c6f8379)\" d=\"M 221.487926 90.06831 \nL 241.778835 90.06831 \nL 241.778835 109.835582 \nL 221.487926 109.835582 \nL 221.487926 90.06831 \n\" style=\"fill:#951c5b;\"/>\n    <path clip-path=\"url(#p641c6f8379)\" d=\"M 241.778835 90.06831 \nL 262.069744 90.06831 \nL 262.069744 109.835582 \nL 241.778835 109.835582 \nL 241.778835 90.06831 \n\" style=\"fill:#a3195b;\"/>\n    <path clip-path=\"url(#p641c6f8379)\" d=\"M 262.069744 90.06831 \nL 282.360653 90.06831 \nL 282.360653 109.835582 \nL 262.069744 109.835582 \nL 262.069744 90.06831 \n\" style=\"fill:#ab185a;\"/>\n    <path clip-path=\"url(#p641c6f8379)\" d=\"M 282.360653 90.06831 \nL 302.651563 90.06831 \nL 302.651563 109.835582 \nL 282.360653 109.835582 \nL 282.360653 90.06831 \n\" style=\"fill:#c21753;\"/>\n    <path clip-path=\"url(#p641c6f8379)\" d=\"M 79.451563 109.835582 \nL 99.742472 109.835582 \nL 99.742472 129.602855 \nL 79.451563 129.602855 \nL 79.451563 109.835582 \n\" style=\"fill:#b21758;\"/>\n    <path clip-path=\"url(#p641c6f8379)\" d=\"M 99.742472 109.835582 \nL 120.033381 109.835582 \nL 120.033381 129.602855 \nL 99.742472 129.602855 \nL 99.742472 109.835582 \n\" style=\"fill:#c51852;\"/>\n    <path clip-path=\"url(#p641c6f8379)\" d=\"M 120.033381 109.835582 \nL 140.32429 109.835582 \nL 140.32429 129.602855 \nL 120.033381 129.602855 \nL 120.033381 109.835582 \n\" style=\"fill:#b51657;\"/>\n    <path clip-path=\"url(#p641c6f8379)\" d=\"M 140.32429 109.835582 \nL 160.615199 109.835582 \nL 160.615199 129.602855 \nL 140.32429 129.602855 \nL 140.32429 109.835582 \n\" style=\"fill:#7b1f59;\"/>\n    <path clip-path=\"url(#p641c6f8379)\" d=\"M 160.615199 109.835582 \nL 180.906108 109.835582 \nL 180.906108 129.602855 \nL 160.615199 129.602855 \nL 160.615199 109.835582 \n\" style=\"fill:#f16244;\"/>\n    <path clip-path=\"url(#p641c6f8379)\" d=\"M 180.906108 109.835582 \nL 201.197017 109.835582 \nL 201.197017 129.602855 \nL 180.906108 129.602855 \nL 180.906108 109.835582 \n\" style=\"fill:#faebdd;\"/>\n    <path clip-path=\"url(#p641c6f8379)\" d=\"M 201.197017 109.835582 \nL 221.487926 109.835582 \nL 221.487926 129.602855 \nL 201.197017 129.602855 \nL 201.197017 109.835582 \n\" style=\"fill:#de2e44;\"/>\n    <path clip-path=\"url(#p641c6f8379)\" d=\"M 221.487926 109.835582 \nL 241.778835 109.835582 \nL 241.778835 129.602855 \nL 221.487926 129.602855 \nL 221.487926 109.835582 \n\" style=\"fill:#751f58;\"/>\n    <path clip-path=\"url(#p641c6f8379)\" d=\"M 241.778835 109.835582 \nL 262.069744 109.835582 \nL 262.069744 129.602855 \nL 241.778835 129.602855 \nL 241.778835 109.835582 \n\" style=\"fill:#af1759;\"/>\n    <path clip-path=\"url(#p641c6f8379)\" d=\"M 262.069744 109.835582 \nL 282.360653 109.835582 \nL 282.360653 129.602855 \nL 262.069744 129.602855 \nL 262.069744 109.835582 \n\" style=\"fill:#9e1a5b;\"/>\n    <path clip-path=\"url(#p641c6f8379)\" d=\"M 282.360653 109.835582 \nL 302.651563 109.835582 \nL 302.651563 129.602855 \nL 282.360653 129.602855 \nL 282.360653 109.835582 \n\" style=\"fill:#c11754;\"/>\n    <path clip-path=\"url(#p641c6f8379)\" d=\"M 79.451563 129.602855 \nL 99.742472 129.602855 \nL 99.742472 149.370128 \nL 79.451563 149.370128 \nL 79.451563 129.602855 \n\" style=\"fill:#b51657;\"/>\n    <path clip-path=\"url(#p641c6f8379)\" d=\"M 99.742472 129.602855 \nL 120.033381 129.602855 \nL 120.033381 149.370128 \nL 99.742472 149.370128 \nL 99.742472 129.602855 \n\" style=\"fill:#e43841;\"/>\n    <path clip-path=\"url(#p641c6f8379)\" d=\"M 120.033381 129.602855 \nL 140.32429 129.602855 \nL 140.32429 149.370128 \nL 120.033381 149.370128 \nL 120.033381 129.602855 \n\" style=\"fill:#31183b;\"/>\n    <path clip-path=\"url(#p641c6f8379)\" d=\"M 140.32429 129.602855 \nL 160.615199 129.602855 \nL 160.615199 149.370128 \nL 140.32429 149.370128 \nL 140.32429 129.602855 \n\" style=\"fill:#c41753;\"/>\n    <path clip-path=\"url(#p641c6f8379)\" d=\"M 160.615199 129.602855 \nL 180.906108 129.602855 \nL 180.906108 149.370128 \nL 160.615199 149.370128 \nL 160.615199 129.602855 \n\" style=\"fill:#d5224a;\"/>\n    <path clip-path=\"url(#p641c6f8379)\" d=\"M 180.906108 129.602855 \nL 201.197017 129.602855 \nL 201.197017 149.370128 \nL 180.906108 149.370128 \nL 180.906108 129.602855 \n\" style=\"fill:#de2e44;\"/>\n    <path clip-path=\"url(#p641c6f8379)\" d=\"M 201.197017 129.602855 \nL 221.487926 129.602855 \nL 221.487926 149.370128 \nL 201.197017 149.370128 \nL 201.197017 129.602855 \n\" style=\"fill:#faebdd;\"/>\n    <path clip-path=\"url(#p641c6f8379)\" d=\"M 221.487926 129.602855 \nL 241.778835 129.602855 \nL 241.778835 149.370128 \nL 221.487926 149.370128 \nL 221.487926 129.602855 \n\" style=\"fill:#861e5b;\"/>\n    <path clip-path=\"url(#p641c6f8379)\" d=\"M 241.778835 129.602855 \nL 262.069744 129.602855 \nL 262.069744 149.370128 \nL 241.778835 149.370128 \nL 241.778835 129.602855 \n\" style=\"fill:#e63b40;\"/>\n    <path clip-path=\"url(#p641c6f8379)\" d=\"M 262.069744 129.602855 \nL 282.360653 129.602855 \nL 282.360653 149.370128 \nL 262.069744 149.370128 \nL 262.069744 129.602855 \n\" style=\"fill:#951c5b;\"/>\n    <path clip-path=\"url(#p641c6f8379)\" d=\"M 282.360653 129.602855 \nL 302.651563 129.602855 \nL 302.651563 149.370128 \nL 282.360653 149.370128 \nL 282.360653 129.602855 \n\" style=\"fill:#891e5b;\"/>\n    <path clip-path=\"url(#p641c6f8379)\" d=\"M 79.451563 149.370128 \nL 99.742472 149.370128 \nL 99.742472 169.137401 \nL 79.451563 169.137401 \nL 79.451563 149.370128 \n\" style=\"fill:#bc1656;\"/>\n    <path clip-path=\"url(#p641c6f8379)\" d=\"M 99.742472 149.370128 \nL 120.033381 149.370128 \nL 120.033381 169.137401 \nL 99.742472 169.137401 \nL 99.742472 149.370128 \n\" style=\"fill:#33183c;\"/>\n    <path clip-path=\"url(#p641c6f8379)\" d=\"M 120.033381 149.370128 \nL 140.32429 149.370128 \nL 140.32429 169.137401 \nL 120.033381 169.137401 \nL 120.033381 149.370128 \n\" style=\"fill:#ce1d4e;\"/>\n    <path clip-path=\"url(#p641c6f8379)\" d=\"M 140.32429 149.370128 \nL 160.615199 149.370128 \nL 160.615199 169.137401 \nL 140.32429 169.137401 \nL 140.32429 149.370128 \n\" style=\"fill:#ca1a50;\"/>\n    <path clip-path=\"url(#p641c6f8379)\" d=\"M 160.615199 149.370128 \nL 180.906108 149.370128 \nL 180.906108 169.137401 \nL 160.615199 169.137401 \nL 160.615199 149.370128 \n\" style=\"fill:#951c5b;\"/>\n    <path clip-path=\"url(#p641c6f8379)\" d=\"M 180.906108 149.370128 \nL 201.197017 149.370128 \nL 201.197017 169.137401 \nL 180.906108 169.137401 \nL 180.906108 149.370128 \n\" style=\"fill:#751f58;\"/>\n    <path clip-path=\"url(#p641c6f8379)\" d=\"M 201.197017 149.370128 \nL 221.487926 149.370128 \nL 221.487926 169.137401 \nL 201.197017 169.137401 \nL 201.197017 149.370128 \n\" style=\"fill:#861e5b;\"/>\n    <path clip-path=\"url(#p641c6f8379)\" d=\"M 221.487926 149.370128 \nL 241.778835 149.370128 \nL 241.778835 169.137401 \nL 221.487926 169.137401 \nL 221.487926 149.370128 \n\" style=\"fill:#faebdd;\"/>\n    <path clip-path=\"url(#p641c6f8379)\" d=\"M 241.778835 149.370128 \nL 262.069744 149.370128 \nL 262.069744 169.137401 \nL 241.778835 169.137401 \nL 241.778835 149.370128 \n\" style=\"fill:#9e1a5b;\"/>\n    <path clip-path=\"url(#p641c6f8379)\" d=\"M 262.069744 149.370128 \nL 282.360653 149.370128 \nL 282.360653 169.137401 \nL 262.069744 169.137401 \nL 262.069744 149.370128 \n\" style=\"fill:#9f1a5b;\"/>\n    <path clip-path=\"url(#p641c6f8379)\" d=\"M 282.360653 149.370128 \nL 302.651563 149.370128 \nL 302.651563 169.137401 \nL 282.360653 169.137401 \nL 282.360653 149.370128 \n\" style=\"fill:#cd1c4e;\"/>\n    <path clip-path=\"url(#p641c6f8379)\" d=\"M 79.451563 169.137401 \nL 99.742472 169.137401 \nL 99.742472 188.904673 \nL 79.451563 188.904673 \nL 79.451563 169.137401 \n\" style=\"fill:#b21758;\"/>\n    <path clip-path=\"url(#p641c6f8379)\" d=\"M 99.742472 169.137401 \nL 120.033381 169.137401 \nL 120.033381 188.904673 \nL 99.742472 188.904673 \nL 99.742472 169.137401 \n\" style=\"fill:#d62449;\"/>\n    <path clip-path=\"url(#p641c6f8379)\" d=\"M 120.033381 169.137401 \nL 140.32429 169.137401 \nL 140.32429 188.904673 \nL 120.033381 188.904673 \nL 120.033381 169.137401 \n\" style=\"fill:#761f58;\"/>\n    <path clip-path=\"url(#p641c6f8379)\" d=\"M 140.32429 169.137401 \nL 160.615199 169.137401 \nL 160.615199 188.904673 \nL 140.32429 188.904673 \nL 140.32429 169.137401 \n\" style=\"fill:#ba1656;\"/>\n    <path clip-path=\"url(#p641c6f8379)\" d=\"M 160.615199 169.137401 \nL 180.906108 169.137401 \nL 180.906108 188.904673 \nL 160.615199 188.904673 \nL 160.615199 169.137401 \n\" style=\"fill:#a3195b;\"/>\n    <path clip-path=\"url(#p641c6f8379)\" d=\"M 180.906108 169.137401 \nL 201.197017 169.137401 \nL 201.197017 188.904673 \nL 180.906108 188.904673 \nL 180.906108 169.137401 \n\" style=\"fill:#af1759;\"/>\n    <path clip-path=\"url(#p641c6f8379)\" d=\"M 201.197017 169.137401 \nL 221.487926 169.137401 \nL 221.487926 188.904673 \nL 201.197017 188.904673 \nL 201.197017 169.137401 \n\" style=\"fill:#e63b40;\"/>\n    <path clip-path=\"url(#p641c6f8379)\" d=\"M 221.487926 169.137401 \nL 241.778835 169.137401 \nL 241.778835 188.904673 \nL 221.487926 188.904673 \nL 221.487926 169.137401 \n\" style=\"fill:#9e1a5b;\"/>\n    <path clip-path=\"url(#p641c6f8379)\" d=\"M 241.778835 169.137401 \nL 262.069744 169.137401 \nL 262.069744 188.904673 \nL 241.778835 188.904673 \nL 241.778835 169.137401 \n\" style=\"fill:#faebdd;\"/>\n    <path clip-path=\"url(#p641c6f8379)\" d=\"M 262.069744 169.137401 \nL 282.360653 169.137401 \nL 282.360653 188.904673 \nL 262.069744 188.904673 \nL 262.069744 169.137401 \n\" style=\"fill:#8e1d5b;\"/>\n    <path clip-path=\"url(#p641c6f8379)\" d=\"M 282.360653 169.137401 \nL 302.651563 169.137401 \nL 302.651563 188.904673 \nL 282.360653 188.904673 \nL 282.360653 169.137401 \n\" style=\"fill:#03051a;\"/>\n    <path clip-path=\"url(#p641c6f8379)\" d=\"M 79.451563 188.904673 \nL 99.742472 188.904673 \nL 99.742472 208.671946 \nL 79.451563 208.671946 \nL 79.451563 188.904673 \n\" style=\"fill:#aa185a;\"/>\n    <path clip-path=\"url(#p641c6f8379)\" d=\"M 99.742472 188.904673 \nL 120.033381 188.904673 \nL 120.033381 208.671946 \nL 99.742472 208.671946 \nL 99.742472 188.904673 \n\" style=\"fill:#b41658;\"/>\n    <path clip-path=\"url(#p641c6f8379)\" d=\"M 120.033381 188.904673 \nL 140.32429 188.904673 \nL 140.32429 208.671946 \nL 120.033381 208.671946 \nL 120.033381 188.904673 \n\" style=\"fill:#df2f44;\"/>\n    <path clip-path=\"url(#p641c6f8379)\" d=\"M 140.32429 188.904673 \nL 160.615199 188.904673 \nL 160.615199 208.671946 \nL 140.32429 208.671946 \nL 140.32429 188.904673 \n\" style=\"fill:#b51657;\"/>\n    <path clip-path=\"url(#p641c6f8379)\" d=\"M 160.615199 188.904673 \nL 180.906108 188.904673 \nL 180.906108 208.671946 \nL 160.615199 208.671946 \nL 160.615199 188.904673 \n\" style=\"fill:#ab185a;\"/>\n    <path clip-path=\"url(#p641c6f8379)\" d=\"M 180.906108 188.904673 \nL 201.197017 188.904673 \nL 201.197017 208.671946 \nL 180.906108 208.671946 \nL 180.906108 188.904673 \n\" style=\"fill:#9e1a5b;\"/>\n    <path clip-path=\"url(#p641c6f8379)\" d=\"M 201.197017 188.904673 \nL 221.487926 188.904673 \nL 221.487926 208.671946 \nL 201.197017 208.671946 \nL 201.197017 188.904673 \n\" style=\"fill:#951c5b;\"/>\n    <path clip-path=\"url(#p641c6f8379)\" d=\"M 221.487926 188.904673 \nL 241.778835 188.904673 \nL 241.778835 208.671946 \nL 221.487926 208.671946 \nL 221.487926 188.904673 \n\" style=\"fill:#9f1a5b;\"/>\n    <path clip-path=\"url(#p641c6f8379)\" d=\"M 241.778835 188.904673 \nL 262.069744 188.904673 \nL 262.069744 208.671946 \nL 241.778835 208.671946 \nL 241.778835 188.904673 \n\" style=\"fill:#8e1d5b;\"/>\n    <path clip-path=\"url(#p641c6f8379)\" d=\"M 262.069744 188.904673 \nL 282.360653 188.904673 \nL 282.360653 208.671946 \nL 262.069744 208.671946 \nL 262.069744 188.904673 \n\" style=\"fill:#faebdd;\"/>\n    <path clip-path=\"url(#p641c6f8379)\" d=\"M 282.360653 188.904673 \nL 302.651563 188.904673 \nL 302.651563 208.671946 \nL 282.360653 208.671946 \nL 282.360653 188.904673 \n\" style=\"fill:#3c1a42;\"/>\n    <path clip-path=\"url(#p641c6f8379)\" d=\"M 79.451563 208.671946 \nL 99.742472 208.671946 \nL 99.742472 228.439219 \nL 79.451563 228.439219 \nL 79.451563 208.671946 \n\" style=\"fill:#b71657;\"/>\n    <path clip-path=\"url(#p641c6f8379)\" d=\"M 99.742472 208.671946 \nL 120.033381 208.671946 \nL 120.033381 228.439219 \nL 99.742472 228.439219 \nL 99.742472 208.671946 \n\" style=\"fill:#8c1d5b;\"/>\n    <path clip-path=\"url(#p641c6f8379)\" d=\"M 120.033381 208.671946 \nL 140.32429 208.671946 \nL 140.32429 228.439219 \nL 120.033381 228.439219 \nL 120.033381 208.671946 \n\" style=\"fill:#c41753;\"/>\n    <path clip-path=\"url(#p641c6f8379)\" d=\"M 140.32429 208.671946 \nL 160.615199 208.671946 \nL 160.615199 228.439219 \nL 140.32429 228.439219 \nL 140.32429 208.671946 \n\" style=\"fill:#a8185a;\"/>\n    <path clip-path=\"url(#p641c6f8379)\" d=\"M 160.615199 208.671946 \nL 180.906108 208.671946 \nL 180.906108 228.439219 \nL 160.615199 228.439219 \nL 160.615199 208.671946 \n\" style=\"fill:#c21753;\"/>\n    <path clip-path=\"url(#p641c6f8379)\" d=\"M 180.906108 208.671946 \nL 201.197017 208.671946 \nL 201.197017 228.439219 \nL 180.906108 228.439219 \nL 180.906108 208.671946 \n\" style=\"fill:#c11754;\"/>\n    <path clip-path=\"url(#p641c6f8379)\" d=\"M 201.197017 208.671946 \nL 221.487926 208.671946 \nL 221.487926 228.439219 \nL 201.197017 228.439219 \nL 201.197017 208.671946 \n\" style=\"fill:#891e5b;\"/>\n    <path clip-path=\"url(#p641c6f8379)\" d=\"M 221.487926 208.671946 \nL 241.778835 208.671946 \nL 241.778835 228.439219 \nL 221.487926 228.439219 \nL 221.487926 208.671946 \n\" style=\"fill:#cd1c4e;\"/>\n    <path clip-path=\"url(#p641c6f8379)\" d=\"M 241.778835 208.671946 \nL 262.069744 208.671946 \nL 262.069744 228.439219 \nL 241.778835 228.439219 \nL 241.778835 208.671946 \n\" style=\"fill:#03051a;\"/>\n    <path clip-path=\"url(#p641c6f8379)\" d=\"M 262.069744 208.671946 \nL 282.360653 208.671946 \nL 282.360653 228.439219 \nL 262.069744 228.439219 \nL 262.069744 208.671946 \n\" style=\"fill:#3c1a42;\"/>\n    <path clip-path=\"url(#p641c6f8379)\" d=\"M 282.360653 208.671946 \nL 302.651563 208.671946 \nL 302.651563 228.439219 \nL 282.360653 228.439219 \nL 282.360653 208.671946 \n\" style=\"fill:#faebdd;\"/>\n   </g>\n  </g>\n  <g id=\"axes_2\">\n   <g id=\"patch_3\">\n    <path d=\"M 316.601563 228.439219 \nL 327.473563 228.439219 \nL 327.473563 10.999219 \nL 316.601563 10.999219 \nz\n\" style=\"fill:#ffffff;\"/>\n   </g>\n   <g id=\"patch_4\">\n    <path clip-path=\"url(#p63405fb393)\" d=\"M 316.601563 228.439219 \nL 316.601563 227.589844 \nL 316.601563 11.848594 \nL 316.601563 10.999219 \nL 327.473563 10.999219 \nL 327.473563 11.848594 \nL 327.473563 227.589844 \nL 327.473563 228.439219 \nL 327.473563 228.439219 \nz\n\" style=\"fill:#ffffff;stroke:#ffffff;stroke-linejoin:miter;stroke-width:0.01;\"/>\n   </g>\n   <g id=\"matplotlib.axis_3\"/>\n   <g id=\"matplotlib.axis_4\">\n    <g id=\"ytick_12\">\n     <g id=\"line2d_1\">\n      <defs>\n       <path d=\"M 0 0 \nL 3.5 0 \n\" id=\"m9dc1851718\" style=\"stroke:#262626;stroke-width:0.8;\"/>\n      </defs>\n      <g>\n       <use style=\"fill:#262626;stroke:#262626;stroke-width:0.8;\" x=\"327.473563\" xlink:href=\"#m9dc1851718\" y=\"206.164437\"/>\n      </g>\n     </g>\n     <g id=\"text_23\">\n      <!-- −0.6 -->\n      <g style=\"fill:#262626;\" transform=\"translate(334.473563 209.963656)scale(0.1 -0.1)\">\n       <defs>\n        <path d=\"M 678 2272 \nL 4684 2272 \nL 4684 1741 \nL 678 1741 \nL 678 2272 \nz\n\" id=\"DejaVuSans-2212\" transform=\"scale(0.015625)\"/>\n        <path d=\"M 2034 4250 \nQ 1547 4250 1301 3770 \nQ 1056 3291 1056 2328 \nQ 1056 1369 1301 889 \nQ 1547 409 2034 409 \nQ 2525 409 2770 889 \nQ 3016 1369 3016 2328 \nQ 3016 3291 2770 3770 \nQ 2525 4250 2034 4250 \nz\nM 2034 4750 \nQ 2819 4750 3233 4129 \nQ 3647 3509 3647 2328 \nQ 3647 1150 3233 529 \nQ 2819 -91 2034 -91 \nQ 1250 -91 836 529 \nQ 422 1150 422 2328 \nQ 422 3509 836 4129 \nQ 1250 4750 2034 4750 \nz\n\" id=\"DejaVuSans-30\" transform=\"scale(0.015625)\"/>\n        <path d=\"M 684 794 \nL 1344 794 \nL 1344 0 \nL 684 0 \nL 684 794 \nz\n\" id=\"DejaVuSans-2e\" transform=\"scale(0.015625)\"/>\n        <path d=\"M 2113 2584 \nQ 1688 2584 1439 2293 \nQ 1191 2003 1191 1497 \nQ 1191 994 1439 701 \nQ 1688 409 2113 409 \nQ 2538 409 2786 701 \nQ 3034 994 3034 1497 \nQ 3034 2003 2786 2293 \nQ 2538 2584 2113 2584 \nz\nM 3366 4563 \nL 3366 3988 \nQ 3128 4100 2886 4159 \nQ 2644 4219 2406 4219 \nQ 1781 4219 1451 3797 \nQ 1122 3375 1075 2522 \nQ 1259 2794 1537 2939 \nQ 1816 3084 2150 3084 \nQ 2853 3084 3261 2657 \nQ 3669 2231 3669 1497 \nQ 3669 778 3244 343 \nQ 2819 -91 2113 -91 \nQ 1303 -91 875 529 \nQ 447 1150 447 2328 \nQ 447 3434 972 4092 \nQ 1497 4750 2381 4750 \nQ 2619 4750 2861 4703 \nQ 3103 4656 3366 4563 \nz\n\" id=\"DejaVuSans-36\" transform=\"scale(0.015625)\"/>\n       </defs>\n       <use xlink:href=\"#DejaVuSans-2212\"/>\n       <use x=\"83.789062\" xlink:href=\"#DejaVuSans-30\"/>\n       <use x=\"147.412109\" xlink:href=\"#DejaVuSans-2e\"/>\n       <use x=\"179.199219\" xlink:href=\"#DejaVuSans-36\"/>\n      </g>\n     </g>\n    </g>\n    <g id=\"ytick_13\">\n     <g id=\"line2d_2\">\n      <g>\n       <use style=\"fill:#262626;stroke:#262626;stroke-width:0.8;\" x=\"327.473563\" xlink:href=\"#m9dc1851718\" y=\"181.768785\"/>\n      </g>\n     </g>\n     <g id=\"text_24\">\n      <!-- −0.4 -->\n      <g style=\"fill:#262626;\" transform=\"translate(334.473563 185.568004)scale(0.1 -0.1)\">\n       <defs>\n        <path d=\"M 2419 4116 \nL 825 1625 \nL 2419 1625 \nL 2419 4116 \nz\nM 2253 4666 \nL 3047 4666 \nL 3047 1625 \nL 3713 1625 \nL 3713 1100 \nL 3047 1100 \nL 3047 0 \nL 2419 0 \nL 2419 1100 \nL 313 1100 \nL 313 1709 \nL 2253 4666 \nz\n\" id=\"DejaVuSans-34\" transform=\"scale(0.015625)\"/>\n       </defs>\n       <use xlink:href=\"#DejaVuSans-2212\"/>\n       <use x=\"83.789062\" xlink:href=\"#DejaVuSans-30\"/>\n       <use x=\"147.412109\" xlink:href=\"#DejaVuSans-2e\"/>\n       <use x=\"179.199219\" xlink:href=\"#DejaVuSans-34\"/>\n      </g>\n     </g>\n    </g>\n    <g id=\"ytick_14\">\n     <g id=\"line2d_3\">\n      <g>\n       <use style=\"fill:#262626;stroke:#262626;stroke-width:0.8;\" x=\"327.473563\" xlink:href=\"#m9dc1851718\" y=\"157.373133\"/>\n      </g>\n     </g>\n     <g id=\"text_25\">\n      <!-- −0.2 -->\n      <g style=\"fill:#262626;\" transform=\"translate(334.473563 161.172351)scale(0.1 -0.1)\">\n       <defs>\n        <path d=\"M 1228 531 \nL 3431 531 \nL 3431 0 \nL 469 0 \nL 469 531 \nQ 828 903 1448 1529 \nQ 2069 2156 2228 2338 \nQ 2531 2678 2651 2914 \nQ 2772 3150 2772 3378 \nQ 2772 3750 2511 3984 \nQ 2250 4219 1831 4219 \nQ 1534 4219 1204 4116 \nQ 875 4013 500 3803 \nL 500 4441 \nQ 881 4594 1212 4672 \nQ 1544 4750 1819 4750 \nQ 2544 4750 2975 4387 \nQ 3406 4025 3406 3419 \nQ 3406 3131 3298 2873 \nQ 3191 2616 2906 2266 \nQ 2828 2175 2409 1742 \nQ 1991 1309 1228 531 \nz\n\" id=\"DejaVuSans-32\" transform=\"scale(0.015625)\"/>\n       </defs>\n       <use xlink:href=\"#DejaVuSans-2212\"/>\n       <use x=\"83.789062\" xlink:href=\"#DejaVuSans-30\"/>\n       <use x=\"147.412109\" xlink:href=\"#DejaVuSans-2e\"/>\n       <use x=\"179.199219\" xlink:href=\"#DejaVuSans-32\"/>\n      </g>\n     </g>\n    </g>\n    <g id=\"ytick_15\">\n     <g id=\"line2d_4\">\n      <g>\n       <use style=\"fill:#262626;stroke:#262626;stroke-width:0.8;\" x=\"327.473563\" xlink:href=\"#m9dc1851718\" y=\"132.97748\"/>\n      </g>\n     </g>\n     <g id=\"text_26\">\n      <!-- 0.0 -->\n      <g style=\"fill:#262626;\" transform=\"translate(334.473563 136.776699)scale(0.1 -0.1)\">\n       <use xlink:href=\"#DejaVuSans-30\"/>\n       <use x=\"63.623047\" xlink:href=\"#DejaVuSans-2e\"/>\n       <use x=\"95.410156\" xlink:href=\"#DejaVuSans-30\"/>\n      </g>\n     </g>\n    </g>\n    <g id=\"ytick_16\">\n     <g id=\"line2d_5\">\n      <g>\n       <use style=\"fill:#262626;stroke:#262626;stroke-width:0.8;\" x=\"327.473563\" xlink:href=\"#m9dc1851718\" y=\"108.581828\"/>\n      </g>\n     </g>\n     <g id=\"text_27\">\n      <!-- 0.2 -->\n      <g style=\"fill:#262626;\" transform=\"translate(334.473563 112.381047)scale(0.1 -0.1)\">\n       <use xlink:href=\"#DejaVuSans-30\"/>\n       <use x=\"63.623047\" xlink:href=\"#DejaVuSans-2e\"/>\n       <use x=\"95.410156\" xlink:href=\"#DejaVuSans-32\"/>\n      </g>\n     </g>\n    </g>\n    <g id=\"ytick_17\">\n     <g id=\"line2d_6\">\n      <g>\n       <use style=\"fill:#262626;stroke:#262626;stroke-width:0.8;\" x=\"327.473563\" xlink:href=\"#m9dc1851718\" y=\"84.186176\"/>\n      </g>\n     </g>\n     <g id=\"text_28\">\n      <!-- 0.4 -->\n      <g style=\"fill:#262626;\" transform=\"translate(334.473563 87.985394)scale(0.1 -0.1)\">\n       <use xlink:href=\"#DejaVuSans-30\"/>\n       <use x=\"63.623047\" xlink:href=\"#DejaVuSans-2e\"/>\n       <use x=\"95.410156\" xlink:href=\"#DejaVuSans-34\"/>\n      </g>\n     </g>\n    </g>\n    <g id=\"ytick_18\">\n     <g id=\"line2d_7\">\n      <g>\n       <use style=\"fill:#262626;stroke:#262626;stroke-width:0.8;\" x=\"327.473563\" xlink:href=\"#m9dc1851718\" y=\"59.790523\"/>\n      </g>\n     </g>\n     <g id=\"text_29\">\n      <!-- 0.6 -->\n      <g style=\"fill:#262626;\" transform=\"translate(334.473563 63.589742)scale(0.1 -0.1)\">\n       <use xlink:href=\"#DejaVuSans-30\"/>\n       <use x=\"63.623047\" xlink:href=\"#DejaVuSans-2e\"/>\n       <use x=\"95.410156\" xlink:href=\"#DejaVuSans-36\"/>\n      </g>\n     </g>\n    </g>\n    <g id=\"ytick_19\">\n     <g id=\"line2d_8\">\n      <g>\n       <use style=\"fill:#262626;stroke:#262626;stroke-width:0.8;\" x=\"327.473563\" xlink:href=\"#m9dc1851718\" y=\"35.394871\"/>\n      </g>\n     </g>\n     <g id=\"text_30\">\n      <!-- 0.8 -->\n      <g style=\"fill:#262626;\" transform=\"translate(334.473563 39.19409)scale(0.1 -0.1)\">\n       <defs>\n        <path d=\"M 2034 2216 \nQ 1584 2216 1326 1975 \nQ 1069 1734 1069 1313 \nQ 1069 891 1326 650 \nQ 1584 409 2034 409 \nQ 2484 409 2743 651 \nQ 3003 894 3003 1313 \nQ 3003 1734 2745 1975 \nQ 2488 2216 2034 2216 \nz\nM 1403 2484 \nQ 997 2584 770 2862 \nQ 544 3141 544 3541 \nQ 544 4100 942 4425 \nQ 1341 4750 2034 4750 \nQ 2731 4750 3128 4425 \nQ 3525 4100 3525 3541 \nQ 3525 3141 3298 2862 \nQ 3072 2584 2669 2484 \nQ 3125 2378 3379 2068 \nQ 3634 1759 3634 1313 \nQ 3634 634 3220 271 \nQ 2806 -91 2034 -91 \nQ 1263 -91 848 271 \nQ 434 634 434 1313 \nQ 434 1759 690 2068 \nQ 947 2378 1403 2484 \nz\nM 1172 3481 \nQ 1172 3119 1398 2916 \nQ 1625 2713 2034 2713 \nQ 2441 2713 2670 2916 \nQ 2900 3119 2900 3481 \nQ 2900 3844 2670 4047 \nQ 2441 4250 2034 4250 \nQ 1625 4250 1398 4047 \nQ 1172 3844 1172 3481 \nz\n\" id=\"DejaVuSans-38\" transform=\"scale(0.015625)\"/>\n       </defs>\n       <use xlink:href=\"#DejaVuSans-30\"/>\n       <use x=\"63.623047\" xlink:href=\"#DejaVuSans-2e\"/>\n       <use x=\"95.410156\" xlink:href=\"#DejaVuSans-38\"/>\n      </g>\n     </g>\n    </g>\n    <g id=\"ytick_20\">\n     <g id=\"line2d_9\">\n      <g>\n       <use style=\"fill:#262626;stroke:#262626;stroke-width:0.8;\" x=\"327.473563\" xlink:href=\"#m9dc1851718\" y=\"10.999219\"/>\n      </g>\n     </g>\n     <g id=\"text_31\">\n      <!-- 1.0 -->\n      <g style=\"fill:#262626;\" transform=\"translate(334.473563 14.798438)scale(0.1 -0.1)\">\n       <defs>\n        <path d=\"M 794 531 \nL 1825 531 \nL 1825 4091 \nL 703 3866 \nL 703 4441 \nL 1819 4666 \nL 2450 4666 \nL 2450 531 \nL 3481 531 \nL 3481 0 \nL 794 0 \nL 794 531 \nz\n\" id=\"DejaVuSans-31\" transform=\"scale(0.015625)\"/>\n       </defs>\n       <use xlink:href=\"#DejaVuSans-31\"/>\n       <use x=\"63.623047\" xlink:href=\"#DejaVuSans-2e\"/>\n       <use x=\"95.410156\" xlink:href=\"#DejaVuSans-30\"/>\n      </g>\n     </g>\n    </g>\n   </g>\n   <image height=\"218\" id=\"image509a255919\" transform=\"scale(1 -1)translate(0 -218)\" width=\"10\" x=\"317\" xlink:href=\"data:image/png;base64,\niVBORw0KGgoAAAANSUhEUgAAAAoAAADaCAYAAACfDNOSAAABW0lEQVR4nO2Y2w3DQAgEebmJ9F9nnA6iOWlXxFL8jXYZ4LDP2dfrDvBMkqiImEwWehAYasXOYoElhyk9TFEYuTXujL6OvIWcGioaqKmiYXCfALM4uHLrCTxm7HH0Wr+kKDUL82xcGjjy8nBqeQuxNW6hfnAd5YGKrT8z1NrRwt/PUW/dcsVC38wWar57qCLOEVPrrWfPmrdQPhSb1HLruZmkY1PsWWPqDHWOBzBq6443VISFNOSY8LxO08Cigdj6QBHFnVDDDeCA4dYo7kCxCw4uvLoelEdPXUNh5HV0lAcqFnxrTsit9YHwyhWTs2cNl/gJDFakH8PyHA3W8N3F/yrgHA8CaY4UhlvTv4V66qTU0eyuaSj4Yh0T3rAtLaSK+MwM26SWgtPDpbfG1Hz34M6oy8MD+XHdg8GKjQd3L8cHUGfKh2KTWr+a1TDZl1jRMbjqOqb+uP5hvjwfSeMqJ2cweIAAAAAASUVORK5CYII=\" y=\"-10\"/>\n   <g id=\"LineCollection_1\"/>\n   <g id=\"patch_5\">\n    <path d=\"M 316.601563 228.439219 \nL 316.601563 227.589844 \nL 316.601563 11.848594 \nL 316.601563 10.999219 \nL 327.473563 10.999219 \nL 327.473563 11.848594 \nL 327.473563 227.589844 \nL 327.473563 228.439219 \nz\n\" style=\"fill:none;\"/>\n   </g>\n  </g>\n </g>\n <defs>\n  <clipPath id=\"p641c6f8379\">\n   <rect height=\"217.44\" width=\"223.2\" x=\"79.451563\" y=\"10.999219\"/>\n  </clipPath>\n  <clipPath id=\"p63405fb393\">\n   <rect height=\"217.44\" width=\"10.872\" x=\"316.601563\" y=\"10.999219\"/>\n  </clipPath>\n </defs>\n</svg>\n",
      "image/png": "[encoded data removed]"
     },
     "metadata": {}
    }
   ],
   "source": [
    "sb.heatmap(titanic_dmy.corr())"
   ]
  },
  {
   "cell_type": "code",
   "execution_count": 26,
   "metadata": {},
   "outputs": [
    {
     "output_type": "execute_result",
     "data": {
      "text/plain": [
       "   PassengerId  Survived   Age  SibSp  Parch  male_gender    C    Q    S\n",
       "0          1.0       0.0  22.0    1.0    0.0          1.0  0.0  0.0  1.0\n",
       "1          2.0       1.0  38.0    1.0    0.0          0.0  1.0  0.0  0.0\n",
       "2          3.0       1.0  26.0    0.0    0.0          0.0  0.0  0.0  1.0\n",
       "3          4.0       1.0  35.0    1.0    0.0          0.0  0.0  0.0  1.0\n",
       "4          5.0       0.0  35.0    0.0    0.0          1.0  0.0  0.0  1.0"
      ],
      "text/html": "<div>\n<style scoped>\n    .dataframe tbody tr th:only-of-type {\n        vertical-align: middle;\n    }\n\n    .dataframe tbody tr th {\n        vertical-align: top;\n    }\n\n    .dataframe thead th {\n        text-align: right;\n    }\n</style>\n<table border=\"1\" class=\"dataframe\">\n  <thead>\n    <tr style=\"text-align: right;\">\n      <th></th>\n      <th>PassengerId</th>\n      <th>Survived</th>\n      <th>Age</th>\n      <th>SibSp</th>\n      <th>Parch</th>\n      <th>male_gender</th>\n      <th>C</th>\n      <th>Q</th>\n      <th>S</th>\n    </tr>\n  </thead>\n  <tbody>\n    <tr>\n      <th>0</th>\n      <td>1.0</td>\n      <td>0.0</td>\n      <td>22.0</td>\n      <td>1.0</td>\n      <td>0.0</td>\n      <td>1.0</td>\n      <td>0.0</td>\n      <td>0.0</td>\n      <td>1.0</td>\n    </tr>\n    <tr>\n      <th>1</th>\n      <td>2.0</td>\n      <td>1.0</td>\n      <td>38.0</td>\n      <td>1.0</td>\n      <td>0.0</td>\n      <td>0.0</td>\n      <td>1.0</td>\n      <td>0.0</td>\n      <td>0.0</td>\n    </tr>\n    <tr>\n      <th>2</th>\n      <td>3.0</td>\n      <td>1.0</td>\n      <td>26.0</td>\n      <td>0.0</td>\n      <td>0.0</td>\n      <td>0.0</td>\n      <td>0.0</td>\n      <td>0.0</td>\n      <td>1.0</td>\n    </tr>\n    <tr>\n      <th>3</th>\n      <td>4.0</td>\n      <td>1.0</td>\n      <td>35.0</td>\n      <td>1.0</td>\n      <td>0.0</td>\n      <td>0.0</td>\n      <td>0.0</td>\n      <td>0.0</td>\n      <td>1.0</td>\n    </tr>\n    <tr>\n      <th>4</th>\n      <td>5.0</td>\n      <td>0.0</td>\n      <td>35.0</td>\n      <td>0.0</td>\n      <td>0.0</td>\n      <td>1.0</td>\n      <td>0.0</td>\n      <td>0.0</td>\n      <td>1.0</td>\n    </tr>\n  </tbody>\n</table>\n</div>"
     },
     "metadata": {},
     "execution_count": 26
    }
   ],
   "source": [
    "titanic_dmy.drop(['Fare', 'Pclass'], axis=1, inplace=True)\n",
    "titanic_dmy.head()"
   ]
  },
  {
   "source": [
    "We have cleaned our dataset even more, so we have dropped the variables that are **definitely not independent of one another**, and now it's time to go ahead and check that our dataset is of sufficient size to do a logistic regression"
   ],
   "cell_type": "markdown",
   "metadata": {}
  },
  {
   "source": [
    "### Checking that size of the dataset is sufficient "
   ],
   "cell_type": "markdown",
   "metadata": {}
  },
  {
   "source": [
    "A rule of thumb that you should have at least 50 records per predictive feature, so let's see how many predictors do we have in this dataset.\n",
    "\n",
    "C Q S first, male_gender, Parch, Age, SibSp and PassangerId so 6 x 50 = 300. So we would need 300 records in our dataset\n"
   ],
   "cell_type": "markdown",
   "metadata": {}
  },
  {
   "cell_type": "code",
   "execution_count": 27,
   "metadata": {},
   "outputs": [
    {
     "output_type": "stream",
     "name": "stdout",
     "text": [
      "<class 'pandas.core.frame.DataFrame'>\nRangeIndex: 889 entries, 0 to 888\nData columns (total 9 columns):\n #   Column       Non-Null Count  Dtype  \n---  ------       --------------  -----  \n 0   PassengerId  889 non-null    float64\n 1   Survived     889 non-null    float64\n 2   Age          889 non-null    float64\n 3   SibSp        889 non-null    float64\n 4   Parch        889 non-null    float64\n 5   male_gender  889 non-null    float64\n 6   C            889 non-null    float64\n 7   Q            889 non-null    float64\n 8   S            889 non-null    float64\ndtypes: float64(9)\nmemory usage: 62.6 KB\n"
     ]
    }
   ],
   "source": [
    "titanic_dmy.info()"
   ]
  },
  {
   "cell_type": "code",
   "execution_count": 28,
   "metadata": {},
   "outputs": [],
   "source": [
    "x_train, x_test, y_train, y_test = train_test_split(titanic_dmy.drop('Survived', axis=1), titanic_dmy.Survived, test_size=0.2, random_state=200)"
   ]
  },
  {
   "cell_type": "code",
   "execution_count": 32,
   "metadata": {},
   "outputs": [
    {
     "output_type": "execute_result",
     "data": {
      "text/plain": [
       "((711, 8), (711,))"
      ]
     },
     "metadata": {},
     "execution_count": 32
    }
   ],
   "source": [
    "x_train.shape, y_train.shape"
   ]
  },
  {
   "cell_type": "code",
   "execution_count": 34,
   "metadata": {},
   "outputs": [
    {
     "output_type": "execute_result",
     "data": {
      "text/plain": [
       "     PassengerId   Age  SibSp  Parch  male_gender    C    Q    S\n",
       "719        721.0   6.0    0.0    1.0          0.0  0.0  0.0  1.0\n",
       "165        167.0  24.0    0.0    1.0          0.0  0.0  0.0  1.0\n",
       "879        882.0  33.0    0.0    0.0          1.0  0.0  0.0  1.0\n",
       "451        453.0  30.0    0.0    0.0          1.0  1.0  0.0  0.0\n",
       "181        183.0   9.0    4.0    2.0          1.0  0.0  0.0  1.0"
      ],
      "text/html": "<div>\n<style scoped>\n    .dataframe tbody tr th:only-of-type {\n        vertical-align: middle;\n    }\n\n    .dataframe tbody tr th {\n        vertical-align: top;\n    }\n\n    .dataframe thead th {\n        text-align: right;\n    }\n</style>\n<table border=\"1\" class=\"dataframe\">\n  <thead>\n    <tr style=\"text-align: right;\">\n      <th></th>\n      <th>PassengerId</th>\n      <th>Age</th>\n      <th>SibSp</th>\n      <th>Parch</th>\n      <th>male_gender</th>\n      <th>C</th>\n      <th>Q</th>\n      <th>S</th>\n    </tr>\n  </thead>\n  <tbody>\n    <tr>\n      <th>719</th>\n      <td>721.0</td>\n      <td>6.0</td>\n      <td>0.0</td>\n      <td>1.0</td>\n      <td>0.0</td>\n      <td>0.0</td>\n      <td>0.0</td>\n      <td>1.0</td>\n    </tr>\n    <tr>\n      <th>165</th>\n      <td>167.0</td>\n      <td>24.0</td>\n      <td>0.0</td>\n      <td>1.0</td>\n      <td>0.0</td>\n      <td>0.0</td>\n      <td>0.0</td>\n      <td>1.0</td>\n    </tr>\n    <tr>\n      <th>879</th>\n      <td>882.0</td>\n      <td>33.0</td>\n      <td>0.0</td>\n      <td>0.0</td>\n      <td>1.0</td>\n      <td>0.0</td>\n      <td>0.0</td>\n      <td>1.0</td>\n    </tr>\n    <tr>\n      <th>451</th>\n      <td>453.0</td>\n      <td>30.0</td>\n      <td>0.0</td>\n      <td>0.0</td>\n      <td>1.0</td>\n      <td>1.0</td>\n      <td>0.0</td>\n      <td>0.0</td>\n    </tr>\n    <tr>\n      <th>181</th>\n      <td>183.0</td>\n      <td>9.0</td>\n      <td>4.0</td>\n      <td>2.0</td>\n      <td>1.0</td>\n      <td>0.0</td>\n      <td>0.0</td>\n      <td>1.0</td>\n    </tr>\n  </tbody>\n</table>\n</div>"
     },
     "metadata": {},
     "execution_count": 34
    }
   ],
   "source": [
    "x_train.head()"
   ]
  },
  {
   "source": [
    "### Deploying and evaluating the model"
   ],
   "cell_type": "markdown",
   "metadata": {}
  },
  {
   "cell_type": "code",
   "execution_count": 37,
   "metadata": {},
   "outputs": [
    {
     "output_type": "execute_result",
     "data": {
      "text/plain": [
       "LogisticRegression(solver='liblinear')"
      ]
     },
     "metadata": {},
     "execution_count": 37
    }
   ],
   "source": [
    "LogReg = LogisticRegression(solver='liblinear')\n",
    "LogReg.fit(x_train, y_train)"
   ]
  },
  {
   "cell_type": "code",
   "execution_count": 38,
   "metadata": {},
   "outputs": [],
   "source": [
    "y_pred = LogReg.predict(x_test)"
   ]
  },
  {
   "source": [
    "## Model Evaluation"
   ],
   "cell_type": "markdown",
   "metadata": {}
  },
  {
   "source": [
    "### Classification report w/o cross-validation"
   ],
   "cell_type": "markdown",
   "metadata": {}
  },
  {
   "cell_type": "code",
   "execution_count": 42,
   "metadata": {},
   "outputs": [
    {
     "output_type": "stream",
     "name": "stdout",
     "text": [
      "              precision    recall  f1-score   support\n\n         0.0       0.83      0.88      0.85       109\n         1.0       0.79      0.71      0.75        69\n\n    accuracy                           0.81       178\n   macro avg       0.81      0.80      0.80       178\nweighted avg       0.81      0.81      0.81       178\n\n"
     ]
    }
   ],
   "source": [
    "print(classification_report(y_test, y_pred))"
   ]
  },
  {
   "source": [
    "### K-fold cross-validation & confusion matrix"
   ],
   "cell_type": "markdown",
   "metadata": {}
  },
  {
   "cell_type": "code",
   "execution_count": 44,
   "metadata": {},
   "outputs": [
    {
     "output_type": "execute_result",
     "data": {
      "text/plain": [
       "array([[377,  63],\n",
       "       [ 91, 180]])"
      ]
     },
     "metadata": {},
     "execution_count": 44
    }
   ],
   "source": [
    "y_train_pred = cross_val_predict(LogReg, x_train, y_train, cv=5)\n",
    "confusion_matrix(y_train, y_train_pred)\n",
    "# What this confusion matrix is telling us is that, 337 and 180 are the number of correct predictions 91 and 63 are the number of incorrect predictions\n"
   ]
  },
  {
   "cell_type": "code",
   "execution_count": 45,
   "metadata": {},
   "outputs": [
    {
     "output_type": "execute_result",
     "data": {
      "text/plain": [
       "0.7407407407407407"
      ]
     },
     "metadata": {},
     "execution_count": 45
    }
   ],
   "source": [
    "precision_score(y_train, y_train_pred)"
   ]
  },
  {
   "source": [
    "## Make a test prediction"
   ],
   "cell_type": "markdown",
   "metadata": {}
  },
  {
   "cell_type": "code",
   "execution_count": 47,
   "metadata": {},
   "outputs": [
    {
     "output_type": "execute_result",
     "data": {
      "text/plain": [
       "     PassengerId  Survived   Age  SibSp  Parch  male_gender    C    Q    S\n",
       "863        866.0       1.0  42.0    0.0    0.0          0.0  0.0  0.0  1.0"
      ],
      "text/html": "<div>\n<style scoped>\n    .dataframe tbody tr th:only-of-type {\n        vertical-align: middle;\n    }\n\n    .dataframe tbody tr th {\n        vertical-align: top;\n    }\n\n    .dataframe thead th {\n        text-align: right;\n    }\n</style>\n<table border=\"1\" class=\"dataframe\">\n  <thead>\n    <tr style=\"text-align: right;\">\n      <th></th>\n      <th>PassengerId</th>\n      <th>Survived</th>\n      <th>Age</th>\n      <th>SibSp</th>\n      <th>Parch</th>\n      <th>male_gender</th>\n      <th>C</th>\n      <th>Q</th>\n      <th>S</th>\n    </tr>\n  </thead>\n  <tbody>\n    <tr>\n      <th>863</th>\n      <td>866.0</td>\n      <td>1.0</td>\n      <td>42.0</td>\n      <td>0.0</td>\n      <td>0.0</td>\n      <td>0.0</td>\n      <td>0.0</td>\n      <td>0.0</td>\n      <td>1.0</td>\n    </tr>\n  </tbody>\n</table>\n</div>"
     },
     "metadata": {},
     "execution_count": 47
    }
   ],
   "source": [
    "# Let's select a random passenger and copy his data with some changes (Age)\n",
    "titanic_dmy[863:864]"
   ]
  },
  {
   "cell_type": "code",
   "execution_count": 49,
   "metadata": {},
   "outputs": [
    {
     "output_type": "stream",
     "name": "stdout",
     "text": [
      "[1.]\n"
     ]
    }
   ],
   "source": [
    "test_passenger = np.array([866, 40, 0, 0, 0, 0, 0, 1]).reshape(1, -1)\n",
    "print(LogReg.predict(test_passenger))"
   ]
  },
  {
   "cell_type": "code",
   "execution_count": 50,
   "metadata": {},
   "outputs": [
    {
     "output_type": "stream",
     "name": "stdout",
     "text": [
      "[[0.26351831 0.73648169]]\n"
     ]
    }
   ],
   "source": [
    "print(LogReg.predict_proba(test_passenger))\n",
    "#  the probability of this prediction being correct is 73%."
   ]
  }
 ]
}