{
 "cells": [
  {
   "cell_type": "code",
   "execution_count": 1,
   "metadata": {},
   "outputs": [],
   "source": [
    "import math\n",
    "import collections\n",
    "\n",
    "import numpy as np \n",
    "import pandas as pd \n",
    "import matplotlib.pyplot as pp\n",
    "\n",
    "%matplotlib inline"
   ]
  },
  {
   "cell_type": "code",
   "execution_count": 2,
   "metadata": {},
   "outputs": [],
   "source": [
    "pd.options.display.max_rows = 20"
   ]
  },
  {
   "cell_type": "code",
   "execution_count": 3,
   "metadata": {},
   "outputs": [],
   "source": [
    "import zipfile"
   ]
  },
  {
   "cell_type": "code",
   "execution_count": 4,
   "metadata": {},
   "outputs": [],
   "source": [
    "zipfile.ZipFile('names.zip').extractall('.')"
   ]
  },
  {
   "cell_type": "code",
   "execution_count": 9,
   "metadata": {},
   "outputs": [
    {
     "output_type": "execute_result",
     "data": {
      "text/plain": "['Sophia,F,21842\\n',\n 'Isabella,F,19910\\n',\n 'Emma,F,18803\\n',\n 'Olivia,F,17322\\n',\n 'Ava,F,15503\\n',\n 'Emily,F,14258\\n',\n 'Abigail,F,13248\\n',\n 'Madison,F,12389\\n',\n 'Mia,F,11530\\n',\n 'Chloe,F,10991\\n']"
     },
     "metadata": {},
     "execution_count": 9
    }
   ],
   "source": [
    "open('names/yob2011.txt', 'r').readlines()[:10]"
   ]
  },
  {
   "cell_type": "code",
   "execution_count": 11,
   "metadata": {},
   "outputs": [
    {
     "output_type": "execute_result",
     "data": {
      "text/plain": "           name sex  number\n0        Sophia   F   21842\n1      Isabella   F   19910\n2          Emma   F   18803\n3        Olivia   F   17322\n4           Ava   F   15503\n...         ...  ..     ...\n33903     Zylar   M       5\n33904     Zylas   M       5\n33905     Zyran   M       5\n33906   Zyshawn   M       5\n33907  Zytavion   M       5\n\n[33908 rows x 3 columns]",
      "text/html": "<div>\n<style scoped>\n    .dataframe tbody tr th:only-of-type {\n        vertical-align: middle;\n    }\n\n    .dataframe tbody tr th {\n        vertical-align: top;\n    }\n\n    .dataframe thead th {\n        text-align: right;\n    }\n</style>\n<table border=\"1\" class=\"dataframe\">\n  <thead>\n    <tr style=\"text-align: right;\">\n      <th></th>\n      <th>name</th>\n      <th>sex</th>\n      <th>number</th>\n    </tr>\n  </thead>\n  <tbody>\n    <tr>\n      <th>0</th>\n      <td>Sophia</td>\n      <td>F</td>\n      <td>21842</td>\n    </tr>\n    <tr>\n      <th>1</th>\n      <td>Isabella</td>\n      <td>F</td>\n      <td>19910</td>\n    </tr>\n    <tr>\n      <th>2</th>\n      <td>Emma</td>\n      <td>F</td>\n      <td>18803</td>\n    </tr>\n    <tr>\n      <th>3</th>\n      <td>Olivia</td>\n      <td>F</td>\n      <td>17322</td>\n    </tr>\n    <tr>\n      <th>4</th>\n      <td>Ava</td>\n      <td>F</td>\n      <td>15503</td>\n    </tr>\n    <tr>\n      <th>...</th>\n      <td>...</td>\n      <td>...</td>\n      <td>...</td>\n    </tr>\n    <tr>\n      <th>33903</th>\n      <td>Zylar</td>\n      <td>M</td>\n      <td>5</td>\n    </tr>\n    <tr>\n      <th>33904</th>\n      <td>Zylas</td>\n      <td>M</td>\n      <td>5</td>\n    </tr>\n    <tr>\n      <th>33905</th>\n      <td>Zyran</td>\n      <td>M</td>\n      <td>5</td>\n    </tr>\n    <tr>\n      <th>33906</th>\n      <td>Zyshawn</td>\n      <td>M</td>\n      <td>5</td>\n    </tr>\n    <tr>\n      <th>33907</th>\n      <td>Zytavion</td>\n      <td>M</td>\n      <td>5</td>\n    </tr>\n  </tbody>\n</table>\n<p>33908 rows × 3 columns</p>\n</div>"
     },
     "metadata": {},
     "execution_count": 11
    }
   ],
   "source": [
    "pd.read_csv('names/yob2011.txt', names = ['name', 'sex', 'number'])"
   ]
  },
  {
   "cell_type": "code",
   "execution_count": 12,
   "metadata": {},
   "outputs": [
    {
     "output_type": "execute_result",
     "data": {
      "text/plain": "           name sex  number  year\n0        Sophia   F   21842  2011\n1      Isabella   F   19910  2011\n2          Emma   F   18803  2011\n3        Olivia   F   17322  2011\n4           Ava   F   15503  2011\n...         ...  ..     ...   ...\n33903     Zylar   M       5  2011\n33904     Zylas   M       5  2011\n33905     Zyran   M       5  2011\n33906   Zyshawn   M       5  2011\n33907  Zytavion   M       5  2011\n\n[33908 rows x 4 columns]",
      "text/html": "<div>\n<style scoped>\n    .dataframe tbody tr th:only-of-type {\n        vertical-align: middle;\n    }\n\n    .dataframe tbody tr th {\n        vertical-align: top;\n    }\n\n    .dataframe thead th {\n        text-align: right;\n    }\n</style>\n<table border=\"1\" class=\"dataframe\">\n  <thead>\n    <tr style=\"text-align: right;\">\n      <th></th>\n      <th>name</th>\n      <th>sex</th>\n      <th>number</th>\n      <th>year</th>\n    </tr>\n  </thead>\n  <tbody>\n    <tr>\n      <th>0</th>\n      <td>Sophia</td>\n      <td>F</td>\n      <td>21842</td>\n      <td>2011</td>\n    </tr>\n    <tr>\n      <th>1</th>\n      <td>Isabella</td>\n      <td>F</td>\n      <td>19910</td>\n      <td>2011</td>\n    </tr>\n    <tr>\n      <th>2</th>\n      <td>Emma</td>\n      <td>F</td>\n      <td>18803</td>\n      <td>2011</td>\n    </tr>\n    <tr>\n      <th>3</th>\n      <td>Olivia</td>\n      <td>F</td>\n      <td>17322</td>\n      <td>2011</td>\n    </tr>\n    <tr>\n      <th>4</th>\n      <td>Ava</td>\n      <td>F</td>\n      <td>15503</td>\n      <td>2011</td>\n    </tr>\n    <tr>\n      <th>...</th>\n      <td>...</td>\n      <td>...</td>\n      <td>...</td>\n      <td>...</td>\n    </tr>\n    <tr>\n      <th>33903</th>\n      <td>Zylar</td>\n      <td>M</td>\n      <td>5</td>\n      <td>2011</td>\n    </tr>\n    <tr>\n      <th>33904</th>\n      <td>Zylas</td>\n      <td>M</td>\n      <td>5</td>\n      <td>2011</td>\n    </tr>\n    <tr>\n      <th>33905</th>\n      <td>Zyran</td>\n      <td>M</td>\n      <td>5</td>\n      <td>2011</td>\n    </tr>\n    <tr>\n      <th>33906</th>\n      <td>Zyshawn</td>\n      <td>M</td>\n      <td>5</td>\n      <td>2011</td>\n    </tr>\n    <tr>\n      <th>33907</th>\n      <td>Zytavion</td>\n      <td>M</td>\n      <td>5</td>\n      <td>2011</td>\n    </tr>\n  </tbody>\n</table>\n<p>33908 rows × 4 columns</p>\n</div>"
     },
     "metadata": {},
     "execution_count": 12
    }
   ],
   "source": [
    "# lets add new column with YEAR\n",
    "pd.read_csv('names/yob2011.txt', names = ['name', 'sex', 'number']).assign(year=2011)"
   ]
  },
  {
   "cell_type": "code",
   "execution_count": 16,
   "metadata": {},
   "outputs": [],
   "source": [
    "allyears = pd.concat(pd.read_csv(f'names/yob{year}.txt', names = ['name', 'sex', 'number']).assign(year=year) for year in range(1880, 2019))"
   ]
  },
  {
   "cell_type": "code",
   "execution_count": 17,
   "metadata": {},
   "outputs": [
    {
     "output_type": "stream",
     "name": "stdout",
     "text": "<class 'pandas.core.frame.DataFrame'>\nInt64Index: 1957046 entries, 0 to 32032\nData columns (total 4 columns):\n #   Column  Dtype \n---  ------  ----- \n 0   name    object\n 1   sex     object\n 2   number  int64 \n 3   year    int64 \ndtypes: int64(2), object(2)\nmemory usage: 74.7+ MB\n"
    }
   ],
   "source": [
    "allyears.info()"
   ]
  },
  {
   "cell_type": "code",
   "execution_count": 18,
   "metadata": {},
   "outputs": [
    {
     "output_type": "execute_result",
     "data": {
      "text/plain": "(1880, 2018)"
     },
     "metadata": {},
     "execution_count": 18
    }
   ],
   "source": [
    "allyears.year.min(), allyears.year.max()"
   ]
  },
  {
   "cell_type": "code",
   "execution_count": 20,
   "metadata": {},
   "outputs": [],
   "source": [
    "allyears.to_csv('allyears.csv.gz', index=False) # w/gz it will be automatically compressed"
   ]
  },
  {
   "cell_type": "code",
   "execution_count": null,
   "metadata": {},
   "outputs": [],
   "source": []
  }
 ],
 "metadata": {
  "language_info": {
   "codemirror_mode": {
    "name": "ipython",
    "version": 3
   },
   "file_extension": ".py",
   "mimetype": "text/x-python",
   "name": "python",
   "nbconvert_exporter": "python",
   "pygments_lexer": "ipython3",
   "version": "3.8.3-final"
  },
  "orig_nbformat": 2,
  "kernelspec": {
   "name": "python38064bit80c712c42d0845a6a4b19289fbf7986e",
   "display_name": "Python 3.8.0 64-bit"
  }
 },
 "nbformat": 4,
 "nbformat_minor": 2
}