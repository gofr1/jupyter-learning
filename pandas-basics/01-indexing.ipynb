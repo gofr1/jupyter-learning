{
 "cells": [
  {
   "cell_type": "code",
   "execution_count": 33,
   "metadata": {},
   "outputs": [],
   "source": [
    "import math\n",
    "import collections\n",
    "\n",
    "import numpy as np \n",
    "import pandas as pd \n",
    "import matplotlib.pyplot as pp\n",
    "\n",
    "%matplotlib inline"
   ]
  },
  {
   "cell_type": "code",
   "execution_count": 34,
   "metadata": {},
   "outputs": [],
   "source": [
    "pd.options.display.max_rows =  20"
   ]
  },
  {
   "cell_type": "code",
   "execution_count": 35,
   "metadata": {},
   "outputs": [],
   "source": [
    "nobels = pd.read_csv('nobels.csv', names = ['year', 'discipline', 'nobelist'])"
   ]
  },
  {
   "cell_type": "code",
   "execution_count": 38,
   "metadata": {},
   "outputs": [
    {
     "output_type": "execute_result",
     "data": {
      "text/plain": "RangeIndex(start=0, stop=950, step=1)"
     },
     "metadata": {},
     "execution_count": 38
    }
   ],
   "source": [
    "nobels.index"
   ]
  },
  {
   "cell_type": "code",
   "execution_count": 39,
   "metadata": {},
   "outputs": [],
   "source": [
    "nobels_by_year = nobels.set_index('year')"
   ]
  },
  {
   "cell_type": "code",
   "execution_count": 40,
   "metadata": {},
   "outputs": [
    {
     "output_type": "execute_result",
     "data": {
      "text/plain": "      discipline                      nobelist\nyear                                          \n1901   Chemistry  Jacobus Henricus van 't Hoff\n1901  Literature               Sully Prudhomme\n1901    Medicine        Emil Adolf von Behring\n1901       Peace                Frédéric Passy\n1901       Peace                  Henry Dunant\n...          ...                           ...\n2019    Medicine            William Kaelin Jr.\n2019       Peace                    Abiy Ahmed\n2019     Physics                 Didier Queloz\n2019     Physics                 James Peebles\n2019     Physics                  Michel Mayor\n\n[950 rows x 2 columns]",
      "text/html": "<div>\n<style scoped>\n    .dataframe tbody tr th:only-of-type {\n        vertical-align: middle;\n    }\n\n    .dataframe tbody tr th {\n        vertical-align: top;\n    }\n\n    .dataframe thead th {\n        text-align: right;\n    }\n</style>\n<table border=\"1\" class=\"dataframe\">\n  <thead>\n    <tr style=\"text-align: right;\">\n      <th></th>\n      <th>discipline</th>\n      <th>nobelist</th>\n    </tr>\n    <tr>\n      <th>year</th>\n      <th></th>\n      <th></th>\n    </tr>\n  </thead>\n  <tbody>\n    <tr>\n      <th>1901</th>\n      <td>Chemistry</td>\n      <td>Jacobus Henricus van 't Hoff</td>\n    </tr>\n    <tr>\n      <th>1901</th>\n      <td>Literature</td>\n      <td>Sully Prudhomme</td>\n    </tr>\n    <tr>\n      <th>1901</th>\n      <td>Medicine</td>\n      <td>Emil Adolf von Behring</td>\n    </tr>\n    <tr>\n      <th>1901</th>\n      <td>Peace</td>\n      <td>Frédéric Passy</td>\n    </tr>\n    <tr>\n      <th>1901</th>\n      <td>Peace</td>\n      <td>Henry Dunant</td>\n    </tr>\n    <tr>\n      <th>...</th>\n      <td>...</td>\n      <td>...</td>\n    </tr>\n    <tr>\n      <th>2019</th>\n      <td>Medicine</td>\n      <td>William Kaelin Jr.</td>\n    </tr>\n    <tr>\n      <th>2019</th>\n      <td>Peace</td>\n      <td>Abiy Ahmed</td>\n    </tr>\n    <tr>\n      <th>2019</th>\n      <td>Physics</td>\n      <td>Didier Queloz</td>\n    </tr>\n    <tr>\n      <th>2019</th>\n      <td>Physics</td>\n      <td>James Peebles</td>\n    </tr>\n    <tr>\n      <th>2019</th>\n      <td>Physics</td>\n      <td>Michel Mayor</td>\n    </tr>\n  </tbody>\n</table>\n<p>950 rows × 2 columns</p>\n</div>"
     },
     "metadata": {},
     "execution_count": 40
    }
   ],
   "source": [
    "nobels_by_year"
   ]
  },
  {
   "cell_type": "code",
   "execution_count": 41,
   "metadata": {},
   "outputs": [
    {
     "output_type": "execute_result",
     "data": {
      "text/plain": "Int64Index([1901, 1901, 1901, 1901, 1901, 1901, 1902, 1902, 1902, 1902,\n            ...\n            2019, 2019, 2019, 2019, 2019, 2019, 2019, 2019, 2019, 2019],\n           dtype='int64', name='year', length=950)"
     },
     "metadata": {},
     "execution_count": 41
    }
   ],
   "source": [
    "nobels_by_year.index"
   ]
  },
  {
   "cell_type": "code",
   "execution_count": 42,
   "metadata": {},
   "outputs": [
    {
     "output_type": "execute_result",
     "data": {
      "text/plain": "      discipline                      nobelist\nyear                                          \n1901   Chemistry  Jacobus Henricus van 't Hoff\n1901  Literature               Sully Prudhomme\n1901    Medicine        Emil Adolf von Behring\n1901       Peace                Frédéric Passy\n1901       Peace                  Henry Dunant\n1901     Physics               Wilhelm Röntgen",
      "text/html": "<div>\n<style scoped>\n    .dataframe tbody tr th:only-of-type {\n        vertical-align: middle;\n    }\n\n    .dataframe tbody tr th {\n        vertical-align: top;\n    }\n\n    .dataframe thead th {\n        text-align: right;\n    }\n</style>\n<table border=\"1\" class=\"dataframe\">\n  <thead>\n    <tr style=\"text-align: right;\">\n      <th></th>\n      <th>discipline</th>\n      <th>nobelist</th>\n    </tr>\n    <tr>\n      <th>year</th>\n      <th></th>\n      <th></th>\n    </tr>\n  </thead>\n  <tbody>\n    <tr>\n      <th>1901</th>\n      <td>Chemistry</td>\n      <td>Jacobus Henricus van 't Hoff</td>\n    </tr>\n    <tr>\n      <th>1901</th>\n      <td>Literature</td>\n      <td>Sully Prudhomme</td>\n    </tr>\n    <tr>\n      <th>1901</th>\n      <td>Medicine</td>\n      <td>Emil Adolf von Behring</td>\n    </tr>\n    <tr>\n      <th>1901</th>\n      <td>Peace</td>\n      <td>Frédéric Passy</td>\n    </tr>\n    <tr>\n      <th>1901</th>\n      <td>Peace</td>\n      <td>Henry Dunant</td>\n    </tr>\n    <tr>\n      <th>1901</th>\n      <td>Physics</td>\n      <td>Wilhelm Röntgen</td>\n    </tr>\n  </tbody>\n</table>\n</div>"
     },
     "metadata": {},
     "execution_count": 42
    }
   ],
   "source": [
    "# to select by index\n",
    "nobels_by_year.loc[1901]"
   ]
  },
  {
   "cell_type": "code",
   "execution_count": 43,
   "metadata": {},
   "outputs": [
    {
     "output_type": "execute_result",
     "data": {
      "text/plain": "year\n1901    Jacobus Henricus van 't Hoff\n1901                 Sully Prudhomme\n1901          Emil Adolf von Behring\n1901                  Frédéric Passy\n1901                    Henry Dunant\n1901                 Wilhelm Röntgen\nName: nobelist, dtype: object"
     },
     "metadata": {},
     "execution_count": 43
    }
   ],
   "source": [
    "nobels_by_year.loc[1901, 'nobelist'] # the result is series if we define what columns to select"
   ]
  },
  {
   "cell_type": "code",
   "execution_count": 44,
   "metadata": {},
   "outputs": [
    {
     "output_type": "execute_result",
     "data": {
      "text/plain": "      discipline                                  nobelist\nyear                                                      \n1914   Chemistry                 Theodore William Richards\n1914    Medicine                             Robert Bárány\n1914     Physics                              Max von Laue\n1915   Chemistry                       Richard Willstätter\n1915  Literature                            Romain Rolland\n1915     Physics                       William Henry Bragg\n1915     Physics                    William Lawrence Bragg\n1916  Literature                     Verner von Heidenstam\n1917  Literature                        Henrik Pontoppidan\n1917  Literature                     Karl Adolph Gjellerup\n1917       Peace  International Committee of the Red Cross\n1917     Physics                     Charles Glover Barkla\n1918   Chemistry                               Fritz Haber\n1918     Physics                                Max Planck",
      "text/html": "<div>\n<style scoped>\n    .dataframe tbody tr th:only-of-type {\n        vertical-align: middle;\n    }\n\n    .dataframe tbody tr th {\n        vertical-align: top;\n    }\n\n    .dataframe thead th {\n        text-align: right;\n    }\n</style>\n<table border=\"1\" class=\"dataframe\">\n  <thead>\n    <tr style=\"text-align: right;\">\n      <th></th>\n      <th>discipline</th>\n      <th>nobelist</th>\n    </tr>\n    <tr>\n      <th>year</th>\n      <th></th>\n      <th></th>\n    </tr>\n  </thead>\n  <tbody>\n    <tr>\n      <th>1914</th>\n      <td>Chemistry</td>\n      <td>Theodore William Richards</td>\n    </tr>\n    <tr>\n      <th>1914</th>\n      <td>Medicine</td>\n      <td>Robert Bárány</td>\n    </tr>\n    <tr>\n      <th>1914</th>\n      <td>Physics</td>\n      <td>Max von Laue</td>\n    </tr>\n    <tr>\n      <th>1915</th>\n      <td>Chemistry</td>\n      <td>Richard Willstätter</td>\n    </tr>\n    <tr>\n      <th>1915</th>\n      <td>Literature</td>\n      <td>Romain Rolland</td>\n    </tr>\n    <tr>\n      <th>1915</th>\n      <td>Physics</td>\n      <td>William Henry Bragg</td>\n    </tr>\n    <tr>\n      <th>1915</th>\n      <td>Physics</td>\n      <td>William Lawrence Bragg</td>\n    </tr>\n    <tr>\n      <th>1916</th>\n      <td>Literature</td>\n      <td>Verner von Heidenstam</td>\n    </tr>\n    <tr>\n      <th>1917</th>\n      <td>Literature</td>\n      <td>Henrik Pontoppidan</td>\n    </tr>\n    <tr>\n      <th>1917</th>\n      <td>Literature</td>\n      <td>Karl Adolph Gjellerup</td>\n    </tr>\n    <tr>\n      <th>1917</th>\n      <td>Peace</td>\n      <td>International Committee of the Red Cross</td>\n    </tr>\n    <tr>\n      <th>1917</th>\n      <td>Physics</td>\n      <td>Charles Glover Barkla</td>\n    </tr>\n    <tr>\n      <th>1918</th>\n      <td>Chemistry</td>\n      <td>Fritz Haber</td>\n    </tr>\n    <tr>\n      <th>1918</th>\n      <td>Physics</td>\n      <td>Max Planck</td>\n    </tr>\n  </tbody>\n</table>\n</div>"
     },
     "metadata": {},
     "execution_count": 44
    }
   ],
   "source": [
    "nobels_by_year.loc[1914:1918] # range is inclusive"
   ]
  },
  {
   "cell_type": "code",
   "execution_count": 45,
   "metadata": {},
   "outputs": [],
   "source": [
    "# better have an index sorted\n",
    "nobels_by_discipline = nobels.set_index('discipline').sort_index()"
   ]
  },
  {
   "cell_type": "code",
   "execution_count": 46,
   "metadata": {},
   "outputs": [
    {
     "output_type": "execute_result",
     "data": {
      "text/plain": "            year                      nobelist\ndiscipline                                    \nChemistry   1901  Jacobus Henricus van 't Hoff\nChemistry   1988                  Robert Huber\nChemistry   1932               Irving Langmuir\nChemistry   1988            Johann Deisenhofer\nChemistry   1988                Hartmut Michel",
      "text/html": "<div>\n<style scoped>\n    .dataframe tbody tr th:only-of-type {\n        vertical-align: middle;\n    }\n\n    .dataframe tbody tr th {\n        vertical-align: top;\n    }\n\n    .dataframe thead th {\n        text-align: right;\n    }\n</style>\n<table border=\"1\" class=\"dataframe\">\n  <thead>\n    <tr style=\"text-align: right;\">\n      <th></th>\n      <th>year</th>\n      <th>nobelist</th>\n    </tr>\n    <tr>\n      <th>discipline</th>\n      <th></th>\n      <th></th>\n    </tr>\n  </thead>\n  <tbody>\n    <tr>\n      <th>Chemistry</th>\n      <td>1901</td>\n      <td>Jacobus Henricus van 't Hoff</td>\n    </tr>\n    <tr>\n      <th>Chemistry</th>\n      <td>1988</td>\n      <td>Robert Huber</td>\n    </tr>\n    <tr>\n      <th>Chemistry</th>\n      <td>1932</td>\n      <td>Irving Langmuir</td>\n    </tr>\n    <tr>\n      <th>Chemistry</th>\n      <td>1988</td>\n      <td>Johann Deisenhofer</td>\n    </tr>\n    <tr>\n      <th>Chemistry</th>\n      <td>1988</td>\n      <td>Hartmut Michel</td>\n    </tr>\n  </tbody>\n</table>\n</div>"
     },
     "metadata": {},
     "execution_count": 46
    }
   ],
   "source": [
    "nobels_by_discipline.head()"
   ]
  },
  {
   "cell_type": "code",
   "execution_count": 47,
   "metadata": {},
   "outputs": [
    {
     "output_type": "execute_result",
     "data": {
      "text/plain": "            year            nobelist\ndiscipline                          \nPhysics     1999     Gerard 't Hooft\nPhysics     1922          Niels Bohr\nPhysics     1998  Robert B. Laughlin\nPhysics     1921     Albert Einstein\nPhysics     2019        Michel Mayor",
      "text/html": "<div>\n<style scoped>\n    .dataframe tbody tr th:only-of-type {\n        vertical-align: middle;\n    }\n\n    .dataframe tbody tr th {\n        vertical-align: top;\n    }\n\n    .dataframe thead th {\n        text-align: right;\n    }\n</style>\n<table border=\"1\" class=\"dataframe\">\n  <thead>\n    <tr style=\"text-align: right;\">\n      <th></th>\n      <th>year</th>\n      <th>nobelist</th>\n    </tr>\n    <tr>\n      <th>discipline</th>\n      <th></th>\n      <th></th>\n    </tr>\n  </thead>\n  <tbody>\n    <tr>\n      <th>Physics</th>\n      <td>1999</td>\n      <td>Gerard 't Hooft</td>\n    </tr>\n    <tr>\n      <th>Physics</th>\n      <td>1922</td>\n      <td>Niels Bohr</td>\n    </tr>\n    <tr>\n      <th>Physics</th>\n      <td>1998</td>\n      <td>Robert B. Laughlin</td>\n    </tr>\n    <tr>\n      <th>Physics</th>\n      <td>1921</td>\n      <td>Albert Einstein</td>\n    </tr>\n    <tr>\n      <th>Physics</th>\n      <td>2019</td>\n      <td>Michel Mayor</td>\n    </tr>\n  </tbody>\n</table>\n</div>"
     },
     "metadata": {},
     "execution_count": 47
    }
   ],
   "source": [
    "nobels_by_discipline.tail()"
   ]
  },
  {
   "cell_type": "code",
   "execution_count": 48,
   "metadata": {},
   "outputs": [
    {
     "output_type": "execute_result",
     "data": {
      "text/plain": "            year            nobelist\ndiscipline                          \nPhysics     1951       Ernest Walton\nPhysics     2018       Arthur Ashkin\nPhysics     1957      Chen Ning Yang\nPhysics     1906       J. J. Thomson\nPhysics     1953       Frits Zernike\n...          ...                 ...\nPhysics     1999     Gerard 't Hooft\nPhysics     1922          Niels Bohr\nPhysics     1998  Robert B. Laughlin\nPhysics     1921     Albert Einstein\nPhysics     2019        Michel Mayor\n\n[213 rows x 2 columns]",
      "text/html": "<div>\n<style scoped>\n    .dataframe tbody tr th:only-of-type {\n        vertical-align: middle;\n    }\n\n    .dataframe tbody tr th {\n        vertical-align: top;\n    }\n\n    .dataframe thead th {\n        text-align: right;\n    }\n</style>\n<table border=\"1\" class=\"dataframe\">\n  <thead>\n    <tr style=\"text-align: right;\">\n      <th></th>\n      <th>year</th>\n      <th>nobelist</th>\n    </tr>\n    <tr>\n      <th>discipline</th>\n      <th></th>\n      <th></th>\n    </tr>\n  </thead>\n  <tbody>\n    <tr>\n      <th>Physics</th>\n      <td>1951</td>\n      <td>Ernest Walton</td>\n    </tr>\n    <tr>\n      <th>Physics</th>\n      <td>2018</td>\n      <td>Arthur Ashkin</td>\n    </tr>\n    <tr>\n      <th>Physics</th>\n      <td>1957</td>\n      <td>Chen Ning Yang</td>\n    </tr>\n    <tr>\n      <th>Physics</th>\n      <td>1906</td>\n      <td>J. J. Thomson</td>\n    </tr>\n    <tr>\n      <th>Physics</th>\n      <td>1953</td>\n      <td>Frits Zernike</td>\n    </tr>\n    <tr>\n      <th>...</th>\n      <td>...</td>\n      <td>...</td>\n    </tr>\n    <tr>\n      <th>Physics</th>\n      <td>1999</td>\n      <td>Gerard 't Hooft</td>\n    </tr>\n    <tr>\n      <th>Physics</th>\n      <td>1922</td>\n      <td>Niels Bohr</td>\n    </tr>\n    <tr>\n      <th>Physics</th>\n      <td>1998</td>\n      <td>Robert B. Laughlin</td>\n    </tr>\n    <tr>\n      <th>Physics</th>\n      <td>1921</td>\n      <td>Albert Einstein</td>\n    </tr>\n    <tr>\n      <th>Physics</th>\n      <td>2019</td>\n      <td>Michel Mayor</td>\n    </tr>\n  </tbody>\n</table>\n<p>213 rows × 2 columns</p>\n</div>"
     },
     "metadata": {},
     "execution_count": 48
    }
   ],
   "source": [
    "nobels_by_discipline.loc['Physics']"
   ]
  },
  {
   "cell_type": "code",
   "execution_count": 49,
   "metadata": {},
   "outputs": [
    {
     "output_type": "execute_result",
     "data": {
      "text/plain": "            year                                          nobelist\ndiscipline                                                        \nMedicine    1995                       Christiane Nüsslein-Volhard\nMedicine    1993                               Phillip Allen Sharp\nMedicine    1927                             Julius Wagner-Jauregg\nMedicine    1994                                  Alfred G. Gilman\nMedicine    1993                                Richard J. Roberts\n...          ...                                               ...\nPeace       1973                                   Henry Kissinger\nPeace       1995  Pugwash Conferences on Science and World Affairs\nPeace       1911                              Alfred Hermann Fried\nPeace       1973                                        Le Duc Tho\nPeace       1974                                     Seán MacBride\n\n[353 rows x 2 columns]",
      "text/html": "<div>\n<style scoped>\n    .dataframe tbody tr th:only-of-type {\n        vertical-align: middle;\n    }\n\n    .dataframe tbody tr th {\n        vertical-align: top;\n    }\n\n    .dataframe thead th {\n        text-align: right;\n    }\n</style>\n<table border=\"1\" class=\"dataframe\">\n  <thead>\n    <tr style=\"text-align: right;\">\n      <th></th>\n      <th>year</th>\n      <th>nobelist</th>\n    </tr>\n    <tr>\n      <th>discipline</th>\n      <th></th>\n      <th></th>\n    </tr>\n  </thead>\n  <tbody>\n    <tr>\n      <th>Medicine</th>\n      <td>1995</td>\n      <td>Christiane Nüsslein-Volhard</td>\n    </tr>\n    <tr>\n      <th>Medicine</th>\n      <td>1993</td>\n      <td>Phillip Allen Sharp</td>\n    </tr>\n    <tr>\n      <th>Medicine</th>\n      <td>1927</td>\n      <td>Julius Wagner-Jauregg</td>\n    </tr>\n    <tr>\n      <th>Medicine</th>\n      <td>1994</td>\n      <td>Alfred G. Gilman</td>\n    </tr>\n    <tr>\n      <th>Medicine</th>\n      <td>1993</td>\n      <td>Richard J. Roberts</td>\n    </tr>\n    <tr>\n      <th>...</th>\n      <td>...</td>\n      <td>...</td>\n    </tr>\n    <tr>\n      <th>Peace</th>\n      <td>1973</td>\n      <td>Henry Kissinger</td>\n    </tr>\n    <tr>\n      <th>Peace</th>\n      <td>1995</td>\n      <td>Pugwash Conferences on Science and World Affairs</td>\n    </tr>\n    <tr>\n      <th>Peace</th>\n      <td>1911</td>\n      <td>Alfred Hermann Fried</td>\n    </tr>\n    <tr>\n      <th>Peace</th>\n      <td>1973</td>\n      <td>Le Duc Tho</td>\n    </tr>\n    <tr>\n      <th>Peace</th>\n      <td>1974</td>\n      <td>Seán MacBride</td>\n    </tr>\n  </tbody>\n</table>\n<p>353 rows × 2 columns</p>\n</div>"
     },
     "metadata": {},
     "execution_count": 49
    }
   ],
   "source": [
    "nobels_by_discipline.loc['Medicine':'Peace']"
   ]
  },
  {
   "cell_type": "code",
   "execution_count": 52,
   "metadata": {},
   "outputs": [
    {
     "output_type": "execute_result",
     "data": {
      "text/plain": "            year                      nobelist\ndiscipline                                    \nChemistry   1901  Jacobus Henricus van 't Hoff\nChemistry   1988                  Robert Huber\nChemistry   1932               Irving Langmuir\nChemistry   1988            Johann Deisenhofer\nChemistry   1988                Hartmut Michel\nChemistry   1987               Jean-Marie Lehn\nChemistry   1987                Donald J. Cram\nChemistry   1987           Charles J. Pedersen\nChemistry   1986                   Yuan T. Lee\nChemistry   1986                  John Polanyi",
      "text/html": "<div>\n<style scoped>\n    .dataframe tbody tr th:only-of-type {\n        vertical-align: middle;\n    }\n\n    .dataframe tbody tr th {\n        vertical-align: top;\n    }\n\n    .dataframe thead th {\n        text-align: right;\n    }\n</style>\n<table border=\"1\" class=\"dataframe\">\n  <thead>\n    <tr style=\"text-align: right;\">\n      <th></th>\n      <th>year</th>\n      <th>nobelist</th>\n    </tr>\n    <tr>\n      <th>discipline</th>\n      <th></th>\n      <th></th>\n    </tr>\n  </thead>\n  <tbody>\n    <tr>\n      <th>Chemistry</th>\n      <td>1901</td>\n      <td>Jacobus Henricus van 't Hoff</td>\n    </tr>\n    <tr>\n      <th>Chemistry</th>\n      <td>1988</td>\n      <td>Robert Huber</td>\n    </tr>\n    <tr>\n      <th>Chemistry</th>\n      <td>1932</td>\n      <td>Irving Langmuir</td>\n    </tr>\n    <tr>\n      <th>Chemistry</th>\n      <td>1988</td>\n      <td>Johann Deisenhofer</td>\n    </tr>\n    <tr>\n      <th>Chemistry</th>\n      <td>1988</td>\n      <td>Hartmut Michel</td>\n    </tr>\n    <tr>\n      <th>Chemistry</th>\n      <td>1987</td>\n      <td>Jean-Marie Lehn</td>\n    </tr>\n    <tr>\n      <th>Chemistry</th>\n      <td>1987</td>\n      <td>Donald J. Cram</td>\n    </tr>\n    <tr>\n      <th>Chemistry</th>\n      <td>1987</td>\n      <td>Charles J. Pedersen</td>\n    </tr>\n    <tr>\n      <th>Chemistry</th>\n      <td>1986</td>\n      <td>Yuan T. Lee</td>\n    </tr>\n    <tr>\n      <th>Chemistry</th>\n      <td>1986</td>\n      <td>John Polanyi</td>\n    </tr>\n  </tbody>\n</table>\n</div>"
     },
     "metadata": {},
     "execution_count": 52
    }
   ],
   "source": [
    "nobels_by_discipline.iloc[:10]"
   ]
  },
  {
   "cell_type": "code",
   "execution_count": 53,
   "metadata": {},
   "outputs": [
    {
     "output_type": "execute_result",
     "data": {
      "text/plain": "      discipline                      nobelist\nyear                                          \n1901   Chemistry  Jacobus Henricus van 't Hoff\n1901  Literature               Sully Prudhomme\n1901    Medicine        Emil Adolf von Behring\n1901       Peace                Frédéric Passy\n1901       Peace                  Henry Dunant\n1901     Physics               Wilhelm Röntgen\n1902   Chemistry          Hermann Emil Fischer\n1902  Literature               Theodor Mommsen\n1902    Medicine                   Ronald Ross\n1902       Peace          Charles Albert Gobat",
      "text/html": "<div>\n<style scoped>\n    .dataframe tbody tr th:only-of-type {\n        vertical-align: middle;\n    }\n\n    .dataframe tbody tr th {\n        vertical-align: top;\n    }\n\n    .dataframe thead th {\n        text-align: right;\n    }\n</style>\n<table border=\"1\" class=\"dataframe\">\n  <thead>\n    <tr style=\"text-align: right;\">\n      <th></th>\n      <th>discipline</th>\n      <th>nobelist</th>\n    </tr>\n    <tr>\n      <th>year</th>\n      <th></th>\n      <th></th>\n    </tr>\n  </thead>\n  <tbody>\n    <tr>\n      <th>1901</th>\n      <td>Chemistry</td>\n      <td>Jacobus Henricus van 't Hoff</td>\n    </tr>\n    <tr>\n      <th>1901</th>\n      <td>Literature</td>\n      <td>Sully Prudhomme</td>\n    </tr>\n    <tr>\n      <th>1901</th>\n      <td>Medicine</td>\n      <td>Emil Adolf von Behring</td>\n    </tr>\n    <tr>\n      <th>1901</th>\n      <td>Peace</td>\n      <td>Frédéric Passy</td>\n    </tr>\n    <tr>\n      <th>1901</th>\n      <td>Peace</td>\n      <td>Henry Dunant</td>\n    </tr>\n    <tr>\n      <th>1901</th>\n      <td>Physics</td>\n      <td>Wilhelm Röntgen</td>\n    </tr>\n    <tr>\n      <th>1902</th>\n      <td>Chemistry</td>\n      <td>Hermann Emil Fischer</td>\n    </tr>\n    <tr>\n      <th>1902</th>\n      <td>Literature</td>\n      <td>Theodor Mommsen</td>\n    </tr>\n    <tr>\n      <th>1902</th>\n      <td>Medicine</td>\n      <td>Ronald Ross</td>\n    </tr>\n    <tr>\n      <th>1902</th>\n      <td>Peace</td>\n      <td>Charles Albert Gobat</td>\n    </tr>\n  </tbody>\n</table>\n</div>"
     },
     "metadata": {},
     "execution_count": 53
    }
   ],
   "source": [
    "nobels_by_year.iloc[0:10]"
   ]
  },
  {
   "cell_type": "code",
   "execution_count": 54,
   "metadata": {},
   "outputs": [],
   "source": [
    "# multi indicing\n",
    "nobels_multi = nobels.set_index(['year', 'discipline'])"
   ]
  },
  {
   "cell_type": "code",
   "execution_count": 55,
   "metadata": {},
   "outputs": [
    {
     "output_type": "execute_result",
     "data": {
      "text/plain": "                                     nobelist\nyear discipline                              \n1901 Chemistry   Jacobus Henricus van 't Hoff\n     Literature               Sully Prudhomme\n     Medicine          Emil Adolf von Behring\n     Peace                     Frédéric Passy\n     Peace                       Henry Dunant\n...                                       ...\n2019 Medicine              William Kaelin Jr.\n     Peace                         Abiy Ahmed\n     Physics                    Didier Queloz\n     Physics                    James Peebles\n     Physics                     Michel Mayor\n\n[950 rows x 1 columns]",
      "text/html": "<div>\n<style scoped>\n    .dataframe tbody tr th:only-of-type {\n        vertical-align: middle;\n    }\n\n    .dataframe tbody tr th {\n        vertical-align: top;\n    }\n\n    .dataframe thead th {\n        text-align: right;\n    }\n</style>\n<table border=\"1\" class=\"dataframe\">\n  <thead>\n    <tr style=\"text-align: right;\">\n      <th></th>\n      <th></th>\n      <th>nobelist</th>\n    </tr>\n    <tr>\n      <th>year</th>\n      <th>discipline</th>\n      <th></th>\n    </tr>\n  </thead>\n  <tbody>\n    <tr>\n      <th rowspan=\"5\" valign=\"top\">1901</th>\n      <th>Chemistry</th>\n      <td>Jacobus Henricus van 't Hoff</td>\n    </tr>\n    <tr>\n      <th>Literature</th>\n      <td>Sully Prudhomme</td>\n    </tr>\n    <tr>\n      <th>Medicine</th>\n      <td>Emil Adolf von Behring</td>\n    </tr>\n    <tr>\n      <th>Peace</th>\n      <td>Frédéric Passy</td>\n    </tr>\n    <tr>\n      <th>Peace</th>\n      <td>Henry Dunant</td>\n    </tr>\n    <tr>\n      <th>...</th>\n      <th>...</th>\n      <td>...</td>\n    </tr>\n    <tr>\n      <th rowspan=\"5\" valign=\"top\">2019</th>\n      <th>Medicine</th>\n      <td>William Kaelin Jr.</td>\n    </tr>\n    <tr>\n      <th>Peace</th>\n      <td>Abiy Ahmed</td>\n    </tr>\n    <tr>\n      <th>Physics</th>\n      <td>Didier Queloz</td>\n    </tr>\n    <tr>\n      <th>Physics</th>\n      <td>James Peebles</td>\n    </tr>\n    <tr>\n      <th>Physics</th>\n      <td>Michel Mayor</td>\n    </tr>\n  </tbody>\n</table>\n<p>950 rows × 1 columns</p>\n</div>"
     },
     "metadata": {},
     "execution_count": 55
    }
   ],
   "source": [
    "nobels_multi"
   ]
  },
  {
   "cell_type": "code",
   "execution_count": 56,
   "metadata": {},
   "outputs": [
    {
     "output_type": "execute_result",
     "data": {
      "text/plain": "MultiIndex([(1901,  'Chemistry'),\n            (1901, 'Literature'),\n            (1901,   'Medicine'),\n            (1901,      'Peace'),\n            (1901,      'Peace'),\n            (1901,    'Physics'),\n            (1902,  'Chemistry'),\n            (1902, 'Literature'),\n            (1902,   'Medicine'),\n            (1902,      'Peace'),\n            ...\n            (2019,  'Economics'),\n            (2019,  'Economics'),\n            (2019, 'Literature'),\n            (2019,   'Medicine'),\n            (2019,   'Medicine'),\n            (2019,   'Medicine'),\n            (2019,      'Peace'),\n            (2019,    'Physics'),\n            (2019,    'Physics'),\n            (2019,    'Physics')],\n           names=['year', 'discipline'], length=950)"
     },
     "metadata": {},
     "execution_count": 56
    }
   ],
   "source": [
    "nobels_multi.index"
   ]
  },
  {
   "cell_type": "code",
   "execution_count": 57,
   "metadata": {},
   "outputs": [
    {
     "output_type": "execute_result",
     "data": {
      "text/plain": "Int64Index([1901, 1901, 1901, 1901, 1901, 1901, 1902, 1902, 1902, 1902,\n            ...\n            2019, 2019, 2019, 2019, 2019, 2019, 2019, 2019, 2019, 2019],\n           dtype='int64', name='year', length=950)"
     },
     "metadata": {},
     "execution_count": 57
    }
   ],
   "source": [
    "nobels_multi.index.get_level_values(0)"
   ]
  },
  {
   "cell_type": "code",
   "execution_count": 58,
   "metadata": {},
   "outputs": [
    {
     "output_type": "execute_result",
     "data": {
      "text/plain": "Index(['Chemistry', 'Literature', 'Medicine', 'Peace', 'Peace', 'Physics',\n       'Chemistry', 'Literature', 'Medicine', 'Peace',\n       ...\n       'Economics', 'Economics', 'Literature', 'Medicine', 'Medicine',\n       'Medicine', 'Peace', 'Physics', 'Physics', 'Physics'],\n      dtype='object', name='discipline', length=950)"
     },
     "metadata": {},
     "execution_count": 58
    }
   ],
   "source": [
    "nobels_multi.index.get_level_values(1)"
   ]
  },
  {
   "cell_type": "code",
   "execution_count": 59,
   "metadata": {},
   "outputs": [
    {
     "output_type": "execute_result",
     "data": {
      "text/plain": "                     nobelist\nyear discipline              \n2017 Physics     Barry Barish\n     Physics       Kip Thorne\n     Physics     Rainer Weiss",
      "text/html": "<div>\n<style scoped>\n    .dataframe tbody tr th:only-of-type {\n        vertical-align: middle;\n    }\n\n    .dataframe tbody tr th {\n        vertical-align: top;\n    }\n\n    .dataframe thead th {\n        text-align: right;\n    }\n</style>\n<table border=\"1\" class=\"dataframe\">\n  <thead>\n    <tr style=\"text-align: right;\">\n      <th></th>\n      <th></th>\n      <th>nobelist</th>\n    </tr>\n    <tr>\n      <th>year</th>\n      <th>discipline</th>\n      <th></th>\n    </tr>\n  </thead>\n  <tbody>\n    <tr>\n      <th rowspan=\"3\" valign=\"top\">2017</th>\n      <th>Physics</th>\n      <td>Barry Barish</td>\n    </tr>\n    <tr>\n      <th>Physics</th>\n      <td>Kip Thorne</td>\n    </tr>\n    <tr>\n      <th>Physics</th>\n      <td>Rainer Weiss</td>\n    </tr>\n  </tbody>\n</table>\n</div>"
     },
     "metadata": {},
     "execution_count": 59
    }
   ],
   "source": [
    "nobels_multi.loc[(2017, 'Physics')]"
   ]
  },
  {
   "cell_type": "code",
   "execution_count": 60,
   "metadata": {},
   "outputs": [
    {
     "output_type": "execute_result",
     "data": {
      "text/plain": "                                     nobelist\nyear discipline                              \n1901 Chemistry   Jacobus Henricus van 't Hoff\n1902 Chemistry           Hermann Emil Fischer\n1903 Chemistry               Svante Arrhenius\n1904 Chemistry                 William Ramsay\n1905 Chemistry               Adolf von Baeyer\n1906 Chemistry                  Henri Moissan\n1907 Chemistry                 Eduard Buchner\n1908 Chemistry              Ernest Rutherford\n1909 Chemistry                Wilhelm Ostwald\n1910 Chemistry                   Otto Wallach",
      "text/html": "<div>\n<style scoped>\n    .dataframe tbody tr th:only-of-type {\n        vertical-align: middle;\n    }\n\n    .dataframe tbody tr th {\n        vertical-align: top;\n    }\n\n    .dataframe thead th {\n        text-align: right;\n    }\n</style>\n<table border=\"1\" class=\"dataframe\">\n  <thead>\n    <tr style=\"text-align: right;\">\n      <th></th>\n      <th></th>\n      <th>nobelist</th>\n    </tr>\n    <tr>\n      <th>year</th>\n      <th>discipline</th>\n      <th></th>\n    </tr>\n  </thead>\n  <tbody>\n    <tr>\n      <th>1901</th>\n      <th>Chemistry</th>\n      <td>Jacobus Henricus van 't Hoff</td>\n    </tr>\n    <tr>\n      <th>1902</th>\n      <th>Chemistry</th>\n      <td>Hermann Emil Fischer</td>\n    </tr>\n    <tr>\n      <th>1903</th>\n      <th>Chemistry</th>\n      <td>Svante Arrhenius</td>\n    </tr>\n    <tr>\n      <th>1904</th>\n      <th>Chemistry</th>\n      <td>William Ramsay</td>\n    </tr>\n    <tr>\n      <th>1905</th>\n      <th>Chemistry</th>\n      <td>Adolf von Baeyer</td>\n    </tr>\n    <tr>\n      <th>1906</th>\n      <th>Chemistry</th>\n      <td>Henri Moissan</td>\n    </tr>\n    <tr>\n      <th>1907</th>\n      <th>Chemistry</th>\n      <td>Eduard Buchner</td>\n    </tr>\n    <tr>\n      <th>1908</th>\n      <th>Chemistry</th>\n      <td>Ernest Rutherford</td>\n    </tr>\n    <tr>\n      <th>1909</th>\n      <th>Chemistry</th>\n      <td>Wilhelm Ostwald</td>\n    </tr>\n    <tr>\n      <th>1910</th>\n      <th>Chemistry</th>\n      <td>Otto Wallach</td>\n    </tr>\n  </tbody>\n</table>\n</div>"
     },
     "metadata": {},
     "execution_count": 60
    }
   ],
   "source": [
    "# if we need to get some slices\n",
    "nobels_multi.loc[(slice(1901,1910), 'Chemistry'), :]"
   ]
  },
  {
   "cell_type": "code",
   "execution_count": 61,
   "metadata": {},
   "outputs": [
    {
     "output_type": "execute_result",
     "data": {
      "text/plain": "                                     nobelist\nyear discipline                              \n1901 Chemistry   Jacobus Henricus van 't Hoff\n     Physics                  Wilhelm Röntgen\n1902 Chemistry           Hermann Emil Fischer\n     Physics                  Hendrik Lorentz\n     Physics                    Pieter Zeeman\n...                                       ...\n2019 Chemistry             John B. Goodenough\n     Chemistry         M. Stanley Whittingham\n     Physics                    Didier Queloz\n     Physics                    James Peebles\n     Physics                     Michel Mayor\n\n[397 rows x 1 columns]",
      "text/html": "<div>\n<style scoped>\n    .dataframe tbody tr th:only-of-type {\n        vertical-align: middle;\n    }\n\n    .dataframe tbody tr th {\n        vertical-align: top;\n    }\n\n    .dataframe thead th {\n        text-align: right;\n    }\n</style>\n<table border=\"1\" class=\"dataframe\">\n  <thead>\n    <tr style=\"text-align: right;\">\n      <th></th>\n      <th></th>\n      <th>nobelist</th>\n    </tr>\n    <tr>\n      <th>year</th>\n      <th>discipline</th>\n      <th></th>\n    </tr>\n  </thead>\n  <tbody>\n    <tr>\n      <th rowspan=\"2\" valign=\"top\">1901</th>\n      <th>Chemistry</th>\n      <td>Jacobus Henricus van 't Hoff</td>\n    </tr>\n    <tr>\n      <th>Physics</th>\n      <td>Wilhelm Röntgen</td>\n    </tr>\n    <tr>\n      <th rowspan=\"3\" valign=\"top\">1902</th>\n      <th>Chemistry</th>\n      <td>Hermann Emil Fischer</td>\n    </tr>\n    <tr>\n      <th>Physics</th>\n      <td>Hendrik Lorentz</td>\n    </tr>\n    <tr>\n      <th>Physics</th>\n      <td>Pieter Zeeman</td>\n    </tr>\n    <tr>\n      <th>...</th>\n      <th>...</th>\n      <td>...</td>\n    </tr>\n    <tr>\n      <th rowspan=\"5\" valign=\"top\">2019</th>\n      <th>Chemistry</th>\n      <td>John B. Goodenough</td>\n    </tr>\n    <tr>\n      <th>Chemistry</th>\n      <td>M. Stanley Whittingham</td>\n    </tr>\n    <tr>\n      <th>Physics</th>\n      <td>Didier Queloz</td>\n    </tr>\n    <tr>\n      <th>Physics</th>\n      <td>James Peebles</td>\n    </tr>\n    <tr>\n      <th>Physics</th>\n      <td>Michel Mayor</td>\n    </tr>\n  </tbody>\n</table>\n<p>397 rows × 1 columns</p>\n</div>"
     },
     "metadata": {},
     "execution_count": 61
    }
   ],
   "source": [
    "nobels_multi.loc[(slice(None), ['Chemistry','Physics']), :]"
   ]
  },
  {
   "cell_type": "code",
   "execution_count": 65,
   "metadata": {},
   "outputs": [
    {
     "output_type": "execute_result",
     "data": {
      "text/plain": "    year discipline                      nobelist\n0   1901  Chemistry  Jacobus Henricus van 't Hoff\n6   1902  Chemistry          Hermann Emil Fischer\n13  1903  Chemistry              Svante Arrhenius\n20  1904  Chemistry                William Ramsay\n26  1905  Chemistry              Adolf von Baeyer\n31  1906  Chemistry                 Henri Moissan\n37  1907  Chemistry                Eduard Buchner\n43  1908  Chemistry             Ernest Rutherford\n50  1909  Chemistry               Wilhelm Ostwald\n57  1910  Chemistry                  Otto Wallach",
      "text/html": "<div>\n<style scoped>\n    .dataframe tbody tr th:only-of-type {\n        vertical-align: middle;\n    }\n\n    .dataframe tbody tr th {\n        vertical-align: top;\n    }\n\n    .dataframe thead th {\n        text-align: right;\n    }\n</style>\n<table border=\"1\" class=\"dataframe\">\n  <thead>\n    <tr style=\"text-align: right;\">\n      <th></th>\n      <th>year</th>\n      <th>discipline</th>\n      <th>nobelist</th>\n    </tr>\n  </thead>\n  <tbody>\n    <tr>\n      <th>0</th>\n      <td>1901</td>\n      <td>Chemistry</td>\n      <td>Jacobus Henricus van 't Hoff</td>\n    </tr>\n    <tr>\n      <th>6</th>\n      <td>1902</td>\n      <td>Chemistry</td>\n      <td>Hermann Emil Fischer</td>\n    </tr>\n    <tr>\n      <th>13</th>\n      <td>1903</td>\n      <td>Chemistry</td>\n      <td>Svante Arrhenius</td>\n    </tr>\n    <tr>\n      <th>20</th>\n      <td>1904</td>\n      <td>Chemistry</td>\n      <td>William Ramsay</td>\n    </tr>\n    <tr>\n      <th>26</th>\n      <td>1905</td>\n      <td>Chemistry</td>\n      <td>Adolf von Baeyer</td>\n    </tr>\n    <tr>\n      <th>31</th>\n      <td>1906</td>\n      <td>Chemistry</td>\n      <td>Henri Moissan</td>\n    </tr>\n    <tr>\n      <th>37</th>\n      <td>1907</td>\n      <td>Chemistry</td>\n      <td>Eduard Buchner</td>\n    </tr>\n    <tr>\n      <th>43</th>\n      <td>1908</td>\n      <td>Chemistry</td>\n      <td>Ernest Rutherford</td>\n    </tr>\n    <tr>\n      <th>50</th>\n      <td>1909</td>\n      <td>Chemistry</td>\n      <td>Wilhelm Ostwald</td>\n    </tr>\n    <tr>\n      <th>57</th>\n      <td>1910</td>\n      <td>Chemistry</td>\n      <td>Otto Wallach</td>\n    </tr>\n  </tbody>\n</table>\n</div>"
     },
     "metadata": {},
     "execution_count": 65
    }
   ],
   "source": [
    "# instaed multi-idicing you can use simple queries\n",
    "nobels[(nobels.year >= 1901) & (nobels.year <= 1910) & (nobels.discipline == 'Chemistry')]"
   ]
  },
  {
   "cell_type": "code",
   "execution_count": 66,
   "metadata": {},
   "outputs": [
    {
     "output_type": "execute_result",
     "data": {
      "text/plain": "    year discipline                      nobelist\n0   1901  Chemistry  Jacobus Henricus van 't Hoff\n6   1902  Chemistry          Hermann Emil Fischer\n13  1903  Chemistry              Svante Arrhenius\n20  1904  Chemistry                William Ramsay\n26  1905  Chemistry              Adolf von Baeyer\n31  1906  Chemistry                 Henri Moissan\n37  1907  Chemistry                Eduard Buchner\n43  1908  Chemistry             Ernest Rutherford\n50  1909  Chemistry               Wilhelm Ostwald\n57  1910  Chemistry                  Otto Wallach",
      "text/html": "<div>\n<style scoped>\n    .dataframe tbody tr th:only-of-type {\n        vertical-align: middle;\n    }\n\n    .dataframe tbody tr th {\n        vertical-align: top;\n    }\n\n    .dataframe thead th {\n        text-align: right;\n    }\n</style>\n<table border=\"1\" class=\"dataframe\">\n  <thead>\n    <tr style=\"text-align: right;\">\n      <th></th>\n      <th>year</th>\n      <th>discipline</th>\n      <th>nobelist</th>\n    </tr>\n  </thead>\n  <tbody>\n    <tr>\n      <th>0</th>\n      <td>1901</td>\n      <td>Chemistry</td>\n      <td>Jacobus Henricus van 't Hoff</td>\n    </tr>\n    <tr>\n      <th>6</th>\n      <td>1902</td>\n      <td>Chemistry</td>\n      <td>Hermann Emil Fischer</td>\n    </tr>\n    <tr>\n      <th>13</th>\n      <td>1903</td>\n      <td>Chemistry</td>\n      <td>Svante Arrhenius</td>\n    </tr>\n    <tr>\n      <th>20</th>\n      <td>1904</td>\n      <td>Chemistry</td>\n      <td>William Ramsay</td>\n    </tr>\n    <tr>\n      <th>26</th>\n      <td>1905</td>\n      <td>Chemistry</td>\n      <td>Adolf von Baeyer</td>\n    </tr>\n    <tr>\n      <th>31</th>\n      <td>1906</td>\n      <td>Chemistry</td>\n      <td>Henri Moissan</td>\n    </tr>\n    <tr>\n      <th>37</th>\n      <td>1907</td>\n      <td>Chemistry</td>\n      <td>Eduard Buchner</td>\n    </tr>\n    <tr>\n      <th>43</th>\n      <td>1908</td>\n      <td>Chemistry</td>\n      <td>Ernest Rutherford</td>\n    </tr>\n    <tr>\n      <th>50</th>\n      <td>1909</td>\n      <td>Chemistry</td>\n      <td>Wilhelm Ostwald</td>\n    </tr>\n    <tr>\n      <th>57</th>\n      <td>1910</td>\n      <td>Chemistry</td>\n      <td>Otto Wallach</td>\n    </tr>\n  </tbody>\n</table>\n</div>"
     },
     "metadata": {},
     "execution_count": 66
    }
   ],
   "source": [
    "nobels.query('year >= 1901 and year <= 1910 and discipline == \"Chemistry\"')"
   ]
  },
  {
   "cell_type": "code",
   "execution_count": null,
   "metadata": {},
   "outputs": [],
   "source": []
  }
 ],
 "metadata": {
  "language_info": {
   "codemirror_mode": {
    "name": "ipython",
    "version": 3
   },
   "file_extension": ".py",
   "mimetype": "text/x-python",
   "name": "python",
   "nbconvert_exporter": "python",
   "pygments_lexer": "ipython3",
   "version": "3.8.3-final"
  },
  "orig_nbformat": 2,
  "kernelspec": {
   "name": "python38064bit80c712c42d0845a6a4b19289fbf7986e",
   "display_name": "Python 3.8.0 64-bit"
  }
 },
 "nbformat": 4,
 "nbformat_minor": 2
}